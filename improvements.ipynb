{
 "cells": [
  {
   "cell_type": "code",
   "execution_count": 1,
   "id": "3ecc3a97",
   "metadata": {},
   "outputs": [
    {
     "name": "stdout",
     "output_type": "stream",
     "text": [
      "Requirement already satisfied: numpy in c:\\games\\textclassification\\.venv\\lib\\site-packages (2.2.6)\n",
      "Requirement already satisfied: pandas in c:\\games\\textclassification\\.venv\\lib\\site-packages (2.3.2)\n",
      "Requirement already satisfied: scikit-learn in c:\\games\\textclassification\\.venv\\lib\\site-packages (1.7.2)\n",
      "Requirement already satisfied: catboost in c:\\games\\textclassification\\.venv\\lib\\site-packages (1.2.8)\n",
      "Requirement already satisfied: matplotlib in c:\\games\\textclassification\\.venv\\lib\\site-packages (3.10.6)\n",
      "Requirement already satisfied: seaborn in c:\\games\\textclassification\\.venv\\lib\\site-packages (0.13.2)\n",
      "Requirement already satisfied: phik in c:\\games\\textclassification\\.venv\\lib\\site-packages (0.12.5)\n",
      "Requirement already satisfied: nltk in c:\\games\\textclassification\\.venv\\lib\\site-packages (3.9.1)\n",
      "Requirement already satisfied: wordcloud in c:\\games\\textclassification\\.venv\\lib\\site-packages (1.9.4)\n",
      "Requirement already satisfied: imblearn in c:\\games\\textclassification\\.venv\\lib\\site-packages (0.0)\n",
      "Requirement already satisfied: tensorflow in c:\\games\\textclassification\\.venv\\lib\\site-packages (2.20.0)\n",
      "Requirement already satisfied: python-dateutil>=2.8.2 in c:\\games\\textclassification\\.venv\\lib\\site-packages (from pandas) (2.9.0.post0)\n",
      "Requirement already satisfied: pytz>=2020.1 in c:\\games\\textclassification\\.venv\\lib\\site-packages (from pandas) (2025.2)\n",
      "Requirement already satisfied: tzdata>=2022.7 in c:\\games\\textclassification\\.venv\\lib\\site-packages (from pandas) (2025.2)\n",
      "Requirement already satisfied: scipy>=1.8.0 in c:\\games\\textclassification\\.venv\\lib\\site-packages (from scikit-learn) (1.15.3)\n",
      "Requirement already satisfied: joblib>=1.2.0 in c:\\games\\textclassification\\.venv\\lib\\site-packages (from scikit-learn) (1.5.2)\n",
      "Requirement already satisfied: threadpoolctl>=3.1.0 in c:\\games\\textclassification\\.venv\\lib\\site-packages (from scikit-learn) (3.6.0)\n",
      "Requirement already satisfied: graphviz in c:\\games\\textclassification\\.venv\\lib\\site-packages (from catboost) (0.21)\n",
      "Requirement already satisfied: plotly in c:\\games\\textclassification\\.venv\\lib\\site-packages (from catboost) (6.3.0)\n",
      "Requirement already satisfied: six in c:\\games\\textclassification\\.venv\\lib\\site-packages (from catboost) (1.17.0)\n",
      "Requirement already satisfied: contourpy>=1.0.1 in c:\\games\\textclassification\\.venv\\lib\\site-packages (from matplotlib) (1.3.2)\n",
      "Requirement already satisfied: cycler>=0.10 in c:\\games\\textclassification\\.venv\\lib\\site-packages (from matplotlib) (0.12.1)\n",
      "Requirement already satisfied: fonttools>=4.22.0 in c:\\games\\textclassification\\.venv\\lib\\site-packages (from matplotlib) (4.60.0)\n",
      "Requirement already satisfied: kiwisolver>=1.3.1 in c:\\games\\textclassification\\.venv\\lib\\site-packages (from matplotlib) (1.4.9)\n",
      "Requirement already satisfied: packaging>=20.0 in c:\\games\\textclassification\\.venv\\lib\\site-packages (from matplotlib) (25.0)\n",
      "Requirement already satisfied: pillow>=8 in c:\\games\\textclassification\\.venv\\lib\\site-packages (from matplotlib) (11.3.0)\n",
      "Requirement already satisfied: pyparsing>=2.3.1 in c:\\games\\textclassification\\.venv\\lib\\site-packages (from matplotlib) (3.2.5)\n",
      "Requirement already satisfied: click in c:\\games\\textclassification\\.venv\\lib\\site-packages (from nltk) (8.3.0)\n",
      "Requirement already satisfied: regex>=2021.8.3 in c:\\games\\textclassification\\.venv\\lib\\site-packages (from nltk) (2025.9.18)\n",
      "Requirement already satisfied: tqdm in c:\\games\\textclassification\\.venv\\lib\\site-packages (from nltk) (4.67.1)\n",
      "Requirement already satisfied: imbalanced-learn in c:\\games\\textclassification\\.venv\\lib\\site-packages (from imblearn) (0.14.0)\n",
      "Requirement already satisfied: absl-py>=1.0.0 in c:\\games\\textclassification\\.venv\\lib\\site-packages (from tensorflow) (2.3.1)\n",
      "Requirement already satisfied: astunparse>=1.6.0 in c:\\games\\textclassification\\.venv\\lib\\site-packages (from tensorflow) (1.6.3)\n",
      "Requirement already satisfied: flatbuffers>=24.3.25 in c:\\games\\textclassification\\.venv\\lib\\site-packages (from tensorflow) (25.9.23)\n",
      "Requirement already satisfied: gast!=0.5.0,!=0.5.1,!=0.5.2,>=0.2.1 in c:\\games\\textclassification\\.venv\\lib\\site-packages (from tensorflow) (0.6.0)\n",
      "Requirement already satisfied: google_pasta>=0.1.1 in c:\\games\\textclassification\\.venv\\lib\\site-packages (from tensorflow) (0.2.0)\n",
      "Requirement already satisfied: libclang>=13.0.0 in c:\\games\\textclassification\\.venv\\lib\\site-packages (from tensorflow) (18.1.1)\n",
      "Requirement already satisfied: opt_einsum>=2.3.2 in c:\\games\\textclassification\\.venv\\lib\\site-packages (from tensorflow) (3.4.0)\n",
      "Requirement already satisfied: protobuf>=5.28.0 in c:\\games\\textclassification\\.venv\\lib\\site-packages (from tensorflow) (6.32.1)\n",
      "Requirement already satisfied: requests<3,>=2.21.0 in c:\\games\\textclassification\\.venv\\lib\\site-packages (from tensorflow) (2.32.5)\n",
      "Requirement already satisfied: setuptools in c:\\games\\textclassification\\.venv\\lib\\site-packages (from tensorflow) (57.4.0)\n",
      "Requirement already satisfied: termcolor>=1.1.0 in c:\\games\\textclassification\\.venv\\lib\\site-packages (from tensorflow) (3.1.0)\n",
      "Requirement already satisfied: typing_extensions>=3.6.6 in c:\\games\\textclassification\\.venv\\lib\\site-packages (from tensorflow) (4.15.0)\n",
      "Requirement already satisfied: wrapt>=1.11.0 in c:\\games\\textclassification\\.venv\\lib\\site-packages (from tensorflow) (1.17.3)\n",
      "Requirement already satisfied: grpcio<2.0,>=1.24.3 in c:\\games\\textclassification\\.venv\\lib\\site-packages (from tensorflow) (1.75.1)\n",
      "Requirement already satisfied: tensorboard~=2.20.0 in c:\\games\\textclassification\\.venv\\lib\\site-packages (from tensorflow) (2.20.0)\n",
      "Requirement already satisfied: keras>=3.10.0 in c:\\games\\textclassification\\.venv\\lib\\site-packages (from tensorflow) (3.11.3)\n",
      "Requirement already satisfied: h5py>=3.11.0 in c:\\games\\textclassification\\.venv\\lib\\site-packages (from tensorflow) (3.14.0)\n",
      "Requirement already satisfied: ml_dtypes<1.0.0,>=0.5.1 in c:\\games\\textclassification\\.venv\\lib\\site-packages (from tensorflow) (0.5.3)\n",
      "Requirement already satisfied: charset_normalizer<4,>=2 in c:\\games\\textclassification\\.venv\\lib\\site-packages (from requests<3,>=2.21.0->tensorflow) (3.4.3)\n",
      "Requirement already satisfied: idna<4,>=2.5 in c:\\games\\textclassification\\.venv\\lib\\site-packages (from requests<3,>=2.21.0->tensorflow) (3.10)\n",
      "Requirement already satisfied: urllib3<3,>=1.21.1 in c:\\games\\textclassification\\.venv\\lib\\site-packages (from requests<3,>=2.21.0->tensorflow) (2.5.0)\n",
      "Requirement already satisfied: certifi>=2017.4.17 in c:\\games\\textclassification\\.venv\\lib\\site-packages (from requests<3,>=2.21.0->tensorflow) (2025.8.3)\n",
      "Requirement already satisfied: markdown>=2.6.8 in c:\\games\\textclassification\\.venv\\lib\\site-packages (from tensorboard~=2.20.0->tensorflow) (3.9)\n",
      "Requirement already satisfied: tensorboard-data-server<0.8.0,>=0.7.0 in c:\\games\\textclassification\\.venv\\lib\\site-packages (from tensorboard~=2.20.0->tensorflow) (0.7.2)\n",
      "Requirement already satisfied: werkzeug>=1.0.1 in c:\\games\\textclassification\\.venv\\lib\\site-packages (from tensorboard~=2.20.0->tensorflow) (3.1.3)\n",
      "Requirement already satisfied: wheel<1.0,>=0.23.0 in c:\\games\\textclassification\\.venv\\lib\\site-packages (from astunparse>=1.6.0->tensorflow) (0.45.1)\n",
      "Requirement already satisfied: rich in c:\\games\\textclassification\\.venv\\lib\\site-packages (from keras>=3.10.0->tensorflow) (14.1.0)\n",
      "Requirement already satisfied: namex in c:\\games\\textclassification\\.venv\\lib\\site-packages (from keras>=3.10.0->tensorflow) (0.1.0)\n",
      "Requirement already satisfied: optree in c:\\games\\textclassification\\.venv\\lib\\site-packages (from keras>=3.10.0->tensorflow) (0.17.0)\n",
      "Requirement already satisfied: MarkupSafe>=2.1.1 in c:\\games\\textclassification\\.venv\\lib\\site-packages (from werkzeug>=1.0.1->tensorboard~=2.20.0->tensorflow) (3.0.2)\n",
      "Requirement already satisfied: colorama in c:\\games\\textclassification\\.venv\\lib\\site-packages (from click->nltk) (0.4.6)\n",
      "Requirement already satisfied: narwhals>=1.15.1 in c:\\games\\textclassification\\.venv\\lib\\site-packages (from plotly->catboost) (2.5.0)\n",
      "Requirement already satisfied: markdown-it-py>=2.2.0 in c:\\games\\textclassification\\.venv\\lib\\site-packages (from rich->keras>=3.10.0->tensorflow) (4.0.0)\n",
      "Requirement already satisfied: pygments<3.0.0,>=2.13.0 in c:\\games\\textclassification\\.venv\\lib\\site-packages (from rich->keras>=3.10.0->tensorflow) (2.19.2)\n",
      "Requirement already satisfied: mdurl~=0.1 in c:\\games\\textclassification\\.venv\\lib\\site-packages (from markdown-it-py>=2.2.0->rich->keras>=3.10.0->tensorflow) (0.1.2)\n"
     ]
    }
   ],
   "source": [
    "! pip install numpy pandas scikit-learn catboost matplotlib seaborn phik nltk wordcloud imblearn tensorflow"
   ]
  },
  {
   "cell_type": "markdown",
   "id": "adf18275",
   "metadata": {},
   "source": [
    "## Поменять"
   ]
  },
  {
   "cell_type": "markdown",
   "id": "70a7a105",
   "metadata": {},
   "source": [
    "✅Ты делаешь токенизацию текстов, во первых хочется видеть более детальный анализ токенов (помимо облака слов еще диаграммы), проверка пунктуации. Во вторых токенизация для EDA и для модели должна быть одинаковая, иначе анализируешь ты одно, а на вход модели передается другое совсем, в чем нет смысла\n",
    "\n",
    "✅Также токенизатор должен корректно работать с oov_token\n",
    "\n",
    "✅Проверь что везде SEED фиксированный используется, чтобы нейронки обучались всегда одинаково для одних и тех же данных\n",
    "\n",
    "✅Длина последовательностей = максимуму. Максимум часто определяется редкими хвостами → перерасход вычислений и регуляризации. Возьми, например, 95-й перцентиль длины\n",
    "\n",
    "❓Нет стратификации при сплите train_test_split без stratify=y. Даже при балансе классов это повышает дисперсию метрик.\n",
    "\n",
    "✅В первой LSTM у тебя Embedding(..., trainable=False) без загруженной матрицы — фактически «замороженная случайная» эмбеддинг-матрица. В этом нет смысла. Либо ты обучаешь эмбеддинги, либо используешь предобученные\n",
    "\n",
    "✅Круто что ты нашел такую зависимость между 'subject' и 'target', для этого как раз графики и строятся, чтобы такое вот находить. В этом случае нам мл модель вообще не нужна, мы можем таргет предсказывать просто по subject и все, правильно что выкинул\n",
    "\n",
    "✅Кажется, у тебя утечка данных при использовании \n",
    "X_train_text = vectorizer.fit_transform(X_train['text'].fillna(''))\n",
    "X_test_text = vectorizer.fit_transform(X_test['text'].fillna(''))\n",
    "CountVectorizer должен быть частью пайплайна\n",
    "\n",
    "✅В реальных задачах ты никогда не будешь выкидывать текст статьи и оставлять только заголовок, поэтому используй сразу оба столбца\n",
    "\n",
    "✅У каждой модели хотелось бы посмотреть важности признаков, а именно токенов, ведь это самое главное в текстовой классификации: увидеть какие слова влияют в какую сторону.\n",
    "\n",
    "✅Добавь еще f1 метрику\n",
    "\n",
    "Тюнинг гиперпараметров советую потренировать на нейронках, там их как раз много. Будет долго обучаться, но для тренировки стоит сделать\n",
    "\n",
    "❓Еще общее замечание: код очень хаотичный и трудно разобрать, что зачем происходит. Старайся делить его на блоки и описывать что за чем происходит и логику своих действий, почему ты делаешь то или иное действие\n",
    "\n",
    "✅Еще тебе нужно разбить данные по времени, то есть в test самые свежие новости, в train более ранние\n",
    "\n",
    "✅Еще вспомнил, попробуй CNN использовать. Эта штука очень быстро обучается и точность высокая"
   ]
  },
  {
   "cell_type": "markdown",
   "id": "84caa95d",
   "metadata": {},
   "source": [
    "## Начало"
   ]
  },
  {
   "cell_type": "code",
   "execution_count": 2,
   "id": "a82abee6",
   "metadata": {},
   "outputs": [],
   "source": [
    "import pandas as pd\n",
    "import numpy as np\n",
    "import seaborn as sns\n",
    "import nltk\n",
    "from sklearn.feature_extraction.text import CountVectorizer, TfidfVectorizer, HashingVectorizer\n",
    "from helper import *\n",
    "from sklearn.model_selection import train_test_split\n",
    "from sklearn.linear_model import LogisticRegression\n",
    "from sklearn.metrics import classification_report, accuracy_score\n",
    "from catboost import CatBoostClassifier\n",
    "from tensorflow.keras.preprocessing.text import Tokenizer\n",
    "from tensorflow.keras.preprocessing.sequence import pad_sequences\n",
    "from plots import *\n",
    "import re"
   ]
  },
  {
   "cell_type": "code",
   "execution_count": 3,
   "id": "ce3c1438",
   "metadata": {},
   "outputs": [],
   "source": [
    "SEED = 42"
   ]
  },
  {
   "cell_type": "code",
   "execution_count": null,
   "id": "48ce109b",
   "metadata": {},
   "outputs": [
    {
     "name": "stdout",
     "output_type": "stream",
     "text": [
      "Train distribution:\n",
      " target\n",
      "0    0.522984\n",
      "1    0.477016\n",
      "Name: proportion, dtype: float64\n",
      "Test distribution:\n",
      " target\n",
      "0    0.522993\n",
      "1    0.477007\n",
      "Name: proportion, dtype: float64\n"
     ]
    }
   ],
   "source": [
    "\n",
    "def split_dataset(path, target_value, date_col='date', target_col='target', ratio=0.8): # т.к. датасет лежит в 2 файлах и надо в тест взять самые новые новости приходится выкручиваться\n",
    "    df = pd.read_csv(path)\n",
    "    df[target_col] = target_value  # ставим таргет\n",
    "    df = df.sort_values(date_col).reset_index(drop=True)\n",
    "    split_idx = int(len(df) * ratio)\n",
    "\n",
    "    train = df.iloc[:split_idx]\n",
    "    test = df.iloc[split_idx:]\n",
    "\n",
    "    X_train = train.drop(columns=[target_col])\n",
    "    y_train = train[target_col]\n",
    "    X_test = test.drop(columns=[target_col])\n",
    "    y_test = test[target_col]\n",
    "\n",
    "    return X_train, X_test, y_train, y_test\n",
    "\n",
    "# true = класс 1, false = класс 0\n",
    "X_train_true, X_test_true, y_train_true, y_test_true = split_dataset('old/True.csv', target_value=1) # отдельно сплитим каждый датасет таким образом, что в тест попали самые свежие\n",
    "X_train_false, X_test_false, y_train_false, y_test_false = split_dataset('old/Fake.csv', target_value=0)\n",
    "\n",
    "# объединяем\n",
    "X_train = pd.concat([X_train_true, X_train_false], ignore_index=True)\n",
    "y_train = pd.concat([y_train_true, y_train_false], ignore_index=True)\n",
    "X_test = pd.concat([X_test_true, X_test_false], ignore_index=True)\n",
    "y_test = pd.concat([y_test_true, y_test_false], ignore_index=True)\n",
    "\n",
    "# X_train['combo'] = X_train['title'] + X_train['text']\n",
    "# X_test['combo'] = X_test['title'] + X_test['text']\n",
    "\n",
    "# финальное распределение\n",
    "print('Train distribution:\\n', y_train.value_counts(normalize=True))\n",
    "print('Test distribution:\\n', y_test.value_counts(normalize=True))"
   ]
  },
  {
   "cell_type": "code",
   "execution_count": 5,
   "id": "e3913602",
   "metadata": {},
   "outputs": [
    {
     "data": {
      "application/vnd.microsoft.datawrangler.viewer.v0+json": {
       "columns": [
        {
         "name": "index",
         "rawType": "int64",
         "type": "integer"
        },
        {
         "name": "title",
         "rawType": "object",
         "type": "string"
        },
        {
         "name": "text",
         "rawType": "object",
         "type": "string"
        },
        {
         "name": "subject",
         "rawType": "object",
         "type": "string"
        },
        {
         "name": "date",
         "rawType": "object",
         "type": "string"
        }
       ],
       "ref": "a9e6bfdf-b3d1-4a84-813e-dea7be5e8c8b",
       "rows": [
        [
         "0",
         "Trump sued in Kentucky by three who say he incited crowd to violence",
         "LOUISVILLE, Ky. (Reuters) - Three people who claim they were assaulted at a Donald Trump rally in Louisville, Kentucky, last month have filed a lawsuit against the Republican presidential candidate, saying he “incited a riot.” Molly Shah, Kashiya Nwanguma and Henry Brousseau filed the lawsuit on Thursday in Jefferson Circuit Court in Louisville, claiming that Trump’s repeated calls of “get them out” at a rally at the Kentucky International Convention Center on March 1 was intended to direct his supporters to “use unwanted, harmful physical force to remove protesters, including the plaintiffs.” The lawsuit also names as defendants the Trump campaign and three individuals who the plaintiffs claim assaulted them at the rally. The three plaintiffs, all Louisville residents, claim they suffered physical injuries, emotional distress and humiliation, and are seeking unspecified damages, according to the lawsuit. “Peaceful protest is an American tradition, especially in the context of presidential politics,” Dan Canon, the attorney for the plaintiffs, told Reuters in a Twitter message. “But what you see all over the country, time and time again, is violence employed against protesters at Trump campaign events. These plaintiffs are saying ‘enough is enough,’”  The lawsuit said Trump stopped his 30-minute speech five times to point out protesters and, in most cases, told supporters to “get ‘em out of here,” according to the lawsuit. A spokeswoman for Trump’s campaign could not be reached for comment. The lawsuit claims that Trump “incited a riot as defined under the Kentucky penal code.” The individuals named as defendants are Matthew Heimbach, described in the complaint as a Trump supporter and Ohio resident who is “affiliated with the Traditionalist Worker Party, a recognized hate group”; Alvin Bamberger, 75, described as a Trump supporter and an Ohio resident; and an unknown female. According to the lawsuit, at the rally, Heimbach, who was wearing a Traditionalist Worker Party T-shirt, attacked Shah and Nwanguma. A spokesman for the Traditional Worker Party could not be reached. A website for the Traditionalist Worker Party describes it as a grassroots political organization that believes, among other things, that “European-American identity is under constant attack.” The Southern Poverty Law Center, a non-profit organization that monitors groups it considers extremist, classifies the Traditionalist Worker Party as a white nationalist hate group. According to the lawsuit, Nwanguma was assaulted by numerous protesters at the rally, of whom Heimbach and Bamberger were the most aggressive. Video of Nwanguma, a 21-year-old college student, being repeatedly pushed at the convention went viral after the rally, the lawsuit said. Bamberger could not be reached immediately for comment. The lawsuit also claims that Shah was assaulted by Heimbach and that Brousseau was assaulted by the unknown female defendant. ",
         "politicsNews",
         "April 1, 2016 "
        ],
        [
         "1",
         "In record year for political ads, media buyers see tight market ",
         "(Reuters) - Media buyers expect record political ad spending driven by the U.S. presidential race will create a tight market for advertisers and drive up rates. Super PACs, which rose to prominence after a landmark U.S. Supreme Court campaign finance decision in 2010, are preparing to buy national ads and to spend more once the nominees for each party are chosen at the political conventions in July, media buyers who work with these groups told Reuters. “The campaigns are more sophisticated and are raising more money than ever before,” said Kyle Roberts, president and chief executive of Smart Media Group, an Alexandria, VA-based media buyer that works with Republican candidates. “It is much easier today for outside groups to raise money to influence national elections.”  The bulk of political ad spending typically is in local markets. But networks are already seeing more national ad buys by the Super PACs, a shift that could benefit television networks. The election also has brought a ratings boon to television, which had been losing audience to Internet streaming. Fox News Channel said Wednesday it was No. 1 among basic cable networks last quarter for the first time.. CNN had the best quarter in seven years.  “We have seen a little bit of the Super PAC money come in,” said Katrina Cukaj executive vice president of portfolio sales and client partnerships at Turner ad sales, part of Time Warner Inc (TWX.N), which owns CNN. “We haven’t seen the full force of it yet. That will come when we know who the candidates are.”  The frenzy in political ad spending is expected to reshape  advertiser behavior. Media buyers predict the presidential election will result in an increase in spending at this year’s so-called upfronts, where the networks present their fall line-ups and woo big advertisers with swanky parties and celebrity appearances. Upfronts run through May. “The Super PACs are not afraid to spend hundreds of millions of dollars in just a few local stations, so it wouldn’t surprise me if the national election is going to have a real impact on the upfronts,” said Barry Lowenthal, president of The Media Kitchen, a New York-based media buyer. Lowenthal expects pricing for advertising to go up as a result of the Super PAC spending.  More advertisers are expected to lock in ad spots for the fourth quarter, rather than face price increases later or risk getting shut out of the market. Media buyers say they expect up to a 5 percent increase in spending for this year’s upfronts – the first increase in two years. That could mean a jump in spending of up to $8.9 billion for prime time spots alone, based on data from Media Dynamics. Presidential ad spending for cable and broadcast television and radio in 2016 has already surpassed the $300 million mark, up more than 200 percent from the same period in the 2012 election cycle, according to data from Smart Media Group.  “This is going to be a very good year for us,” said CBS Chair and CEO Les Moonves at an investment conference in February. “It’s a terrible thing to say, but bring it on Donald. Keep going,” Moonves said, referring to the Republican GOP frontrunner, Donald Trump. ",
         "politicsNews",
         "April 1, 2016 "
        ],
        [
         "2",
         "Obama, Republicans urge Trump to soften tone",
         "WASHINGTON (Reuters) - Donald Trump is facing bipartisan pressure to adopt a more presidential tone in his White House run including from Democratic President Barack Obama and Republicans who worry his missteps may do irreparable harm to the party and his campaign.  The Republican front-runner came under fire from Obama on Friday over Trump’s recent comments that he would not rule out using nuclear weapons in Europe and that Japan and South Korea might need nuclear weapons to ease the U.S. financial commitment to their security.  “The person who made the statements doesn’t know much about foreign policy or nuclear policy or the Korean peninsula, or the world generally,” Obama told a news conference at the conclusion of a nuclear security summit in Washington. “I’ve said before that people pay attention to American elections. What we do is really important to the rest of the world,” he said. Trump lost ground on the online prediction market after drawing fire for his suggestion earlier in the week, which he later dialed back, that women be punished for getting abortions if the procedure is banned. Those who marveled at Trump’s rise are now warning the New York billionaire that his shoot-from-the-lip approach to campaigning could jeopardize his chance to win the Republican nomination for the Nov. 8 election. Tuesday could be a turning point when Wisconsin hosts its nominating contest. Trump, 69, trails his leading rival, U.S. Senator Ted Cruz, 45, of Texas in the Upper Midwestern state. A Cruz win would make it harder for Trump to reach the magic number of 1,237 delegates needed to secure the nomination before the Republican national convention in July. The winner will get to claim all of Wisconsin’s 42 delegates. “If he continues to fumble the ball, he risks everything,” said David Bossie, who as president of the conservative group Citizens United has helped to introduce Trump to grassroots activists. “These types of ham-handed mistakes give his opponents even greater opportunity.” But losing the Republican nomination may not keep Trump out of the November election. In excerpts of an interview on “Fox News Sunday” to be aired this Sunday, Trump said he wanted to run as a Republican but declined to rule out a third-party candidacy. Asked what he would do if he didn’t get the Republican nomination, Trump replied: “We’re going to have to see how I was treated.” A businessman and former reality TV show host, Trump has never held public office but hails his mastery of negotiating business deals as the sort of experience a U.S. president needs to be successful at home and abroad. He sent ripples through the Republican Party, which promotes a muscular foreign policy, by declaring NATO obsolete and for asserting that as president he might loosen the ties with  longstanding U.S. allies.   Trump made a surprise visit on Thursday to the Republican National Committee in Washington where he said he and Chairman Reince Priebus discussed how to unify the party going into the July convention. Priebus also addressed any confusion Trump may have had about delegate allocation rules that will govern the proceedings, a source familiar with the meeting told Reuters. Should Trump fail to win enough delegates to secure the nomination outright in the state-by-state contests ending in June, party delegates will select a nominee at the convention in a complex process of sequential votes. Online predictions market PredictIt said on Friday that the probability Trump will win his party’s nomination has dropped sharply in the past week while the likelihood of a contested convention to choose another candidate has risen. Those Republicans who see in Trump a chance to generate voter turnout beyond party regulars to blue-collar Democrats and win the White House say his detail-free style of campaigning has come back to haunt him and he needs to gear up for a new phase. Trump needs to be less sensitive about attacks from opponents and let some go by without responding, said retired neurosurgeon Ben Carson, a former Republican presidential candidate who dropped out of the race earlier this year and has since endorsed Trump. “If he can just get beyond that and learn how to bite his tongue and redirect people to something that is important, it will show a level of statesmanship,” Carson said. During the Wisconsin campaign, Trump has relentlessly attacked the state’s governor, Scott Walker, another Republican who dropped out of the presidential race last year and who has endorsed Cruz. Former U.S. House of Representatives Speaker Newt Gingrich, who has offered Trump informal advice, said Trump should replicate the type of performance he gave at the American Israel Public Affairs Committee on March 21, when he spoke from a teleprompter and offered a well-thought-out case for strong U.S.-Israeli relations. Gingrich said Trump should make eight to 10 policy speeches in order to give voters “a sense of stability and seriousness.” “He’s gone from being an insurgent that people laughed at and a front-runner that people were amazed by to the potential nominee. That requires you to change your role as all this comes together,” Gingrich said. Alternatively, Trump could start to listen to what he says is his wife Melania’s longtime admonishment: “Darling, be more presidential.”  Former Secretary of State Hillary Clinton and U.S. Senator Bernie Sanders will compete in Wisconsin on Tuesday on the Democratic Party side. Both have hop-scotched between Wisconsin and New York, which holds its primary on April 19.  Clinton, a former U.S. senator from New York with national campaign headquarters in Brooklyn, is trying to prevent the Brooklyn-born Sanders, who represents Vermont in the Senate, from eroding support on her home turf. Both candidates will attend a state party fundraising dinner in Wisconsin on Saturday. ",
         "politicsNews",
         "April 1, 2016 "
        ],
        [
         "3",
         "State Department says halts review of Clinton emails at FBI request",
         "WASHINGTON (Reuters) - The U.S. State Department has suspended plans for an internal review of whether classified information was properly handled in former Secretary of State Hillary Clinton’s emails at the request of the FBI, a spokeswoman said on Friday. Clinton, the front-runner in the race for the Democratic Party nomination in the Nov. 8 presidential election, has apologized for using a private email server for official business while in office from 2009 to 2013 and said she did nothing wrong. The Federal Bureau of Investigation is probing the arrangement. On Jan. 29, the State Department said 22 emails sent or received by Clinton had been upgraded to top secret at the request U.S. intelligence agencies and would not be made public as part of the release of thousands of Clinton’s emails. It said that none of the emails was marked classified when sent. At the time, the department also said it would conduct an internal review on whether the information in the emails was classified at the time it passed through Clinton’s private clintonemail.com account run on a server in her New York home. The State Department consulted the FBI about this in February, and in March the law enforcement agency asked the State Department to halt its inquiry. “The FBI communicated to us that we should follow our standard practice, which is to put our internal review on hold while there is an ongoing law enforcement investigation ,” State Department spokeswoman Elizabeth Trudeau told reporters.  “The internal review is on hold, pending completion of the FBI’s work,” she added.” We’ll reassess next steps after the FBI’s work is complete.” A U.S. State Department official who spoke on condition of anonymity said the State Department had really only done “administrative work” on its review but had held off while waiting for a response from the FBI. “It took a little bit of time for the FBI to respond to our request for advice and in the interim we did not pursue the review out of prudence,” said the official, who declined further comment on the State Department review. The government forbids handling of classified information, which may or may not be marked that way, outside secure government-controlled channels, and sometimes prosecutes people who remove it from such channels. The government classifies information as top secret if it deems a leak could cause “exceptionally grave damage” to national security. Two judges have allowed a group suing for Clinton’s records to seek sworn testimony from officials. On Tuesday, one judge said there was “evidence of government wrongdoing and bad faith” over the arrangement.",
         "politicsNews",
         "April 1, 2016 "
        ],
        [
         "4",
         "Obama: Trump doesn't know much about foreign policy, world",
         "WASHINGTON (Reuters) - U.S. President Barack Obama said on Friday that Donald Trump’s recent comments that South Korea and Japan should acquire nuclear weapons show the leading Republican presidential candidate is not well informed on international relations. Trump told The New York Times in an interview published on Sunday that he would consider letting the countries build their own nuclear weapons, rather than having them count on U.S. protection against North Korea and China. Obama has made no secret of his disdain for the billionaire businessman, and he continued that theme with his repudiation of Trump’s pronouncements. “What do the statements you mentioned tell us?” Obama told reporters at a news conference at the conclusion of a nuclear security summit. “They tell us that the person who made the statements doesn’t know much about foreign policy or nuclear policy or the Korean peninsula, or the world generally.” Obama said Trump’s candidacy had come up as a topic with world leaders on the sidelines of the summit, and he lamented the state of the Republican race. “Even ... those countries that are used to a carnival atmosphere in their own politics want sobriety and clarity when it comes to U.S. elections because they understand the president of the United States needs to know what’s going on around the world,” he said. Obama took apart Trump’s positions point by point.  The U.S. alliance with Japan and South Korea was one of the cornerstones of America’s presence in the Asia Pacific region and had underwritten peace and prosperity there, he said.  The relationship had been a boon to U.S. commerce and influence in addition to preventing nuclear escalation and conflict, he added. “You don’t mess with that. It is an investment that rests on the sacrifices that our men and women made back in World War II when they were fighting throughout the Pacific,” Obama said. “We don’t want somebody in the Oval Office who doesn’t recognize how important that is.” ",
         "politicsNews",
         "April 1, 2016 "
        ],
        [
         "5",
         "Obama says 'no doubt' civilians have been killed in drone strikes",
         "WASHINGTON (Reuters) - U.S. President Barack Obama said on Friday there is no doubt that civilians have been killed in U.S. drone strikes targeting suspected terrorists, and procedures are constantly evaluated. He told a news conference at the end of a nuclear security summit that there had been “legitimate criticism” of the legal framework for the drone strikes and “there is no doubt that civilians were killed that shouldn’t have been.” ",
         "politicsNews",
         "April 1, 2016 "
        ],
        [
         "6",
         "Former New York deputy secretary of state accused of perjury",
         "NEW YORK (Reuters) - A former New York deputy secretary of state was arraigned on Friday after being indicted this week on charges that he lied about paying restitution after being convicted in 2007 of defrauding the state, the U.S. Justice Department said. Joseph Strevell, 54, of Castleton, New York, served as deputy secretary of state of New York from 1997 to 1999. He faces five counts of perjury and one count of defaulting on a restitution obligation. The Justice Department has accused him of lying under oath about making monthly payments, as well as his contributions toward the purchase of a 138-acre horse farm in 2013 and his daughter’s wedding in 2014. Prosecutors said Strevell falsely testified that his mother and aunt paid most of a $75,440 down payment on a lease for the farm and that he paid a couple thousand dollars for the wedding, when in fact he contributed more than $30,000. Strevell was convicted in federal court of defrauding the state after he left the state department, which traditionally oversees official records, to serve as head of the state-funded Institute of Entrepreneurship. In 2009, he was ordered to pay $111,500 in restitution, and given guidelines to pay a minimum of $100 per month or 10 percent of his gross monthly earnings, whichever was greater. After his arraignment, Strevell was released from custody in Albany, New York pending a trial in U.S. District Court. “Restitution is a mandatory obligation that no convicted felon should be able to walk away from,” Richard Hartunian, U.S. attorney for the northern district of New York, said in a statement. Strevell’s attorney, Paul Evangelista, declined to comment on the case. ",
         "politicsNews",
         "April 1, 2016 "
        ],
        [
         "7",
         "Hillary Clinton to propose $10 billion manufacturing investment",
         "WASHINGTON (Reuters) - Democratic presidential candidate Hillary Clinton on Friday will propose a $10 billion investment in partnerships to encourage the growth of the U.S. manufacturing sector as part of a national push to discourage outsourcing in the industry. The proposal would work with a broader campaign to encourage companies to build and expand their U.S. manufacturing operations. Clinton is slated to roll out the proposal on Friday in Syracuse, New York, ahead of the state’s nominating contest on April 19. New York has long been a hub of the manufacturing industry, but suffered significant declines in the sector in recent years. From 2000-2008, upstate New York alone lost nearly 105,000 manufacturing jobs, according to the state government. Clinton maintains a lead in the state, which she represented in the U.S. Senate, over rival Bernie Sanders, a U.S. Senator from Vermont and a New York native.  Sanders was born and raised in New York City’s borough of Brooklyn. The Clinton campaign is headquartered there.  The campaign said the proposal’s multi-billion dollar price tag would largely be covered by Clinton’s proposed “clawback” tax, which would rescind tax relief for companies that outsource jobs or facilities abroad. ",
         "politicsNews",
         "April 1, 2016 "
        ],
        [
         "8",
         "Trump's probability of winning nomination drops: PredictIt",
         "NEW YORK (Reuters) - The probability that Republican front-runner Donald Trump will win his party’s presidential nomination dropped sharply in the past week while the likelihood of a brokered convention to potentially choose another candidate rose, according to online predictions market PredictIt. Trump’s probability of winning the nomination fell to 44 percent on Friday from 67 percent a week ago, according to the website, which is run by Victoria University in Wellington, New Zealand. For Republican rival Ted Cruz, a U.S. Senator from Texas, it rose to 34 percent from 14 percent during the same period.  The probability that the Republicans will have a brokered convention to decide the nominee for the Nov. 8 election jumped to 69 percent from 43 percent a week ago, according to PredictIt, an online predictions market where users place money on who they think will win the election. Many users are from the United States.  Celebrity businessman Trump is facing pressure to take a more serious approach to his presidential campaign from supporters worried that a string of recent missteps and controversial comments may do lasting damage.    A Cruz win in Tuesday’s primary in Wisconsin would make it harder for Trump to reach the 1,237 delegates needed to clinch the nomination before the Republican national convention in July.  If Trump does not win enough delegates, then the party faces the prospect of holding a contested, or brokered, convention in which party leaders try to negotiate nominating a compromise candidate.                        ",
         "politicsNews",
         "April 1, 2016 "
        ],
        [
         "9",
         "Senator Warren seeks investigation of insurers over retirement rule",
         "WASHINGTON (Reuters) - Senator Elizabeth Warren, a Massachusetts Democrat who advocates for strong financial regulation, asked U.S. securities regulators on Thursday to investigate comments made by major insurance companies about a forthcoming federal rule on retirement advice. Last month, Warren criticized Lincoln National, Jackson National Life Insurance Company, Prudential Financial and Transamerica, a unit of Aegon NV , for publicly stating that the rule requiring retirement advisers to put their clients’ interests ahead of their own would hurt business while privately telling investors it would not create a major hurdle. On Thursday, she went one step further and requested the Securities and Exchange Commission to formally look into whether the statements were contradictory and ran afoul of securities laws.  “Both sets of industry claims - that the proposed rule will harm them and their business model, and that the proposed rule will not harm them and their business model - cannot possibly be true. And if one these public statements is materially false, it would appear to violate long-standing interpretations of our securities laws,” she wrote to SEC Chair Mary Jo White. The White House will soon publicly release the latest version of the rule, drafted by the Labor Department. The 2010 Dodd-Frank Wall Street Reform law called for holding brokers who give retirement advice to a strong fiduciary standard, meaning they must act in their clients’ best interest, as a way to protect retirees from buying unnecessary products that line brokers’ pockets. The Labor Department had to withdraw its initial version of the rule in 2011 after complaints from members of both political parties and the financial services industry. Warren says that financial and insurance companies have warned in public that the proposed rule could drive up costs and stop them from offering retirement services such as annuities to middle- and lower-income people. But in earnings calls they have reassured investors that they will come up with new products or approaches that will minimize threats to their businesses. Responding to Warren’s critique last month, most of the insurers said their public warnings did not contradict reassurances to investors that they could withstand regulatory changes. They said their companies could navigate potential disruptions but they were still concerned about the consequences for consumers seeking retirement advice.  ",
         "politicsNews",
         "April 1, 2016 "
        ]
       ],
       "shape": {
        "columns": 4,
        "rows": 10
       }
      },
      "text/html": [
       "<div>\n",
       "<style scoped>\n",
       "    .dataframe tbody tr th:only-of-type {\n",
       "        vertical-align: middle;\n",
       "    }\n",
       "\n",
       "    .dataframe tbody tr th {\n",
       "        vertical-align: top;\n",
       "    }\n",
       "\n",
       "    .dataframe thead th {\n",
       "        text-align: right;\n",
       "    }\n",
       "</style>\n",
       "<table border=\"1\" class=\"dataframe\">\n",
       "  <thead>\n",
       "    <tr style=\"text-align: right;\">\n",
       "      <th></th>\n",
       "      <th>title</th>\n",
       "      <th>text</th>\n",
       "      <th>subject</th>\n",
       "      <th>date</th>\n",
       "    </tr>\n",
       "  </thead>\n",
       "  <tbody>\n",
       "    <tr>\n",
       "      <th>0</th>\n",
       "      <td>Trump sued in Kentucky by three who say he inc...</td>\n",
       "      <td>LOUISVILLE, Ky. (Reuters) - Three people who c...</td>\n",
       "      <td>politicsNews</td>\n",
       "      <td>April 1, 2016</td>\n",
       "    </tr>\n",
       "    <tr>\n",
       "      <th>1</th>\n",
       "      <td>In record year for political ads, media buyers...</td>\n",
       "      <td>(Reuters) - Media buyers expect record politic...</td>\n",
       "      <td>politicsNews</td>\n",
       "      <td>April 1, 2016</td>\n",
       "    </tr>\n",
       "    <tr>\n",
       "      <th>2</th>\n",
       "      <td>Obama, Republicans urge Trump to soften tone</td>\n",
       "      <td>WASHINGTON (Reuters) - Donald Trump is facing ...</td>\n",
       "      <td>politicsNews</td>\n",
       "      <td>April 1, 2016</td>\n",
       "    </tr>\n",
       "    <tr>\n",
       "      <th>3</th>\n",
       "      <td>State Department says halts review of Clinton ...</td>\n",
       "      <td>WASHINGTON (Reuters) - The U.S. State Departme...</td>\n",
       "      <td>politicsNews</td>\n",
       "      <td>April 1, 2016</td>\n",
       "    </tr>\n",
       "    <tr>\n",
       "      <th>4</th>\n",
       "      <td>Obama: Trump doesn't know much about foreign p...</td>\n",
       "      <td>WASHINGTON (Reuters) - U.S. President Barack O...</td>\n",
       "      <td>politicsNews</td>\n",
       "      <td>April 1, 2016</td>\n",
       "    </tr>\n",
       "    <tr>\n",
       "      <th>5</th>\n",
       "      <td>Obama says 'no doubt' civilians have been kill...</td>\n",
       "      <td>WASHINGTON (Reuters) - U.S. President Barack O...</td>\n",
       "      <td>politicsNews</td>\n",
       "      <td>April 1, 2016</td>\n",
       "    </tr>\n",
       "    <tr>\n",
       "      <th>6</th>\n",
       "      <td>Former New York deputy secretary of state accu...</td>\n",
       "      <td>NEW YORK (Reuters) - A former New York deputy ...</td>\n",
       "      <td>politicsNews</td>\n",
       "      <td>April 1, 2016</td>\n",
       "    </tr>\n",
       "    <tr>\n",
       "      <th>7</th>\n",
       "      <td>Hillary Clinton to propose $10 billion manufac...</td>\n",
       "      <td>WASHINGTON (Reuters) - Democratic presidential...</td>\n",
       "      <td>politicsNews</td>\n",
       "      <td>April 1, 2016</td>\n",
       "    </tr>\n",
       "    <tr>\n",
       "      <th>8</th>\n",
       "      <td>Trump's probability of winning nomination drop...</td>\n",
       "      <td>NEW YORK (Reuters) - The probability that Repu...</td>\n",
       "      <td>politicsNews</td>\n",
       "      <td>April 1, 2016</td>\n",
       "    </tr>\n",
       "    <tr>\n",
       "      <th>9</th>\n",
       "      <td>Senator Warren seeks investigation of insurers...</td>\n",
       "      <td>WASHINGTON (Reuters) - Senator Elizabeth Warre...</td>\n",
       "      <td>politicsNews</td>\n",
       "      <td>April 1, 2016</td>\n",
       "    </tr>\n",
       "  </tbody>\n",
       "</table>\n",
       "</div>"
      ],
      "text/plain": [
       "                                               title  \\\n",
       "0  Trump sued in Kentucky by three who say he inc...   \n",
       "1  In record year for political ads, media buyers...   \n",
       "2       Obama, Republicans urge Trump to soften tone   \n",
       "3  State Department says halts review of Clinton ...   \n",
       "4  Obama: Trump doesn't know much about foreign p...   \n",
       "5  Obama says 'no doubt' civilians have been kill...   \n",
       "6  Former New York deputy secretary of state accu...   \n",
       "7  Hillary Clinton to propose $10 billion manufac...   \n",
       "8  Trump's probability of winning nomination drop...   \n",
       "9  Senator Warren seeks investigation of insurers...   \n",
       "\n",
       "                                                text       subject  \\\n",
       "0  LOUISVILLE, Ky. (Reuters) - Three people who c...  politicsNews   \n",
       "1  (Reuters) - Media buyers expect record politic...  politicsNews   \n",
       "2  WASHINGTON (Reuters) - Donald Trump is facing ...  politicsNews   \n",
       "3  WASHINGTON (Reuters) - The U.S. State Departme...  politicsNews   \n",
       "4  WASHINGTON (Reuters) - U.S. President Barack O...  politicsNews   \n",
       "5  WASHINGTON (Reuters) - U.S. President Barack O...  politicsNews   \n",
       "6  NEW YORK (Reuters) - A former New York deputy ...  politicsNews   \n",
       "7  WASHINGTON (Reuters) - Democratic presidential...  politicsNews   \n",
       "8  NEW YORK (Reuters) - The probability that Repu...  politicsNews   \n",
       "9  WASHINGTON (Reuters) - Senator Elizabeth Warre...  politicsNews   \n",
       "\n",
       "             date  \n",
       "0  April 1, 2016   \n",
       "1  April 1, 2016   \n",
       "2  April 1, 2016   \n",
       "3  April 1, 2016   \n",
       "4  April 1, 2016   \n",
       "5  April 1, 2016   \n",
       "6  April 1, 2016   \n",
       "7  April 1, 2016   \n",
       "8  April 1, 2016   \n",
       "9  April 1, 2016   "
      ]
     },
     "execution_count": 5,
     "metadata": {},
     "output_type": "execute_result"
    }
   ],
   "source": [
    "X_train.head(10)"
   ]
  },
  {
   "cell_type": "code",
   "execution_count": null,
   "id": "bf5cca22",
   "metadata": {},
   "outputs": [
    {
     "data": {
      "application/vnd.microsoft.datawrangler.viewer.v0+json": {
       "columns": [
        {
         "name": "index",
         "rawType": "int64",
         "type": "integer"
        },
        {
         "name": "title",
         "rawType": "object",
         "type": "string"
        }
       ],
       "ref": "2b3a1a5b-9d31-443b-b209-ca6fd4a2f104",
       "rows": [
        [
         "0",
         "Trump sued in Kentucky by three who say he incited crowd to violence"
        ],
        [
         "1",
         "In record year for political ads, media buyers see tight market "
        ],
        [
         "2",
         "Obama, Republicans urge Trump to soften tone"
        ],
        [
         "3",
         "State Department says halts review of Clinton emails at FBI request"
        ],
        [
         "4",
         "Obama: Trump doesn't know much about foreign policy, world"
        ],
        [
         "5",
         "Obama says 'no doubt' civilians have been killed in drone strikes"
        ],
        [
         "6",
         "Former New York deputy secretary of state accused of perjury"
        ],
        [
         "7",
         "Hillary Clinton to propose $10 billion manufacturing investment"
        ],
        [
         "8",
         "Trump's probability of winning nomination drops: PredictIt"
        ],
        [
         "9",
         "Senator Warren seeks investigation of insurers over retirement rule"
        ]
       ],
       "shape": {
        "columns": 1,
        "rows": 10
       }
      },
      "text/html": [
       "<div>\n",
       "<style scoped>\n",
       "    .dataframe tbody tr th:only-of-type {\n",
       "        vertical-align: middle;\n",
       "    }\n",
       "\n",
       "    .dataframe tbody tr th {\n",
       "        vertical-align: top;\n",
       "    }\n",
       "\n",
       "    .dataframe thead th {\n",
       "        text-align: right;\n",
       "    }\n",
       "</style>\n",
       "<table border=\"1\" class=\"dataframe\">\n",
       "  <thead>\n",
       "    <tr style=\"text-align: right;\">\n",
       "      <th></th>\n",
       "      <th>title</th>\n",
       "    </tr>\n",
       "  </thead>\n",
       "  <tbody>\n",
       "    <tr>\n",
       "      <th>0</th>\n",
       "      <td>Trump sued in Kentucky by three who say he inc...</td>\n",
       "    </tr>\n",
       "    <tr>\n",
       "      <th>1</th>\n",
       "      <td>In record year for political ads, media buyers...</td>\n",
       "    </tr>\n",
       "    <tr>\n",
       "      <th>2</th>\n",
       "      <td>Obama, Republicans urge Trump to soften tone</td>\n",
       "    </tr>\n",
       "    <tr>\n",
       "      <th>3</th>\n",
       "      <td>State Department says halts review of Clinton ...</td>\n",
       "    </tr>\n",
       "    <tr>\n",
       "      <th>4</th>\n",
       "      <td>Obama: Trump doesn't know much about foreign p...</td>\n",
       "    </tr>\n",
       "    <tr>\n",
       "      <th>5</th>\n",
       "      <td>Obama says 'no doubt' civilians have been kill...</td>\n",
       "    </tr>\n",
       "    <tr>\n",
       "      <th>6</th>\n",
       "      <td>Former New York deputy secretary of state accu...</td>\n",
       "    </tr>\n",
       "    <tr>\n",
       "      <th>7</th>\n",
       "      <td>Hillary Clinton to propose $10 billion manufac...</td>\n",
       "    </tr>\n",
       "    <tr>\n",
       "      <th>8</th>\n",
       "      <td>Trump's probability of winning nomination drop...</td>\n",
       "    </tr>\n",
       "    <tr>\n",
       "      <th>9</th>\n",
       "      <td>Senator Warren seeks investigation of insurers...</td>\n",
       "    </tr>\n",
       "  </tbody>\n",
       "</table>\n",
       "</div>"
      ],
      "text/plain": [
       "                                               title\n",
       "0  Trump sued in Kentucky by three who say he inc...\n",
       "1  In record year for political ads, media buyers...\n",
       "2       Obama, Republicans urge Trump to soften tone\n",
       "3  State Department says halts review of Clinton ...\n",
       "4  Obama: Trump doesn't know much about foreign p...\n",
       "5  Obama says 'no doubt' civilians have been kill...\n",
       "6  Former New York deputy secretary of state accu...\n",
       "7  Hillary Clinton to propose $10 billion manufac...\n",
       "8  Trump's probability of winning nomination drop...\n",
       "9  Senator Warren seeks investigation of insurers..."
      ]
     },
     "execution_count": 6,
     "metadata": {},
     "output_type": "execute_result"
    }
   ],
   "source": [
    "X_val, X_test, y_val, y_test = train_test_split(X_test, y_test, test_size=0.5, random_state=SEED, shuffle=True, stratify=None)\n",
    "\n",
    "# X_train.drop(columns=['subject', 'date', 'text', 'title'], inplace=True)\n",
    "# X_test.drop(columns=['subject', 'date', 'text', 'title'], inplace=True)\n",
    "# X_val.drop(columns=['subject', 'date', 'text', 'title'], inplace=True)\n",
    "\n",
    "X_train.drop(columns=['subject', 'date', 'text'], inplace=True) # удаляем неинформативные колонки\n",
    "X_test.drop(columns=['subject', 'date', 'text'], inplace=True)\n",
    "X_val.drop(columns=['subject', 'date', 'text'], inplace=True)\n",
    "\n",
    "X_train.head(10)"
   ]
  },
  {
   "cell_type": "code",
   "execution_count": 7,
   "id": "87e073c0",
   "metadata": {},
   "outputs": [
    {
     "data": {
      "text/plain": [
       "(4490, 4491)"
      ]
     },
     "execution_count": 7,
     "metadata": {},
     "output_type": "execute_result"
    }
   ],
   "source": [
    "len(X_val), len(X_test)"
   ]
  },
  {
   "cell_type": "markdown",
   "id": "0d5b6339",
   "metadata": {},
   "source": [
    "блок для тестов"
   ]
  },
  {
   "cell_type": "code",
   "execution_count": 8,
   "id": "20a0b6cc",
   "metadata": {},
   "outputs": [],
   "source": [
    "# def preprocessing(text):\n",
    "#      text = text.lower()\n",
    "#      text = re.sub('[^a-zA-Z]', ' ', text)\n",
    "#      text = re.sub('\\s+', ' ', text)\n",
    "#      text = re.sub(r'https?://\\S+|www\\.\\S+|[^a-zA-Z\\s]', '', text)\n",
    "#      text = re.sub(r'<.*?>', '', text)\n",
    "#      return text \n",
    "\n",
    "# vectorized = np.vectorize(preprocessing)\n",
    "# x_train = vectorized(X_train)\n",
    "# x_test = vectorized(X_test)\n",
    "# x_val = vectorized(X_val)\n",
    "\n",
    "# print('the first 20 words of first train text after preprocessing:')\n",
    "# visualize = ''\n",
    "# counter = 0 \n",
    "\n",
    "# for i in x_train[0].split(' '):\n",
    "#     visualize = visualize + i + \" \" \n",
    "#     if counter>20:\n",
    "#         break\n",
    "#     counter = counter + 1 \n",
    "\n",
    "# print(visualize)\n",
    "\n",
    "# tokenizer = Tokenizer()\n",
    "# tokenizer.fit_on_texts(x_train)\n",
    "\n",
    "# train_seq = tokenizer.texts_to_sequences(x_train)\n",
    "# test_seq = tokenizer.texts_to_sequences(x_test)\n",
    "# val_seq = tokenizer.texts_to_sequences(x_val)\n",
    "# vocab_size = len(tokenizer.word_index) + 1 \n",
    "# max_length = max(len(sequence) for sequence in train_seq)\n",
    "\n",
    "# train_seq = pad_sequences(train_seq, maxlen = max_length, padding = 'post', truncating = 'post')\n",
    "# test_seq = pad_sequences(test_seq, maxlen = max_length, padding = 'post', truncating = 'post')\n",
    "# val_seq = pad_sequences(val_seq, maxlen = max_length, padding = 'post', truncating = 'post')"
   ]
  },
  {
   "cell_type": "markdown",
   "id": "07990d73",
   "metadata": {},
   "source": [
    "## Preprocessing"
   ]
  },
  {
   "cell_type": "code",
   "execution_count": 9,
   "id": "ae649511",
   "metadata": {},
   "outputs": [],
   "source": [
    "from pipeline import CustomPipeline\n",
    "\n",
    "pipeline = CustomPipeline"
   ]
  },
  {
   "cell_type": "code",
   "execution_count": null,
   "id": "2540e095",
   "metadata": {},
   "outputs": [
    {
     "name": "stderr",
     "output_type": "stream",
     "text": [
      "c:\\Games\\textclassification\\.venv\\lib\\site-packages\\sklearn\\pipeline.py:61: FutureWarning: This Pipeline instance is not fitted yet. Call 'fit' with appropriate arguments before using other methods such as transform, predict, etc. This will raise an error in 1.8 instead of the current warning.\n",
      "  warnings.warn(\n"
     ]
    },
    {
     "data": {
      "text/plain": [
       "(18616, 35)"
      ]
     },
     "execution_count": 10,
     "metadata": {},
     "output_type": "execute_result"
    }
   ],
   "source": [
    "train_seq = pipeline.fit_transform(X_train) # применяем пайплайн\n",
    "val_seq = pipeline.transform(X_val)\n",
    "test_seq = pipeline.transform(X_test)\n",
    "\n",
    "vocab_size = pipeline.named_steps['tokenizer'].vocab_size\n",
    "max_length = pipeline.named_steps['tokenizer'].max_length\n",
    "\n",
    "vocab_size, max_length"
   ]
  },
  {
   "cell_type": "code",
   "execution_count": 11,
   "id": "d675cf8c",
   "metadata": {},
   "outputs": [
    {
     "data": {
      "text/plain": [
       "array([[   2, 2638, 2548, ...,    0,    0,    0],\n",
       "       [ 871,  105,  151, ...,    0,    0,    0],\n",
       "       [   6,   25,  872, ...,    0,    0,    0],\n",
       "       ...,\n",
       "       [  31,  231, 6390, ...,    0,    0,    0],\n",
       "       [  23,   86, 3744, ...,    0,    0,    0],\n",
       "       [ 157,   31,   19, ...,    0,    0,    0]],\n",
       "      shape=(35917, 35), dtype=int32)"
      ]
     },
     "execution_count": 11,
     "metadata": {},
     "output_type": "execute_result"
    }
   ],
   "source": [
    "train_seq"
   ]
  },
  {
   "cell_type": "markdown",
   "id": "5fb215c7",
   "metadata": {},
   "source": [
    "## LSTM"
   ]
  },
  {
   "cell_type": "markdown",
   "id": "03279137",
   "metadata": {},
   "source": [
    "сделаем простую lstm модель"
   ]
  },
  {
   "cell_type": "code",
   "execution_count": 12,
   "id": "3f3f0260",
   "metadata": {},
   "outputs": [],
   "source": [
    "from tensorflow.keras.preprocessing.text import Tokenizer\n",
    "from tensorflow.keras.preprocessing.sequence import pad_sequences\n",
    "from tensorflow.keras.layers import Dense, Input, Embedding, LSTM, Dropout, Bidirectional\n",
    "from tensorflow.keras.models import Sequential\n",
    "from tensorflow.keras.optimizers import Adam\n",
    "from tensorflow.keras.losses import BinaryCrossentropy\n",
    "from tensorflow.keras.callbacks import EarlyStopping, ReduceLROnPlateau\n",
    "import tensorflow as tf\n",
    "import warnings\n",
    "\n",
    "\n",
    "warnings.filterwarnings('ignore')\n"
   ]
  },
  {
   "cell_type": "code",
   "execution_count": 13,
   "id": "8ff2a87b",
   "metadata": {},
   "outputs": [
    {
     "data": {
      "text/html": [
       "<pre style=\"white-space:pre;overflow-x:auto;line-height:normal;font-family:Menlo,'DejaVu Sans Mono',consolas,'Courier New',monospace\"><span style=\"font-weight: bold\">Model: \"sequential\"</span>\n",
       "</pre>\n"
      ],
      "text/plain": [
       "\u001b[1mModel: \"sequential\"\u001b[0m\n"
      ]
     },
     "metadata": {},
     "output_type": "display_data"
    },
    {
     "data": {
      "text/html": [
       "<pre style=\"white-space:pre;overflow-x:auto;line-height:normal;font-family:Menlo,'DejaVu Sans Mono',consolas,'Courier New',monospace\">┏━━━━━━━━━━━━━━━━━━━━━━━━━━━━━━━━━┳━━━━━━━━━━━━━━━━━━━━━━━━┳━━━━━━━━━━━━━━━┓\n",
       "┃<span style=\"font-weight: bold\"> Layer (type)                    </span>┃<span style=\"font-weight: bold\"> Output Shape           </span>┃<span style=\"font-weight: bold\">       Param # </span>┃\n",
       "┡━━━━━━━━━━━━━━━━━━━━━━━━━━━━━━━━━╇━━━━━━━━━━━━━━━━━━━━━━━━╇━━━━━━━━━━━━━━━┩\n",
       "│ embedding (<span style=\"color: #0087ff; text-decoration-color: #0087ff\">Embedding</span>)           │ (<span style=\"color: #00d7ff; text-decoration-color: #00d7ff\">None</span>, <span style=\"color: #00af00; text-decoration-color: #00af00\">35</span>, <span style=\"color: #00af00; text-decoration-color: #00af00\">300</span>)        │     <span style=\"color: #00af00; text-decoration-color: #00af00\">5,584,800</span> │\n",
       "├─────────────────────────────────┼────────────────────────┼───────────────┤\n",
       "│ bidirectional (<span style=\"color: #0087ff; text-decoration-color: #0087ff\">Bidirectional</span>)   │ (<span style=\"color: #00d7ff; text-decoration-color: #00d7ff\">None</span>, <span style=\"color: #00af00; text-decoration-color: #00af00\">35</span>, <span style=\"color: #00af00; text-decoration-color: #00af00\">256</span>)        │       <span style=\"color: #00af00; text-decoration-color: #00af00\">439,296</span> │\n",
       "├─────────────────────────────────┼────────────────────────┼───────────────┤\n",
       "│ bidirectional_1 (<span style=\"color: #0087ff; text-decoration-color: #0087ff\">Bidirectional</span>) │ (<span style=\"color: #00d7ff; text-decoration-color: #00d7ff\">None</span>, <span style=\"color: #00af00; text-decoration-color: #00af00\">128</span>)            │       <span style=\"color: #00af00; text-decoration-color: #00af00\">164,352</span> │\n",
       "├─────────────────────────────────┼────────────────────────┼───────────────┤\n",
       "│ dropout (<span style=\"color: #0087ff; text-decoration-color: #0087ff\">Dropout</span>)               │ (<span style=\"color: #00d7ff; text-decoration-color: #00d7ff\">None</span>, <span style=\"color: #00af00; text-decoration-color: #00af00\">128</span>)            │             <span style=\"color: #00af00; text-decoration-color: #00af00\">0</span> │\n",
       "├─────────────────────────────────┼────────────────────────┼───────────────┤\n",
       "│ dense (<span style=\"color: #0087ff; text-decoration-color: #0087ff\">Dense</span>)                   │ (<span style=\"color: #00d7ff; text-decoration-color: #00d7ff\">None</span>, <span style=\"color: #00af00; text-decoration-color: #00af00\">256</span>)            │        <span style=\"color: #00af00; text-decoration-color: #00af00\">33,024</span> │\n",
       "├─────────────────────────────────┼────────────────────────┼───────────────┤\n",
       "│ dropout_1 (<span style=\"color: #0087ff; text-decoration-color: #0087ff\">Dropout</span>)             │ (<span style=\"color: #00d7ff; text-decoration-color: #00d7ff\">None</span>, <span style=\"color: #00af00; text-decoration-color: #00af00\">256</span>)            │             <span style=\"color: #00af00; text-decoration-color: #00af00\">0</span> │\n",
       "├─────────────────────────────────┼────────────────────────┼───────────────┤\n",
       "│ dense_1 (<span style=\"color: #0087ff; text-decoration-color: #0087ff\">Dense</span>)                 │ (<span style=\"color: #00d7ff; text-decoration-color: #00d7ff\">None</span>, <span style=\"color: #00af00; text-decoration-color: #00af00\">1</span>)              │           <span style=\"color: #00af00; text-decoration-color: #00af00\">257</span> │\n",
       "└─────────────────────────────────┴────────────────────────┴───────────────┘\n",
       "</pre>\n"
      ],
      "text/plain": [
       "┏━━━━━━━━━━━━━━━━━━━━━━━━━━━━━━━━━┳━━━━━━━━━━━━━━━━━━━━━━━━┳━━━━━━━━━━━━━━━┓\n",
       "┃\u001b[1m \u001b[0m\u001b[1mLayer (type)                   \u001b[0m\u001b[1m \u001b[0m┃\u001b[1m \u001b[0m\u001b[1mOutput Shape          \u001b[0m\u001b[1m \u001b[0m┃\u001b[1m \u001b[0m\u001b[1m      Param #\u001b[0m\u001b[1m \u001b[0m┃\n",
       "┡━━━━━━━━━━━━━━━━━━━━━━━━━━━━━━━━━╇━━━━━━━━━━━━━━━━━━━━━━━━╇━━━━━━━━━━━━━━━┩\n",
       "│ embedding (\u001b[38;5;33mEmbedding\u001b[0m)           │ (\u001b[38;5;45mNone\u001b[0m, \u001b[38;5;34m35\u001b[0m, \u001b[38;5;34m300\u001b[0m)        │     \u001b[38;5;34m5,584,800\u001b[0m │\n",
       "├─────────────────────────────────┼────────────────────────┼───────────────┤\n",
       "│ bidirectional (\u001b[38;5;33mBidirectional\u001b[0m)   │ (\u001b[38;5;45mNone\u001b[0m, \u001b[38;5;34m35\u001b[0m, \u001b[38;5;34m256\u001b[0m)        │       \u001b[38;5;34m439,296\u001b[0m │\n",
       "├─────────────────────────────────┼────────────────────────┼───────────────┤\n",
       "│ bidirectional_1 (\u001b[38;5;33mBidirectional\u001b[0m) │ (\u001b[38;5;45mNone\u001b[0m, \u001b[38;5;34m128\u001b[0m)            │       \u001b[38;5;34m164,352\u001b[0m │\n",
       "├─────────────────────────────────┼────────────────────────┼───────────────┤\n",
       "│ dropout (\u001b[38;5;33mDropout\u001b[0m)               │ (\u001b[38;5;45mNone\u001b[0m, \u001b[38;5;34m128\u001b[0m)            │             \u001b[38;5;34m0\u001b[0m │\n",
       "├─────────────────────────────────┼────────────────────────┼───────────────┤\n",
       "│ dense (\u001b[38;5;33mDense\u001b[0m)                   │ (\u001b[38;5;45mNone\u001b[0m, \u001b[38;5;34m256\u001b[0m)            │        \u001b[38;5;34m33,024\u001b[0m │\n",
       "├─────────────────────────────────┼────────────────────────┼───────────────┤\n",
       "│ dropout_1 (\u001b[38;5;33mDropout\u001b[0m)             │ (\u001b[38;5;45mNone\u001b[0m, \u001b[38;5;34m256\u001b[0m)            │             \u001b[38;5;34m0\u001b[0m │\n",
       "├─────────────────────────────────┼────────────────────────┼───────────────┤\n",
       "│ dense_1 (\u001b[38;5;33mDense\u001b[0m)                 │ (\u001b[38;5;45mNone\u001b[0m, \u001b[38;5;34m1\u001b[0m)              │           \u001b[38;5;34m257\u001b[0m │\n",
       "└─────────────────────────────────┴────────────────────────┴───────────────┘\n"
      ]
     },
     "metadata": {},
     "output_type": "display_data"
    },
    {
     "data": {
      "text/html": [
       "<pre style=\"white-space:pre;overflow-x:auto;line-height:normal;font-family:Menlo,'DejaVu Sans Mono',consolas,'Courier New',monospace\"><span style=\"font-weight: bold\"> Total params: </span><span style=\"color: #00af00; text-decoration-color: #00af00\">6,221,729</span> (23.73 MB)\n",
       "</pre>\n"
      ],
      "text/plain": [
       "\u001b[1m Total params: \u001b[0m\u001b[38;5;34m6,221,729\u001b[0m (23.73 MB)\n"
      ]
     },
     "metadata": {},
     "output_type": "display_data"
    },
    {
     "data": {
      "text/html": [
       "<pre style=\"white-space:pre;overflow-x:auto;line-height:normal;font-family:Menlo,'DejaVu Sans Mono',consolas,'Courier New',monospace\"><span style=\"font-weight: bold\"> Trainable params: </span><span style=\"color: #00af00; text-decoration-color: #00af00\">6,221,729</span> (23.73 MB)\n",
       "</pre>\n"
      ],
      "text/plain": [
       "\u001b[1m Trainable params: \u001b[0m\u001b[38;5;34m6,221,729\u001b[0m (23.73 MB)\n"
      ]
     },
     "metadata": {},
     "output_type": "display_data"
    },
    {
     "data": {
      "text/html": [
       "<pre style=\"white-space:pre;overflow-x:auto;line-height:normal;font-family:Menlo,'DejaVu Sans Mono',consolas,'Courier New',monospace\"><span style=\"font-weight: bold\"> Non-trainable params: </span><span style=\"color: #00af00; text-decoration-color: #00af00\">0</span> (0.00 B)\n",
       "</pre>\n"
      ],
      "text/plain": [
       "\u001b[1m Non-trainable params: \u001b[0m\u001b[38;5;34m0\u001b[0m (0.00 B)\n"
      ]
     },
     "metadata": {},
     "output_type": "display_data"
    }
   ],
   "source": [
    "epochs = 10\n",
    "lr = 1e-3\n",
    "embedding_dim = 300\n",
    "model = Sequential([\n",
    "    Input(shape = (max_length,)),\n",
    "    Embedding(vocab_size, embedding_dim, input_length = max_length, trainable = True), # установка trainable = True дала 2% \n",
    "    \n",
    "    Bidirectional(LSTM(128, return_sequences = True)),\n",
    "    Bidirectional(LSTM(64)),\n",
    "    Dropout(0.2),\n",
    "    \n",
    "    Dense(256, activation = 'relu'),\n",
    "\n",
    "    Dropout(0.5),\n",
    "    \n",
    "    Dense(1, activation = 'sigmoid')\n",
    "])\n",
    " \n",
    "model.compile(optimizer = Adam(learning_rate = lr), loss = BinaryCrossentropy(), metrics = ['accuracy'])\n",
    "model.summary()"
   ]
  },
  {
   "cell_type": "code",
   "execution_count": 14,
   "id": "3cac9ad4",
   "metadata": {},
   "outputs": [
    {
     "data": {
      "text/plain": [
       "[]"
      ]
     },
     "execution_count": 14,
     "metadata": {},
     "output_type": "execute_result"
    }
   ],
   "source": [
    "tf.config.list_physical_devices('GPU')"
   ]
  },
  {
   "cell_type": "markdown",
   "id": "2791761f",
   "metadata": {},
   "source": [
    "Я ограничил vocab_size = 1000 и max_length 512, и по расчетам тренировка 1 слоя займет 12 часов"
   ]
  },
  {
   "cell_type": "code",
   "execution_count": 15,
   "id": "c8015711",
   "metadata": {},
   "outputs": [
    {
     "name": "stdout",
     "output_type": "stream",
     "text": [
      "Epoch 1/10\n",
      "\u001b[1m 277/1123\u001b[0m \u001b[32m━━━━\u001b[0m\u001b[37m━━━━━━━━━━━━━━━━\u001b[0m \u001b[1m46s\u001b[0m 55ms/step - accuracy: 0.7979 - loss: 0.3845"
     ]
    },
    {
     "ename": "KeyboardInterrupt",
     "evalue": "",
     "output_type": "error",
     "traceback": [
      "\u001b[1;31m---------------------------------------------------------------------------\u001b[0m",
      "\u001b[1;31mKeyboardInterrupt\u001b[0m                         Traceback (most recent call last)",
      "Cell \u001b[1;32mIn[15], line 5\u001b[0m\n\u001b[0;32m      1\u001b[0m model_es \u001b[38;5;241m=\u001b[39m EarlyStopping(monitor \u001b[38;5;241m=\u001b[39m \u001b[38;5;124m'\u001b[39m\u001b[38;5;124mval_loss\u001b[39m\u001b[38;5;124m'\u001b[39m, mode \u001b[38;5;241m=\u001b[39m \u001b[38;5;124m'\u001b[39m\u001b[38;5;124mmin\u001b[39m\u001b[38;5;124m'\u001b[39m, patience \u001b[38;5;241m=\u001b[39m \u001b[38;5;241m2\u001b[39m, restore_best_weights \u001b[38;5;241m=\u001b[39m \u001b[38;5;28;01mTrue\u001b[39;00m)\n\u001b[0;32m      2\u001b[0m model_rlr \u001b[38;5;241m=\u001b[39m ReduceLROnPlateau(monitor \u001b[38;5;241m=\u001b[39m \u001b[38;5;124m'\u001b[39m\u001b[38;5;124mval_loss\u001b[39m\u001b[38;5;124m'\u001b[39m, factor \u001b[38;5;241m=\u001b[39m \u001b[38;5;241m0.2\u001b[39m, patience \u001b[38;5;241m=\u001b[39m \u001b[38;5;241m1\u001b[39m, mode \u001b[38;5;241m=\u001b[39m \u001b[38;5;124m'\u001b[39m\u001b[38;5;124mmin\u001b[39m\u001b[38;5;124m'\u001b[39m)\n\u001b[1;32m----> 5\u001b[0m history \u001b[38;5;241m=\u001b[39m \u001b[43mmodel\u001b[49m\u001b[38;5;241;43m.\u001b[39;49m\u001b[43mfit\u001b[49m\u001b[43m(\u001b[49m\u001b[43mtrain_seq\u001b[49m\u001b[43m,\u001b[49m\u001b[43m \u001b[49m\u001b[43my_train\u001b[49m\u001b[43m,\u001b[49m\u001b[43m \u001b[49m\u001b[43mepochs\u001b[49m\u001b[43m \u001b[49m\u001b[38;5;241;43m=\u001b[39;49m\u001b[43m \u001b[49m\u001b[43mepochs\u001b[49m\u001b[43m,\u001b[49m\u001b[43m \u001b[49m\n\u001b[0;32m      6\u001b[0m \u001b[43m                    \u001b[49m\u001b[43mvalidation_data\u001b[49m\u001b[43m \u001b[49m\u001b[38;5;241;43m=\u001b[39;49m\u001b[43m \u001b[49m\u001b[43m(\u001b[49m\u001b[43mval_seq\u001b[49m\u001b[43m \u001b[49m\u001b[43m,\u001b[49m\u001b[43m \u001b[49m\u001b[43my_val\u001b[49m\u001b[43m)\u001b[49m\u001b[43m,\u001b[49m\u001b[43m \u001b[49m\u001b[43mcallbacks\u001b[49m\u001b[43m \u001b[49m\u001b[38;5;241;43m=\u001b[39;49m\u001b[43m \u001b[49m\u001b[43m[\u001b[49m\u001b[43mmodel_es\u001b[49m\u001b[43m,\u001b[49m\u001b[43m \u001b[49m\u001b[43mmodel_rlr\u001b[49m\u001b[43m]\u001b[49m\u001b[43m)\u001b[49m\n",
      "File \u001b[1;32mc:\\Games\\textclassification\\.venv\\lib\\site-packages\\keras\\src\\utils\\traceback_utils.py:117\u001b[0m, in \u001b[0;36mfilter_traceback.<locals>.error_handler\u001b[1;34m(*args, **kwargs)\u001b[0m\n\u001b[0;32m    115\u001b[0m filtered_tb \u001b[38;5;241m=\u001b[39m \u001b[38;5;28;01mNone\u001b[39;00m\n\u001b[0;32m    116\u001b[0m \u001b[38;5;28;01mtry\u001b[39;00m:\n\u001b[1;32m--> 117\u001b[0m     \u001b[38;5;28;01mreturn\u001b[39;00m fn(\u001b[38;5;241m*\u001b[39margs, \u001b[38;5;241m*\u001b[39m\u001b[38;5;241m*\u001b[39mkwargs)\n\u001b[0;32m    118\u001b[0m \u001b[38;5;28;01mexcept\u001b[39;00m \u001b[38;5;167;01mException\u001b[39;00m \u001b[38;5;28;01mas\u001b[39;00m e:\n\u001b[0;32m    119\u001b[0m     filtered_tb \u001b[38;5;241m=\u001b[39m _process_traceback_frames(e\u001b[38;5;241m.\u001b[39m__traceback__)\n",
      "File \u001b[1;32mc:\\Games\\textclassification\\.venv\\lib\\site-packages\\keras\\src\\backend\\tensorflow\\trainer.py:377\u001b[0m, in \u001b[0;36mTensorFlowTrainer.fit\u001b[1;34m(self, x, y, batch_size, epochs, verbose, callbacks, validation_split, validation_data, shuffle, class_weight, sample_weight, initial_epoch, steps_per_epoch, validation_steps, validation_batch_size, validation_freq)\u001b[0m\n\u001b[0;32m    375\u001b[0m \u001b[38;5;28;01mfor\u001b[39;00m begin_step, end_step, iterator \u001b[38;5;129;01min\u001b[39;00m epoch_iterator:\n\u001b[0;32m    376\u001b[0m     callbacks\u001b[38;5;241m.\u001b[39mon_train_batch_begin(begin_step)\n\u001b[1;32m--> 377\u001b[0m     logs \u001b[38;5;241m=\u001b[39m \u001b[38;5;28;43mself\u001b[39;49m\u001b[38;5;241;43m.\u001b[39;49m\u001b[43mtrain_function\u001b[49m\u001b[43m(\u001b[49m\u001b[43miterator\u001b[49m\u001b[43m)\u001b[49m\n\u001b[0;32m    378\u001b[0m     callbacks\u001b[38;5;241m.\u001b[39mon_train_batch_end(end_step, logs)\n\u001b[0;32m    379\u001b[0m     \u001b[38;5;28;01mif\u001b[39;00m \u001b[38;5;28mself\u001b[39m\u001b[38;5;241m.\u001b[39mstop_training:\n",
      "File \u001b[1;32mc:\\Games\\textclassification\\.venv\\lib\\site-packages\\keras\\src\\backend\\tensorflow\\trainer.py:220\u001b[0m, in \u001b[0;36mTensorFlowTrainer._make_function.<locals>.function\u001b[1;34m(iterator)\u001b[0m\n\u001b[0;32m    216\u001b[0m \u001b[38;5;28;01mdef\u001b[39;00m\u001b[38;5;250m \u001b[39m\u001b[38;5;21mfunction\u001b[39m(iterator):\n\u001b[0;32m    217\u001b[0m     \u001b[38;5;28;01mif\u001b[39;00m \u001b[38;5;28misinstance\u001b[39m(\n\u001b[0;32m    218\u001b[0m         iterator, (tf\u001b[38;5;241m.\u001b[39mdata\u001b[38;5;241m.\u001b[39mIterator, tf\u001b[38;5;241m.\u001b[39mdistribute\u001b[38;5;241m.\u001b[39mDistributedIterator)\n\u001b[0;32m    219\u001b[0m     ):\n\u001b[1;32m--> 220\u001b[0m         opt_outputs \u001b[38;5;241m=\u001b[39m \u001b[43mmulti_step_on_iterator\u001b[49m\u001b[43m(\u001b[49m\u001b[43miterator\u001b[49m\u001b[43m)\u001b[49m\n\u001b[0;32m    221\u001b[0m         \u001b[38;5;28;01mif\u001b[39;00m \u001b[38;5;129;01mnot\u001b[39;00m opt_outputs\u001b[38;5;241m.\u001b[39mhas_value():\n\u001b[0;32m    222\u001b[0m             \u001b[38;5;28;01mraise\u001b[39;00m \u001b[38;5;167;01mStopIteration\u001b[39;00m\n",
      "File \u001b[1;32mc:\\Games\\textclassification\\.venv\\lib\\site-packages\\tensorflow\\python\\util\\traceback_utils.py:150\u001b[0m, in \u001b[0;36mfilter_traceback.<locals>.error_handler\u001b[1;34m(*args, **kwargs)\u001b[0m\n\u001b[0;32m    148\u001b[0m filtered_tb \u001b[38;5;241m=\u001b[39m \u001b[38;5;28;01mNone\u001b[39;00m\n\u001b[0;32m    149\u001b[0m \u001b[38;5;28;01mtry\u001b[39;00m:\n\u001b[1;32m--> 150\u001b[0m   \u001b[38;5;28;01mreturn\u001b[39;00m fn(\u001b[38;5;241m*\u001b[39margs, \u001b[38;5;241m*\u001b[39m\u001b[38;5;241m*\u001b[39mkwargs)\n\u001b[0;32m    151\u001b[0m \u001b[38;5;28;01mexcept\u001b[39;00m \u001b[38;5;167;01mException\u001b[39;00m \u001b[38;5;28;01mas\u001b[39;00m e:\n\u001b[0;32m    152\u001b[0m   filtered_tb \u001b[38;5;241m=\u001b[39m _process_traceback_frames(e\u001b[38;5;241m.\u001b[39m__traceback__)\n",
      "File \u001b[1;32mc:\\Games\\textclassification\\.venv\\lib\\site-packages\\tensorflow\\python\\eager\\polymorphic_function\\polymorphic_function.py:833\u001b[0m, in \u001b[0;36mFunction.__call__\u001b[1;34m(self, *args, **kwds)\u001b[0m\n\u001b[0;32m    830\u001b[0m compiler \u001b[38;5;241m=\u001b[39m \u001b[38;5;124m\"\u001b[39m\u001b[38;5;124mxla\u001b[39m\u001b[38;5;124m\"\u001b[39m \u001b[38;5;28;01mif\u001b[39;00m \u001b[38;5;28mself\u001b[39m\u001b[38;5;241m.\u001b[39m_jit_compile \u001b[38;5;28;01melse\u001b[39;00m \u001b[38;5;124m\"\u001b[39m\u001b[38;5;124mnonXla\u001b[39m\u001b[38;5;124m\"\u001b[39m\n\u001b[0;32m    832\u001b[0m \u001b[38;5;28;01mwith\u001b[39;00m OptionalXlaContext(\u001b[38;5;28mself\u001b[39m\u001b[38;5;241m.\u001b[39m_jit_compile):\n\u001b[1;32m--> 833\u001b[0m   result \u001b[38;5;241m=\u001b[39m \u001b[38;5;28mself\u001b[39m\u001b[38;5;241m.\u001b[39m_call(\u001b[38;5;241m*\u001b[39margs, \u001b[38;5;241m*\u001b[39m\u001b[38;5;241m*\u001b[39mkwds)\n\u001b[0;32m    835\u001b[0m new_tracing_count \u001b[38;5;241m=\u001b[39m \u001b[38;5;28mself\u001b[39m\u001b[38;5;241m.\u001b[39mexperimental_get_tracing_count()\n\u001b[0;32m    836\u001b[0m without_tracing \u001b[38;5;241m=\u001b[39m (tracing_count \u001b[38;5;241m==\u001b[39m new_tracing_count)\n",
      "File \u001b[1;32mc:\\Games\\textclassification\\.venv\\lib\\site-packages\\tensorflow\\python\\eager\\polymorphic_function\\polymorphic_function.py:878\u001b[0m, in \u001b[0;36mFunction._call\u001b[1;34m(self, *args, **kwds)\u001b[0m\n\u001b[0;32m    875\u001b[0m \u001b[38;5;28mself\u001b[39m\u001b[38;5;241m.\u001b[39m_lock\u001b[38;5;241m.\u001b[39mrelease()\n\u001b[0;32m    876\u001b[0m \u001b[38;5;66;03m# In this case we have not created variables on the first call. So we can\u001b[39;00m\n\u001b[0;32m    877\u001b[0m \u001b[38;5;66;03m# run the first trace but we should fail if variables are created.\u001b[39;00m\n\u001b[1;32m--> 878\u001b[0m results \u001b[38;5;241m=\u001b[39m \u001b[43mtracing_compilation\u001b[49m\u001b[38;5;241;43m.\u001b[39;49m\u001b[43mcall_function\u001b[49m\u001b[43m(\u001b[49m\n\u001b[0;32m    879\u001b[0m \u001b[43m    \u001b[49m\u001b[43margs\u001b[49m\u001b[43m,\u001b[49m\u001b[43m \u001b[49m\u001b[43mkwds\u001b[49m\u001b[43m,\u001b[49m\u001b[43m \u001b[49m\u001b[38;5;28;43mself\u001b[39;49m\u001b[38;5;241;43m.\u001b[39;49m\u001b[43m_variable_creation_config\u001b[49m\n\u001b[0;32m    880\u001b[0m \u001b[43m\u001b[49m\u001b[43m)\u001b[49m\n\u001b[0;32m    881\u001b[0m \u001b[38;5;28;01mif\u001b[39;00m \u001b[38;5;28mself\u001b[39m\u001b[38;5;241m.\u001b[39m_created_variables:\n\u001b[0;32m    882\u001b[0m   \u001b[38;5;28;01mraise\u001b[39;00m \u001b[38;5;167;01mValueError\u001b[39;00m(\u001b[38;5;124m\"\u001b[39m\u001b[38;5;124mCreating variables on a non-first call to a function\u001b[39m\u001b[38;5;124m\"\u001b[39m\n\u001b[0;32m    883\u001b[0m                    \u001b[38;5;124m\"\u001b[39m\u001b[38;5;124m decorated with tf.function.\u001b[39m\u001b[38;5;124m\"\u001b[39m)\n",
      "File \u001b[1;32mc:\\Games\\textclassification\\.venv\\lib\\site-packages\\tensorflow\\python\\eager\\polymorphic_function\\tracing_compilation.py:139\u001b[0m, in \u001b[0;36mcall_function\u001b[1;34m(args, kwargs, tracing_options)\u001b[0m\n\u001b[0;32m    137\u001b[0m bound_args \u001b[38;5;241m=\u001b[39m function\u001b[38;5;241m.\u001b[39mfunction_type\u001b[38;5;241m.\u001b[39mbind(\u001b[38;5;241m*\u001b[39margs, \u001b[38;5;241m*\u001b[39m\u001b[38;5;241m*\u001b[39mkwargs)\n\u001b[0;32m    138\u001b[0m flat_inputs \u001b[38;5;241m=\u001b[39m function\u001b[38;5;241m.\u001b[39mfunction_type\u001b[38;5;241m.\u001b[39munpack_inputs(bound_args)\n\u001b[1;32m--> 139\u001b[0m \u001b[38;5;28;01mreturn\u001b[39;00m \u001b[43mfunction\u001b[49m\u001b[38;5;241;43m.\u001b[39;49m\u001b[43m_call_flat\u001b[49m\u001b[43m(\u001b[49m\u001b[43m  \u001b[49m\u001b[38;5;66;43;03m# pylint: disable=protected-access\u001b[39;49;00m\n\u001b[0;32m    140\u001b[0m \u001b[43m    \u001b[49m\u001b[43mflat_inputs\u001b[49m\u001b[43m,\u001b[49m\u001b[43m \u001b[49m\u001b[43mcaptured_inputs\u001b[49m\u001b[38;5;241;43m=\u001b[39;49m\u001b[43mfunction\u001b[49m\u001b[38;5;241;43m.\u001b[39;49m\u001b[43mcaptured_inputs\u001b[49m\n\u001b[0;32m    141\u001b[0m \u001b[43m\u001b[49m\u001b[43m)\u001b[49m\n",
      "File \u001b[1;32mc:\\Games\\textclassification\\.venv\\lib\\site-packages\\tensorflow\\python\\eager\\polymorphic_function\\concrete_function.py:1322\u001b[0m, in \u001b[0;36mConcreteFunction._call_flat\u001b[1;34m(self, tensor_inputs, captured_inputs)\u001b[0m\n\u001b[0;32m   1318\u001b[0m possible_gradient_type \u001b[38;5;241m=\u001b[39m gradients_util\u001b[38;5;241m.\u001b[39mPossibleTapeGradientTypes(args)\n\u001b[0;32m   1319\u001b[0m \u001b[38;5;28;01mif\u001b[39;00m (possible_gradient_type \u001b[38;5;241m==\u001b[39m gradients_util\u001b[38;5;241m.\u001b[39mPOSSIBLE_GRADIENT_TYPES_NONE\n\u001b[0;32m   1320\u001b[0m     \u001b[38;5;129;01mand\u001b[39;00m executing_eagerly):\n\u001b[0;32m   1321\u001b[0m   \u001b[38;5;66;03m# No tape is watching; skip to running the function.\u001b[39;00m\n\u001b[1;32m-> 1322\u001b[0m   \u001b[38;5;28;01mreturn\u001b[39;00m \u001b[38;5;28;43mself\u001b[39;49m\u001b[38;5;241;43m.\u001b[39;49m\u001b[43m_inference_function\u001b[49m\u001b[38;5;241;43m.\u001b[39;49m\u001b[43mcall_preflattened\u001b[49m\u001b[43m(\u001b[49m\u001b[43margs\u001b[49m\u001b[43m)\u001b[49m\n\u001b[0;32m   1323\u001b[0m forward_backward \u001b[38;5;241m=\u001b[39m \u001b[38;5;28mself\u001b[39m\u001b[38;5;241m.\u001b[39m_select_forward_and_backward_functions(\n\u001b[0;32m   1324\u001b[0m     args,\n\u001b[0;32m   1325\u001b[0m     possible_gradient_type,\n\u001b[0;32m   1326\u001b[0m     executing_eagerly)\n\u001b[0;32m   1327\u001b[0m forward_function, args_with_tangents \u001b[38;5;241m=\u001b[39m forward_backward\u001b[38;5;241m.\u001b[39mforward()\n",
      "File \u001b[1;32mc:\\Games\\textclassification\\.venv\\lib\\site-packages\\tensorflow\\python\\eager\\polymorphic_function\\atomic_function.py:216\u001b[0m, in \u001b[0;36mAtomicFunction.call_preflattened\u001b[1;34m(self, args)\u001b[0m\n\u001b[0;32m    214\u001b[0m \u001b[38;5;28;01mdef\u001b[39;00m\u001b[38;5;250m \u001b[39m\u001b[38;5;21mcall_preflattened\u001b[39m(\u001b[38;5;28mself\u001b[39m, args: Sequence[core\u001b[38;5;241m.\u001b[39mTensor]) \u001b[38;5;241m-\u001b[39m\u001b[38;5;241m>\u001b[39m Any:\n\u001b[0;32m    215\u001b[0m \u001b[38;5;250m  \u001b[39m\u001b[38;5;124;03m\"\"\"Calls with flattened tensor inputs and returns the structured output.\"\"\"\u001b[39;00m\n\u001b[1;32m--> 216\u001b[0m   flat_outputs \u001b[38;5;241m=\u001b[39m \u001b[38;5;28;43mself\u001b[39;49m\u001b[38;5;241;43m.\u001b[39;49m\u001b[43mcall_flat\u001b[49m\u001b[43m(\u001b[49m\u001b[38;5;241;43m*\u001b[39;49m\u001b[43margs\u001b[49m\u001b[43m)\u001b[49m\n\u001b[0;32m    217\u001b[0m   \u001b[38;5;28;01mreturn\u001b[39;00m \u001b[38;5;28mself\u001b[39m\u001b[38;5;241m.\u001b[39mfunction_type\u001b[38;5;241m.\u001b[39mpack_output(flat_outputs)\n",
      "File \u001b[1;32mc:\\Games\\textclassification\\.venv\\lib\\site-packages\\tensorflow\\python\\eager\\polymorphic_function\\atomic_function.py:251\u001b[0m, in \u001b[0;36mAtomicFunction.call_flat\u001b[1;34m(self, *args)\u001b[0m\n\u001b[0;32m    249\u001b[0m \u001b[38;5;28;01mwith\u001b[39;00m record\u001b[38;5;241m.\u001b[39mstop_recording():\n\u001b[0;32m    250\u001b[0m   \u001b[38;5;28;01mif\u001b[39;00m \u001b[38;5;28mself\u001b[39m\u001b[38;5;241m.\u001b[39m_bound_context\u001b[38;5;241m.\u001b[39mexecuting_eagerly():\n\u001b[1;32m--> 251\u001b[0m     outputs \u001b[38;5;241m=\u001b[39m \u001b[38;5;28;43mself\u001b[39;49m\u001b[38;5;241;43m.\u001b[39;49m\u001b[43m_bound_context\u001b[49m\u001b[38;5;241;43m.\u001b[39;49m\u001b[43mcall_function\u001b[49m\u001b[43m(\u001b[49m\n\u001b[0;32m    252\u001b[0m \u001b[43m        \u001b[49m\u001b[38;5;28;43mself\u001b[39;49m\u001b[38;5;241;43m.\u001b[39;49m\u001b[43mname\u001b[49m\u001b[43m,\u001b[49m\n\u001b[0;32m    253\u001b[0m \u001b[43m        \u001b[49m\u001b[38;5;28;43mlist\u001b[39;49m\u001b[43m(\u001b[49m\u001b[43margs\u001b[49m\u001b[43m)\u001b[49m\u001b[43m,\u001b[49m\n\u001b[0;32m    254\u001b[0m \u001b[43m        \u001b[49m\u001b[38;5;28;43mlen\u001b[39;49m\u001b[43m(\u001b[49m\u001b[38;5;28;43mself\u001b[39;49m\u001b[38;5;241;43m.\u001b[39;49m\u001b[43mfunction_type\u001b[49m\u001b[38;5;241;43m.\u001b[39;49m\u001b[43mflat_outputs\u001b[49m\u001b[43m)\u001b[49m\u001b[43m,\u001b[49m\n\u001b[0;32m    255\u001b[0m \u001b[43m    \u001b[49m\u001b[43m)\u001b[49m\n\u001b[0;32m    256\u001b[0m   \u001b[38;5;28;01melse\u001b[39;00m:\n\u001b[0;32m    257\u001b[0m     outputs \u001b[38;5;241m=\u001b[39m make_call_op_in_graph(\n\u001b[0;32m    258\u001b[0m         \u001b[38;5;28mself\u001b[39m,\n\u001b[0;32m    259\u001b[0m         \u001b[38;5;28mlist\u001b[39m(args),\n\u001b[0;32m    260\u001b[0m         \u001b[38;5;28mself\u001b[39m\u001b[38;5;241m.\u001b[39m_bound_context\u001b[38;5;241m.\u001b[39mfunction_call_options\u001b[38;5;241m.\u001b[39mas_attrs(),\n\u001b[0;32m    261\u001b[0m     )\n",
      "File \u001b[1;32mc:\\Games\\textclassification\\.venv\\lib\\site-packages\\tensorflow\\python\\eager\\context.py:1688\u001b[0m, in \u001b[0;36mContext.call_function\u001b[1;34m(self, name, tensor_inputs, num_outputs)\u001b[0m\n\u001b[0;32m   1686\u001b[0m cancellation_context \u001b[38;5;241m=\u001b[39m cancellation\u001b[38;5;241m.\u001b[39mcontext()\n\u001b[0;32m   1687\u001b[0m \u001b[38;5;28;01mif\u001b[39;00m cancellation_context \u001b[38;5;129;01mis\u001b[39;00m \u001b[38;5;28;01mNone\u001b[39;00m:\n\u001b[1;32m-> 1688\u001b[0m   outputs \u001b[38;5;241m=\u001b[39m \u001b[43mexecute\u001b[49m\u001b[38;5;241;43m.\u001b[39;49m\u001b[43mexecute\u001b[49m\u001b[43m(\u001b[49m\n\u001b[0;32m   1689\u001b[0m \u001b[43m      \u001b[49m\u001b[43mname\u001b[49m\u001b[38;5;241;43m.\u001b[39;49m\u001b[43mdecode\u001b[49m\u001b[43m(\u001b[49m\u001b[38;5;124;43m\"\u001b[39;49m\u001b[38;5;124;43mutf-8\u001b[39;49m\u001b[38;5;124;43m\"\u001b[39;49m\u001b[43m)\u001b[49m\u001b[43m,\u001b[49m\n\u001b[0;32m   1690\u001b[0m \u001b[43m      \u001b[49m\u001b[43mnum_outputs\u001b[49m\u001b[38;5;241;43m=\u001b[39;49m\u001b[43mnum_outputs\u001b[49m\u001b[43m,\u001b[49m\n\u001b[0;32m   1691\u001b[0m \u001b[43m      \u001b[49m\u001b[43minputs\u001b[49m\u001b[38;5;241;43m=\u001b[39;49m\u001b[43mtensor_inputs\u001b[49m\u001b[43m,\u001b[49m\n\u001b[0;32m   1692\u001b[0m \u001b[43m      \u001b[49m\u001b[43mattrs\u001b[49m\u001b[38;5;241;43m=\u001b[39;49m\u001b[43mattrs\u001b[49m\u001b[43m,\u001b[49m\n\u001b[0;32m   1693\u001b[0m \u001b[43m      \u001b[49m\u001b[43mctx\u001b[49m\u001b[38;5;241;43m=\u001b[39;49m\u001b[38;5;28;43mself\u001b[39;49m\u001b[43m,\u001b[49m\n\u001b[0;32m   1694\u001b[0m \u001b[43m  \u001b[49m\u001b[43m)\u001b[49m\n\u001b[0;32m   1695\u001b[0m \u001b[38;5;28;01melse\u001b[39;00m:\n\u001b[0;32m   1696\u001b[0m   outputs \u001b[38;5;241m=\u001b[39m execute\u001b[38;5;241m.\u001b[39mexecute_with_cancellation(\n\u001b[0;32m   1697\u001b[0m       name\u001b[38;5;241m.\u001b[39mdecode(\u001b[38;5;124m\"\u001b[39m\u001b[38;5;124mutf-8\u001b[39m\u001b[38;5;124m\"\u001b[39m),\n\u001b[0;32m   1698\u001b[0m       num_outputs\u001b[38;5;241m=\u001b[39mnum_outputs,\n\u001b[1;32m   (...)\u001b[0m\n\u001b[0;32m   1702\u001b[0m       cancellation_manager\u001b[38;5;241m=\u001b[39mcancellation_context,\n\u001b[0;32m   1703\u001b[0m   )\n",
      "File \u001b[1;32mc:\\Games\\textclassification\\.venv\\lib\\site-packages\\tensorflow\\python\\eager\\execute.py:53\u001b[0m, in \u001b[0;36mquick_execute\u001b[1;34m(op_name, num_outputs, inputs, attrs, ctx, name)\u001b[0m\n\u001b[0;32m     51\u001b[0m \u001b[38;5;28;01mtry\u001b[39;00m:\n\u001b[0;32m     52\u001b[0m   ctx\u001b[38;5;241m.\u001b[39mensure_initialized()\n\u001b[1;32m---> 53\u001b[0m   tensors \u001b[38;5;241m=\u001b[39m \u001b[43mpywrap_tfe\u001b[49m\u001b[38;5;241;43m.\u001b[39;49m\u001b[43mTFE_Py_Execute\u001b[49m\u001b[43m(\u001b[49m\u001b[43mctx\u001b[49m\u001b[38;5;241;43m.\u001b[39;49m\u001b[43m_handle\u001b[49m\u001b[43m,\u001b[49m\u001b[43m \u001b[49m\u001b[43mdevice_name\u001b[49m\u001b[43m,\u001b[49m\u001b[43m \u001b[49m\u001b[43mop_name\u001b[49m\u001b[43m,\u001b[49m\n\u001b[0;32m     54\u001b[0m \u001b[43m                                      \u001b[49m\u001b[43minputs\u001b[49m\u001b[43m,\u001b[49m\u001b[43m \u001b[49m\u001b[43mattrs\u001b[49m\u001b[43m,\u001b[49m\u001b[43m \u001b[49m\u001b[43mnum_outputs\u001b[49m\u001b[43m)\u001b[49m\n\u001b[0;32m     55\u001b[0m \u001b[38;5;28;01mexcept\u001b[39;00m core\u001b[38;5;241m.\u001b[39m_NotOkStatusException \u001b[38;5;28;01mas\u001b[39;00m e:\n\u001b[0;32m     56\u001b[0m   \u001b[38;5;28;01mif\u001b[39;00m name \u001b[38;5;129;01mis\u001b[39;00m \u001b[38;5;129;01mnot\u001b[39;00m \u001b[38;5;28;01mNone\u001b[39;00m:\n",
      "\u001b[1;31mKeyboardInterrupt\u001b[0m: "
     ]
    }
   ],
   "source": [
    "model_es = EarlyStopping(monitor = 'val_loss', mode = 'min', patience = 2, restore_best_weights = True)\n",
    "model_rlr = ReduceLROnPlateau(monitor = 'val_loss', factor = 0.2, patience = 1, mode = 'min')\n",
    "\n",
    "\n",
    "history = model.fit(train_seq, y_train, epochs = epochs, \n",
    "                    validation_data = (val_seq , y_val), callbacks = [model_es, model_rlr])"
   ]
  },
  {
   "cell_type": "code",
   "execution_count": null,
   "id": "771fa072",
   "metadata": {},
   "outputs": [
    {
     "name": "stdout",
     "output_type": "stream",
     "text": [
      "Train Accuracy : 98.37 %\n",
      "Test Accuracy  : 95.64 %\n"
     ]
    }
   ],
   "source": [
    "import seaborn as sns\n",
    "import matplotlib.pyplot as plt\n",
    "\n",
    "\n",
    "y_pred_train = np.round(model.predict(train_seq, verbose = 0))\n",
    "y_pred_test = np.round(model.predict(test_seq, verbose = 0))\n",
    "\n",
    "\n",
    "print(f'Train Accuracy : {accuracy_score(y_train, y_pred_train) * 100:.2f} %')\n",
    "print(f'Test Accuracy  : {accuracy_score(y_test, y_pred_test) * 100:.2f} %')"
   ]
  },
  {
   "cell_type": "code",
   "execution_count": null,
   "id": "58fbdcdf",
   "metadata": {},
   "outputs": [
    {
     "name": "stdout",
     "output_type": "stream",
     "text": [
      "Classification Report (Train) : \n",
      "\n",
      "              precision    recall  f1-score   support\n",
      "\n",
      "           0       0.98      0.99      0.98     18784\n",
      "           1       0.99      0.97      0.98     17133\n",
      "\n",
      "    accuracy                           0.98     35917\n",
      "   macro avg       0.98      0.98      0.98     35917\n",
      "weighted avg       0.98      0.98      0.98     35917\n",
      "\n",
      "----------------------------------------\n",
      "\n",
      "Classification Report (Test)  : \n",
      "\n",
      "              precision    recall  f1-score   support\n",
      "\n",
      "           0       0.95      0.96      0.96      2357\n",
      "           1       0.96      0.95      0.95      2134\n",
      "\n",
      "    accuracy                           0.96      4491\n",
      "   macro avg       0.96      0.96      0.96      4491\n",
      "weighted avg       0.96      0.96      0.96      4491\n",
      "\n"
     ]
    }
   ],
   "source": [
    "print(f'Classification Report (Train) : \\n\\n{classification_report(y_train, y_pred_train)}')\n",
    "print(40*'-')\n",
    "print(f'\\nClassification Report (Test)  : \\n\\n{classification_report(y_test, y_pred_test)}')"
   ]
  },
  {
   "cell_type": "markdown",
   "id": "eef078d1",
   "metadata": {},
   "source": [
    "точность примерно такая же как у классической модели поверх TF-IDF "
   ]
  },
  {
   "cell_type": "code",
   "execution_count": null,
   "id": "2d43139c",
   "metadata": {},
   "outputs": [
    {
     "data": {
      "image/png": "[encoded data removed]",
      "text/plain": [
       "<Figure size 1200x600 with 2 Axes>"
      ]
     },
     "metadata": {},
     "output_type": "display_data"
    }
   ],
   "source": [
    "plt.figure(figsize = (12, 6))\n",
    "\n",
    "plt.subplot(1, 2, 1)\n",
    "plt.plot(history.history['loss'], label = 'Training Loss')\n",
    "plt.plot(history.history['val_loss'], label = 'Validation Loss')\n",
    "plt.xlabel('Epoch')\n",
    "plt.ylabel('Loss')\n",
    "plt.title('Training and Validation Loss')\n",
    "plt.legend()\n",
    "\n",
    "plt.subplot(1, 2, 2)\n",
    "plt.plot(history.history['accuracy'], label = 'Training Accuracy')\n",
    "plt.plot(history.history['val_accuracy'], label = 'Validation Accuracy')\n",
    "plt.xlabel('Epoch')\n",
    "plt.ylabel('Accuracy')\n",
    "plt.title('Training and Validation Accuracy')\n",
    "plt.legend()\n",
    "\n",
    "plt.tight_layout()\n",
    "plt.show()"
   ]
  },
  {
   "cell_type": "markdown",
   "id": "1d9220c7",
   "metadata": {},
   "source": [
    "## SimpleRNN"
   ]
  },
  {
   "cell_type": "code",
   "execution_count": null,
   "id": "29ecce77",
   "metadata": {},
   "outputs": [
    {
     "data": {
      "text/html": [
       "<pre style=\"white-space:pre;overflow-x:auto;line-height:normal;font-family:Menlo,'DejaVu Sans Mono',consolas,'Courier New',monospace\"><span style=\"font-weight: bold\">Model: \"sequential_3\"</span>\n",
       "</pre>\n"
      ],
      "text/plain": [
       "\u001b[1mModel: \"sequential_3\"\u001b[0m\n"
      ]
     },
     "metadata": {},
     "output_type": "display_data"
    },
    {
     "data": {
      "text/html": [
       "<pre style=\"white-space:pre;overflow-x:auto;line-height:normal;font-family:Menlo,'DejaVu Sans Mono',consolas,'Courier New',monospace\">┏━━━━━━━━━━━━━━━━━━━━━━━━━━━━━━━━━┳━━━━━━━━━━━━━━━━━━━━━━━━┳━━━━━━━━━━━━━━━┓\n",
       "┃<span style=\"font-weight: bold\"> Layer (type)                    </span>┃<span style=\"font-weight: bold\"> Output Shape           </span>┃<span style=\"font-weight: bold\">       Param # </span>┃\n",
       "┡━━━━━━━━━━━━━━━━━━━━━━━━━━━━━━━━━╇━━━━━━━━━━━━━━━━━━━━━━━━╇━━━━━━━━━━━━━━━┩\n",
       "│ embedding_3 (<span style=\"color: #0087ff; text-decoration-color: #0087ff\">Embedding</span>)         │ (<span style=\"color: #00d7ff; text-decoration-color: #00d7ff\">None</span>, <span style=\"color: #00af00; text-decoration-color: #00af00\">35</span>, <span style=\"color: #00af00; text-decoration-color: #00af00\">300</span>)        │     <span style=\"color: #00af00; text-decoration-color: #00af00\">5,582,700</span> │\n",
       "├─────────────────────────────────┼────────────────────────┼───────────────┤\n",
       "│ bidirectional_6 (<span style=\"color: #0087ff; text-decoration-color: #0087ff\">Bidirectional</span>) │ (<span style=\"color: #00d7ff; text-decoration-color: #00d7ff\">None</span>, <span style=\"color: #00af00; text-decoration-color: #00af00\">35</span>, <span style=\"color: #00af00; text-decoration-color: #00af00\">256</span>)        │       <span style=\"color: #00af00; text-decoration-color: #00af00\">109,824</span> │\n",
       "├─────────────────────────────────┼────────────────────────┼───────────────┤\n",
       "│ bidirectional_7 (<span style=\"color: #0087ff; text-decoration-color: #0087ff\">Bidirectional</span>) │ (<span style=\"color: #00d7ff; text-decoration-color: #00d7ff\">None</span>, <span style=\"color: #00af00; text-decoration-color: #00af00\">128</span>)            │        <span style=\"color: #00af00; text-decoration-color: #00af00\">41,088</span> │\n",
       "├─────────────────────────────────┼────────────────────────┼───────────────┤\n",
       "│ dropout_6 (<span style=\"color: #0087ff; text-decoration-color: #0087ff\">Dropout</span>)             │ (<span style=\"color: #00d7ff; text-decoration-color: #00d7ff\">None</span>, <span style=\"color: #00af00; text-decoration-color: #00af00\">128</span>)            │             <span style=\"color: #00af00; text-decoration-color: #00af00\">0</span> │\n",
       "├─────────────────────────────────┼────────────────────────┼───────────────┤\n",
       "│ dense_6 (<span style=\"color: #0087ff; text-decoration-color: #0087ff\">Dense</span>)                 │ (<span style=\"color: #00d7ff; text-decoration-color: #00d7ff\">None</span>, <span style=\"color: #00af00; text-decoration-color: #00af00\">256</span>)            │        <span style=\"color: #00af00; text-decoration-color: #00af00\">33,024</span> │\n",
       "├─────────────────────────────────┼────────────────────────┼───────────────┤\n",
       "│ dropout_7 (<span style=\"color: #0087ff; text-decoration-color: #0087ff\">Dropout</span>)             │ (<span style=\"color: #00d7ff; text-decoration-color: #00d7ff\">None</span>, <span style=\"color: #00af00; text-decoration-color: #00af00\">256</span>)            │             <span style=\"color: #00af00; text-decoration-color: #00af00\">0</span> │\n",
       "├─────────────────────────────────┼────────────────────────┼───────────────┤\n",
       "│ dense_7 (<span style=\"color: #0087ff; text-decoration-color: #0087ff\">Dense</span>)                 │ (<span style=\"color: #00d7ff; text-decoration-color: #00d7ff\">None</span>, <span style=\"color: #00af00; text-decoration-color: #00af00\">1</span>)              │           <span style=\"color: #00af00; text-decoration-color: #00af00\">257</span> │\n",
       "└─────────────────────────────────┴────────────────────────┴───────────────┘\n",
       "</pre>\n"
      ],
      "text/plain": [
       "┏━━━━━━━━━━━━━━━━━━━━━━━━━━━━━━━━━┳━━━━━━━━━━━━━━━━━━━━━━━━┳━━━━━━━━━━━━━━━┓\n",
       "┃\u001b[1m \u001b[0m\u001b[1mLayer (type)                   \u001b[0m\u001b[1m \u001b[0m┃\u001b[1m \u001b[0m\u001b[1mOutput Shape          \u001b[0m\u001b[1m \u001b[0m┃\u001b[1m \u001b[0m\u001b[1m      Param #\u001b[0m\u001b[1m \u001b[0m┃\n",
       "┡━━━━━━━━━━━━━━━━━━━━━━━━━━━━━━━━━╇━━━━━━━━━━━━━━━━━━━━━━━━╇━━━━━━━━━━━━━━━┩\n",
       "│ embedding_3 (\u001b[38;5;33mEmbedding\u001b[0m)         │ (\u001b[38;5;45mNone\u001b[0m, \u001b[38;5;34m35\u001b[0m, \u001b[38;5;34m300\u001b[0m)        │     \u001b[38;5;34m5,582,700\u001b[0m │\n",
       "├─────────────────────────────────┼────────────────────────┼───────────────┤\n",
       "│ bidirectional_6 (\u001b[38;5;33mBidirectional\u001b[0m) │ (\u001b[38;5;45mNone\u001b[0m, \u001b[38;5;34m35\u001b[0m, \u001b[38;5;34m256\u001b[0m)        │       \u001b[38;5;34m109,824\u001b[0m │\n",
       "├─────────────────────────────────┼────────────────────────┼───────────────┤\n",
       "│ bidirectional_7 (\u001b[38;5;33mBidirectional\u001b[0m) │ (\u001b[38;5;45mNone\u001b[0m, \u001b[38;5;34m128\u001b[0m)            │        \u001b[38;5;34m41,088\u001b[0m │\n",
       "├─────────────────────────────────┼────────────────────────┼───────────────┤\n",
       "│ dropout_6 (\u001b[38;5;33mDropout\u001b[0m)             │ (\u001b[38;5;45mNone\u001b[0m, \u001b[38;5;34m128\u001b[0m)            │             \u001b[38;5;34m0\u001b[0m │\n",
       "├─────────────────────────────────┼────────────────────────┼───────────────┤\n",
       "│ dense_6 (\u001b[38;5;33mDense\u001b[0m)                 │ (\u001b[38;5;45mNone\u001b[0m, \u001b[38;5;34m256\u001b[0m)            │        \u001b[38;5;34m33,024\u001b[0m │\n",
       "├─────────────────────────────────┼────────────────────────┼───────────────┤\n",
       "│ dropout_7 (\u001b[38;5;33mDropout\u001b[0m)             │ (\u001b[38;5;45mNone\u001b[0m, \u001b[38;5;34m256\u001b[0m)            │             \u001b[38;5;34m0\u001b[0m │\n",
       "├─────────────────────────────────┼────────────────────────┼───────────────┤\n",
       "│ dense_7 (\u001b[38;5;33mDense\u001b[0m)                 │ (\u001b[38;5;45mNone\u001b[0m, \u001b[38;5;34m1\u001b[0m)              │           \u001b[38;5;34m257\u001b[0m │\n",
       "└─────────────────────────────────┴────────────────────────┴───────────────┘\n"
      ]
     },
     "metadata": {},
     "output_type": "display_data"
    },
    {
     "data": {
      "text/html": [
       "<pre style=\"white-space:pre;overflow-x:auto;line-height:normal;font-family:Menlo,'DejaVu Sans Mono',consolas,'Courier New',monospace\"><span style=\"font-weight: bold\"> Total params: </span><span style=\"color: #00af00; text-decoration-color: #00af00\">5,766,893</span> (22.00 MB)\n",
       "</pre>\n"
      ],
      "text/plain": [
       "\u001b[1m Total params: \u001b[0m\u001b[38;5;34m5,766,893\u001b[0m (22.00 MB)\n"
      ]
     },
     "metadata": {},
     "output_type": "display_data"
    },
    {
     "data": {
      "text/html": [
       "<pre style=\"white-space:pre;overflow-x:auto;line-height:normal;font-family:Menlo,'DejaVu Sans Mono',consolas,'Courier New',monospace\"><span style=\"font-weight: bold\"> Trainable params: </span><span style=\"color: #00af00; text-decoration-color: #00af00\">5,766,893</span> (22.00 MB)\n",
       "</pre>\n"
      ],
      "text/plain": [
       "\u001b[1m Trainable params: \u001b[0m\u001b[38;5;34m5,766,893\u001b[0m (22.00 MB)\n"
      ]
     },
     "metadata": {},
     "output_type": "display_data"
    },
    {
     "data": {
      "text/html": [
       "<pre style=\"white-space:pre;overflow-x:auto;line-height:normal;font-family:Menlo,'DejaVu Sans Mono',consolas,'Courier New',monospace\"><span style=\"font-weight: bold\"> Non-trainable params: </span><span style=\"color: #00af00; text-decoration-color: #00af00\">0</span> (0.00 B)\n",
       "</pre>\n"
      ],
      "text/plain": [
       "\u001b[1m Non-trainable params: \u001b[0m\u001b[38;5;34m0\u001b[0m (0.00 B)\n"
      ]
     },
     "metadata": {},
     "output_type": "display_data"
    }
   ],
   "source": [
    "from tensorflow.keras.layers import SimpleRNN\n",
    "\n",
    "epochs = 10\n",
    "lr = 1e-3\n",
    "embedding_dim = 300\n",
    "\n",
    "model = Sequential([\n",
    "    Input(shape=(max_length,)),\n",
    "    Embedding(vocab_size, embedding_dim, input_length=max_length, trainable=True),\n",
    "\n",
    "    Bidirectional(SimpleRNN(128, return_sequences=True)),\n",
    "    Bidirectional(SimpleRNN(64)),\n",
    "    Dropout(0.2),\n",
    "\n",
    "    Dense(256, activation='relu'),\n",
    "    Dropout(0.5),\n",
    "\n",
    "    Dense(1, activation='sigmoid')\n",
    "])\n",
    " \n",
    "model.compile(optimizer = Adam(learning_rate = lr), loss = BinaryCrossentropy(), metrics = ['accuracy'])\n",
    "model.summary()"
   ]
  },
  {
   "cell_type": "code",
   "execution_count": null,
   "id": "e2d3bc25",
   "metadata": {},
   "outputs": [
    {
     "name": "stdout",
     "output_type": "stream",
     "text": [
      "Epoch 1/10\n",
      "\u001b[1m1123/1123\u001b[0m \u001b[32m━━━━━━━━━━━━━━━━━━━━\u001b[0m\u001b[37m\u001b[0m \u001b[1m48s\u001b[0m 40ms/step - accuracy: 0.9229 - loss: 0.1897 - val_accuracy: 0.9497 - val_loss: 0.1267 - learning_rate: 0.0010\n",
      "Epoch 2/10\n",
      "\u001b[1m1123/1123\u001b[0m \u001b[32m━━━━━━━━━━━━━━━━━━━━\u001b[0m\u001b[37m\u001b[0m \u001b[1m46s\u001b[0m 41ms/step - accuracy: 0.9804 - loss: 0.0590 - val_accuracy: 0.9479 - val_loss: 0.1349 - learning_rate: 0.0010\n",
      "Epoch 3/10\n",
      "\u001b[1m1123/1123\u001b[0m \u001b[32m━━━━━━━━━━━━━━━━━━━━\u001b[0m\u001b[37m\u001b[0m \u001b[1m44s\u001b[0m 39ms/step - accuracy: 0.9958 - loss: 0.0143 - val_accuracy: 0.9474 - val_loss: 0.1884 - learning_rate: 2.0000e-04\n"
     ]
    }
   ],
   "source": [
    "model_es = EarlyStopping(monitor = 'val_loss', mode = 'min', patience = 2, restore_best_weights = True)\n",
    "model_rlr = ReduceLROnPlateau(monitor = 'val_loss', factor = 0.2, patience = 1, mode = 'min')\n",
    "\n",
    "\n",
    "history = model.fit(train_seq, y_train, epochs = epochs, \n",
    "                    validation_data = (val_seq , y_val), callbacks = [model_es, model_rlr])"
   ]
  },
  {
   "cell_type": "code",
   "execution_count": null,
   "id": "b68661af",
   "metadata": {},
   "outputs": [
    {
     "name": "stdout",
     "output_type": "stream",
     "text": [
      "Train Accuracy : 98.07 %\n",
      "Test Accuracy  : 94.70 %\n",
      "Classification Report (Train) : \n",
      "\n",
      "              precision    recall  f1-score   support\n",
      "\n",
      "           0       0.99      0.97      0.98     18784\n",
      "           1       0.97      0.99      0.98     17133\n",
      "\n",
      "    accuracy                           0.98     35917\n",
      "   macro avg       0.98      0.98      0.98     35917\n",
      "weighted avg       0.98      0.98      0.98     35917\n",
      "\n",
      "----------------------------------------\n",
      "\n",
      "Classification Report (Test)  : \n",
      "\n",
      "              precision    recall  f1-score   support\n",
      "\n",
      "           0       0.98      0.92      0.95      2357\n",
      "           1       0.92      0.98      0.95      2134\n",
      "\n",
      "    accuracy                           0.95      4491\n",
      "   macro avg       0.95      0.95      0.95      4491\n",
      "weighted avg       0.95      0.95      0.95      4491\n",
      "\n"
     ]
    }
   ],
   "source": [
    "y_pred_train = np.round(model.predict(train_seq, verbose = 0))\n",
    "y_pred_test = np.round(model.predict(test_seq, verbose = 0))\n",
    "\n",
    "\n",
    "print(f'Train Accuracy : {accuracy_score(y_train, y_pred_train) * 100:.2f} %')\n",
    "print(f'Test Accuracy  : {accuracy_score(y_test, y_pred_test) * 100:.2f} %')\n",
    "\n",
    "print(f'Classification Report (Train) : \\n\\n{classification_report(y_train, y_pred_train)}')\n",
    "print(40*'-')\n",
    "print(f'\\nClassification Report (Test)  : \\n\\n{classification_report(y_test, y_pred_test)}')"
   ]
  },
  {
   "cell_type": "code",
   "execution_count": null,
   "id": "967ff74c",
   "metadata": {},
   "outputs": [
    {
     "data": {
      "image/png": "[encoded data removed]",
      "text/plain": [
       "<Figure size 1200x600 with 2 Axes>"
      ]
     },
     "metadata": {},
     "output_type": "display_data"
    }
   ],
   "source": [
    "plt.figure(figsize = (12, 6))\n",
    "\n",
    "plt.subplot(1, 2, 1)\n",
    "plt.plot(history.history['loss'], label = 'Training Loss')\n",
    "plt.plot(history.history['val_loss'], label = 'Validation Loss')\n",
    "plt.xlabel('Epoch')\n",
    "plt.ylabel('Loss')\n",
    "plt.title('Training and Validation Loss')\n",
    "plt.legend()\n",
    "\n",
    "plt.subplot(1, 2, 2)\n",
    "plt.plot(history.history['accuracy'], label = 'Training Accuracy')\n",
    "plt.plot(history.history['val_accuracy'], label = 'Validation Accuracy')\n",
    "plt.xlabel('Epoch')\n",
    "plt.ylabel('Accuracy')\n",
    "plt.title('Training and Validation Accuracy')\n",
    "plt.legend()\n",
    "\n",
    "plt.tight_layout()\n",
    "plt.show()"
   ]
  },
  {
   "cell_type": "markdown",
   "id": "00372845",
   "metadata": {},
   "source": [
    "на 1-2% хуже LSTM, но обучаемых параметров в 5 раз меньше"
   ]
  },
  {
   "cell_type": "markdown",
   "id": "4cf786b8",
   "metadata": {},
   "source": [
    "## CNN"
   ]
  },
  {
   "cell_type": "code",
   "execution_count": null,
   "id": "b781fc9b",
   "metadata": {},
   "outputs": [],
   "source": [
    "from tensorflow.keras.models import Model\n",
    "from tensorflow.keras.layers import Input, Embedding, Conv1D, GlobalMaxPooling1D, Concatenate, Dropout, Dense\n",
    "\n",
    "\n",
    "epochs = 10\n",
    "lr = 1e-3\n",
    "embedding_dim = 300\n",
    "\n",
    "inp = Input(shape=(max_length,))\n",
    "x = Embedding(vocab_size, embedding_dim, input_length=max_length, trainable=True)(inp)\n",
    "\n",
    "conv3 = Conv1D(filters=128, kernel_size=3, activation='relu')(x) # используется textCNN с несколькими параллельными Conv1D с разными kernel_size, после чего они объединяются в один вектор\n",
    "conv4 = Conv1D(filters=128, kernel_size=4, activation='relu')(x)\n",
    "conv5 = Conv1D(filters=128, kernel_size=5, activation='relu')(x)\n",
    "\n",
    "pool3 = GlobalMaxPooling1D()(conv3)\n",
    "pool4 = GlobalMaxPooling1D()(conv4)\n",
    "pool5 = GlobalMaxPooling1D()(conv5)\n",
    "\n",
    "merged = Concatenate()([pool3, pool4, pool5])\n",
    "merged = Dropout(0.2)(merged)\n",
    "\n",
    "dense = Dense(256, activation='relu')(merged)\n",
    "dense = Dropout(0.5)(dense)\n",
    "\n",
    "out = Dense(1, activation='sigmoid')(dense)\n",
    "\n",
    "model = Model(inputs=inp, outputs=out)\n",
    "\n",
    "model.compile(optimizer=Adam(learning_rate=lr), loss=BinaryCrossentropy(), metrics=['accuracy'])\n",
    "model.summary()"
   ]
  },
  {
   "cell_type": "code",
   "execution_count": null,
   "id": "61072f64",
   "metadata": {},
   "outputs": [],
   "source": [
    "model_es = EarlyStopping(monitor = 'val_loss', mode = 'min', patience = 2, restore_best_weights = True)\n",
    "model_rlr = ReduceLROnPlateau(monitor = 'val_loss', factor = 0.2, patience = 1, mode = 'min')\n",
    "\n",
    "\n",
    "history = model.fit(train_seq, y_train, epochs = epochs, \n",
    "                    validation_data = (val_seq , y_val), callbacks = [model_es, model_rlr])"
   ]
  },
  {
   "cell_type": "code",
   "execution_count": null,
   "id": "04bebbeb",
   "metadata": {},
   "outputs": [],
   "source": [
    "y_pred_train = np.round(model.predict(train_seq, verbose = 0))\n",
    "y_pred_test = np.round(model.predict(test_seq, verbose = 0))\n",
    "\n",
    "\n",
    "print(f'Train Accuracy : {accuracy_score(y_train, y_pred_train) * 100:.2f} %')\n",
    "print(f'Test Accuracy  : {accuracy_score(y_test, y_pred_test) * 100:.2f} %')\n",
    "\n",
    "print(f'Classification Report (Train) : \\n\\n{classification_report(y_train, y_pred_train)}')\n",
    "print(40*'-')\n",
    "print(f'\\nClassification Report (Test)  : \\n\\n{classification_report(y_test, y_pred_test)}')"
   ]
  },
  {
   "cell_type": "code",
   "execution_count": null,
   "id": "97ee8878",
   "metadata": {},
   "outputs": [],
   "source": [
    "plt.figure(figsize = (12, 6))\n",
    "\n",
    "plt.subplot(1, 2, 1)\n",
    "plt.plot(history.history['loss'], label = 'Training Loss')\n",
    "plt.plot(history.history['val_loss'], label = 'Validation Loss')\n",
    "plt.xlabel('Epoch')\n",
    "plt.ylabel('Loss')\n",
    "plt.title('Training and Validation Loss')\n",
    "plt.legend()\n",
    "\n",
    "plt.subplot(1, 2, 2)\n",
    "plt.plot(history.history['accuracy'], label = 'Training Accuracy')\n",
    "plt.plot(history.history['val_accuracy'], label = 'Validation Accuracy')\n",
    "plt.xlabel('Epoch')\n",
    "plt.ylabel('Accuracy')\n",
    "plt.title('Training and Validation Accuracy')\n",
    "plt.legend()\n",
    "\n",
    "plt.tight_layout()\n",
    "plt.show()"
   ]
  },
  {
   "cell_type": "markdown",
   "id": "917a8e57",
   "metadata": {},
   "source": [
    "## Glove6B"
   ]
  },
  {
   "cell_type": "markdown",
   "id": "00ae3744",
   "metadata": {},
   "source": [
    "использую готовый embedding слой. использую RNN, как и в прошлый раз"
   ]
  },
  {
   "cell_type": "code",
   "execution_count": null,
   "id": "100b5fea",
   "metadata": {},
   "outputs": [
    {
     "ename": "KeyboardInterrupt",
     "evalue": "",
     "output_type": "error",
     "traceback": [
      "\u001b[1;31m---------------------------------------------------------------------------\u001b[0m",
      "\u001b[1;31mKeyboardInterrupt\u001b[0m                         Traceback (most recent call last)",
      "Cell \u001b[1;32mIn[95], line 3\u001b[0m\n\u001b[0;32m      1\u001b[0m embedding_index \u001b[38;5;241m=\u001b[39m {}\n\u001b[0;32m      2\u001b[0m \u001b[38;5;28;01mwith\u001b[39;00m \u001b[38;5;28mopen\u001b[39m(\u001b[38;5;124m\"\u001b[39m\u001b[38;5;124mglove.6B.300d.txt\u001b[39m\u001b[38;5;124m\"\u001b[39m, encoding\u001b[38;5;241m=\u001b[39m\u001b[38;5;124m\"\u001b[39m\u001b[38;5;124mutf8\u001b[39m\u001b[38;5;124m\"\u001b[39m) \u001b[38;5;28;01mas\u001b[39;00m f:\n\u001b[1;32m----> 3\u001b[0m     \u001b[38;5;28;01mfor\u001b[39;00m line \u001b[38;5;129;01min\u001b[39;00m f:\n\u001b[0;32m      4\u001b[0m         values \u001b[38;5;241m=\u001b[39m line\u001b[38;5;241m.\u001b[39msplit()\n\u001b[0;32m      5\u001b[0m         word \u001b[38;5;241m=\u001b[39m values[\u001b[38;5;241m0\u001b[39m]\n",
      "File \u001b[1;32m~\\AppData\\Local\\Programs\\Python\\Python310\\lib\\codecs.py:319\u001b[0m, in \u001b[0;36mBufferedIncrementalDecoder.decode\u001b[1;34m(self, input, final)\u001b[0m\n\u001b[0;32m    314\u001b[0m \u001b[38;5;28;01mdef\u001b[39;00m\u001b[38;5;250m \u001b[39m\u001b[38;5;21m_buffer_decode\u001b[39m(\u001b[38;5;28mself\u001b[39m, \u001b[38;5;28minput\u001b[39m, errors, final):\n\u001b[0;32m    315\u001b[0m     \u001b[38;5;66;03m# Overwrite this method in subclasses: It must decode input\u001b[39;00m\n\u001b[0;32m    316\u001b[0m     \u001b[38;5;66;03m# and return an (output, length consumed) tuple\u001b[39;00m\n\u001b[0;32m    317\u001b[0m     \u001b[38;5;28;01mraise\u001b[39;00m \u001b[38;5;167;01mNotImplementedError\u001b[39;00m\n\u001b[1;32m--> 319\u001b[0m \u001b[38;5;28;01mdef\u001b[39;00m\u001b[38;5;250m \u001b[39m\u001b[38;5;21mdecode\u001b[39m(\u001b[38;5;28mself\u001b[39m, \u001b[38;5;28minput\u001b[39m, final\u001b[38;5;241m=\u001b[39m\u001b[38;5;28;01mFalse\u001b[39;00m):\n\u001b[0;32m    320\u001b[0m     \u001b[38;5;66;03m# decode input (taking the buffer into account)\u001b[39;00m\n\u001b[0;32m    321\u001b[0m     data \u001b[38;5;241m=\u001b[39m \u001b[38;5;28mself\u001b[39m\u001b[38;5;241m.\u001b[39mbuffer \u001b[38;5;241m+\u001b[39m \u001b[38;5;28minput\u001b[39m\n\u001b[0;32m    322\u001b[0m     (result, consumed) \u001b[38;5;241m=\u001b[39m \u001b[38;5;28mself\u001b[39m\u001b[38;5;241m.\u001b[39m_buffer_decode(data, \u001b[38;5;28mself\u001b[39m\u001b[38;5;241m.\u001b[39merrors, final)\n",
      "\u001b[1;31mKeyboardInterrupt\u001b[0m: "
     ]
    }
   ],
   "source": [
    "embedding_index = {}\n",
    "with open(\"glove.6B.300d.txt\", encoding=\"utf8\") as f:\n",
    "    for line in f:\n",
    "        values = line.split()\n",
    "        word = values[0]\n",
    "        vector = np.asarray(values[1:], dtype=\"float32\")\n",
    "        embedding_index[word] = vector\n",
    "\n",
    "print(\"Найдено векторов:\", len(embedding_index))\n"
   ]
  },
  {
   "cell_type": "code",
   "execution_count": null,
   "id": "114d6154",
   "metadata": {},
   "outputs": [],
   "source": [
    "def preprocessing(text): # без этого результат намного хуже\n",
    "     text = text.lower()\n",
    "     text = re.sub('[^a-zA-Z]', ' ', text)\n",
    "     text = re.sub('\\s+', ' ', text)\n",
    "     text = re.sub(r'https?://\\S+|www\\.\\S+|[^a-zA-Z\\s]', '', text)\n",
    "     text = re.sub(r'<.*?>', '', text)\n",
    "     return text \n",
    "\n",
    "vectorized = np.vectorize(preprocessing)\n",
    "x_train = vectorized(X_train)\n",
    "x_test = vectorized(X_test)\n",
    "x_val = vectorized(X_val)"
   ]
  },
  {
   "cell_type": "code",
   "execution_count": null,
   "id": "9e25e454",
   "metadata": {},
   "outputs": [],
   "source": [
    "tokenizer = Tokenizer()\n",
    "tokenizer.fit_on_texts(X_train)\n",
    "\n",
    "embedding_matrix = np.zeros((vocab_size, embedding_dim))\n",
    "for word, i in tokenizer.word_index.items():\n",
    "    if i < vocab_size:\n",
    "        vec = embedding_index.get(word)\n",
    "        if vec is not None:\n",
    "            embedding_matrix[i] = vec\n"
   ]
  },
  {
   "cell_type": "code",
   "execution_count": null,
   "id": "d38c2141",
   "metadata": {},
   "outputs": [
    {
     "data": {
      "text/html": [
       "<pre style=\"white-space:pre;overflow-x:auto;line-height:normal;font-family:Menlo,'DejaVu Sans Mono',consolas,'Courier New',monospace\"><span style=\"font-weight: bold\">Model: \"sequential_4\"</span>\n",
       "</pre>\n"
      ],
      "text/plain": [
       "\u001b[1mModel: \"sequential_4\"\u001b[0m\n"
      ]
     },
     "metadata": {},
     "output_type": "display_data"
    },
    {
     "data": {
      "text/html": [
       "<pre style=\"white-space:pre;overflow-x:auto;line-height:normal;font-family:Menlo,'DejaVu Sans Mono',consolas,'Courier New',monospace\">┏━━━━━━━━━━━━━━━━━━━━━━━━━━━━━━━━━┳━━━━━━━━━━━━━━━━━━━━━━━━┳━━━━━━━━━━━━━━━┓\n",
       "┃<span style=\"font-weight: bold\"> Layer (type)                    </span>┃<span style=\"font-weight: bold\"> Output Shape           </span>┃<span style=\"font-weight: bold\">       Param # </span>┃\n",
       "┡━━━━━━━━━━━━━━━━━━━━━━━━━━━━━━━━━╇━━━━━━━━━━━━━━━━━━━━━━━━╇━━━━━━━━━━━━━━━┩\n",
       "│ embedding_4 (<span style=\"color: #0087ff; text-decoration-color: #0087ff\">Embedding</span>)         │ (<span style=\"color: #00d7ff; text-decoration-color: #00d7ff\">None</span>, <span style=\"color: #00af00; text-decoration-color: #00af00\">35</span>, <span style=\"color: #00af00; text-decoration-color: #00af00\">300</span>)        │     <span style=\"color: #00af00; text-decoration-color: #00af00\">5,582,700</span> │\n",
       "├─────────────────────────────────┼────────────────────────┼───────────────┤\n",
       "│ bidirectional_8 (<span style=\"color: #0087ff; text-decoration-color: #0087ff\">Bidirectional</span>) │ (<span style=\"color: #00d7ff; text-decoration-color: #00d7ff\">None</span>, <span style=\"color: #00af00; text-decoration-color: #00af00\">35</span>, <span style=\"color: #00af00; text-decoration-color: #00af00\">256</span>)        │       <span style=\"color: #00af00; text-decoration-color: #00af00\">109,824</span> │\n",
       "├─────────────────────────────────┼────────────────────────┼───────────────┤\n",
       "│ bidirectional_9 (<span style=\"color: #0087ff; text-decoration-color: #0087ff\">Bidirectional</span>) │ (<span style=\"color: #00d7ff; text-decoration-color: #00d7ff\">None</span>, <span style=\"color: #00af00; text-decoration-color: #00af00\">128</span>)            │        <span style=\"color: #00af00; text-decoration-color: #00af00\">41,088</span> │\n",
       "├─────────────────────────────────┼────────────────────────┼───────────────┤\n",
       "│ dropout_8 (<span style=\"color: #0087ff; text-decoration-color: #0087ff\">Dropout</span>)             │ (<span style=\"color: #00d7ff; text-decoration-color: #00d7ff\">None</span>, <span style=\"color: #00af00; text-decoration-color: #00af00\">128</span>)            │             <span style=\"color: #00af00; text-decoration-color: #00af00\">0</span> │\n",
       "├─────────────────────────────────┼────────────────────────┼───────────────┤\n",
       "│ dense_8 (<span style=\"color: #0087ff; text-decoration-color: #0087ff\">Dense</span>)                 │ (<span style=\"color: #00d7ff; text-decoration-color: #00d7ff\">None</span>, <span style=\"color: #00af00; text-decoration-color: #00af00\">256</span>)            │        <span style=\"color: #00af00; text-decoration-color: #00af00\">33,024</span> │\n",
       "├─────────────────────────────────┼────────────────────────┼───────────────┤\n",
       "│ dropout_9 (<span style=\"color: #0087ff; text-decoration-color: #0087ff\">Dropout</span>)             │ (<span style=\"color: #00d7ff; text-decoration-color: #00d7ff\">None</span>, <span style=\"color: #00af00; text-decoration-color: #00af00\">256</span>)            │             <span style=\"color: #00af00; text-decoration-color: #00af00\">0</span> │\n",
       "├─────────────────────────────────┼────────────────────────┼───────────────┤\n",
       "│ dense_9 (<span style=\"color: #0087ff; text-decoration-color: #0087ff\">Dense</span>)                 │ (<span style=\"color: #00d7ff; text-decoration-color: #00d7ff\">None</span>, <span style=\"color: #00af00; text-decoration-color: #00af00\">1</span>)              │           <span style=\"color: #00af00; text-decoration-color: #00af00\">257</span> │\n",
       "└─────────────────────────────────┴────────────────────────┴───────────────┘\n",
       "</pre>\n"
      ],
      "text/plain": [
       "┏━━━━━━━━━━━━━━━━━━━━━━━━━━━━━━━━━┳━━━━━━━━━━━━━━━━━━━━━━━━┳━━━━━━━━━━━━━━━┓\n",
       "┃\u001b[1m \u001b[0m\u001b[1mLayer (type)                   \u001b[0m\u001b[1m \u001b[0m┃\u001b[1m \u001b[0m\u001b[1mOutput Shape          \u001b[0m\u001b[1m \u001b[0m┃\u001b[1m \u001b[0m\u001b[1m      Param #\u001b[0m\u001b[1m \u001b[0m┃\n",
       "┡━━━━━━━━━━━━━━━━━━━━━━━━━━━━━━━━━╇━━━━━━━━━━━━━━━━━━━━━━━━╇━━━━━━━━━━━━━━━┩\n",
       "│ embedding_4 (\u001b[38;5;33mEmbedding\u001b[0m)         │ (\u001b[38;5;45mNone\u001b[0m, \u001b[38;5;34m35\u001b[0m, \u001b[38;5;34m300\u001b[0m)        │     \u001b[38;5;34m5,582,700\u001b[0m │\n",
       "├─────────────────────────────────┼────────────────────────┼───────────────┤\n",
       "│ bidirectional_8 (\u001b[38;5;33mBidirectional\u001b[0m) │ (\u001b[38;5;45mNone\u001b[0m, \u001b[38;5;34m35\u001b[0m, \u001b[38;5;34m256\u001b[0m)        │       \u001b[38;5;34m109,824\u001b[0m │\n",
       "├─────────────────────────────────┼────────────────────────┼───────────────┤\n",
       "│ bidirectional_9 (\u001b[38;5;33mBidirectional\u001b[0m) │ (\u001b[38;5;45mNone\u001b[0m, \u001b[38;5;34m128\u001b[0m)            │        \u001b[38;5;34m41,088\u001b[0m │\n",
       "├─────────────────────────────────┼────────────────────────┼───────────────┤\n",
       "│ dropout_8 (\u001b[38;5;33mDropout\u001b[0m)             │ (\u001b[38;5;45mNone\u001b[0m, \u001b[38;5;34m128\u001b[0m)            │             \u001b[38;5;34m0\u001b[0m │\n",
       "├─────────────────────────────────┼────────────────────────┼───────────────┤\n",
       "│ dense_8 (\u001b[38;5;33mDense\u001b[0m)                 │ (\u001b[38;5;45mNone\u001b[0m, \u001b[38;5;34m256\u001b[0m)            │        \u001b[38;5;34m33,024\u001b[0m │\n",
       "├─────────────────────────────────┼────────────────────────┼───────────────┤\n",
       "│ dropout_9 (\u001b[38;5;33mDropout\u001b[0m)             │ (\u001b[38;5;45mNone\u001b[0m, \u001b[38;5;34m256\u001b[0m)            │             \u001b[38;5;34m0\u001b[0m │\n",
       "├─────────────────────────────────┼────────────────────────┼───────────────┤\n",
       "│ dense_9 (\u001b[38;5;33mDense\u001b[0m)                 │ (\u001b[38;5;45mNone\u001b[0m, \u001b[38;5;34m1\u001b[0m)              │           \u001b[38;5;34m257\u001b[0m │\n",
       "└─────────────────────────────────┴────────────────────────┴───────────────┘\n"
      ]
     },
     "metadata": {},
     "output_type": "display_data"
    },
    {
     "data": {
      "text/html": [
       "<pre style=\"white-space:pre;overflow-x:auto;line-height:normal;font-family:Menlo,'DejaVu Sans Mono',consolas,'Courier New',monospace\"><span style=\"font-weight: bold\"> Total params: </span><span style=\"color: #00af00; text-decoration-color: #00af00\">5,766,893</span> (22.00 MB)\n",
       "</pre>\n"
      ],
      "text/plain": [
       "\u001b[1m Total params: \u001b[0m\u001b[38;5;34m5,766,893\u001b[0m (22.00 MB)\n"
      ]
     },
     "metadata": {},
     "output_type": "display_data"
    },
    {
     "data": {
      "text/html": [
       "<pre style=\"white-space:pre;overflow-x:auto;line-height:normal;font-family:Menlo,'DejaVu Sans Mono',consolas,'Courier New',monospace\"><span style=\"font-weight: bold\"> Trainable params: </span><span style=\"color: #00af00; text-decoration-color: #00af00\">184,193</span> (719.50 KB)\n",
       "</pre>\n"
      ],
      "text/plain": [
       "\u001b[1m Trainable params: \u001b[0m\u001b[38;5;34m184,193\u001b[0m (719.50 KB)\n"
      ]
     },
     "metadata": {},
     "output_type": "display_data"
    },
    {
     "data": {
      "text/html": [
       "<pre style=\"white-space:pre;overflow-x:auto;line-height:normal;font-family:Menlo,'DejaVu Sans Mono',consolas,'Courier New',monospace\"><span style=\"font-weight: bold\"> Non-trainable params: </span><span style=\"color: #00af00; text-decoration-color: #00af00\">5,582,700</span> (21.30 MB)\n",
       "</pre>\n"
      ],
      "text/plain": [
       "\u001b[1m Non-trainable params: \u001b[0m\u001b[38;5;34m5,582,700\u001b[0m (21.30 MB)\n"
      ]
     },
     "metadata": {},
     "output_type": "display_data"
    },
    {
     "name": "stdout",
     "output_type": "stream",
     "text": [
      "Epoch 1/10\n",
      "\u001b[1m1123/1123\u001b[0m \u001b[32m━━━━━━━━━━━━━━━━━━━━\u001b[0m\u001b[37m\u001b[0m \u001b[1m14s\u001b[0m 10ms/step - accuracy: 0.8309 - loss: 0.3689 - val_accuracy: 0.8396 - val_loss: 0.3564 - learning_rate: 0.0010\n",
      "Epoch 2/10\n",
      "\u001b[1m1123/1123\u001b[0m \u001b[32m━━━━━━━━━━━━━━━━━━━━\u001b[0m\u001b[37m\u001b[0m \u001b[1m11s\u001b[0m 9ms/step - accuracy: 0.8675 - loss: 0.2976 - val_accuracy: 0.8265 - val_loss: 0.3828 - learning_rate: 0.0010\n",
      "Epoch 3/10\n",
      "\u001b[1m1123/1123\u001b[0m \u001b[32m━━━━━━━━━━━━━━━━━━━━\u001b[0m\u001b[37m\u001b[0m \u001b[1m11s\u001b[0m 10ms/step - accuracy: 0.9065 - loss: 0.2209 - val_accuracy: 0.8800 - val_loss: 0.2678 - learning_rate: 2.0000e-04\n",
      "Epoch 4/10\n",
      "\u001b[1m1123/1123\u001b[0m \u001b[32m━━━━━━━━━━━━━━━━━━━━\u001b[0m\u001b[37m\u001b[0m \u001b[1m10s\u001b[0m 9ms/step - accuracy: 0.9242 - loss: 0.1824 - val_accuracy: 0.8846 - val_loss: 0.2668 - learning_rate: 2.0000e-04\n",
      "Epoch 5/10\n",
      "\u001b[1m1123/1123\u001b[0m \u001b[32m━━━━━━━━━━━━━━━━━━━━\u001b[0m\u001b[37m\u001b[0m \u001b[1m11s\u001b[0m 9ms/step - accuracy: 0.9373 - loss: 0.1528 - val_accuracy: 0.8884 - val_loss: 0.2767 - learning_rate: 2.0000e-04\n",
      "Epoch 6/10\n",
      "\u001b[1m1123/1123\u001b[0m \u001b[32m━━━━━━━━━━━━━━━━━━━━\u001b[0m\u001b[37m\u001b[0m \u001b[1m10s\u001b[0m 9ms/step - accuracy: 0.9556 - loss: 0.1154 - val_accuracy: 0.8824 - val_loss: 0.3268 - learning_rate: 4.0000e-05\n"
     ]
    }
   ],
   "source": [
    "epochs = 10\n",
    "lr = 1e-3\n",
    "embedding_dim = 300\n",
    "\n",
    "model = Sequential([\n",
    "    Input(shape=(max_length,)),\n",
    "    Embedding(\n",
    "        input_dim=vocab_size,\n",
    "        output_dim=embedding_dim,\n",
    "        weights=[embedding_matrix],\n",
    "        input_length=max_length,\n",
    "        trainable=False\n",
    "    ),\n",
    "    Bidirectional(SimpleRNN(128, return_sequences=True)),\n",
    "    Bidirectional(SimpleRNN(64)),\n",
    "    Dropout(0.2),\n",
    "    Dense(256, activation='relu'),\n",
    "    Dropout(0.5),\n",
    "    Dense(1, activation='sigmoid')\n",
    "])\n",
    "\n",
    "model.compile(\n",
    "    optimizer=Adam(learning_rate=lr),\n",
    "    loss=BinaryCrossentropy(),\n",
    "    metrics=[\"accuracy\"]\n",
    ")\n",
    "\n",
    "model.summary()\n",
    "\n",
    "model_es = EarlyStopping(monitor = 'val_loss', mode = 'min', patience = 2, restore_best_weights = True)\n",
    "model_rlr = ReduceLROnPlateau(monitor = 'val_loss', factor = 0.2, patience = 1, mode = 'min')\n",
    "\n",
    "\n",
    "history = model.fit(train_seq, y_train, epochs = epochs, \n",
    "                    validation_data = (val_seq , y_val), callbacks = [model_es, model_rlr])"
   ]
  },
  {
   "cell_type": "code",
   "execution_count": null,
   "id": "574f02af",
   "metadata": {},
   "outputs": [
    {
     "name": "stdout",
     "output_type": "stream",
     "text": [
      "Train Accuracy : 94.52 %\n",
      "Test Accuracy  : 87.73 %\n",
      "Classification Report (Train) : \n",
      "\n",
      "              precision    recall  f1-score   support\n",
      "\n",
      "           0       0.96      0.94      0.95     18784\n",
      "           1       0.93      0.96      0.94     17133\n",
      "\n",
      "    accuracy                           0.95     35917\n",
      "   macro avg       0.94      0.95      0.95     35917\n",
      "weighted avg       0.95      0.95      0.95     35917\n",
      "\n",
      "----------------------------------------\n",
      "\n",
      "Classification Report (Test)  : \n",
      "\n",
      "              precision    recall  f1-score   support\n",
      "\n",
      "           0       0.91      0.85      0.88      2357\n",
      "           1       0.84      0.91      0.88      2134\n",
      "\n",
      "    accuracy                           0.88      4491\n",
      "   macro avg       0.88      0.88      0.88      4491\n",
      "weighted avg       0.88      0.88      0.88      4491\n",
      "\n"
     ]
    }
   ],
   "source": [
    "y_pred_train = np.round(model.predict(train_seq, verbose = 0))\n",
    "y_pred_test = np.round(model.predict(test_seq, verbose = 0))\n",
    "\n",
    "\n",
    "print(f'Train Accuracy : {accuracy_score(y_train, y_pred_train) * 100:.2f} %')\n",
    "print(f'Test Accuracy  : {accuracy_score(y_test, y_pred_test) * 100:.2f} %')\n",
    "\n",
    "print(f'Classification Report (Train) : \\n\\n{classification_report(y_train, y_pred_train)}')\n",
    "print(40*'-')\n",
    "print(f'\\nClassification Report (Test)  : \\n\\n{classification_report(y_test, y_pred_test)}')"
   ]
  },
  {
   "cell_type": "code",
   "execution_count": null,
   "id": "47b3eec5",
   "metadata": {},
   "outputs": [
    {
     "data": {
      "image/png": "[encoded data removed]",
      "text/plain": [
       "<Figure size 1200x600 with 2 Axes>"
      ]
     },
     "metadata": {},
     "output_type": "display_data"
    }
   ],
   "source": [
    "plt.figure(figsize = (12, 6))\n",
    "\n",
    "plt.subplot(1, 2, 1)\n",
    "plt.plot(history.history['loss'], label = 'Training Loss')\n",
    "plt.plot(history.history['val_loss'], label = 'Validation Loss')\n",
    "plt.xlabel('Epoch')\n",
    "plt.ylabel('Loss')\n",
    "plt.title('Training and Validation Loss')\n",
    "plt.legend()\n",
    "\n",
    "plt.subplot(1, 2, 2)\n",
    "plt.plot(history.history['accuracy'], label = 'Training Accuracy')\n",
    "plt.plot(history.history['val_accuracy'], label = 'Validation Accuracy')\n",
    "plt.xlabel('Epoch')\n",
    "plt.ylabel('Accuracy')\n",
    "plt.title('Training and Validation Accuracy')\n",
    "plt.legend()\n",
    "\n",
    "plt.tight_layout()\n",
    "plt.show()"
   ]
  },
  {
   "cell_type": "markdown",
   "id": "1104bcfc",
   "metadata": {},
   "source": [
    "с новым пайплайном стало намного хуже"
   ]
  },
  {
   "cell_type": "markdown",
   "id": "06e892e8",
   "metadata": {},
   "source": [
    "## Предобученные эмбеддинги"
   ]
  },
  {
   "cell_type": "code",
   "execution_count": null,
   "id": "404d9899",
   "metadata": {},
   "outputs": [
    {
     "name": "stdout",
     "output_type": "stream",
     "text": [
      "Collecting sentence-transformers\n",
      "  Using cached sentence_transformers-5.1.1-py3-none-any.whl.metadata (16 kB)\n",
      "Collecting tf-keras\n",
      "  Using cached tf_keras-2.20.1-py3-none-any.whl.metadata (1.8 kB)\n",
      "Collecting transformers<5.0.0,>=4.41.0 (from sentence-transformers)\n",
      "  Using cached transformers-4.56.2-py3-none-any.whl.metadata (40 kB)\n",
      "Requirement already satisfied: tqdm in c:\\games\\textclassification\\.venv\\lib\\site-packages (from sentence-transformers) (4.67.1)\n",
      "Collecting torch>=1.11.0 (from sentence-transformers)\n",
      "  Using cached torch-2.8.0-cp310-cp310-win_amd64.whl.metadata (30 kB)\n",
      "Requirement already satisfied: scikit-learn in c:\\games\\textclassification\\.venv\\lib\\site-packages (from sentence-transformers) (1.7.2)\n",
      "Requirement already satisfied: scipy in c:\\games\\textclassification\\.venv\\lib\\site-packages (from sentence-transformers) (1.15.3)\n",
      "Collecting huggingface-hub>=0.20.0 (from sentence-transformers)\n",
      "  Using cached huggingface_hub-0.35.1-py3-none-any.whl.metadata (14 kB)\n",
      "Requirement already satisfied: Pillow in c:\\games\\textclassification\\.venv\\lib\\site-packages (from sentence-transformers) (11.3.0)\n",
      "Requirement already satisfied: typing_extensions>=4.5.0 in c:\\games\\textclassification\\.venv\\lib\\site-packages (from sentence-transformers) (4.15.0)\n",
      "Collecting filelock (from transformers<5.0.0,>=4.41.0->sentence-transformers)\n",
      "  Using cached filelock-3.19.1-py3-none-any.whl.metadata (2.1 kB)\n",
      "Requirement already satisfied: numpy>=1.17 in c:\\games\\textclassification\\.venv\\lib\\site-packages (from transformers<5.0.0,>=4.41.0->sentence-transformers) (2.2.6)\n",
      "Requirement already satisfied: packaging>=20.0 in c:\\games\\textclassification\\.venv\\lib\\site-packages (from transformers<5.0.0,>=4.41.0->sentence-transformers) (25.0)\n",
      "Collecting pyyaml>=5.1 (from transformers<5.0.0,>=4.41.0->sentence-transformers)\n",
      "  Using cached pyyaml-6.0.3-cp310-cp310-win_amd64.whl.metadata (2.4 kB)\n",
      "Requirement already satisfied: regex!=2019.12.17 in c:\\games\\textclassification\\.venv\\lib\\site-packages (from transformers<5.0.0,>=4.41.0->sentence-transformers) (2025.9.18)\n",
      "Requirement already satisfied: requests in c:\\games\\textclassification\\.venv\\lib\\site-packages (from transformers<5.0.0,>=4.41.0->sentence-transformers) (2.32.5)\n",
      "Collecting tokenizers<=0.23.0,>=0.22.0 (from transformers<5.0.0,>=4.41.0->sentence-transformers)\n",
      "  Using cached tokenizers-0.22.1-cp39-abi3-win_amd64.whl.metadata (6.9 kB)\n",
      "Collecting safetensors>=0.4.3 (from transformers<5.0.0,>=4.41.0->sentence-transformers)\n",
      "  Using cached safetensors-0.6.2-cp38-abi3-win_amd64.whl.metadata (4.1 kB)\n",
      "Collecting fsspec>=2023.5.0 (from huggingface-hub>=0.20.0->sentence-transformers)\n",
      "  Using cached fsspec-2025.9.0-py3-none-any.whl.metadata (10 kB)\n",
      "Requirement already satisfied: tensorflow<2.21,>=2.20 in c:\\games\\textclassification\\.venv\\lib\\site-packages (from tf-keras) (2.20.0)\n",
      "Requirement already satisfied: absl-py>=1.0.0 in c:\\games\\textclassification\\.venv\\lib\\site-packages (from tensorflow<2.21,>=2.20->tf-keras) (2.3.1)\n",
      "Requirement already satisfied: astunparse>=1.6.0 in c:\\games\\textclassification\\.venv\\lib\\site-packages (from tensorflow<2.21,>=2.20->tf-keras) (1.6.3)\n",
      "Requirement already satisfied: flatbuffers>=24.3.25 in c:\\games\\textclassification\\.venv\\lib\\site-packages (from tensorflow<2.21,>=2.20->tf-keras) (25.9.23)\n",
      "Requirement already satisfied: gast!=0.5.0,!=0.5.1,!=0.5.2,>=0.2.1 in c:\\games\\textclassification\\.venv\\lib\\site-packages (from tensorflow<2.21,>=2.20->tf-keras) (0.6.0)\n",
      "Requirement already satisfied: google_pasta>=0.1.1 in c:\\games\\textclassification\\.venv\\lib\\site-packages (from tensorflow<2.21,>=2.20->tf-keras) (0.2.0)\n",
      "Requirement already satisfied: libclang>=13.0.0 in c:\\games\\textclassification\\.venv\\lib\\site-packages (from tensorflow<2.21,>=2.20->tf-keras) (18.1.1)\n",
      "Requirement already satisfied: opt_einsum>=2.3.2 in c:\\games\\textclassification\\.venv\\lib\\site-packages (from tensorflow<2.21,>=2.20->tf-keras) (3.4.0)\n",
      "Requirement already satisfied: protobuf>=5.28.0 in c:\\games\\textclassification\\.venv\\lib\\site-packages (from tensorflow<2.21,>=2.20->tf-keras) (6.32.1)\n",
      "Requirement already satisfied: setuptools in c:\\games\\textclassification\\.venv\\lib\\site-packages (from tensorflow<2.21,>=2.20->tf-keras) (57.4.0)\n",
      "Requirement already satisfied: six>=1.12.0 in c:\\games\\textclassification\\.venv\\lib\\site-packages (from tensorflow<2.21,>=2.20->tf-keras) (1.17.0)\n",
      "Requirement already satisfied: termcolor>=1.1.0 in c:\\games\\textclassification\\.venv\\lib\\site-packages (from tensorflow<2.21,>=2.20->tf-keras) (3.1.0)\n",
      "Requirement already satisfied: wrapt>=1.11.0 in c:\\games\\textclassification\\.venv\\lib\\site-packages (from tensorflow<2.21,>=2.20->tf-keras) (1.17.3)\n",
      "Requirement already satisfied: grpcio<2.0,>=1.24.3 in c:\\games\\textclassification\\.venv\\lib\\site-packages (from tensorflow<2.21,>=2.20->tf-keras) (1.75.1)\n",
      "Requirement already satisfied: tensorboard~=2.20.0 in c:\\games\\textclassification\\.venv\\lib\\site-packages (from tensorflow<2.21,>=2.20->tf-keras) (2.20.0)\n",
      "Requirement already satisfied: keras>=3.10.0 in c:\\games\\textclassification\\.venv\\lib\\site-packages (from tensorflow<2.21,>=2.20->tf-keras) (3.11.3)\n",
      "Requirement already satisfied: h5py>=3.11.0 in c:\\games\\textclassification\\.venv\\lib\\site-packages (from tensorflow<2.21,>=2.20->tf-keras) (3.14.0)\n",
      "Requirement already satisfied: ml_dtypes<1.0.0,>=0.5.1 in c:\\games\\textclassification\\.venv\\lib\\site-packages (from tensorflow<2.21,>=2.20->tf-keras) (0.5.3)\n",
      "Requirement already satisfied: charset_normalizer<4,>=2 in c:\\games\\textclassification\\.venv\\lib\\site-packages (from requests->transformers<5.0.0,>=4.41.0->sentence-transformers) (3.4.3)\n",
      "Requirement already satisfied: idna<4,>=2.5 in c:\\games\\textclassification\\.venv\\lib\\site-packages (from requests->transformers<5.0.0,>=4.41.0->sentence-transformers) (3.10)\n",
      "Requirement already satisfied: urllib3<3,>=1.21.1 in c:\\games\\textclassification\\.venv\\lib\\site-packages (from requests->transformers<5.0.0,>=4.41.0->sentence-transformers) (2.5.0)\n",
      "Requirement already satisfied: certifi>=2017.4.17 in c:\\games\\textclassification\\.venv\\lib\\site-packages (from requests->transformers<5.0.0,>=4.41.0->sentence-transformers) (2025.8.3)\n",
      "Requirement already satisfied: markdown>=2.6.8 in c:\\games\\textclassification\\.venv\\lib\\site-packages (from tensorboard~=2.20.0->tensorflow<2.21,>=2.20->tf-keras) (3.9)\n",
      "Requirement already satisfied: tensorboard-data-server<0.8.0,>=0.7.0 in c:\\games\\textclassification\\.venv\\lib\\site-packages (from tensorboard~=2.20.0->tensorflow<2.21,>=2.20->tf-keras) (0.7.2)\n",
      "Requirement already satisfied: werkzeug>=1.0.1 in c:\\games\\textclassification\\.venv\\lib\\site-packages (from tensorboard~=2.20.0->tensorflow<2.21,>=2.20->tf-keras) (3.1.3)\n",
      "Requirement already satisfied: wheel<1.0,>=0.23.0 in c:\\games\\textclassification\\.venv\\lib\\site-packages (from astunparse>=1.6.0->tensorflow<2.21,>=2.20->tf-keras) (0.45.1)\n",
      "Requirement already satisfied: rich in c:\\games\\textclassification\\.venv\\lib\\site-packages (from keras>=3.10.0->tensorflow<2.21,>=2.20->tf-keras) (14.1.0)\n",
      "Requirement already satisfied: namex in c:\\games\\textclassification\\.venv\\lib\\site-packages (from keras>=3.10.0->tensorflow<2.21,>=2.20->tf-keras) (0.1.0)\n",
      "Requirement already satisfied: optree in c:\\games\\textclassification\\.venv\\lib\\site-packages (from keras>=3.10.0->tensorflow<2.21,>=2.20->tf-keras) (0.17.0)\n",
      "Collecting sympy>=1.13.3 (from torch>=1.11.0->sentence-transformers)\n",
      "  Using cached sympy-1.14.0-py3-none-any.whl.metadata (12 kB)\n",
      "Collecting networkx (from torch>=1.11.0->sentence-transformers)\n",
      "  Using cached networkx-3.4.2-py3-none-any.whl.metadata (6.3 kB)\n",
      "Collecting jinja2 (from torch>=1.11.0->sentence-transformers)\n",
      "  Using cached jinja2-3.1.6-py3-none-any.whl.metadata (2.9 kB)\n",
      "Collecting mpmath<1.4,>=1.1.0 (from sympy>=1.13.3->torch>=1.11.0->sentence-transformers)\n",
      "  Using cached mpmath-1.3.0-py3-none-any.whl.metadata (8.6 kB)\n",
      "Requirement already satisfied: colorama in c:\\games\\textclassification\\.venv\\lib\\site-packages (from tqdm->sentence-transformers) (0.4.6)\n",
      "Requirement already satisfied: MarkupSafe>=2.1.1 in c:\\games\\textclassification\\.venv\\lib\\site-packages (from werkzeug>=1.0.1->tensorboard~=2.20.0->tensorflow<2.21,>=2.20->tf-keras) (3.0.2)\n",
      "Requirement already satisfied: markdown-it-py>=2.2.0 in c:\\games\\textclassification\\.venv\\lib\\site-packages (from rich->keras>=3.10.0->tensorflow<2.21,>=2.20->tf-keras) (4.0.0)\n",
      "Requirement already satisfied: pygments<3.0.0,>=2.13.0 in c:\\games\\textclassification\\.venv\\lib\\site-packages (from rich->keras>=3.10.0->tensorflow<2.21,>=2.20->tf-keras) (2.19.2)\n",
      "Requirement already satisfied: mdurl~=0.1 in c:\\games\\textclassification\\.venv\\lib\\site-packages (from markdown-it-py>=2.2.0->rich->keras>=3.10.0->tensorflow<2.21,>=2.20->tf-keras) (0.1.2)\n",
      "Requirement already satisfied: joblib>=1.2.0 in c:\\games\\textclassification\\.venv\\lib\\site-packages (from scikit-learn->sentence-transformers) (1.5.2)\n",
      "Requirement already satisfied: threadpoolctl>=3.1.0 in c:\\games\\textclassification\\.venv\\lib\\site-packages (from scikit-learn->sentence-transformers) (3.6.0)\n",
      "Using cached sentence_transformers-5.1.1-py3-none-any.whl (486 kB)\n",
      "Using cached transformers-4.56.2-py3-none-any.whl (11.6 MB)\n",
      "Using cached huggingface_hub-0.35.1-py3-none-any.whl (563 kB)\n",
      "Using cached tokenizers-0.22.1-cp39-abi3-win_amd64.whl (2.7 MB)\n",
      "Using cached tf_keras-2.20.1-py3-none-any.whl (1.7 MB)\n",
      "Using cached fsspec-2025.9.0-py3-none-any.whl (199 kB)\n",
      "Using cached pyyaml-6.0.3-cp310-cp310-win_amd64.whl (158 kB)\n",
      "Using cached safetensors-0.6.2-cp38-abi3-win_amd64.whl (320 kB)\n",
      "Using cached torch-2.8.0-cp310-cp310-win_amd64.whl (241.4 MB)\n",
      "Using cached sympy-1.14.0-py3-none-any.whl (6.3 MB)\n",
      "Using cached mpmath-1.3.0-py3-none-any.whl (536 kB)\n",
      "Using cached filelock-3.19.1-py3-none-any.whl (15 kB)\n",
      "Using cached jinja2-3.1.6-py3-none-any.whl (134 kB)\n",
      "Using cached networkx-3.4.2-py3-none-any.whl (1.7 MB)\n",
      "Installing collected packages: mpmath, sympy, safetensors, pyyaml, networkx, jinja2, fsspec, filelock, torch, huggingface-hub, tokenizers, transformers, tf-keras, sentence-transformers\n",
      "\n",
      "   ----------------------------------------  0/14 [mpmath]\n",
      "   ----------------------------------------  0/14 [mpmath]\n",
      "   ----------------------------------------  0/14 [mpmath]\n",
      "   ----------------------------------------  0/14 [mpmath]\n",
      "   ----------------------------------------  0/14 [mpmath]\n",
      "   ----------------------------------------  0/14 [mpmath]\n",
      "   ----------------------------------------  0/14 [mpmath]\n",
      "   -- -------------------------------------  1/14 [sympy]\n",
      "   -- -------------------------------------  1/14 [sympy]\n",
      "   -- -------------------------------------  1/14 [sympy]\n",
      "   -- -------------------------------------  1/14 [sympy]\n",
      "   -- -------------------------------------  1/14 [sympy]\n",
      "   -- -------------------------------------  1/14 [sympy]\n",
      "   -- -------------------------------------  1/14 [sympy]\n",
      "   -- -------------------------------------  1/14 [sympy]\n",
      "   -- -------------------------------------  1/14 [sympy]\n",
      "   -- -------------------------------------  1/14 [sympy]\n",
      "   -- -------------------------------------  1/14 [sympy]\n",
      "   -- -------------------------------------  1/14 [sympy]\n",
      "   -- -------------------------------------  1/14 [sympy]\n",
      "   -- -------------------------------------  1/14 [sympy]\n",
      "   -- -------------------------------------  1/14 [sympy]\n",
      "   -- -------------------------------------  1/14 [sympy]\n",
      "   -- -------------------------------------  1/14 [sympy]\n",
      "   -- -------------------------------------  1/14 [sympy]\n",
      "   -- -------------------------------------  1/14 [sympy]\n",
      "   -- -------------------------------------  1/14 [sympy]\n",
      "   -- -------------------------------------  1/14 [sympy]\n",
      "   -- -------------------------------------  1/14 [sympy]\n",
      "   -- -------------------------------------  1/14 [sympy]\n",
      "   -- -------------------------------------  1/14 [sympy]\n",
      "   -- -------------------------------------  1/14 [sympy]\n",
      "   -- -------------------------------------  1/14 [sympy]\n",
      "   -- -------------------------------------  1/14 [sympy]\n",
      "   -- -------------------------------------  1/14 [sympy]\n",
      "   -- -------------------------------------  1/14 [sympy]\n",
      "   -- -------------------------------------  1/14 [sympy]\n",
      "   -- -------------------------------------  1/14 [sympy]\n",
      "   -- -------------------------------------  1/14 [sympy]\n",
      "   -- -------------------------------------  1/14 [sympy]\n",
      "   -- -------------------------------------  1/14 [sympy]\n",
      "   -- -------------------------------------  1/14 [sympy]\n",
      "   -- -------------------------------------  1/14 [sympy]\n",
      "   -- -------------------------------------  1/14 [sympy]\n",
      "   -- -------------------------------------  1/14 [sympy]\n",
      "   -- -------------------------------------  1/14 [sympy]\n",
      "   -- -------------------------------------  1/14 [sympy]\n",
      "   -- -------------------------------------  1/14 [sympy]\n",
      "   -- -------------------------------------  1/14 [sympy]\n",
      "   -- -------------------------------------  1/14 [sympy]\n",
      "   -- -------------------------------------  1/14 [sympy]\n",
      "   -- -------------------------------------  1/14 [sympy]\n",
      "   -- -------------------------------------  1/14 [sympy]\n",
      "   -- -------------------------------------  1/14 [sympy]\n",
      "   -- -------------------------------------  1/14 [sympy]\n",
      "   -- -------------------------------------  1/14 [sympy]\n",
      "   -- -------------------------------------  1/14 [sympy]\n",
      "   -- -------------------------------------  1/14 [sympy]\n",
      "   -- -------------------------------------  1/14 [sympy]\n",
      "   -- -------------------------------------  1/14 [sympy]\n",
      "   -- -------------------------------------  1/14 [sympy]\n",
      "   -- -------------------------------------  1/14 [sympy]\n",
      "   -- -------------------------------------  1/14 [sympy]\n",
      "   -- -------------------------------------  1/14 [sympy]\n",
      "   -- -------------------------------------  1/14 [sympy]\n",
      "   -- -------------------------------------  1/14 [sympy]\n",
      "   -- -------------------------------------  1/14 [sympy]\n",
      "   -- -------------------------------------  1/14 [sympy]\n",
      "   -- -------------------------------------  1/14 [sympy]\n",
      "   -- -------------------------------------  1/14 [sympy]\n",
      "   -- -------------------------------------  1/14 [sympy]\n",
      "   -- -------------------------------------  1/14 [sympy]\n",
      "   -- -------------------------------------  1/14 [sympy]\n",
      "   -- -------------------------------------  1/14 [sympy]\n",
      "   -- -------------------------------------  1/14 [sympy]\n",
      "   -- -------------------------------------  1/14 [sympy]\n",
      "   -- -------------------------------------  1/14 [sympy]\n",
      "   -- -------------------------------------  1/14 [sympy]\n",
      "   -- -------------------------------------  1/14 [sympy]\n",
      "   -- -------------------------------------  1/14 [sympy]\n",
      "   -- -------------------------------------  1/14 [sympy]\n",
      "   -- -------------------------------------  1/14 [sympy]\n",
      "   -- -------------------------------------  1/14 [sympy]\n",
      "   -- -------------------------------------  1/14 [sympy]\n",
      "   -- -------------------------------------  1/14 [sympy]\n",
      "   -- -------------------------------------  1/14 [sympy]\n",
      "   -- -------------------------------------  1/14 [sympy]\n",
      "   -- -------------------------------------  1/14 [sympy]\n",
      "   -- -------------------------------------  1/14 [sympy]\n",
      "   -- -------------------------------------  1/14 [sympy]\n",
      "   -- -------------------------------------  1/14 [sympy]\n",
      "   -- -------------------------------------  1/14 [sympy]\n",
      "   -- -------------------------------------  1/14 [sympy]\n",
      "   -- -------------------------------------  1/14 [sympy]\n",
      "   -- -------------------------------------  1/14 [sympy]\n",
      "   -- -------------------------------------  1/14 [sympy]\n",
      "   -- -------------------------------------  1/14 [sympy]\n",
      "   -- -------------------------------------  1/14 [sympy]\n",
      "   -- -------------------------------------  1/14 [sympy]\n",
      "   -- -------------------------------------  1/14 [sympy]\n",
      "   -- -------------------------------------  1/14 [sympy]\n",
      "   -- -------------------------------------  1/14 [sympy]\n",
      "   -- -------------------------------------  1/14 [sympy]\n",
      "   -- -------------------------------------  1/14 [sympy]\n",
      "   -- -------------------------------------  1/14 [sympy]\n",
      "   -- -------------------------------------  1/14 [sympy]\n",
      "   -- -------------------------------------  1/14 [sympy]\n",
      "   -- -------------------------------------  1/14 [sympy]\n",
      "   -- -------------------------------------  1/14 [sympy]\n",
      "   -- -------------------------------------  1/14 [sympy]\n",
      "   -- -------------------------------------  1/14 [sympy]\n",
      "   -- -------------------------------------  1/14 [sympy]\n",
      "   -- -------------------------------------  1/14 [sympy]\n",
      "   -- -------------------------------------  1/14 [sympy]\n",
      "   -- -------------------------------------  1/14 [sympy]\n",
      "   -- -------------------------------------  1/14 [sympy]\n",
      "   -- -------------------------------------  1/14 [sympy]\n",
      "   -- -------------------------------------  1/14 [sympy]\n",
      "   -- -------------------------------------  1/14 [sympy]\n",
      "   -- -------------------------------------  1/14 [sympy]\n",
      "   -- -------------------------------------  1/14 [sympy]\n",
      "   -- -------------------------------------  1/14 [sympy]\n",
      "   -- -------------------------------------  1/14 [sympy]\n",
      "   -- -------------------------------------  1/14 [sympy]\n",
      "   -- -------------------------------------  1/14 [sympy]\n",
      "   -- -------------------------------------  1/14 [sympy]\n",
      "   -- -------------------------------------  1/14 [sympy]\n",
      "   -------- -------------------------------  3/14 [pyyaml]\n",
      "   ----------- ----------------------------  4/14 [networkx]\n",
      "   ----------- ----------------------------  4/14 [networkx]\n",
      "   ----------- ----------------------------  4/14 [networkx]\n",
      "   ----------- ----------------------------  4/14 [networkx]\n",
      "   ----------- ----------------------------  4/14 [networkx]\n",
      "   ----------- ----------------------------  4/14 [networkx]\n",
      "   ----------- ----------------------------  4/14 [networkx]\n",
      "   ----------- ----------------------------  4/14 [networkx]\n",
      "   ----------- ----------------------------  4/14 [networkx]\n",
      "   ----------- ----------------------------  4/14 [networkx]\n",
      "   ----------- ----------------------------  4/14 [networkx]\n",
      "   ----------- ----------------------------  4/14 [networkx]\n",
      "   ----------- ----------------------------  4/14 [networkx]\n",
      "   ----------- ----------------------------  4/14 [networkx]\n",
      "   ----------- ----------------------------  4/14 [networkx]\n",
      "   ----------- ----------------------------  4/14 [networkx]\n",
      "   ----------- ----------------------------  4/14 [networkx]\n",
      "   ----------- ----------------------------  4/14 [networkx]\n",
      "   ----------- ----------------------------  4/14 [networkx]\n",
      "   ----------- ----------------------------  4/14 [networkx]\n",
      "   ----------- ----------------------------  4/14 [networkx]\n",
      "   ----------- ----------------------------  4/14 [networkx]\n",
      "   ----------- ----------------------------  4/14 [networkx]\n",
      "   ----------- ----------------------------  4/14 [networkx]\n",
      "   ----------- ----------------------------  4/14 [networkx]\n",
      "   ----------- ----------------------------  4/14 [networkx]\n",
      "   ----------- ----------------------------  4/14 [networkx]\n",
      "   ----------- ----------------------------  4/14 [networkx]\n",
      "   ----------- ----------------------------  4/14 [networkx]\n",
      "   ----------- ----------------------------  4/14 [networkx]\n",
      "   ----------- ----------------------------  4/14 [networkx]\n",
      "   ----------- ----------------------------  4/14 [networkx]\n",
      "   ----------- ----------------------------  4/14 [networkx]\n",
      "   ----------- ----------------------------  4/14 [networkx]\n",
      "   ----------- ----------------------------  4/14 [networkx]\n",
      "   ----------- ----------------------------  4/14 [networkx]\n",
      "   ----------- ----------------------------  4/14 [networkx]\n",
      "   ----------- ----------------------------  4/14 [networkx]\n",
      "   -------------- -------------------------  5/14 [jinja2]\n",
      "   -------------- -------------------------  5/14 [jinja2]\n",
      "   ----------------- ----------------------  6/14 [fsspec]\n",
      "   ----------------- ----------------------  6/14 [fsspec]\n",
      "   ----------------- ----------------------  6/14 [fsspec]\n",
      "   ----------------- ----------------------  6/14 [fsspec]\n",
      "   ----------------- ----------------------  6/14 [fsspec]\n",
      "   -------------------- -------------------  7/14 [filelock]\n",
      "   ---------------------- -----------------  8/14 [torch]\n",
      "   ---------------------- -----------------  8/14 [torch]\n",
      "   ---------------------- -----------------  8/14 [torch]\n",
      "   ---------------------- -----------------  8/14 [torch]\n",
      "   ---------------------- -----------------  8/14 [torch]\n",
      "   ---------------------- -----------------  8/14 [torch]\n",
      "   ---------------------- -----------------  8/14 [torch]\n",
      "   ---------------------- -----------------  8/14 [torch]\n",
      "   ---------------------- -----------------  8/14 [torch]\n",
      "   ---------------------- -----------------  8/14 [torch]\n",
      "   ---------------------- -----------------  8/14 [torch]\n",
      "   ---------------------- -----------------  8/14 [torch]\n",
      "   ---------------------- -----------------  8/14 [torch]\n",
      "   ---------------------- -----------------  8/14 [torch]\n",
      "   ---------------------- -----------------  8/14 [torch]\n",
      "   ---------------------- -----------------  8/14 [torch]\n",
      "   ---------------------- -----------------  8/14 [torch]\n",
      "   ---------------------- -----------------  8/14 [torch]\n",
      "   ---------------------- -----------------  8/14 [torch]\n",
      "   ---------------------- -----------------  8/14 [torch]\n",
      "   ---------------------- -----------------  8/14 [torch]\n",
      "   ---------------------- -----------------  8/14 [torch]\n",
      "   ---------------------- -----------------  8/14 [torch]\n",
      "   ---------------------- -----------------  8/14 [torch]\n",
      "   ---------------------- -----------------  8/14 [torch]\n",
      "   ---------------------- -----------------  8/14 [torch]\n",
      "   ---------------------- -----------------  8/14 [torch]\n",
      "   ---------------------- -----------------  8/14 [torch]\n",
      "   ---------------------- -----------------  8/14 [torch]\n",
      "   ---------------------- -----------------  8/14 [torch]\n",
      "   ---------------------- -----------------  8/14 [torch]\n",
      "   ---------------------- -----------------  8/14 [torch]\n",
      "   ---------------------- -----------------  8/14 [torch]\n",
      "   ---------------------- -----------------  8/14 [torch]\n",
      "   ---------------------- -----------------  8/14 [torch]\n",
      "   ---------------------- -----------------  8/14 [torch]\n",
      "   ---------------------- -----------------  8/14 [torch]\n",
      "   ---------------------- -----------------  8/14 [torch]\n",
      "   ---------------------- -----------------  8/14 [torch]\n",
      "   ---------------------- -----------------  8/14 [torch]\n",
      "   ---------------------- -----------------  8/14 [torch]\n",
      "   ---------------------- -----------------  8/14 [torch]\n",
      "   ---------------------- -----------------  8/14 [torch]\n",
      "   ---------------------- -----------------  8/14 [torch]\n",
      "   ---------------------- -----------------  8/14 [torch]\n",
      "   ---------------------- -----------------  8/14 [torch]\n",
      "   ---------------------- -----------------  8/14 [torch]\n",
      "   ---------------------- -----------------  8/14 [torch]\n",
      "   ---------------------- -----------------  8/14 [torch]\n",
      "   ---------------------- -----------------  8/14 [torch]\n",
      "   ---------------------- -----------------  8/14 [torch]\n",
      "   ---------------------- -----------------  8/14 [torch]\n",
      "   ---------------------- -----------------  8/14 [torch]\n",
      "   ---------------------- -----------------  8/14 [torch]\n",
      "   ---------------------- -----------------  8/14 [torch]\n",
      "   ---------------------- -----------------  8/14 [torch]\n",
      "   ---------------------- -----------------  8/14 [torch]\n",
      "   ---------------------- -----------------  8/14 [torch]\n",
      "   ---------------------- -----------------  8/14 [torch]\n",
      "   ---------------------- -----------------  8/14 [torch]\n",
      "   ---------------------- -----------------  8/14 [torch]\n",
      "   ---------------------- -----------------  8/14 [torch]\n",
      "   ---------------------- -----------------  8/14 [torch]\n",
      "   ---------------------- -----------------  8/14 [torch]\n",
      "   ---------------------- -----------------  8/14 [torch]\n",
      "   ---------------------- -----------------  8/14 [torch]\n",
      "   ---------------------- -----------------  8/14 [torch]\n",
      "   ---------------------- -----------------  8/14 [torch]\n",
      "   ---------------------- -----------------  8/14 [torch]\n",
      "   ---------------------- -----------------  8/14 [torch]\n",
      "   ---------------------- -----------------  8/14 [torch]\n",
      "   ---------------------- -----------------  8/14 [torch]\n",
      "   ---------------------- -----------------  8/14 [torch]\n",
      "   ---------------------- -----------------  8/14 [torch]\n",
      "   ---------------------- -----------------  8/14 [torch]\n",
      "   ---------------------- -----------------  8/14 [torch]\n",
      "   ---------------------- -----------------  8/14 [torch]\n",
      "   ---------------------- -----------------  8/14 [torch]\n",
      "   ---------------------- -----------------  8/14 [torch]\n",
      "   ---------------------- -----------------  8/14 [torch]\n",
      "   ---------------------- -----------------  8/14 [torch]\n",
      "   ---------------------- -----------------  8/14 [torch]\n",
      "   ---------------------- -----------------  8/14 [torch]\n",
      "   ---------------------- -----------------  8/14 [torch]\n",
      "   ---------------------- -----------------  8/14 [torch]\n",
      "   ---------------------- -----------------  8/14 [torch]\n",
      "   ---------------------- -----------------  8/14 [torch]\n",
      "   ---------------------- -----------------  8/14 [torch]\n",
      "   ---------------------- -----------------  8/14 [torch]\n",
      "   ---------------------- -----------------  8/14 [torch]\n",
      "   ---------------------- -----------------  8/14 [torch]\n",
      "   ---------------------- -----------------  8/14 [torch]\n",
      "   ---------------------- -----------------  8/14 [torch]\n",
      "   ---------------------- -----------------  8/14 [torch]\n",
      "   ---------------------- -----------------  8/14 [torch]\n",
      "   ---------------------- -----------------  8/14 [torch]\n",
      "   ---------------------- -----------------  8/14 [torch]\n",
      "   ---------------------- -----------------  8/14 [torch]\n",
      "   ---------------------- -----------------  8/14 [torch]\n",
      "   ---------------------- -----------------  8/14 [torch]\n",
      "   ---------------------- -----------------  8/14 [torch]\n",
      "   ---------------------- -----------------  8/14 [torch]\n",
      "   ---------------------- -----------------  8/14 [torch]\n",
      "   ---------------------- -----------------  8/14 [torch]\n",
      "   ---------------------- -----------------  8/14 [torch]\n",
      "   ---------------------- -----------------  8/14 [torch]\n",
      "   ---------------------- -----------------  8/14 [torch]\n",
      "   ---------------------- -----------------  8/14 [torch]\n",
      "   ---------------------- -----------------  8/14 [torch]\n",
      "   ---------------------- -----------------  8/14 [torch]\n",
      "   ---------------------- -----------------  8/14 [torch]\n",
      "   ---------------------- -----------------  8/14 [torch]\n",
      "   ---------------------- -----------------  8/14 [torch]\n",
      "   ---------------------- -----------------  8/14 [torch]\n",
      "   ---------------------- -----------------  8/14 [torch]\n",
      "   ---------------------- -----------------  8/14 [torch]\n",
      "   ---------------------- -----------------  8/14 [torch]\n",
      "   ---------------------- -----------------  8/14 [torch]\n",
      "   ---------------------- -----------------  8/14 [torch]\n",
      "   ---------------------- -----------------  8/14 [torch]\n",
      "   ---------------------- -----------------  8/14 [torch]\n",
      "   ---------------------- -----------------  8/14 [torch]\n",
      "   ---------------------- -----------------  8/14 [torch]\n",
      "   ---------------------- -----------------  8/14 [torch]\n",
      "   ---------------------- -----------------  8/14 [torch]\n",
      "   ---------------------- -----------------  8/14 [torch]\n",
      "   ---------------------- -----------------  8/14 [torch]\n",
      "   ---------------------- -----------------  8/14 [torch]\n",
      "   ---------------------- -----------------  8/14 [torch]\n",
      "   ---------------------- -----------------  8/14 [torch]\n",
      "   ---------------------- -----------------  8/14 [torch]\n",
      "   ---------------------- -----------------  8/14 [torch]\n",
      "   ---------------------- -----------------  8/14 [torch]\n",
      "   ---------------------- -----------------  8/14 [torch]\n",
      "   ---------------------- -----------------  8/14 [torch]\n",
      "   ---------------------- -----------------  8/14 [torch]\n",
      "   ---------------------- -----------------  8/14 [torch]\n",
      "   ---------------------- -----------------  8/14 [torch]\n",
      "   ---------------------- -----------------  8/14 [torch]\n",
      "   ---------------------- -----------------  8/14 [torch]\n",
      "   ---------------------- -----------------  8/14 [torch]\n",
      "   ---------------------- -----------------  8/14 [torch]\n",
      "   ---------------------- -----------------  8/14 [torch]\n",
      "   ---------------------- -----------------  8/14 [torch]\n",
      "   ---------------------- -----------------  8/14 [torch]\n",
      "   ---------------------- -----------------  8/14 [torch]\n",
      "   ---------------------- -----------------  8/14 [torch]\n",
      "   ---------------------- -----------------  8/14 [torch]\n",
      "   ---------------------- -----------------  8/14 [torch]\n",
      "   ---------------------- -----------------  8/14 [torch]\n",
      "   ---------------------- -----------------  8/14 [torch]\n",
      "   ---------------------- -----------------  8/14 [torch]\n",
      "   ---------------------- -----------------  8/14 [torch]\n",
      "   ---------------------- -----------------  8/14 [torch]\n",
      "   ---------------------- -----------------  8/14 [torch]\n",
      "   ---------------------- -----------------  8/14 [torch]\n",
      "   ---------------------- -----------------  8/14 [torch]\n",
      "   ---------------------- -----------------  8/14 [torch]\n",
      "   ---------------------- -----------------  8/14 [torch]\n",
      "   ---------------------- -----------------  8/14 [torch]\n",
      "   ---------------------- -----------------  8/14 [torch]\n",
      "   ---------------------- -----------------  8/14 [torch]\n",
      "   ---------------------- -----------------  8/14 [torch]\n",
      "   ---------------------- -----------------  8/14 [torch]\n",
      "   ---------------------- -----------------  8/14 [torch]\n",
      "   ---------------------- -----------------  8/14 [torch]\n",
      "   ---------------------- -----------------  8/14 [torch]\n",
      "   ---------------------- -----------------  8/14 [torch]\n",
      "   ---------------------- -----------------  8/14 [torch]\n",
      "   ---------------------- -----------------  8/14 [torch]\n",
      "   ---------------------- -----------------  8/14 [torch]\n",
      "   ---------------------- -----------------  8/14 [torch]\n",
      "   ---------------------- -----------------  8/14 [torch]\n",
      "   ---------------------- -----------------  8/14 [torch]\n",
      "   ---------------------- -----------------  8/14 [torch]\n",
      "   ---------------------- -----------------  8/14 [torch]\n",
      "   ---------------------- -----------------  8/14 [torch]\n",
      "   ---------------------- -----------------  8/14 [torch]\n",
      "   ---------------------- -----------------  8/14 [torch]\n",
      "   ---------------------- -----------------  8/14 [torch]\n",
      "   ---------------------- -----------------  8/14 [torch]\n",
      "   ---------------------- -----------------  8/14 [torch]\n",
      "   ---------------------- -----------------  8/14 [torch]\n",
      "   ---------------------- -----------------  8/14 [torch]\n",
      "   ---------------------- -----------------  8/14 [torch]\n",
      "   ---------------------- -----------------  8/14 [torch]\n",
      "   ---------------------- -----------------  8/14 [torch]\n",
      "   ---------------------- -----------------  8/14 [torch]\n",
      "   ---------------------- -----------------  8/14 [torch]\n",
      "   ---------------------- -----------------  8/14 [torch]\n",
      "   ---------------------- -----------------  8/14 [torch]\n",
      "   ---------------------- -----------------  8/14 [torch]\n",
      "   ---------------------- -----------------  8/14 [torch]\n",
      "   ---------------------- -----------------  8/14 [torch]\n",
      "   ---------------------- -----------------  8/14 [torch]\n",
      "   ---------------------- -----------------  8/14 [torch]\n",
      "   ---------------------- -----------------  8/14 [torch]\n",
      "   ---------------------- -----------------  8/14 [torch]\n",
      "   ---------------------- -----------------  8/14 [torch]\n",
      "   ---------------------- -----------------  8/14 [torch]\n",
      "   ---------------------- -----------------  8/14 [torch]\n",
      "   ---------------------- -----------------  8/14 [torch]\n",
      "   ---------------------- -----------------  8/14 [torch]\n",
      "   ---------------------- -----------------  8/14 [torch]\n",
      "   ------------------------- --------------  9/14 [huggingface-hub]\n",
      "   ------------------------- --------------  9/14 [huggingface-hub]\n",
      "   ------------------------- --------------  9/14 [huggingface-hub]\n",
      "   ------------------------- --------------  9/14 [huggingface-hub]\n",
      "   ------------------------- --------------  9/14 [huggingface-hub]\n",
      "   ------------------------- --------------  9/14 [huggingface-hub]\n",
      "   ------------------------- --------------  9/14 [huggingface-hub]\n",
      "   ------------------------- --------------  9/14 [huggingface-hub]\n",
      "   ------------------------- --------------  9/14 [huggingface-hub]\n",
      "   ------------------------- --------------  9/14 [huggingface-hub]\n",
      "   ------------------------- --------------  9/14 [huggingface-hub]\n",
      "   ------------------------- --------------  9/14 [huggingface-hub]\n",
      "   ---------------------------- ----------- 10/14 [tokenizers]\n",
      "   ------------------------------- -------- 11/14 [transformers]\n",
      "   ------------------------------- -------- 11/14 [transformers]\n",
      "   ------------------------------- -------- 11/14 [transformers]\n",
      "   ------------------------------- -------- 11/14 [transformers]\n",
      "   ------------------------------- -------- 11/14 [transformers]\n",
      "   ------------------------------- -------- 11/14 [transformers]\n",
      "   ------------------------------- -------- 11/14 [transformers]\n",
      "   ------------------------------- -------- 11/14 [transformers]\n",
      "   ------------------------------- -------- 11/14 [transformers]\n",
      "   ------------------------------- -------- 11/14 [transformers]\n",
      "   ------------------------------- -------- 11/14 [transformers]\n",
      "   ------------------------------- -------- 11/14 [transformers]\n",
      "   ------------------------------- -------- 11/14 [transformers]\n",
      "   ------------------------------- -------- 11/14 [transformers]\n",
      "   ------------------------------- -------- 11/14 [transformers]\n",
      "   ------------------------------- -------- 11/14 [transformers]\n",
      "   ------------------------------- -------- 11/14 [transformers]\n",
      "   ------------------------------- -------- 11/14 [transformers]\n",
      "   ------------------------------- -------- 11/14 [transformers]\n",
      "   ------------------------------- -------- 11/14 [transformers]\n",
      "   ------------------------------- -------- 11/14 [transformers]\n",
      "   ------------------------------- -------- 11/14 [transformers]\n",
      "   ------------------------------- -------- 11/14 [transformers]\n",
      "   ------------------------------- -------- 11/14 [transformers]\n",
      "   ------------------------------- -------- 11/14 [transformers]\n",
      "   ------------------------------- -------- 11/14 [transformers]\n",
      "   ------------------------------- -------- 11/14 [transformers]\n",
      "   ------------------------------- -------- 11/14 [transformers]\n",
      "   ------------------------------- -------- 11/14 [transformers]\n",
      "   ------------------------------- -------- 11/14 [transformers]\n",
      "   ------------------------------- -------- 11/14 [transformers]\n",
      "   ------------------------------- -------- 11/14 [transformers]\n",
      "   ------------------------------- -------- 11/14 [transformers]\n",
      "   ------------------------------- -------- 11/14 [transformers]\n",
      "   ------------------------------- -------- 11/14 [transformers]\n",
      "   ------------------------------- -------- 11/14 [transformers]\n",
      "   ------------------------------- -------- 11/14 [transformers]\n",
      "   ------------------------------- -------- 11/14 [transformers]\n",
      "   ------------------------------- -------- 11/14 [transformers]\n",
      "   ------------------------------- -------- 11/14 [transformers]\n",
      "   ------------------------------- -------- 11/14 [transformers]\n",
      "   ------------------------------- -------- 11/14 [transformers]\n",
      "   ------------------------------- -------- 11/14 [transformers]\n",
      "   ------------------------------- -------- 11/14 [transformers]\n",
      "   ------------------------------- -------- 11/14 [transformers]\n",
      "   ------------------------------- -------- 11/14 [transformers]\n",
      "   ------------------------------- -------- 11/14 [transformers]\n",
      "   ------------------------------- -------- 11/14 [transformers]\n",
      "   ------------------------------- -------- 11/14 [transformers]\n",
      "   ------------------------------- -------- 11/14 [transformers]\n",
      "   ------------------------------- -------- 11/14 [transformers]\n",
      "   ------------------------------- -------- 11/14 [transformers]\n",
      "   ------------------------------- -------- 11/14 [transformers]\n",
      "   ------------------------------- -------- 11/14 [transformers]\n",
      "   ------------------------------- -------- 11/14 [transformers]\n",
      "   ------------------------------- -------- 11/14 [transformers]\n",
      "   ------------------------------- -------- 11/14 [transformers]\n",
      "   ------------------------------- -------- 11/14 [transformers]\n",
      "   ------------------------------- -------- 11/14 [transformers]\n",
      "   ------------------------------- -------- 11/14 [transformers]\n",
      "   ------------------------------- -------- 11/14 [transformers]\n",
      "   ------------------------------- -------- 11/14 [transformers]\n",
      "   ------------------------------- -------- 11/14 [transformers]\n",
      "   ------------------------------- -------- 11/14 [transformers]\n",
      "   ------------------------------- -------- 11/14 [transformers]\n",
      "   ------------------------------- -------- 11/14 [transformers]\n",
      "   ------------------------------- -------- 11/14 [transformers]\n",
      "   ------------------------------- -------- 11/14 [transformers]\n",
      "   ------------------------------- -------- 11/14 [transformers]\n",
      "   ------------------------------- -------- 11/14 [transformers]\n",
      "   ------------------------------- -------- 11/14 [transformers]\n",
      "   ------------------------------- -------- 11/14 [transformers]\n",
      "   ------------------------------- -------- 11/14 [transformers]\n",
      "   ------------------------------- -------- 11/14 [transformers]\n",
      "   ------------------------------- -------- 11/14 [transformers]\n",
      "   ------------------------------- -------- 11/14 [transformers]\n",
      "   ------------------------------- -------- 11/14 [transformers]\n",
      "   ------------------------------- -------- 11/14 [transformers]\n",
      "   ------------------------------- -------- 11/14 [transformers]\n",
      "   ------------------------------- -------- 11/14 [transformers]\n",
      "   ------------------------------- -------- 11/14 [transformers]\n",
      "   ------------------------------- -------- 11/14 [transformers]\n",
      "   ------------------------------- -------- 11/14 [transformers]\n",
      "   ------------------------------- -------- 11/14 [transformers]\n",
      "   ------------------------------- -------- 11/14 [transformers]\n",
      "   ------------------------------- -------- 11/14 [transformers]\n",
      "   ------------------------------- -------- 11/14 [transformers]\n",
      "   ------------------------------- -------- 11/14 [transformers]\n",
      "   ------------------------------- -------- 11/14 [transformers]\n",
      "   ------------------------------- -------- 11/14 [transformers]\n",
      "   ------------------------------- -------- 11/14 [transformers]\n",
      "   ------------------------------- -------- 11/14 [transformers]\n",
      "   ------------------------------- -------- 11/14 [transformers]\n",
      "   ------------------------------- -------- 11/14 [transformers]\n",
      "   ------------------------------- -------- 11/14 [transformers]\n",
      "   ------------------------------- -------- 11/14 [transformers]\n",
      "   ------------------------------- -------- 11/14 [transformers]\n",
      "   ------------------------------- -------- 11/14 [transformers]\n",
      "   ------------------------------- -------- 11/14 [transformers]\n",
      "   ------------------------------- -------- 11/14 [transformers]\n",
      "   ------------------------------- -------- 11/14 [transformers]\n",
      "   ------------------------------- -------- 11/14 [transformers]\n",
      "   ------------------------------- -------- 11/14 [transformers]\n",
      "   ------------------------------- -------- 11/14 [transformers]\n",
      "   ------------------------------- -------- 11/14 [transformers]\n",
      "   ------------------------------- -------- 11/14 [transformers]\n",
      "   ------------------------------- -------- 11/14 [transformers]\n",
      "   ------------------------------- -------- 11/14 [transformers]\n",
      "   ------------------------------- -------- 11/14 [transformers]\n",
      "   ------------------------------- -------- 11/14 [transformers]\n",
      "   ------------------------------- -------- 11/14 [transformers]\n",
      "   ------------------------------- -------- 11/14 [transformers]\n",
      "   ------------------------------- -------- 11/14 [transformers]\n",
      "   ------------------------------- -------- 11/14 [transformers]\n",
      "   ------------------------------- -------- 11/14 [transformers]\n",
      "   ------------------------------- -------- 11/14 [transformers]\n",
      "   ------------------------------- -------- 11/14 [transformers]\n",
      "   ------------------------------- -------- 11/14 [transformers]\n",
      "   ------------------------------- -------- 11/14 [transformers]\n",
      "   ------------------------------- -------- 11/14 [transformers]\n",
      "   ------------------------------- -------- 11/14 [transformers]\n",
      "   ------------------------------- -------- 11/14 [transformers]\n",
      "   ------------------------------- -------- 11/14 [transformers]\n",
      "   ------------------------------- -------- 11/14 [transformers]\n",
      "   ------------------------------- -------- 11/14 [transformers]\n",
      "   ------------------------------- -------- 11/14 [transformers]\n",
      "   ------------------------------- -------- 11/14 [transformers]\n",
      "   ------------------------------- -------- 11/14 [transformers]\n",
      "   ------------------------------- -------- 11/14 [transformers]\n",
      "   ------------------------------- -------- 11/14 [transformers]\n",
      "   ------------------------------- -------- 11/14 [transformers]\n",
      "   ------------------------------- -------- 11/14 [transformers]\n",
      "   ------------------------------- -------- 11/14 [transformers]\n",
      "   ------------------------------- -------- 11/14 [transformers]\n",
      "   ------------------------------- -------- 11/14 [transformers]\n",
      "   ------------------------------- -------- 11/14 [transformers]\n",
      "   ------------------------------- -------- 11/14 [transformers]\n",
      "   ------------------------------- -------- 11/14 [transformers]\n",
      "   ------------------------------- -------- 11/14 [transformers]\n",
      "   ------------------------------- -------- 11/14 [transformers]\n",
      "   ------------------------------- -------- 11/14 [transformers]\n",
      "   ------------------------------- -------- 11/14 [transformers]\n",
      "   ------------------------------- -------- 11/14 [transformers]\n",
      "   ------------------------------- -------- 11/14 [transformers]\n",
      "   ------------------------------- -------- 11/14 [transformers]\n",
      "   ------------------------------- -------- 11/14 [transformers]\n",
      "   ------------------------------- -------- 11/14 [transformers]\n",
      "   ------------------------------- -------- 11/14 [transformers]\n",
      "   ------------------------------- -------- 11/14 [transformers]\n",
      "   ------------------------------- -------- 11/14 [transformers]\n",
      "   ------------------------------- -------- 11/14 [transformers]\n",
      "   ------------------------------- -------- 11/14 [transformers]\n",
      "   ------------------------------- -------- 11/14 [transformers]\n",
      "   ------------------------------- -------- 11/14 [transformers]\n",
      "   ------------------------------- -------- 11/14 [transformers]\n",
      "   ------------------------------- -------- 11/14 [transformers]\n",
      "   ------------------------------- -------- 11/14 [transformers]\n",
      "   ------------------------------- -------- 11/14 [transformers]\n",
      "   ------------------------------- -------- 11/14 [transformers]\n",
      "   ------------------------------- -------- 11/14 [transformers]\n",
      "   ------------------------------- -------- 11/14 [transformers]\n",
      "   ------------------------------- -------- 11/14 [transformers]\n",
      "   ---------------------------------- ----- 12/14 [tf-keras]\n",
      "   ---------------------------------- ----- 12/14 [tf-keras]\n",
      "   ---------------------------------- ----- 12/14 [tf-keras]\n",
      "   ---------------------------------- ----- 12/14 [tf-keras]\n",
      "   ---------------------------------- ----- 12/14 [tf-keras]\n",
      "   ---------------------------------- ----- 12/14 [tf-keras]\n",
      "   ---------------------------------- ----- 12/14 [tf-keras]\n",
      "   ---------------------------------- ----- 12/14 [tf-keras]\n",
      "   ---------------------------------- ----- 12/14 [tf-keras]\n",
      "   ---------------------------------- ----- 12/14 [tf-keras]\n",
      "   ---------------------------------- ----- 12/14 [tf-keras]\n",
      "   ---------------------------------- ----- 12/14 [tf-keras]\n",
      "   ---------------------------------- ----- 12/14 [tf-keras]\n",
      "   ---------------------------------- ----- 12/14 [tf-keras]\n",
      "   ---------------------------------- ----- 12/14 [tf-keras]\n",
      "   ---------------------------------- ----- 12/14 [tf-keras]\n",
      "   ---------------------------------- ----- 12/14 [tf-keras]\n",
      "   ---------------------------------- ----- 12/14 [tf-keras]\n",
      "   ---------------------------------- ----- 12/14 [tf-keras]\n",
      "   ---------------------------------- ----- 12/14 [tf-keras]\n",
      "   ---------------------------------- ----- 12/14 [tf-keras]\n",
      "   ---------------------------------- ----- 12/14 [tf-keras]\n",
      "   ---------------------------------- ----- 12/14 [tf-keras]\n",
      "   ---------------------------------- ----- 12/14 [tf-keras]\n",
      "   ---------------------------------- ----- 12/14 [tf-keras]\n",
      "   ---------------------------------- ----- 12/14 [tf-keras]\n",
      "   ---------------------------------- ----- 12/14 [tf-keras]\n",
      "   ---------------------------------- ----- 12/14 [tf-keras]\n",
      "   ---------------------------------- ----- 12/14 [tf-keras]\n",
      "   ---------------------------------- ----- 12/14 [tf-keras]\n",
      "   ---------------------------------- ----- 12/14 [tf-keras]\n",
      "   ---------------------------------- ----- 12/14 [tf-keras]\n",
      "   ---------------------------------- ----- 12/14 [tf-keras]\n",
      "   ---------------------------------- ----- 12/14 [tf-keras]\n",
      "   ---------------------------------- ----- 12/14 [tf-keras]\n",
      "   ---------------------------------- ----- 12/14 [tf-keras]\n",
      "   ---------------------------------- ----- 12/14 [tf-keras]\n",
      "   ---------------------------------- ----- 12/14 [tf-keras]\n",
      "   ---------------------------------- ----- 12/14 [tf-keras]\n",
      "   ---------------------------------- ----- 12/14 [tf-keras]\n",
      "   ---------------------------------- ----- 12/14 [tf-keras]\n",
      "   ------------------------------------- -- 13/14 [sentence-transformers]\n",
      "   ------------------------------------- -- 13/14 [sentence-transformers]\n",
      "   ------------------------------------- -- 13/14 [sentence-transformers]\n",
      "   ------------------------------------- -- 13/14 [sentence-transformers]\n",
      "   ------------------------------------- -- 13/14 [sentence-transformers]\n",
      "   ------------------------------------- -- 13/14 [sentence-transformers]\n",
      "   ------------------------------------- -- 13/14 [sentence-transformers]\n",
      "   ------------------------------------- -- 13/14 [sentence-transformers]\n",
      "   ------------------------------------- -- 13/14 [sentence-transformers]\n",
      "   ------------------------------------- -- 13/14 [sentence-transformers]\n",
      "   ------------------------------------- -- 13/14 [sentence-transformers]\n",
      "   ------------------------------------- -- 13/14 [sentence-transformers]\n",
      "   ------------------------------------- -- 13/14 [sentence-transformers]\n",
      "   ------------------------------------- -- 13/14 [sentence-transformers]\n",
      "   ---------------------------------------- 14/14 [sentence-transformers]\n",
      "\n",
      "Successfully installed filelock-3.19.1 fsspec-2025.9.0 huggingface-hub-0.35.1 jinja2-3.1.6 mpmath-1.3.0 networkx-3.4.2 pyyaml-6.0.3 safetensors-0.6.2 sentence-transformers-5.1.1 sympy-1.14.0 tf-keras-2.20.1 tokenizers-0.22.1 torch-2.8.0 transformers-4.56.2\n"
     ]
    }
   ],
   "source": [
    "! pip install sentence-transformers tf-keras"
   ]
  },
  {
   "cell_type": "code",
   "execution_count": null,
   "id": "179cd7e9",
   "metadata": {},
   "outputs": [
    {
     "name": "stdout",
     "output_type": "stream",
     "text": [
      "WARNING:tensorflow:From c:\\Games\\textclassification\\.venv\\lib\\site-packages\\tf_keras\\src\\losses.py:2976: The name tf.losses.sparse_softmax_cross_entropy is deprecated. Please use tf.compat.v1.losses.sparse_softmax_cross_entropy instead.\n",
      "\n"
     ]
    }
   ],
   "source": [
    "from sentence_transformers import SentenceTransformer\n",
    "from catboost import CatBoostClassifier"
   ]
  },
  {
   "cell_type": "code",
   "execution_count": null,
   "id": "af51f480",
   "metadata": {},
   "outputs": [],
   "source": [
    "model_emb = SentenceTransformer('all-MiniLM-L6-v2')"
   ]
  },
  {
   "cell_type": "code",
   "execution_count": null,
   "id": "3a21695c",
   "metadata": {},
   "outputs": [],
   "source": [
    "X_train_emb = model_emb.encode(X_train.tolist(), convert_to_numpy=True)\n",
    "X_val_emb = model_emb.encode(X_val.tolist(), convert_to_numpy=True)\n",
    "X_test_emb = model_emb.encode(X_test.tolist(), convert_to_numpy=True)"
   ]
  },
  {
   "cell_type": "code",
   "execution_count": null,
   "id": "215c4c43",
   "metadata": {},
   "outputs": [
    {
     "name": "stdout",
     "output_type": "stream",
     "text": [
      "Learning rate set to 0.076748\n",
      "0:\ttest: 0.9115362\tbest: 0.9115362 (0)\ttotal: 267ms\tremaining: 4m 26s\n",
      "100:\ttest: 0.9838738\tbest: 0.9838738 (100)\ttotal: 11.6s\tremaining: 1m 43s\n",
      "200:\ttest: 0.9868931\tbest: 0.9868931 (200)\ttotal: 22.3s\tremaining: 1m 28s\n",
      "300:\ttest: 0.9880246\tbest: 0.9880246 (300)\ttotal: 32.8s\tremaining: 1m 16s\n",
      "400:\ttest: 0.9885156\tbest: 0.9885719 (394)\ttotal: 42.8s\tremaining: 1m 3s\n",
      "500:\ttest: 0.9890453\tbest: 0.9890507 (499)\ttotal: 52.5s\tremaining: 52.3s\n",
      "600:\ttest: 0.9894200\tbest: 0.9894200 (600)\ttotal: 1m 2s\tremaining: 41.4s\n",
      "700:\ttest: 0.9897551\tbest: 0.9897551 (700)\ttotal: 1m 12s\tremaining: 31s\n",
      "800:\ttest: 0.9899805\tbest: 0.9900441 (784)\ttotal: 1m 22s\tremaining: 20.5s\n",
      "900:\ttest: 0.9901638\tbest: 0.9901638 (900)\ttotal: 1m 32s\tremaining: 10.1s\n",
      "999:\ttest: 0.9902727\tbest: 0.9902757 (931)\ttotal: 1m 41s\tremaining: 0us\n",
      "\n",
      "bestTest = 0.9902756907\n",
      "bestIteration = 931\n",
      "\n",
      "Shrink model to first 932 iterations.\n"
     ]
    },
    {
     "data": {
      "image/png": "[encoded data removed]",
      "text/plain": [
       "<Figure size 1500x600 with 3 Axes>"
      ]
     },
     "metadata": {},
     "output_type": "display_data"
    },
    {
     "name": "stdout",
     "output_type": "stream",
     "text": [
      "\n",
      "============================================================\n",
      "                    CATBOOST EVALUATION                     \n",
      "============================================================\n",
      "\n",
      "MAIN METRICS:\n",
      "           Metric  Value\n",
      "          ROC AUC 0.9891\n",
      "Average Precision 0.9879\n",
      "         F1 Score 0.9454\n",
      "        Precision 0.9455\n",
      "           Recall 0.9466\n",
      "         Accuracy 0.9454\n",
      "\n",
      "\n",
      "CLASSIFICATION REPORT:\n",
      "   Class  Precision   Recall\n",
      "Positive   0.919219 0.970478\n",
      "Negative   0.971850 0.922783\n",
      "\n",
      "============================================================\n"
     ]
    }
   ],
   "source": [
    "catboost = CatBoostClassifier(\n",
    "    iterations=1000,\n",
    "    depth=8,\n",
    "    eval_metric='AUC',\n",
    "    verbose=100,\n",
    "    random_seed=SEED\n",
    ")\n",
    "\n",
    "catboost.fit(X_train_emb, y_train, eval_set=(X_val_emb, y_val))\n",
    "\n",
    "y_pred = catboost.predict(X_test_emb)\n",
    "y_probs = catboost.predict_proba(X_test_emb)[:, 1]  \n",
    "\n",
    "metrics = evaluate_classification(\n",
    "    y_test=y_test,\n",
    "    y_pred=y_pred,\n",
    "    y_probs=y_probs,\n",
    "    model_name='Catboost',\n",
    "    use_pr_curve=False\n",
    ")"
   ]
  },
  {
   "cell_type": "markdown",
   "id": "9c0c0626",
   "metadata": {},
   "source": [
    "Где то на уровне LSTM"
   ]
  }
 ],
 "metadata": {
  "kernelspec": {
   "display_name": ".venv",
   "language": "python",
   "name": "python3"
  },
  "language_info": {
   "codemirror_mode": {
    "name": "ipython",
    "version": 3
   },
   "file_extension": ".py",
   "mimetype": "text/x-python",
   "name": "python",
   "nbconvert_exporter": "python",
   "pygments_lexer": "ipython3",
   "version": "3.10.0"
  }
 },
 "nbformat": 4,
 "nbformat_minor": 5
}
