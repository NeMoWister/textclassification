{
 "cells": [
  {
   "cell_type": "code",
   "execution_count": 57,
   "id": "3ecc3a97",
   "metadata": {},
   "outputs": [
    {
     "name": "stdout",
     "output_type": "stream",
     "text": [
      "Requirement already satisfied: numpy in c:\\games\\textclassification\\.venv\\lib\\site-packages (2.2.6)\n",
      "Requirement already satisfied: pandas in c:\\games\\textclassification\\.venv\\lib\\site-packages (2.3.2)\n",
      "Requirement already satisfied: scikit-learn in c:\\games\\textclassification\\.venv\\lib\\site-packages (1.7.2)\n",
      "Requirement already satisfied: catboost in c:\\games\\textclassification\\.venv\\lib\\site-packages (1.2.8)\n",
      "Requirement already satisfied: matplotlib in c:\\games\\textclassification\\.venv\\lib\\site-packages (3.10.6)\n",
      "Requirement already satisfied: seaborn in c:\\games\\textclassification\\.venv\\lib\\site-packages (0.13.2)\n",
      "Requirement already satisfied: phik in c:\\games\\textclassification\\.venv\\lib\\site-packages (0.12.5)\n",
      "Requirement already satisfied: nltk in c:\\games\\textclassification\\.venv\\lib\\site-packages (3.9.1)\n",
      "Requirement already satisfied: wordcloud in c:\\games\\textclassification\\.venv\\lib\\site-packages (1.9.4)\n",
      "Requirement already satisfied: imblearn in c:\\games\\textclassification\\.venv\\lib\\site-packages (0.0)\n",
      "Requirement already satisfied: tensorflow in c:\\games\\textclassification\\.venv\\lib\\site-packages (2.20.0)\n",
      "Requirement already satisfied: python-dateutil>=2.8.2 in c:\\games\\textclassification\\.venv\\lib\\site-packages (from pandas) (2.9.0.post0)\n",
      "Requirement already satisfied: pytz>=2020.1 in c:\\games\\textclassification\\.venv\\lib\\site-packages (from pandas) (2025.2)\n",
      "Requirement already satisfied: tzdata>=2022.7 in c:\\games\\textclassification\\.venv\\lib\\site-packages (from pandas) (2025.2)\n",
      "Requirement already satisfied: scipy>=1.8.0 in c:\\games\\textclassification\\.venv\\lib\\site-packages (from scikit-learn) (1.15.3)\n",
      "Requirement already satisfied: joblib>=1.2.0 in c:\\games\\textclassification\\.venv\\lib\\site-packages (from scikit-learn) (1.5.2)\n",
      "Requirement already satisfied: threadpoolctl>=3.1.0 in c:\\games\\textclassification\\.venv\\lib\\site-packages (from scikit-learn) (3.6.0)\n",
      "Requirement already satisfied: graphviz in c:\\games\\textclassification\\.venv\\lib\\site-packages (from catboost) (0.21)\n",
      "Requirement already satisfied: plotly in c:\\games\\textclassification\\.venv\\lib\\site-packages (from catboost) (6.3.0)\n",
      "Requirement already satisfied: six in c:\\games\\textclassification\\.venv\\lib\\site-packages (from catboost) (1.17.0)\n",
      "Requirement already satisfied: contourpy>=1.0.1 in c:\\games\\textclassification\\.venv\\lib\\site-packages (from matplotlib) (1.3.2)\n",
      "Requirement already satisfied: cycler>=0.10 in c:\\games\\textclassification\\.venv\\lib\\site-packages (from matplotlib) (0.12.1)\n",
      "Requirement already satisfied: fonttools>=4.22.0 in c:\\games\\textclassification\\.venv\\lib\\site-packages (from matplotlib) (4.60.0)\n",
      "Requirement already satisfied: kiwisolver>=1.3.1 in c:\\games\\textclassification\\.venv\\lib\\site-packages (from matplotlib) (1.4.9)\n",
      "Requirement already satisfied: packaging>=20.0 in c:\\games\\textclassification\\.venv\\lib\\site-packages (from matplotlib) (25.0)\n",
      "Requirement already satisfied: pillow>=8 in c:\\games\\textclassification\\.venv\\lib\\site-packages (from matplotlib) (11.3.0)\n",
      "Requirement already satisfied: pyparsing>=2.3.1 in c:\\games\\textclassification\\.venv\\lib\\site-packages (from matplotlib) (3.2.5)\n",
      "Requirement already satisfied: click in c:\\games\\textclassification\\.venv\\lib\\site-packages (from nltk) (8.3.0)\n",
      "Requirement already satisfied: regex>=2021.8.3 in c:\\games\\textclassification\\.venv\\lib\\site-packages (from nltk) (2025.9.18)\n",
      "Requirement already satisfied: tqdm in c:\\games\\textclassification\\.venv\\lib\\site-packages (from nltk) (4.67.1)\n",
      "Requirement already satisfied: imbalanced-learn in c:\\games\\textclassification\\.venv\\lib\\site-packages (from imblearn) (0.14.0)\n",
      "Requirement already satisfied: absl-py>=1.0.0 in c:\\games\\textclassification\\.venv\\lib\\site-packages (from tensorflow) (2.3.1)\n",
      "Requirement already satisfied: astunparse>=1.6.0 in c:\\games\\textclassification\\.venv\\lib\\site-packages (from tensorflow) (1.6.3)\n",
      "Requirement already satisfied: flatbuffers>=24.3.25 in c:\\games\\textclassification\\.venv\\lib\\site-packages (from tensorflow) (25.9.23)\n",
      "Requirement already satisfied: gast!=0.5.0,!=0.5.1,!=0.5.2,>=0.2.1 in c:\\games\\textclassification\\.venv\\lib\\site-packages (from tensorflow) (0.6.0)\n",
      "Requirement already satisfied: google_pasta>=0.1.1 in c:\\games\\textclassification\\.venv\\lib\\site-packages (from tensorflow) (0.2.0)\n",
      "Requirement already satisfied: libclang>=13.0.0 in c:\\games\\textclassification\\.venv\\lib\\site-packages (from tensorflow) (18.1.1)\n",
      "Requirement already satisfied: opt_einsum>=2.3.2 in c:\\games\\textclassification\\.venv\\lib\\site-packages (from tensorflow) (3.4.0)\n",
      "Requirement already satisfied: protobuf>=5.28.0 in c:\\games\\textclassification\\.venv\\lib\\site-packages (from tensorflow) (6.32.1)\n",
      "Requirement already satisfied: requests<3,>=2.21.0 in c:\\games\\textclassification\\.venv\\lib\\site-packages (from tensorflow) (2.32.5)\n",
      "Requirement already satisfied: setuptools in c:\\games\\textclassification\\.venv\\lib\\site-packages (from tensorflow) (57.4.0)\n",
      "Requirement already satisfied: termcolor>=1.1.0 in c:\\games\\textclassification\\.venv\\lib\\site-packages (from tensorflow) (3.1.0)\n",
      "Requirement already satisfied: typing_extensions>=3.6.6 in c:\\games\\textclassification\\.venv\\lib\\site-packages (from tensorflow) (4.15.0)\n",
      "Requirement already satisfied: wrapt>=1.11.0 in c:\\games\\textclassification\\.venv\\lib\\site-packages (from tensorflow) (1.17.3)\n",
      "Requirement already satisfied: grpcio<2.0,>=1.24.3 in c:\\games\\textclassification\\.venv\\lib\\site-packages (from tensorflow) (1.75.1)\n",
      "Requirement already satisfied: tensorboard~=2.20.0 in c:\\games\\textclassification\\.venv\\lib\\site-packages (from tensorflow) (2.20.0)\n",
      "Requirement already satisfied: keras>=3.10.0 in c:\\games\\textclassification\\.venv\\lib\\site-packages (from tensorflow) (3.11.3)\n",
      "Requirement already satisfied: h5py>=3.11.0 in c:\\games\\textclassification\\.venv\\lib\\site-packages (from tensorflow) (3.14.0)\n",
      "Requirement already satisfied: ml_dtypes<1.0.0,>=0.5.1 in c:\\games\\textclassification\\.venv\\lib\\site-packages (from tensorflow) (0.5.3)\n",
      "Requirement already satisfied: charset_normalizer<4,>=2 in c:\\games\\textclassification\\.venv\\lib\\site-packages (from requests<3,>=2.21.0->tensorflow) (3.4.3)\n",
      "Requirement already satisfied: idna<4,>=2.5 in c:\\games\\textclassification\\.venv\\lib\\site-packages (from requests<3,>=2.21.0->tensorflow) (3.10)\n",
      "Requirement already satisfied: urllib3<3,>=1.21.1 in c:\\games\\textclassification\\.venv\\lib\\site-packages (from requests<3,>=2.21.0->tensorflow) (2.5.0)\n",
      "Requirement already satisfied: certifi>=2017.4.17 in c:\\games\\textclassification\\.venv\\lib\\site-packages (from requests<3,>=2.21.0->tensorflow) (2025.8.3)\n",
      "Requirement already satisfied: markdown>=2.6.8 in c:\\games\\textclassification\\.venv\\lib\\site-packages (from tensorboard~=2.20.0->tensorflow) (3.9)\n",
      "Requirement already satisfied: tensorboard-data-server<0.8.0,>=0.7.0 in c:\\games\\textclassification\\.venv\\lib\\site-packages (from tensorboard~=2.20.0->tensorflow) (0.7.2)\n",
      "Requirement already satisfied: werkzeug>=1.0.1 in c:\\games\\textclassification\\.venv\\lib\\site-packages (from tensorboard~=2.20.0->tensorflow) (3.1.3)\n",
      "Requirement already satisfied: wheel<1.0,>=0.23.0 in c:\\games\\textclassification\\.venv\\lib\\site-packages (from astunparse>=1.6.0->tensorflow) (0.45.1)\n",
      "Requirement already satisfied: rich in c:\\games\\textclassification\\.venv\\lib\\site-packages (from keras>=3.10.0->tensorflow) (14.1.0)\n",
      "Requirement already satisfied: namex in c:\\games\\textclassification\\.venv\\lib\\site-packages (from keras>=3.10.0->tensorflow) (0.1.0)\n",
      "Requirement already satisfied: optree in c:\\games\\textclassification\\.venv\\lib\\site-packages (from keras>=3.10.0->tensorflow) (0.17.0)\n",
      "Requirement already satisfied: MarkupSafe>=2.1.1 in c:\\games\\textclassification\\.venv\\lib\\site-packages (from werkzeug>=1.0.1->tensorboard~=2.20.0->tensorflow) (3.0.2)\n",
      "Requirement already satisfied: colorama in c:\\games\\textclassification\\.venv\\lib\\site-packages (from click->nltk) (0.4.6)\n",
      "Requirement already satisfied: narwhals>=1.15.1 in c:\\games\\textclassification\\.venv\\lib\\site-packages (from plotly->catboost) (2.5.0)\n",
      "Requirement already satisfied: markdown-it-py>=2.2.0 in c:\\games\\textclassification\\.venv\\lib\\site-packages (from rich->keras>=3.10.0->tensorflow) (4.0.0)\n",
      "Requirement already satisfied: pygments<3.0.0,>=2.13.0 in c:\\games\\textclassification\\.venv\\lib\\site-packages (from rich->keras>=3.10.0->tensorflow) (2.19.2)\n",
      "Requirement already satisfied: mdurl~=0.1 in c:\\games\\textclassification\\.venv\\lib\\site-packages (from markdown-it-py>=2.2.0->rich->keras>=3.10.0->tensorflow) (0.1.2)\n"
     ]
    }
   ],
   "source": [
    "! pip install numpy pandas scikit-learn catboost matplotlib seaborn phik nltk wordcloud imblearn tensorflow"
   ]
  },
  {
   "cell_type": "markdown",
   "id": "adf18275",
   "metadata": {},
   "source": [
    "## Поменять"
   ]
  },
  {
   "cell_type": "markdown",
   "id": "70a7a105",
   "metadata": {},
   "source": [
    "✅Ты делаешь токенизацию текстов, во первых хочется видеть более детальный анализ токенов (помимо облака слов еще диаграммы), проверка пунктуации. Во вторых токенизация для EDA и для модели должна быть одинаковая, иначе анализируешь ты одно, а на вход модели передается другое совсем, в чем нет смысла\n",
    "\n",
    "✅Также токенизатор должен корректно работать с oov_token\n",
    "\n",
    "✅Проверь что везде SEED фиксированный используется, чтобы нейронки обучались всегда одинаково для одних и тех же данных\n",
    "\n",
    "✅Длина последовательностей = максимуму. Максимум часто определяется редкими хвостами → перерасход вычислений и регуляризации. Возьми, например, 95-й перцентиль длины\n",
    "\n",
    "❓Нет стратификации при сплите train_test_split без stratify=y. Даже при балансе классов это повышает дисперсию метрик.\n",
    "\n",
    "✅В первой LSTM у тебя Embedding(..., trainable=False) без загруженной матрицы — фактически «замороженная случайная» эмбеддинг-матрица. В этом нет смысла. Либо ты обучаешь эмбеддинги, либо используешь предобученные\n",
    "\n",
    "✅Круто что ты нашел такую зависимость между 'subject' и 'target', для этого как раз графики и строятся, чтобы такое вот находить. В этом случае нам мл модель вообще не нужна, мы можем таргет предсказывать просто по subject и все, правильно что выкинул\n",
    "\n",
    "✅Кажется, у тебя утечка данных при использовании \n",
    "X_train_text = vectorizer.fit_transform(X_train['text'].fillna(''))\n",
    "X_test_text = vectorizer.fit_transform(X_test['text'].fillna(''))\n",
    "CountVectorizer должен быть частью пайплайна\n",
    "\n",
    "✅В реальных задачах ты никогда не будешь выкидывать текст статьи и оставлять только заголовок, поэтому используй сразу оба столбца\n",
    "\n",
    "✅У каждой модели хотелось бы посмотреть важности признаков, а именно токенов, ведь это самое главное в текстовой классификации: увидеть какие слова влияют в какую сторону.\n",
    "\n",
    "✅Добавь еще f1 метрику\n",
    "\n",
    "✅Тюнинг гиперпараметров советую потренировать на нейронках, там их как раз много. Будет долго обучаться, но для тренировки стоит сделать\n",
    "\n",
    "❓Еще общее замечание: код очень хаотичный и трудно разобрать, что зачем происходит. Старайся делить его на блоки и описывать что за чем происходит и логику своих действий, почему ты делаешь то или иное действие\n",
    "\n",
    "✅Еще тебе нужно разбить данные по времени, то есть в test самые свежие новости, в train более ранние\n",
    "\n",
    "✅Еще вспомнил, попробуй CNN использовать. Эта штука очень быстро обучается и точность высокая\n",
    "\n",
    "____________________________________________________________________________________________________________________________________________________________________________________________________\n",
    "\n",
    "✅Почему-то эта разбивка есть в improvements, но не в бейслайне. Сравнивать модели нужно на одной и той же выборке\n",
    "\n",
    "❓TextPreprocessor - тебе не нужен в пайплайне, можешь просто метод создать и применить ко всему датасету\n",
    "KerasTokenizerTransformer тоже не особо понял зачем, почему нельзя обычный Tokenizer добавить в пайплайн?\n",
    "\n",
    "✅Не вижу смысла в двух слоях LSTM и доп Dense слое. Попробуй минимальный сетап, посмотри на метрики, пробуй улучшать, оставляй только нужное. Должен быть компромисс между качеством и скоростью обучения. То же самое с RNN. C CNN тоже слишком громоздкая архитектура получилась"
   ]
  },
  {
   "cell_type": "markdown",
   "id": "84caa95d",
   "metadata": {},
   "source": [
    "## Начало"
   ]
  },
  {
   "cell_type": "code",
   "execution_count": 58,
   "id": "a82abee6",
   "metadata": {},
   "outputs": [],
   "source": [
    "import pandas as pd\n",
    "import numpy as np\n",
    "import seaborn as sns\n",
    "import nltk\n",
    "from sklearn.feature_extraction.text import CountVectorizer, TfidfVectorizer, HashingVectorizer\n",
    "from helper import *\n",
    "from sklearn.model_selection import train_test_split\n",
    "from sklearn.linear_model import LogisticRegression\n",
    "from sklearn.metrics import classification_report, accuracy_score\n",
    "from catboost import CatBoostClassifier\n",
    "from tensorflow.keras.preprocessing.text import Tokenizer\n",
    "from tensorflow.keras.preprocessing.sequence import pad_sequences\n",
    "from sklearn.model_selection import TimeSeriesSplit, train_test_split\n",
    "from tensorflow.keras.callbacks import EarlyStopping, ReduceLROnPlateau\n",
    "from nltk.corpus import stopwords\n",
    "from plots import *\n",
    "import re"
   ]
  },
  {
   "cell_type": "code",
   "execution_count": 59,
   "id": "ce3c1438",
   "metadata": {},
   "outputs": [],
   "source": [
    "SEED = 42"
   ]
  },
  {
   "cell_type": "code",
   "execution_count": 60,
   "id": "9e680c22",
   "metadata": {},
   "outputs": [],
   "source": [
    "stop_words = set(stopwords.words('english'))"
   ]
  },
  {
   "cell_type": "code",
   "execution_count": 61,
   "id": "48ce109b",
   "metadata": {},
   "outputs": [
    {
     "name": "stdout",
     "output_type": "stream",
     "text": [
      "Train distribution:\n",
      " target\n",
      "0    0.522984\n",
      "1    0.477016\n",
      "Name: proportion, dtype: float64\n",
      "Test distribution:\n",
      " target\n",
      "0    0.522993\n",
      "1    0.477007\n",
      "Name: proportion, dtype: float64\n"
     ]
    }
   ],
   "source": [
    "\n",
    "def split_dataset(path, target_value, date_col='date', target_col='target', ratio=0.8): # т.к. датасет лежит в 2 файлах и надо в тест взять самые новые новости приходится выкручиваться\n",
    "    df = pd.read_csv(path)\n",
    "    df[target_col] = target_value  # ставим таргет\n",
    "    df = df.sort_values(date_col).reset_index(drop=True)\n",
    "    split_idx = int(len(df) * ratio)\n",
    "\n",
    "    train = df.iloc[:split_idx]\n",
    "    test = df.iloc[split_idx:]\n",
    "\n",
    "    X_train = train.drop(columns=[target_col])\n",
    "    y_train = train[target_col]\n",
    "    X_test = test.drop(columns=[target_col])\n",
    "    y_test = test[target_col]\n",
    "\n",
    "    return X_train, X_test, y_train, y_test\n",
    "\n",
    "# true = класс 1, false = класс 0\n",
    "X_train_true, X_test_true, y_train_true, y_test_true = split_dataset('old/True.csv', target_value=1) # отдельно сплитим каждый датасет таким образом, что в тест попали самые свежие\n",
    "X_train_false, X_test_false, y_train_false, y_test_false = split_dataset('old/Fake.csv', target_value=0)\n",
    "\n",
    "# объединяем\n",
    "X_train = pd.concat([X_train_true, X_train_false], ignore_index=True)\n",
    "y_train = pd.concat([y_train_true, y_train_false], ignore_index=True)\n",
    "X_test = pd.concat([X_test_true, X_test_false], ignore_index=True)\n",
    "y_test = pd.concat([y_test_true, y_test_false], ignore_index=True)\n",
    "\n",
    "# X_train['combo'] = X_train['title'] + X_train['text']\n",
    "# X_test['combo'] = X_test['title'] + X_test['text']\n",
    "\n",
    "# финальное распределение\n",
    "print('Train distribution:\\n', y_train.value_counts(normalize=True))\n",
    "print('Test distribution:\\n', y_test.value_counts(normalize=True))"
   ]
  },
  {
   "cell_type": "code",
   "execution_count": 62,
   "id": "e3913602",
   "metadata": {},
   "outputs": [
    {
     "data": {
      "application/vnd.microsoft.datawrangler.viewer.v0+json": {
       "columns": [
        {
         "name": "index",
         "rawType": "int64",
         "type": "integer"
        },
        {
         "name": "title",
         "rawType": "object",
         "type": "string"
        },
        {
         "name": "text",
         "rawType": "object",
         "type": "string"
        },
        {
         "name": "subject",
         "rawType": "object",
         "type": "string"
        },
        {
         "name": "date",
         "rawType": "object",
         "type": "string"
        }
       ],
       "ref": "ddf14a18-c8d1-481a-8536-817d96920d24",
       "rows": [
        [
         "0",
         "Trump sued in Kentucky by three who say he incited crowd to violence",
         "LOUISVILLE, Ky. (Reuters) - Three people who claim they were assaulted at a Donald Trump rally in Louisville, Kentucky, last month have filed a lawsuit against the Republican presidential candidate, saying he “incited a riot.” Molly Shah, Kashiya Nwanguma and Henry Brousseau filed the lawsuit on Thursday in Jefferson Circuit Court in Louisville, claiming that Trump’s repeated calls of “get them out” at a rally at the Kentucky International Convention Center on March 1 was intended to direct his supporters to “use unwanted, harmful physical force to remove protesters, including the plaintiffs.” The lawsuit also names as defendants the Trump campaign and three individuals who the plaintiffs claim assaulted them at the rally. The three plaintiffs, all Louisville residents, claim they suffered physical injuries, emotional distress and humiliation, and are seeking unspecified damages, according to the lawsuit. “Peaceful protest is an American tradition, especially in the context of presidential politics,” Dan Canon, the attorney for the plaintiffs, told Reuters in a Twitter message. “But what you see all over the country, time and time again, is violence employed against protesters at Trump campaign events. These plaintiffs are saying ‘enough is enough,’”  The lawsuit said Trump stopped his 30-minute speech five times to point out protesters and, in most cases, told supporters to “get ‘em out of here,” according to the lawsuit. A spokeswoman for Trump’s campaign could not be reached for comment. The lawsuit claims that Trump “incited a riot as defined under the Kentucky penal code.” The individuals named as defendants are Matthew Heimbach, described in the complaint as a Trump supporter and Ohio resident who is “affiliated with the Traditionalist Worker Party, a recognized hate group”; Alvin Bamberger, 75, described as a Trump supporter and an Ohio resident; and an unknown female. According to the lawsuit, at the rally, Heimbach, who was wearing a Traditionalist Worker Party T-shirt, attacked Shah and Nwanguma. A spokesman for the Traditional Worker Party could not be reached. A website for the Traditionalist Worker Party describes it as a grassroots political organization that believes, among other things, that “European-American identity is under constant attack.” The Southern Poverty Law Center, a non-profit organization that monitors groups it considers extremist, classifies the Traditionalist Worker Party as a white nationalist hate group. According to the lawsuit, Nwanguma was assaulted by numerous protesters at the rally, of whom Heimbach and Bamberger were the most aggressive. Video of Nwanguma, a 21-year-old college student, being repeatedly pushed at the convention went viral after the rally, the lawsuit said. Bamberger could not be reached immediately for comment. The lawsuit also claims that Shah was assaulted by Heimbach and that Brousseau was assaulted by the unknown female defendant. ",
         "politicsNews",
         "April 1, 2016 "
        ],
        [
         "1",
         "In record year for political ads, media buyers see tight market ",
         "(Reuters) - Media buyers expect record political ad spending driven by the U.S. presidential race will create a tight market for advertisers and drive up rates. Super PACs, which rose to prominence after a landmark U.S. Supreme Court campaign finance decision in 2010, are preparing to buy national ads and to spend more once the nominees for each party are chosen at the political conventions in July, media buyers who work with these groups told Reuters. “The campaigns are more sophisticated and are raising more money than ever before,” said Kyle Roberts, president and chief executive of Smart Media Group, an Alexandria, VA-based media buyer that works with Republican candidates. “It is much easier today for outside groups to raise money to influence national elections.”  The bulk of political ad spending typically is in local markets. But networks are already seeing more national ad buys by the Super PACs, a shift that could benefit television networks. The election also has brought a ratings boon to television, which had been losing audience to Internet streaming. Fox News Channel said Wednesday it was No. 1 among basic cable networks last quarter for the first time.. CNN had the best quarter in seven years.  “We have seen a little bit of the Super PAC money come in,” said Katrina Cukaj executive vice president of portfolio sales and client partnerships at Turner ad sales, part of Time Warner Inc (TWX.N), which owns CNN. “We haven’t seen the full force of it yet. That will come when we know who the candidates are.”  The frenzy in political ad spending is expected to reshape  advertiser behavior. Media buyers predict the presidential election will result in an increase in spending at this year’s so-called upfronts, where the networks present their fall line-ups and woo big advertisers with swanky parties and celebrity appearances. Upfronts run through May. “The Super PACs are not afraid to spend hundreds of millions of dollars in just a few local stations, so it wouldn’t surprise me if the national election is going to have a real impact on the upfronts,” said Barry Lowenthal, president of The Media Kitchen, a New York-based media buyer. Lowenthal expects pricing for advertising to go up as a result of the Super PAC spending.  More advertisers are expected to lock in ad spots for the fourth quarter, rather than face price increases later or risk getting shut out of the market. Media buyers say they expect up to a 5 percent increase in spending for this year’s upfronts – the first increase in two years. That could mean a jump in spending of up to $8.9 billion for prime time spots alone, based on data from Media Dynamics. Presidential ad spending for cable and broadcast television and radio in 2016 has already surpassed the $300 million mark, up more than 200 percent from the same period in the 2012 election cycle, according to data from Smart Media Group.  “This is going to be a very good year for us,” said CBS Chair and CEO Les Moonves at an investment conference in February. “It’s a terrible thing to say, but bring it on Donald. Keep going,” Moonves said, referring to the Republican GOP frontrunner, Donald Trump. ",
         "politicsNews",
         "April 1, 2016 "
        ],
        [
         "2",
         "Obama, Republicans urge Trump to soften tone",
         "WASHINGTON (Reuters) - Donald Trump is facing bipartisan pressure to adopt a more presidential tone in his White House run including from Democratic President Barack Obama and Republicans who worry his missteps may do irreparable harm to the party and his campaign.  The Republican front-runner came under fire from Obama on Friday over Trump’s recent comments that he would not rule out using nuclear weapons in Europe and that Japan and South Korea might need nuclear weapons to ease the U.S. financial commitment to their security.  “The person who made the statements doesn’t know much about foreign policy or nuclear policy or the Korean peninsula, or the world generally,” Obama told a news conference at the conclusion of a nuclear security summit in Washington. “I’ve said before that people pay attention to American elections. What we do is really important to the rest of the world,” he said. Trump lost ground on the online prediction market after drawing fire for his suggestion earlier in the week, which he later dialed back, that women be punished for getting abortions if the procedure is banned. Those who marveled at Trump’s rise are now warning the New York billionaire that his shoot-from-the-lip approach to campaigning could jeopardize his chance to win the Republican nomination for the Nov. 8 election. Tuesday could be a turning point when Wisconsin hosts its nominating contest. Trump, 69, trails his leading rival, U.S. Senator Ted Cruz, 45, of Texas in the Upper Midwestern state. A Cruz win would make it harder for Trump to reach the magic number of 1,237 delegates needed to secure the nomination before the Republican national convention in July. The winner will get to claim all of Wisconsin’s 42 delegates. “If he continues to fumble the ball, he risks everything,” said David Bossie, who as president of the conservative group Citizens United has helped to introduce Trump to grassroots activists. “These types of ham-handed mistakes give his opponents even greater opportunity.” But losing the Republican nomination may not keep Trump out of the November election. In excerpts of an interview on “Fox News Sunday” to be aired this Sunday, Trump said he wanted to run as a Republican but declined to rule out a third-party candidacy. Asked what he would do if he didn’t get the Republican nomination, Trump replied: “We’re going to have to see how I was treated.” A businessman and former reality TV show host, Trump has never held public office but hails his mastery of negotiating business deals as the sort of experience a U.S. president needs to be successful at home and abroad. He sent ripples through the Republican Party, which promotes a muscular foreign policy, by declaring NATO obsolete and for asserting that as president he might loosen the ties with  longstanding U.S. allies.   Trump made a surprise visit on Thursday to the Republican National Committee in Washington where he said he and Chairman Reince Priebus discussed how to unify the party going into the July convention. Priebus also addressed any confusion Trump may have had about delegate allocation rules that will govern the proceedings, a source familiar with the meeting told Reuters. Should Trump fail to win enough delegates to secure the nomination outright in the state-by-state contests ending in June, party delegates will select a nominee at the convention in a complex process of sequential votes. Online predictions market PredictIt said on Friday that the probability Trump will win his party’s nomination has dropped sharply in the past week while the likelihood of a contested convention to choose another candidate has risen. Those Republicans who see in Trump a chance to generate voter turnout beyond party regulars to blue-collar Democrats and win the White House say his detail-free style of campaigning has come back to haunt him and he needs to gear up for a new phase. Trump needs to be less sensitive about attacks from opponents and let some go by without responding, said retired neurosurgeon Ben Carson, a former Republican presidential candidate who dropped out of the race earlier this year and has since endorsed Trump. “If he can just get beyond that and learn how to bite his tongue and redirect people to something that is important, it will show a level of statesmanship,” Carson said. During the Wisconsin campaign, Trump has relentlessly attacked the state’s governor, Scott Walker, another Republican who dropped out of the presidential race last year and who has endorsed Cruz. Former U.S. House of Representatives Speaker Newt Gingrich, who has offered Trump informal advice, said Trump should replicate the type of performance he gave at the American Israel Public Affairs Committee on March 21, when he spoke from a teleprompter and offered a well-thought-out case for strong U.S.-Israeli relations. Gingrich said Trump should make eight to 10 policy speeches in order to give voters “a sense of stability and seriousness.” “He’s gone from being an insurgent that people laughed at and a front-runner that people were amazed by to the potential nominee. That requires you to change your role as all this comes together,” Gingrich said. Alternatively, Trump could start to listen to what he says is his wife Melania’s longtime admonishment: “Darling, be more presidential.”  Former Secretary of State Hillary Clinton and U.S. Senator Bernie Sanders will compete in Wisconsin on Tuesday on the Democratic Party side. Both have hop-scotched between Wisconsin and New York, which holds its primary on April 19.  Clinton, a former U.S. senator from New York with national campaign headquarters in Brooklyn, is trying to prevent the Brooklyn-born Sanders, who represents Vermont in the Senate, from eroding support on her home turf. Both candidates will attend a state party fundraising dinner in Wisconsin on Saturday. ",
         "politicsNews",
         "April 1, 2016 "
        ],
        [
         "3",
         "State Department says halts review of Clinton emails at FBI request",
         "WASHINGTON (Reuters) - The U.S. State Department has suspended plans for an internal review of whether classified information was properly handled in former Secretary of State Hillary Clinton’s emails at the request of the FBI, a spokeswoman said on Friday. Clinton, the front-runner in the race for the Democratic Party nomination in the Nov. 8 presidential election, has apologized for using a private email server for official business while in office from 2009 to 2013 and said she did nothing wrong. The Federal Bureau of Investigation is probing the arrangement. On Jan. 29, the State Department said 22 emails sent or received by Clinton had been upgraded to top secret at the request U.S. intelligence agencies and would not be made public as part of the release of thousands of Clinton’s emails. It said that none of the emails was marked classified when sent. At the time, the department also said it would conduct an internal review on whether the information in the emails was classified at the time it passed through Clinton’s private clintonemail.com account run on a server in her New York home. The State Department consulted the FBI about this in February, and in March the law enforcement agency asked the State Department to halt its inquiry. “The FBI communicated to us that we should follow our standard practice, which is to put our internal review on hold while there is an ongoing law enforcement investigation ,” State Department spokeswoman Elizabeth Trudeau told reporters.  “The internal review is on hold, pending completion of the FBI’s work,” she added.” We’ll reassess next steps after the FBI’s work is complete.” A U.S. State Department official who spoke on condition of anonymity said the State Department had really only done “administrative work” on its review but had held off while waiting for a response from the FBI. “It took a little bit of time for the FBI to respond to our request for advice and in the interim we did not pursue the review out of prudence,” said the official, who declined further comment on the State Department review. The government forbids handling of classified information, which may or may not be marked that way, outside secure government-controlled channels, and sometimes prosecutes people who remove it from such channels. The government classifies information as top secret if it deems a leak could cause “exceptionally grave damage” to national security. Two judges have allowed a group suing for Clinton’s records to seek sworn testimony from officials. On Tuesday, one judge said there was “evidence of government wrongdoing and bad faith” over the arrangement.",
         "politicsNews",
         "April 1, 2016 "
        ],
        [
         "4",
         "Obama: Trump doesn't know much about foreign policy, world",
         "WASHINGTON (Reuters) - U.S. President Barack Obama said on Friday that Donald Trump’s recent comments that South Korea and Japan should acquire nuclear weapons show the leading Republican presidential candidate is not well informed on international relations. Trump told The New York Times in an interview published on Sunday that he would consider letting the countries build their own nuclear weapons, rather than having them count on U.S. protection against North Korea and China. Obama has made no secret of his disdain for the billionaire businessman, and he continued that theme with his repudiation of Trump’s pronouncements. “What do the statements you mentioned tell us?” Obama told reporters at a news conference at the conclusion of a nuclear security summit. “They tell us that the person who made the statements doesn’t know much about foreign policy or nuclear policy or the Korean peninsula, or the world generally.” Obama said Trump’s candidacy had come up as a topic with world leaders on the sidelines of the summit, and he lamented the state of the Republican race. “Even ... those countries that are used to a carnival atmosphere in their own politics want sobriety and clarity when it comes to U.S. elections because they understand the president of the United States needs to know what’s going on around the world,” he said. Obama took apart Trump’s positions point by point.  The U.S. alliance with Japan and South Korea was one of the cornerstones of America’s presence in the Asia Pacific region and had underwritten peace and prosperity there, he said.  The relationship had been a boon to U.S. commerce and influence in addition to preventing nuclear escalation and conflict, he added. “You don’t mess with that. It is an investment that rests on the sacrifices that our men and women made back in World War II when they were fighting throughout the Pacific,” Obama said. “We don’t want somebody in the Oval Office who doesn’t recognize how important that is.” ",
         "politicsNews",
         "April 1, 2016 "
        ],
        [
         "5",
         "Obama says 'no doubt' civilians have been killed in drone strikes",
         "WASHINGTON (Reuters) - U.S. President Barack Obama said on Friday there is no doubt that civilians have been killed in U.S. drone strikes targeting suspected terrorists, and procedures are constantly evaluated. He told a news conference at the end of a nuclear security summit that there had been “legitimate criticism” of the legal framework for the drone strikes and “there is no doubt that civilians were killed that shouldn’t have been.” ",
         "politicsNews",
         "April 1, 2016 "
        ],
        [
         "6",
         "Former New York deputy secretary of state accused of perjury",
         "NEW YORK (Reuters) - A former New York deputy secretary of state was arraigned on Friday after being indicted this week on charges that he lied about paying restitution after being convicted in 2007 of defrauding the state, the U.S. Justice Department said. Joseph Strevell, 54, of Castleton, New York, served as deputy secretary of state of New York from 1997 to 1999. He faces five counts of perjury and one count of defaulting on a restitution obligation. The Justice Department has accused him of lying under oath about making monthly payments, as well as his contributions toward the purchase of a 138-acre horse farm in 2013 and his daughter’s wedding in 2014. Prosecutors said Strevell falsely testified that his mother and aunt paid most of a $75,440 down payment on a lease for the farm and that he paid a couple thousand dollars for the wedding, when in fact he contributed more than $30,000. Strevell was convicted in federal court of defrauding the state after he left the state department, which traditionally oversees official records, to serve as head of the state-funded Institute of Entrepreneurship. In 2009, he was ordered to pay $111,500 in restitution, and given guidelines to pay a minimum of $100 per month or 10 percent of his gross monthly earnings, whichever was greater. After his arraignment, Strevell was released from custody in Albany, New York pending a trial in U.S. District Court. “Restitution is a mandatory obligation that no convicted felon should be able to walk away from,” Richard Hartunian, U.S. attorney for the northern district of New York, said in a statement. Strevell’s attorney, Paul Evangelista, declined to comment on the case. ",
         "politicsNews",
         "April 1, 2016 "
        ],
        [
         "7",
         "Hillary Clinton to propose $10 billion manufacturing investment",
         "WASHINGTON (Reuters) - Democratic presidential candidate Hillary Clinton on Friday will propose a $10 billion investment in partnerships to encourage the growth of the U.S. manufacturing sector as part of a national push to discourage outsourcing in the industry. The proposal would work with a broader campaign to encourage companies to build and expand their U.S. manufacturing operations. Clinton is slated to roll out the proposal on Friday in Syracuse, New York, ahead of the state’s nominating contest on April 19. New York has long been a hub of the manufacturing industry, but suffered significant declines in the sector in recent years. From 2000-2008, upstate New York alone lost nearly 105,000 manufacturing jobs, according to the state government. Clinton maintains a lead in the state, which she represented in the U.S. Senate, over rival Bernie Sanders, a U.S. Senator from Vermont and a New York native.  Sanders was born and raised in New York City’s borough of Brooklyn. The Clinton campaign is headquartered there.  The campaign said the proposal’s multi-billion dollar price tag would largely be covered by Clinton’s proposed “clawback” tax, which would rescind tax relief for companies that outsource jobs or facilities abroad. ",
         "politicsNews",
         "April 1, 2016 "
        ],
        [
         "8",
         "Trump's probability of winning nomination drops: PredictIt",
         "NEW YORK (Reuters) - The probability that Republican front-runner Donald Trump will win his party’s presidential nomination dropped sharply in the past week while the likelihood of a brokered convention to potentially choose another candidate rose, according to online predictions market PredictIt. Trump’s probability of winning the nomination fell to 44 percent on Friday from 67 percent a week ago, according to the website, which is run by Victoria University in Wellington, New Zealand. For Republican rival Ted Cruz, a U.S. Senator from Texas, it rose to 34 percent from 14 percent during the same period.  The probability that the Republicans will have a brokered convention to decide the nominee for the Nov. 8 election jumped to 69 percent from 43 percent a week ago, according to PredictIt, an online predictions market where users place money on who they think will win the election. Many users are from the United States.  Celebrity businessman Trump is facing pressure to take a more serious approach to his presidential campaign from supporters worried that a string of recent missteps and controversial comments may do lasting damage.    A Cruz win in Tuesday’s primary in Wisconsin would make it harder for Trump to reach the 1,237 delegates needed to clinch the nomination before the Republican national convention in July.  If Trump does not win enough delegates, then the party faces the prospect of holding a contested, or brokered, convention in which party leaders try to negotiate nominating a compromise candidate.                        ",
         "politicsNews",
         "April 1, 2016 "
        ],
        [
         "9",
         "Senator Warren seeks investigation of insurers over retirement rule",
         "WASHINGTON (Reuters) - Senator Elizabeth Warren, a Massachusetts Democrat who advocates for strong financial regulation, asked U.S. securities regulators on Thursday to investigate comments made by major insurance companies about a forthcoming federal rule on retirement advice. Last month, Warren criticized Lincoln National, Jackson National Life Insurance Company, Prudential Financial and Transamerica, a unit of Aegon NV , for publicly stating that the rule requiring retirement advisers to put their clients’ interests ahead of their own would hurt business while privately telling investors it would not create a major hurdle. On Thursday, she went one step further and requested the Securities and Exchange Commission to formally look into whether the statements were contradictory and ran afoul of securities laws.  “Both sets of industry claims - that the proposed rule will harm them and their business model, and that the proposed rule will not harm them and their business model - cannot possibly be true. And if one these public statements is materially false, it would appear to violate long-standing interpretations of our securities laws,” she wrote to SEC Chair Mary Jo White. The White House will soon publicly release the latest version of the rule, drafted by the Labor Department. The 2010 Dodd-Frank Wall Street Reform law called for holding brokers who give retirement advice to a strong fiduciary standard, meaning they must act in their clients’ best interest, as a way to protect retirees from buying unnecessary products that line brokers’ pockets. The Labor Department had to withdraw its initial version of the rule in 2011 after complaints from members of both political parties and the financial services industry. Warren says that financial and insurance companies have warned in public that the proposed rule could drive up costs and stop them from offering retirement services such as annuities to middle- and lower-income people. But in earnings calls they have reassured investors that they will come up with new products or approaches that will minimize threats to their businesses. Responding to Warren’s critique last month, most of the insurers said their public warnings did not contradict reassurances to investors that they could withstand regulatory changes. They said their companies could navigate potential disruptions but they were still concerned about the consequences for consumers seeking retirement advice.  ",
         "politicsNews",
         "April 1, 2016 "
        ]
       ],
       "shape": {
        "columns": 4,
        "rows": 10
       }
      },
      "text/html": [
       "<div>\n",
       "<style scoped>\n",
       "    .dataframe tbody tr th:only-of-type {\n",
       "        vertical-align: middle;\n",
       "    }\n",
       "\n",
       "    .dataframe tbody tr th {\n",
       "        vertical-align: top;\n",
       "    }\n",
       "\n",
       "    .dataframe thead th {\n",
       "        text-align: right;\n",
       "    }\n",
       "</style>\n",
       "<table border=\"1\" class=\"dataframe\">\n",
       "  <thead>\n",
       "    <tr style=\"text-align: right;\">\n",
       "      <th></th>\n",
       "      <th>title</th>\n",
       "      <th>text</th>\n",
       "      <th>subject</th>\n",
       "      <th>date</th>\n",
       "    </tr>\n",
       "  </thead>\n",
       "  <tbody>\n",
       "    <tr>\n",
       "      <th>0</th>\n",
       "      <td>Trump sued in Kentucky by three who say he inc...</td>\n",
       "      <td>LOUISVILLE, Ky. (Reuters) - Three people who c...</td>\n",
       "      <td>politicsNews</td>\n",
       "      <td>April 1, 2016</td>\n",
       "    </tr>\n",
       "    <tr>\n",
       "      <th>1</th>\n",
       "      <td>In record year for political ads, media buyers...</td>\n",
       "      <td>(Reuters) - Media buyers expect record politic...</td>\n",
       "      <td>politicsNews</td>\n",
       "      <td>April 1, 2016</td>\n",
       "    </tr>\n",
       "    <tr>\n",
       "      <th>2</th>\n",
       "      <td>Obama, Republicans urge Trump to soften tone</td>\n",
       "      <td>WASHINGTON (Reuters) - Donald Trump is facing ...</td>\n",
       "      <td>politicsNews</td>\n",
       "      <td>April 1, 2016</td>\n",
       "    </tr>\n",
       "    <tr>\n",
       "      <th>3</th>\n",
       "      <td>State Department says halts review of Clinton ...</td>\n",
       "      <td>WASHINGTON (Reuters) - The U.S. State Departme...</td>\n",
       "      <td>politicsNews</td>\n",
       "      <td>April 1, 2016</td>\n",
       "    </tr>\n",
       "    <tr>\n",
       "      <th>4</th>\n",
       "      <td>Obama: Trump doesn't know much about foreign p...</td>\n",
       "      <td>WASHINGTON (Reuters) - U.S. President Barack O...</td>\n",
       "      <td>politicsNews</td>\n",
       "      <td>April 1, 2016</td>\n",
       "    </tr>\n",
       "    <tr>\n",
       "      <th>5</th>\n",
       "      <td>Obama says 'no doubt' civilians have been kill...</td>\n",
       "      <td>WASHINGTON (Reuters) - U.S. President Barack O...</td>\n",
       "      <td>politicsNews</td>\n",
       "      <td>April 1, 2016</td>\n",
       "    </tr>\n",
       "    <tr>\n",
       "      <th>6</th>\n",
       "      <td>Former New York deputy secretary of state accu...</td>\n",
       "      <td>NEW YORK (Reuters) - A former New York deputy ...</td>\n",
       "      <td>politicsNews</td>\n",
       "      <td>April 1, 2016</td>\n",
       "    </tr>\n",
       "    <tr>\n",
       "      <th>7</th>\n",
       "      <td>Hillary Clinton to propose $10 billion manufac...</td>\n",
       "      <td>WASHINGTON (Reuters) - Democratic presidential...</td>\n",
       "      <td>politicsNews</td>\n",
       "      <td>April 1, 2016</td>\n",
       "    </tr>\n",
       "    <tr>\n",
       "      <th>8</th>\n",
       "      <td>Trump's probability of winning nomination drop...</td>\n",
       "      <td>NEW YORK (Reuters) - The probability that Repu...</td>\n",
       "      <td>politicsNews</td>\n",
       "      <td>April 1, 2016</td>\n",
       "    </tr>\n",
       "    <tr>\n",
       "      <th>9</th>\n",
       "      <td>Senator Warren seeks investigation of insurers...</td>\n",
       "      <td>WASHINGTON (Reuters) - Senator Elizabeth Warre...</td>\n",
       "      <td>politicsNews</td>\n",
       "      <td>April 1, 2016</td>\n",
       "    </tr>\n",
       "  </tbody>\n",
       "</table>\n",
       "</div>"
      ],
      "text/plain": [
       "                                               title  \\\n",
       "0  Trump sued in Kentucky by three who say he inc...   \n",
       "1  In record year for political ads, media buyers...   \n",
       "2       Obama, Republicans urge Trump to soften tone   \n",
       "3  State Department says halts review of Clinton ...   \n",
       "4  Obama: Trump doesn't know much about foreign p...   \n",
       "5  Obama says 'no doubt' civilians have been kill...   \n",
       "6  Former New York deputy secretary of state accu...   \n",
       "7  Hillary Clinton to propose $10 billion manufac...   \n",
       "8  Trump's probability of winning nomination drop...   \n",
       "9  Senator Warren seeks investigation of insurers...   \n",
       "\n",
       "                                                text       subject  \\\n",
       "0  LOUISVILLE, Ky. (Reuters) - Three people who c...  politicsNews   \n",
       "1  (Reuters) - Media buyers expect record politic...  politicsNews   \n",
       "2  WASHINGTON (Reuters) - Donald Trump is facing ...  politicsNews   \n",
       "3  WASHINGTON (Reuters) - The U.S. State Departme...  politicsNews   \n",
       "4  WASHINGTON (Reuters) - U.S. President Barack O...  politicsNews   \n",
       "5  WASHINGTON (Reuters) - U.S. President Barack O...  politicsNews   \n",
       "6  NEW YORK (Reuters) - A former New York deputy ...  politicsNews   \n",
       "7  WASHINGTON (Reuters) - Democratic presidential...  politicsNews   \n",
       "8  NEW YORK (Reuters) - The probability that Repu...  politicsNews   \n",
       "9  WASHINGTON (Reuters) - Senator Elizabeth Warre...  politicsNews   \n",
       "\n",
       "             date  \n",
       "0  April 1, 2016   \n",
       "1  April 1, 2016   \n",
       "2  April 1, 2016   \n",
       "3  April 1, 2016   \n",
       "4  April 1, 2016   \n",
       "5  April 1, 2016   \n",
       "6  April 1, 2016   \n",
       "7  April 1, 2016   \n",
       "8  April 1, 2016   \n",
       "9  April 1, 2016   "
      ]
     },
     "execution_count": 62,
     "metadata": {},
     "output_type": "execute_result"
    }
   ],
   "source": [
    "X_train.head(10)"
   ]
  },
  {
   "cell_type": "code",
   "execution_count": 63,
   "id": "bf5cca22",
   "metadata": {},
   "outputs": [
    {
     "data": {
      "application/vnd.microsoft.datawrangler.viewer.v0+json": {
       "columns": [
        {
         "name": "index",
         "rawType": "int64",
         "type": "integer"
        },
        {
         "name": "title",
         "rawType": "object",
         "type": "string"
        }
       ],
       "ref": "e84f7900-a7c3-453f-8249-74f264926e08",
       "rows": [
        [
         "0",
         "Trump sued in Kentucky by three who say he incited crowd to violence"
        ],
        [
         "1",
         "In record year for political ads, media buyers see tight market "
        ],
        [
         "2",
         "Obama, Republicans urge Trump to soften tone"
        ],
        [
         "3",
         "State Department says halts review of Clinton emails at FBI request"
        ],
        [
         "4",
         "Obama: Trump doesn't know much about foreign policy, world"
        ],
        [
         "5",
         "Obama says 'no doubt' civilians have been killed in drone strikes"
        ],
        [
         "6",
         "Former New York deputy secretary of state accused of perjury"
        ],
        [
         "7",
         "Hillary Clinton to propose $10 billion manufacturing investment"
        ],
        [
         "8",
         "Trump's probability of winning nomination drops: PredictIt"
        ],
        [
         "9",
         "Senator Warren seeks investigation of insurers over retirement rule"
        ]
       ],
       "shape": {
        "columns": 1,
        "rows": 10
       }
      },
      "text/html": [
       "<div>\n",
       "<style scoped>\n",
       "    .dataframe tbody tr th:only-of-type {\n",
       "        vertical-align: middle;\n",
       "    }\n",
       "\n",
       "    .dataframe tbody tr th {\n",
       "        vertical-align: top;\n",
       "    }\n",
       "\n",
       "    .dataframe thead th {\n",
       "        text-align: right;\n",
       "    }\n",
       "</style>\n",
       "<table border=\"1\" class=\"dataframe\">\n",
       "  <thead>\n",
       "    <tr style=\"text-align: right;\">\n",
       "      <th></th>\n",
       "      <th>title</th>\n",
       "    </tr>\n",
       "  </thead>\n",
       "  <tbody>\n",
       "    <tr>\n",
       "      <th>0</th>\n",
       "      <td>Trump sued in Kentucky by three who say he inc...</td>\n",
       "    </tr>\n",
       "    <tr>\n",
       "      <th>1</th>\n",
       "      <td>In record year for political ads, media buyers...</td>\n",
       "    </tr>\n",
       "    <tr>\n",
       "      <th>2</th>\n",
       "      <td>Obama, Republicans urge Trump to soften tone</td>\n",
       "    </tr>\n",
       "    <tr>\n",
       "      <th>3</th>\n",
       "      <td>State Department says halts review of Clinton ...</td>\n",
       "    </tr>\n",
       "    <tr>\n",
       "      <th>4</th>\n",
       "      <td>Obama: Trump doesn't know much about foreign p...</td>\n",
       "    </tr>\n",
       "    <tr>\n",
       "      <th>5</th>\n",
       "      <td>Obama says 'no doubt' civilians have been kill...</td>\n",
       "    </tr>\n",
       "    <tr>\n",
       "      <th>6</th>\n",
       "      <td>Former New York deputy secretary of state accu...</td>\n",
       "    </tr>\n",
       "    <tr>\n",
       "      <th>7</th>\n",
       "      <td>Hillary Clinton to propose $10 billion manufac...</td>\n",
       "    </tr>\n",
       "    <tr>\n",
       "      <th>8</th>\n",
       "      <td>Trump's probability of winning nomination drop...</td>\n",
       "    </tr>\n",
       "    <tr>\n",
       "      <th>9</th>\n",
       "      <td>Senator Warren seeks investigation of insurers...</td>\n",
       "    </tr>\n",
       "  </tbody>\n",
       "</table>\n",
       "</div>"
      ],
      "text/plain": [
       "                                               title\n",
       "0  Trump sued in Kentucky by three who say he inc...\n",
       "1  In record year for political ads, media buyers...\n",
       "2       Obama, Republicans urge Trump to soften tone\n",
       "3  State Department says halts review of Clinton ...\n",
       "4  Obama: Trump doesn't know much about foreign p...\n",
       "5  Obama says 'no doubt' civilians have been kill...\n",
       "6  Former New York deputy secretary of state accu...\n",
       "7  Hillary Clinton to propose $10 billion manufac...\n",
       "8  Trump's probability of winning nomination drop...\n",
       "9  Senator Warren seeks investigation of insurers..."
      ]
     },
     "execution_count": 63,
     "metadata": {},
     "output_type": "execute_result"
    }
   ],
   "source": [
    "X_val, X_test, y_val, y_test = train_test_split(X_test, y_test, test_size=0.5, random_state=SEED, shuffle=True, stratify=None)\n",
    "\n",
    "# X_train.drop(columns=['subject', 'date'], inplace=True)\n",
    "# X_test.drop(columns=['subject', 'date'], inplace=True)\n",
    "# X_val.drop(columns=['subject', 'date'], inplace=True)\n",
    "\n",
    "X_train.drop(columns=['subject', 'date', 'text'], inplace=True) # удаляем неинформативные колонки\n",
    "X_test.drop(columns=['subject', 'date', 'text'], inplace=True)\n",
    "X_val.drop(columns=['subject', 'date', 'text'], inplace=True)\n",
    "\n",
    "X_train.head(10)"
   ]
  },
  {
   "cell_type": "code",
   "execution_count": 64,
   "id": "87e073c0",
   "metadata": {},
   "outputs": [
    {
     "data": {
      "text/plain": [
       "(4490, 4491)"
      ]
     },
     "execution_count": 64,
     "metadata": {},
     "output_type": "execute_result"
    }
   ],
   "source": [
    "len(X_val), len(X_test)"
   ]
  },
  {
   "cell_type": "markdown",
   "id": "0d5b6339",
   "metadata": {},
   "source": [
    "блок для тестов"
   ]
  },
  {
   "cell_type": "code",
   "execution_count": 65,
   "id": "20a0b6cc",
   "metadata": {},
   "outputs": [],
   "source": [
    "# def preprocessing(text):\n",
    "#      text = text.lower()\n",
    "#      text = re.sub('[^a-zA-Z]', ' ', text)\n",
    "#      text = re.sub('\\s+', ' ', text)\n",
    "#      text = re.sub(r'https?://\\S+|www\\.\\S+|[^a-zA-Z\\s]', '', text)\n",
    "#      text = re.sub(r'<.*?>', '', text)\n",
    "#      return text \n",
    "\n",
    "# vectorized = np.vectorize(preprocessing)\n",
    "# x_train = vectorized(X_train)\n",
    "# x_test = vectorized(X_test)\n",
    "# x_val = vectorized(X_val)\n",
    "\n",
    "# print('the first 20 words of first train text after preprocessing:')\n",
    "# visualize = ''\n",
    "# counter = 0 \n",
    "\n",
    "# for i in x_train[0].split(' '):\n",
    "#     visualize = visualize + i + \" \" \n",
    "#     if counter>20:\n",
    "#         break\n",
    "#     counter = counter + 1 \n",
    "\n",
    "# print(visualize)\n",
    "\n",
    "# tokenizer = Tokenizer()\n",
    "# tokenizer.fit_on_texts(x_train)\n",
    "\n",
    "# train_seq = tokenizer.texts_to_sequences(x_train)\n",
    "# test_seq = tokenizer.texts_to_sequences(x_test)\n",
    "# val_seq = tokenizer.texts_to_sequences(x_val)\n",
    "# vocab_size = len(tokenizer.word_index) + 1 \n",
    "# max_length = max(len(sequence) for sequence in train_seq)\n",
    "\n",
    "# train_seq = pad_sequences(train_seq, maxlen = max_length, padding = 'post', truncating = 'post')\n",
    "# test_seq = pad_sequences(test_seq, maxlen = max_length, padding = 'post', truncating = 'post')\n",
    "# val_seq = pad_sequences(val_seq, maxlen = max_length, padding = 'post', truncating = 'post')"
   ]
  },
  {
   "cell_type": "markdown",
   "id": "07990d73",
   "metadata": {},
   "source": [
    "## Preprocessing"
   ]
  },
  {
   "cell_type": "code",
   "execution_count": 66,
   "id": "10c5ca7b",
   "metadata": {},
   "outputs": [
    {
     "name": "stderr",
     "output_type": "stream",
     "text": [
      "[nltk_data] Downloading package stopwords to\n",
      "[nltk_data]     C:\\Users\\nemow\\AppData\\Roaming\\nltk_data...\n",
      "[nltk_data]   Package stopwords is already up-to-date!\n"
     ]
    },
    {
     "data": {
      "text/plain": [
       "True"
      ]
     },
     "execution_count": 66,
     "metadata": {},
     "output_type": "execute_result"
    }
   ],
   "source": [
    "import nltk\n",
    "nltk.download('stopwords')"
   ]
  },
  {
   "cell_type": "markdown",
   "id": "2eed0960",
   "metadata": {},
   "source": [
    "Я посмотрел, обычный керас tokenizer нельзя использовать без кастомных классов, т.к. у него нет своих методов .fit(), .transform()\n",
    "\n",
    "Я пытался сделать через FunctionTransformer, но:\n",
    "\n",
    "- Ему все равно надо прописывать .fit(), .transform()\n",
    "\n",
    "- Он в запоминает только OVV токен\n",
    "\n",
    "Поэтому оставил как есть, очистка текста тоже осталась в пайплайне. т.к. при инференсе все равно пришлось бы текст точно так же чистить "
   ]
  },
  {
   "cell_type": "code",
   "execution_count": 67,
   "id": "c42deebd",
   "metadata": {},
   "outputs": [
    {
     "name": "stderr",
     "output_type": "stream",
     "text": [
      "[nltk_data] Downloading package stopwords to\n",
      "[nltk_data]     C:\\Users\\nemow\\AppData\\Roaming\\nltk_data...\n",
      "[nltk_data]   Package stopwords is already up-to-date!\n"
     ]
    }
   ],
   "source": [
    "from pipeline import CustomPipeline\n",
    "import nltk\n",
    "\n",
    "\n",
    "nltk.download('stopwords')\n",
    "from nltk.corpus import stopwords\n",
    "\n",
    "pipeline = CustomPipeline"
   ]
  },
  {
   "cell_type": "code",
   "execution_count": 68,
   "id": "2540e095",
   "metadata": {},
   "outputs": [
    {
     "data": {
      "text/plain": [
       "(18616, 35)"
      ]
     },
     "execution_count": 68,
     "metadata": {},
     "output_type": "execute_result"
    }
   ],
   "source": [
    "train_seq = pipeline.fit_transform(X_train) # применяем пайплайн\n",
    "val_seq = pipeline.transform(X_val)\n",
    "test_seq = pipeline.transform(X_test)\n",
    "\n",
    "vocab_size = pipeline.named_steps['tokenizer'].vocab_size\n",
    "max_length = pipeline.named_steps['tokenizer'].max_length\n",
    "\n",
    "vocab_size, max_length"
   ]
  },
  {
   "cell_type": "code",
   "execution_count": 69,
   "id": "d675cf8c",
   "metadata": {},
   "outputs": [
    {
     "data": {
      "text/plain": [
       "array([[   2, 2638, 2548, ...,    0,    0,    0],\n",
       "       [ 871,  105,  151, ...,    0,    0,    0],\n",
       "       [   6,   25,  872, ...,    0,    0,    0],\n",
       "       ...,\n",
       "       [  31,  231, 6390, ...,    0,    0,    0],\n",
       "       [  23,   86, 3744, ...,    0,    0,    0],\n",
       "       [ 157,   31,   19, ...,    0,    0,    0]],\n",
       "      shape=(35917, 35), dtype=int32)"
      ]
     },
     "execution_count": 69,
     "metadata": {},
     "output_type": "execute_result"
    }
   ],
   "source": [
    "train_seq"
   ]
  },
  {
   "cell_type": "markdown",
   "id": "24e18927",
   "metadata": {},
   "source": [
    "## Тестовая секция с Time Series"
   ]
  },
  {
   "cell_type": "code",
   "execution_count": 70,
   "id": "4b906ce3",
   "metadata": {},
   "outputs": [
    {
     "data": {
      "application/vnd.microsoft.datawrangler.viewer.v0+json": {
       "columns": [
        {
         "name": "index",
         "rawType": "int64",
         "type": "integer"
        },
        {
         "name": "title",
         "rawType": "object",
         "type": "string"
        },
        {
         "name": "text",
         "rawType": "object",
         "type": "string"
        },
        {
         "name": "subject",
         "rawType": "object",
         "type": "string"
        },
        {
         "name": "date",
         "rawType": "datetime64[ns]",
         "type": "datetime"
        },
        {
         "name": "target",
         "rawType": "int64",
         "type": "integer"
        }
       ],
       "ref": "33ea1115-e74e-4080-8a6a-bdf6705c6aa9",
       "rows": [
        [
         "15885",
         "FLASHBACK: KING OBAMA COMMUTES SENTENCES OF 22 DRUG DEALERS",
         "Just making room for Hillary President Obama today announced his decision to commute the sentences of 22 convicted drug offenders   many of them serving time after being convicted of conspiracy to distribute either cocaine, heroin, marijuana or methamphetamine. The 22 commutations granted today underscore the President s commitment to using all the tools at his disposal to bring greater fairness and equity to our justice system,  White House Assistant and Counsel to the President Neil Eggleston in a statement on the White House Website.  Further, they demonstrate how exercising this important authority can remedy imbalances and rectify errors in sentencing. In a letter to one of the pardoned criminals   Terry Barnes of Mississippi   Obama explained that he was granting him a commutation to allow him to turn his life around. It embodies the basic belief in our democracy that people deserve a second chance after having made a mistake in their lives that led to a conviction under our laws,  he wrote, acknowledging that some were skeptical about his ability to change. I believe in your ability to prove the doubters wrong,  Obama concluded.  So good luck, and Godspeed. Obama s action is part of his continued effort to highlight the harsh penalties for non-violent drug offenders and encourage reform.Full list below:  Terry Andre Barnes   East Moline, ILOffense: Conspiracy to distribute cocaine base; supervised release violation (distribution of cocaine base) (Southern District of Iowa)Sentence: 246 months  imprisonment; 10 years  supervised release (July 25, 2005)Commutation Grant: Prison sentence commuted to expire on July 28, 2015.  Theresa Brown   Pompano Beach, FLOffense: Conspiracy to distribute crack cocaine (Southern District of Florida)Sentence: Life imprisonment; 10 years  supervised release (Mar. 29, 1995)Commutation Grant: Prison sentence commuted to expire on July 28, 2015.  Donel Marcus Clark   Dallas, TXOffense: Conspiracy; use of a communication facility (five counts); distribution and/or possession of cocaine or manufacturing in or near a school facility, aiding and abetting (Northern District of Texas)Sentence: 420 months  imprisonment; four years  supervised release (Nov. 12, 1993); amended to 360 months  imprisonment (August 20, 2008)Commutation Grant: Prison sentence commuted to expire on July 28, 2015.  Ricky Bernard Coggins   Tallahassee, FLOffense: Conspiracy to possess with intent to distribute cocaine base (Northern District of Florida)Sentence: Life imprisonment; 10 years  supervised release (May 3, 1993)Commutation Grant: Prison sentence commuted to expire on July 28, 2015.  Samuel Pasqual Edmondson   Junction City, KSOffense: Conspiracy to possess methamphetamine with intent to distribute; possession with intent to distribute methamphetamine (Eastern District of Texas)Sentence: Life imprisonment; 10 years  supervised release (Sep. 24, 1997)Commutation Grant: Prison sentence commuted to expire on July 28, 2015.  Amado Garcia   Fresno, CAOffense: Conspiracy to possess with the intent to distribute methamphetamine; aiding and abetting the possession of methamphetamine; aiding and abetting the possession of heroin (District of Wyoming)Sentence: 240 months  imprisonment; 10 years  supervised release; $2,000 fine (Nov. 29, 2001)Commutation Grant: Prison sentence commuted to expire on July 28, 2015.  Dwight Anthony Goddard   Decatur, GAOffense: Possession with intent to distribute cocaine base (Middle District of Georgia)Sentence: 235 months  imprisonment; five years  supervised release (Feb. 7, 2002)Commutation Grant: Prison sentence commuted to expire on July 28, 2015.  Lionel Ray Hairston   Ridgeway, VAOffense: Distribution of cocaine base (three counts) (Western District of Virginia)Sentence: 262 months  imprisonment; eight years  supervised release (May 27, 1999)Commutation Grant: Prison sentence commuted to expire on July 28, 2015.  Francis Darrell Hayden   Loretto, KYOffense: Conspiracy to possess with intent to distribute 1,000 or more marijuana plants or 1,000 or more kilograms of marijuana; manufacture of 1,000 or more marijuana plants (Eastern District of Michigan)Sentence: Life imprisonment; 10 years  supervised release (Apr. 2, 2002)Commutation Grant: Prison sentence commuted to expire on July 28, 2015.  Harold Kenneth Herring   Havana, FLOffense: Possession of a firearm by a convicted felon; possession with intent to distribute cocaine base (Northern District of Florida)Sentence: Life imprisonment; 10 years  supervised release (Jan. 22, 1998)Commutation Grant: Prison sentence commuted to expire on July 28, 2015.  Tommie Lee Hollingshed   Memphis, TNOffense: Distribution of a controlled substance (two counts) (Western District of Tennessee)Sentence: 324 months  imprisonment; four years  supervised release (May 1, 1996)Commutation Grant: Prison sentence commuted to expire on July 28, 2015.  Derrick DeWayne Johnson   Birmingham, ALOffense: Conspiracy to possess with intent to distribute cocaine; possession with intent to distribute cocaine (Northern District of Alabama)Sentence: 360 months  imprisonment; four years  supervised release (Nov. 18, 1998)Commutation Grant: Prison sentence commuted to a term of 262 months.  Robert Martinez-Gil   San Antonio, TXOffense: Conspiracy to possess with intent to distribute cocaine and heroin (Western District of Texas)Sentence: Life imprisonment (July 9, 1992)Commutation Grant: Prison sentence commuted to expire on July 28, 2015.  David Navejar   Brooksville, FLOffense: Conspiracy to distribute and to possess with intent to distribute 500 grams or more of methamphetamine (Middle District of Florida)Sentence: 240 months  imprisonment; 10 years  supervised release (Jan. 27, 2003)Commutation Grant: Prison sentence commuted to expire on July 28, 2015.  Rudolph Norris   Washington, D.C.Offense: Unlawful distribution of cocaine base; unlawful possession with intent to distribute five grams or more of cocaine base (District of Columbia)Sentence: 360 months  imprisonment; eight years  supervised release (Apr. 5, 1993)Commutation Grant: Prison sentence commuted to expire on July 28, 2015.  Tracy Lynn Petty   Shelby, NCOffense: Conspiracy to possess with intent to distribute cocaine and cocaine base (Western District of North Carolina)Sentence: 240 months  imprisonment; 10 years  supervised release (Mar. 30, 2006); amended to 204 months  imprisonment (February 25, 2008)Commutation Grant: Prison sentence commuted to expire on July 28, 2015.  Luis Razo   Davenport, IAOffense: Conspiracy to distribute cocaine (Southern District of Iowa)Sentence: 240 months  imprisonment; 10 years  supervised release (Jan. 3, 2003)Commutation Grant: Prison sentence commuted to expire on July 28, 2015.  Antwon Rogers   Cleveland, OHOffense: Conspiracy to possess with intent to distribute 139.8 grams of cocaine base (Northern District of Ohio)Sentence: Life imprisonment; 10 years  supervised release (Jan. 30, 1995)Commutation Grant: Prison sentence commuted to expire on July 28, 2015.  Herman Rosenboro  Kingsport, TNOffense: Conspiracy to distribute and possess with the intent to distribute over five kilograms of cocaine and over 50 grams of cocaine base; distribution of a quantity of cocaine base (two counts); distribution of a quantity of cocaine (two counts) (Eastern District of Tennessee)Sentence: Life imprisonment; six years  supervised release (Dec. 3, 2001)Commutation Grant: Prison sentence commuted to expire on July 28, 2015.  Lawrence Elmo Scott   Lynchburg, VAOffense: Distribution of crack cocaine within 1,000 feet of a school (Western District of Virginia)Sentence: 283 months  imprisonment; six years  supervised release; $4,000 fine (Apr. 8, 2003)Commutation Grant: Prison sentence commuted to expire on July 28, 2015.  Levar V. Wade   Chicago, ILOffense: Possession of 50 or more grams of crack cocaine with intent to distribute (Central District of Illinois)Sentence: 240 months  imprisonment; 10 years  supervised release (May 28, 2004)Commutation Grant: Prison sentence commuted to expire on July 28, 2015.  Eugene Winters   Cedar Rapids, IAOffense: Conspiracy to distribute cocaine base (Southern District of Iowa)Sentence: 240 months  imprisonment; 10 years  supervised release (Feb. 23, 2005)Commutation Grant: Prison sentence commuted to expire on July 28, 2015.Via: Breitbart News",
         "politics",
         "2015-03-31 00:00:00",
         "0"
        ],
        [
         "15890",
         "HILLARY RODHAM NIXON: A CANDIDATE WITH MORE BAGGAGE THAN A SAMSONITE FACTORY",
         "The irony here isn t lost on us. Hillary is being compared to the President she wanted to take down. Nixon s got nothing on this criminal who wiped her server clean after e-mails were requested from her. John Fund questions the Democrat s strategy  to support a Nixonian type candidate with more baggage than a Samsonite factory She s secretive, scandal-plagued, and seemingly inevitable. Ever since Hillary Clinton s e-mail scandal broke, comparisons between her secretive style and that of Richard Nixon, whom she ironically pursued as a young lawyer on the House impeachment committee, have been frequent. But with the revelation that she wiped her private e-mail server clean after her records were requested by the State Department last year, the comparisons are becoming more concrete. Washington wags note that even Nixon never destroyed the tapes, but Hillary has permanently erased her e-mails.Exactly what would a Hillary presidency look like, and could it plunge the nation into another round of debilitating Clinton scandals? That s a question Democrats should ask themselves before they hand the nomination over to her.  Many Democrats have reservations about Hillary s cozy relations with Wall Street, her 2002 vote for the Iraq War, and the Clinton couple s  flexibility  on issues.  They love winning. They re both masters of it, Hillary maybe even more than Bill. But that s not the same as having a belief system,  noted the liberal Rolling Stone magazine. But some Democrats also want Hillary to be challenged on her Nixonian penchant for slipperiness and questionable fundraising.A strong primary challenge has provided clues as to how she would run in a general election   something Democrats should know. After all, the first Clinton presidency was good for the Clintons, but not for the Democratic party, which lost both houses of Congress along with a majority of the nation s governorships   and during a time of economic prosperity and peace.Read more: National Review",
         "politics",
         "2015-03-31 00:00:00",
         "0"
        ],
        [
         "15889",
         "BENGHAZI PANEL CALLS HILLARY TO TESTIFY UNDER OATH AS WHITE HOUSE ASKS FOR MORE TIME TO “REVIEW” (DELETE) HER E-MAILS",
         "Does anyone really think Hillary Clinton will come clean about ANYTHING? She dug herself such a huge hole that I could see her digging an even deeper one to get herself in the clear. She s going to lie you know it.Gowdy had this to say today about the possibility of retrieving some of Hillary s e-mails:House Select Committee on Benghazi Chairman Trey Gowdy said Tuesday it may still be  technically possible  to retrieve thousands of emails to and from former Secretary of State Hillary Clinton on the private server her lawyer said was  wiped clean. BENGHAZI PANEL CALLS HILLARY TO TESTIFYA House panel Tuesday formally requested Hillary Clinton to testify about the private server and email account she used while serving as secretary of state.Rep. Trey Gowdy, chairman of the Select Committee on Benghazi, sent a request to Clinton s personal attorney, David E. Kendall, requesting that Clinton appear before the committee no later than May 1 for a transcribed interview about the server and email.The request comes after Kendall told Gowdy that the server had been wiped clean and that it would be impossible to recover the 30,000 emails Clinton deleted last year.Gowdy, in his request to Kendall, also asked Clinton to  reconsider  her refusal to turn over the server to a neutral third party, which he called  highly unusual, if not unprecedented. Clinton said she only deleted personal emails and turned over every work-related message to the State Department, which is reviewing the data to filter out classified information. Because of the Secretary s unique arrangement with herself as it relates to public records during and after her tenure as Secretary of State.  Gowdy wrote,  this Committee is left with no alternative but to request Secretary Clinton appear before this Committee for a transcribed interview to better understand decisions the Secretary made relevant to the creation, maintenance, retention, and ultimately deletion of public records. WHAT S THERE TO REVIEW???As you read the following media report it is important to remember:   Hillary Clinton has previously stated, unequivocally, that no classified communication traveled through her self-created personal communication network.So what exactly is there to review? Either the U.S. government believes the statements by the Secretary of State to be true, or they do not.Second,   the government knowingly allowed the secret communication network to exist and allowed all the construction issues therein to take place. Therefore the burden of any administrative compliance issue should reside upon them to reconcile expeditiously.The Obama administration told a federal court Monday that it needs  several months  more to go through former Secretary of State Hillary Rodham Clinton s government emails, saying it s proving time-consuming to sort out exactly what information they can release to the public,Justice Department lawyers also bristled at accusations that the government perpetrated a fraud by hiding the existence of the emails, as Mr. Obama s team begins to fully grapple with the legal complications Mrs. Clinton has left them.Read more: Washington Examiner ",
         "politics",
         "2015-03-31 00:00:00",
         "0"
        ],
        [
         "15888",
         "OH NO! GUESS WHO FUNDED THE SHRINE TO TED KENNEDY",
         "Nothing like political cronyism to make your stomach churn. Especially since it s for a scumbag like Teddy who rode the coattails of the American taxpayers his entire life. Could they not raise the funds from private donors? I guess not it s a shame for all the hardworking taxpayers out there who ponied up without even having a choice in the matter.Over half of the funding for the Edward M. Kennedy Institute for the United States Senate came from taxpayer dollars, half of that from Defense budget.It was supposed to be all private money but alas even in death Teddy Kennedy has found a way to take from the American taxpayer. That the money is going to his own self aggrandizement would have pleased him. That the money came from  defense  would have pleased him even more.The New York Times writes:  Here s an unstated lesson: It pays to have friends running the Appropriations Committee. More than $18 million of the $38 million in public funds for the center was funneled through the Defense Appropriations Subcommittee, a powerful panel once run by other Senate powerhouses who have died in recent years:Senators Daniel K. Inouye, Democrat of Hawaii, and Ted Stevens, Republican of Alaska  But one would think people would be lining up to throw cash at the project given how great Kennedy was. Couldn t the Kennedy clan pony up the dough? Or maybe just house the memorial in the basement of the Hyannis Port estate? But why have the family or friends of the Kennedys pay for Teddy s monument when one can get the taxpayers to do it?and this from Newsmax:  President Obama, Vice President Biden, Secretary of State John Kerry and Sen. Elizabeth Warren will all gather to praise the Edward M. Kennedy Institute for the United States Senate. Much will be said about Kennedy s 46-year record in the U.S. Senate, nothing about various scandals that ranged from Chappaquiddick to his attempts to have the Soviets intervene in the 1984 presidential election against Ronald Reagan. Boston Herald columnist Howie Carr points out that the Insititute  was supposed to be paid for exclusively with private donations.  But it should come as no surprise that the gorgeous 40,000-square-foot building that will house Kennedy s papers and memorabilia as well as a recreation of his personal office and the Senate chamber was financed with a generous $38 million congressional earmark. The state of Massachusetts chipped in with another $5 million for education  infrastructure.Read more: Newsmax",
         "politics",
         "2015-03-31 00:00:00",
         "0"
        ],
        [
         "15887",
         "WATCH DIRTY HARRY REID ON HIS LIE ABOUT ROMNEY’S TAXES: “HE DIDN’T WIN, DID HE?”",
         "In case you missed it Sen. Harry Reid (R-NV), who announced last week that he will retire after his current term expires in early 2017, said he does not regret taking to the Senate floor in 2012 to accuse then-GOP presidential nominee Mitt Romney of not paying his taxes. No, I don t regret that at all,  he told CNN s Dana Bash.  The Koch brothers   no one would help me. They were afraid the Koch brothers would go after them, so I did it on my own. Bash said some viewed the charge as  McCarthy-ite,  but Reid didn t buy that explanation. He shrugged, saying,  they can call it whatever they want. Romney didn t win, did he?  Reid said somewhat amusingly.",
         "politics",
         "2015-03-31 00:00:00",
         "0"
        ],
        [
         "15886",
         "APPLE’S CEO SAYS RELIGIOUS FREEDOM LAWS ARE ‘DANGEROUS’ TO GAYS But Sells Products In Countries Where Gays Are Thrown Off Rooftops",
         "The gay mafia has a new corporate  Don. This is the only article you will need to read about the sheer stupidity of left-wing agitators who are crowing about the new religious freedom law in Indiana.Yesterday, Apple CEO Tim Cook, himself a gay man, published an op-ed in The Washington Post with this ominous title:  Pro-discrimination laws are dangerous.  Cook argues that religious freedom laws, like the one signed by Gov. Mike Pence of Indiana last week are  dangerous  to gay people.A debatable point. However, what is not debatable is this: laws that make homosexuality punishable by death are dangerous to gay people.That s why you might be surprised to learn that Cook s company, Apple, does business in four (4) countries that make homosexuality a capital crime. Those countries are Saudi Arabia, the United Arab Emirates, Nigeria, and Qatar.If you zip on over to this page, you can see the list of all of the countries where Apple does business. Those four countries are on the list.We anxiously await CNN s Andrew Cuomo or ABC s George Stephanopoulos to ask Tim Cook to appear on air and explain this glaring inconsistency, which should be obvious even to the average MSNBC viewer.However, we all know that won t happen.Via: DownTrend",
         "politics",
         "2015-03-31 00:00:00",
         "0"
        ],
        [
         "21918",
         "WATCH DIRTY HARRY REID ON HIS LIE ABOUT ROMNEY’S TAXES: “HE DIDN’T WIN, DID HE?”",
         "In case you missed it Sen. Harry Reid (R-NV), who announced last week that he will retire after his current term expires in early 2017, said he does not regret taking to the Senate floor in 2012 to accuse then-GOP presidential nominee Mitt Romney of not paying his taxes. No, I don t regret that at all,  he told CNN s Dana Bash.  The Koch brothers   no one would help me. They were afraid the Koch brothers would go after them, so I did it on my own. Bash said some viewed the charge as  McCarthy-ite,  but Reid didn t buy that explanation. He shrugged, saying,  they can call it whatever they want. Romney didn t win, did he?  Reid said somewhat amusingly.",
         "left-news",
         "2015-03-31 00:00:00",
         "0"
        ],
        [
         "21919",
         "HILLARY RODHAM NIXON: A CANDIDATE WITH MORE BAGGAGE THAN A SAMSONITE FACTORY",
         "The irony here isn t lost on us. Hillary is being compared to the President she wanted to take down. Nixon s got nothing on this criminal who wiped her server clean after e-mails were requested from her. John Fund questions the Democrat s strategy  to support a Nixonian type candidate with more baggage than a Samsonite factory She s secretive, scandal-plagued, and seemingly inevitable. Ever since Hillary Clinton s e-mail scandal broke, comparisons between her secretive style and that of Richard Nixon, whom she ironically pursued as a young lawyer on the House impeachment committee, have been frequent. But with the revelation that she wiped her private e-mail server clean after her records were requested by the State Department last year, the comparisons are becoming more concrete. Washington wags note that even Nixon never destroyed the tapes, but Hillary has permanently erased her e-mails.Exactly what would a Hillary presidency look like, and could it plunge the nation into another round of debilitating Clinton scandals? That s a question Democrats should ask themselves before they hand the nomination over to her.  Many Democrats have reservations about Hillary s cozy relations with Wall Street, her 2002 vote for the Iraq War, and the Clinton couple s  flexibility  on issues.  They love winning. They re both masters of it, Hillary maybe even more than Bill. But that s not the same as having a belief system,  noted the liberal Rolling Stone magazine. But some Democrats also want Hillary to be challenged on her Nixonian penchant for slipperiness and questionable fundraising.A strong primary challenge has provided clues as to how she would run in a general election   something Democrats should know. After all, the first Clinton presidency was good for the Clintons, but not for the Democratic party, which lost both houses of Congress along with a majority of the nation s governorships   and during a time of economic prosperity and peace.Read more: National Review",
         "left-news",
         "2015-03-31 00:00:00",
         "0"
        ],
        [
         "21917",
         "“Non-violence hasn’t worked”…Reverend Sam Mosteller, Leader of Group Founded By MLK Calls On Blacks To Take Up Arms",
         "Yeah that whole  taking up arms  thing seems to be working well in Chicago The president of a non-violent group established by MLK said that nonviolence is no longer working.At a press conference, the Rev. Sam Mosteller, president of the Georgia Chapter of the Southern Christian Leadership Conference (SCLC) said all African Americans should  avail themselves  of their Second Amendment Rights. You know, the SCLC stands for nonviolence, but nonviolence hasn t worked in this instance,  Mosteller said,  Let me just say it this way, I am going to have to advocate at this point that all African-Americans advocate their Second Amendment right,  he added.The SCLC was co-founded by Martin Luther King, Jr. in 1957 in reaction to the shooting of two black men.The Daily Caller is reporting that when questioned about what some might consider a turn away from non-violence, Mosteller backpedaled   a little. We re going to have to do something in our community to let the rest of America know that we are not going to be victimized by just anybody whether it be police or folks that decide that black people are thugs and we need to control that black community. When asked to explain what appeared to be a call to arms, Mosteller backed off, saying that he was not advocating for members of the black community to start carrying guns en masse.When a reporter asked if his advocacy for the Second Amendment was at odds with SCLC s attitude towards nonviolence, Mosteller said,  Listen, listen I didn t say that. I said the Second Amendment right? I didn t say pack weapons, I did not say that. Do you have to carry a weapon to avail yourself of the Second Amendment?  he asked.  The answer is no, you don t have to. Via: DownTrend",
         "left-news",
         "2015-04-01 00:00:00",
         "0"
        ],
        [
         "15884",
         "MUSLIM WOMAN ARRESTED FOR SPITTING ON HER FELLOW WHITE WALMART SHOPPERS BUT WHAT HAPPENS NEXT IS MORE UPSETTING",
         "This woman s having trouble entering the Walmart so people go to help her SHE SPITS ON THEM! Her reasoning for this disgusting behavior is that  Americans are pushing us around . She s arrested BUT what happens next is what s so disturbing.A Saudi Arabian national faces hate crimes charges after allegedly spitting on several people at a Florida Walmart.Nuha Mohammed Al-Doaifi was arrested in Palm Bay after police responded to a 911 call, Florida Today reported Tuesday.The 21-year-old, who was with her 2-year-old son at the time, allegedly admitted to authorities she spat on several people because  Americans are pushing us around. The incident began, police said, when a woman approached Al-Doaifi when she appeared to be having difficulty entering the Walmart. All I was trying to do was tell her she was coming in through the out door,  Terry Rakowski told Florida Today.  She was just ramming (her cart) into the door. The 39-year-old then claims the woman spat in her face. She just spit all over me,  she said.Al-Doaifi then allegedly did the same thing to several others inside the Walmart. Her actions were directed at random people based on their ethnicity, and that s according to her own statement,  said a spokeswoman for the Palm Bay Police Department.BUT THIS IS WHAT S EVEN MORE DISTURBING:Don t bother trying to hit the link to the original source  Florida Today . As soon as this story started to appear at other websites they yanked the story, scrubbed it completely. You can t even find the original report by searching for this woman s name, all you get is a 404  page not found. It s like it never happened and she doesn t exist.Apparently, hate crimes is a one way street, especially when committed by a Muslim against white folks.You have to wonder why she s even here if she hates white Americans so much. The next question is whether the Obama regime will deport her back to the big sandbox from whence she came.I m gonna say, probably not.VIA: BLUR BRAIN",
         "politics",
         "2015-04-01 00:00:00",
         "0"
        ],
        [
         "15883",
         "IS ISIS IN DANGER OF BEING WIPED OUT BY A FLESH EATING VIRUS?",
         "Try to fix that with a dull knife boys The self-declared Islamic State capital is currently in the throes of an epidemic and a number of members of the Islamic State have reportedly been infected.Efforts are reportedly being made to prevent the further spread of the Leishmaniasis skin disease, which is highly virulent, in the IS stronghold.Although organizations began work to combat the disease, this became impossible after IS is claimed to have closed down their city offices.They also confiscated equipment and arrested officers trying to help fight the condition which can be deadly.The first case of the disease, which is caused by protozoan parasites, was discovered in September 2013.By the middle of 2014 500 people had been affected, according to a network of activists  Raqqa is Being Slaughtered Silently. The disease is spread by flies that are attracted by the rubble and rubbish of war.It can sometimes be fatal and can also cause significant damage to parts of the body it affects.More than 2,500 cases have been recorded in the north-east of Raqqa.IS is said to have a residual force of between 3,000 to 5,000 in the city, as they attempt to strengthen their so-called caliphate.This comes after World Health Organisation reported that Syria s health system had collapsed, meaning that disease was spreading rapidly through a country already plagued by violence.Via: Express UK",
         "politics",
         "2015-04-02 00:00:00",
         "0"
        ],
        [
         "17460",
         "ENTITLED IRS ETHICS LAWYER DISBARRED FOR ETHICS VIOLATIONS: “…reckless disregard for the truth”",
         "Don t you just love an entitled IRS lawyer who claims she can t be fired? What s even better is she was an ethics lawyer who really had no ethics at all. She was fired from the IRS but just yesterday was disbarred.A lawyer who worked in the IRS ethics office was disbarred Thursday by the District of Columbia Court of Appeals, which concluded she misappropriated a client s funds from a case she handled in private practice, broke a number of ethics rules and showed  reckless disregard for the truth  in misleading a disbarment panel looking into the matter.The lawyer, Takisha Brown, reportedly had bragged that she would never be punished because her boss would protect her, but an IRS spokesman said Wednesday that she was no longer an employee at the agency. Our records indicate that this employee no longer works for the IRS,  spokesman Matthew Leas said, though he wouldn t comment further on the case, which became another black eye for the embattled tax agency when The Washington Times first reported on it last year.Ms. Brown had her licenses suspended and then was disbarred after misusing money she won for a client in an automobile accident case. Under terms of the deal, Ms. Brown was to use part of the settlement to pay the victim s medical bills, but the lawyer withdrew the money herself and ignored repeated requests from the client s physicians to make good on the bills, the appeals court said.Ms. Brown also misled a disbarment hearing panel when it began looking into the matter, the court said. The record amply supports the conclusions that Ms. Brown intentionally misappropriated funds and made false statements with reckless disregard for the truth,  the appeals court concluded in a 14-page order finalizing her disbarment.Read more: WASHINGTON TIMES",
         "Government News",
         "2015-04-04 00:00:00",
         "0"
        ],
        [
         "15881",
         "FED’S PREVENT ‘Mother of the Year’ From Boarding Plane To Join ISIS, Planning To Leave Two Daughters Behind In Philadelphia",
         "There are just way too many wannabe male and female jihadists in our homeland right now. The truth is, we have no way of knowing how many of them are planning to do harm to their fellow Americans. Congress needs to stop the State Dept. sponsored Refugee Resettlement program. It s obvious we have a problem with Muslim Americans and Muslim immigrants living in America who want to join ISIS. It s up to Congress to take meaningful action to stop this insanity. <strong>THE YOUNG LIONESS</strong>A Philadelphia mother of two, who goes by the name of  YoungLioness  on Twitter, was arrested by federal officials Friday and charged with trying to support ISIS with money and resources.Keonna Thomas, 30, appeared in court in full black dress with only her eyes showing, just hours after her arrest. According to the criminal complaint filed by the U.S. attorney s office, she wanted to join, fight with and die for ISIS.The only reason she didn t get on a plane last Sunday to put her plan into action, was because federal agents spooked her two days before the flight when they raided her home, federal prosecutors argued, saying Thomas was a flight risk and should be detained.The North Philly woman, who neighbors said lived quietly with her two daughters and grandmother, posted statements on Twitter accounts which led officials to believe she was intent on not only supporting the terrorist organization, but looked forward to martyrdom, federal officials allege. Read more:NBC",
         "politics",
         "2015-04-04 00:00:00",
         "0"
        ],
        [
         "15882",
         "[Video] COLLEGE STUDENT BULLIED AFTER TAKING PICTURE OF “White Privilege” Board At Dorm",
         " At first I was very surprised that this was in a dorm, because when I go into my dormitory I want to feel I m at home. So when I looked at the board, I instantly felt shameful for my heritage and my upbringing and for my life choices.   Mission accomplished.A student at Appalachian State University says she was cyber-bullied after she called out a dormitory s  Check Your Privilege  bulletin board.The board showed memes to depict so-called white privilege, heterosexual privilege, Christian privilege, and able-bodied privilege, among others.A female student, Laurel Littler, objected to the board s apparent shaming, so she posted a photo of it on her Facebook page and was surprised to receive some harsh responses.Her post was picked up by the website Campus Reform and after that, she says she was the victim of  tons of cyber-bullying. I read that because I m white, I had never experiences oppression before, so I deserved the cyber-bullying. It hurt at first, but after a while, I just realized these people don t know who I am and if they really do want to know my opinion, they re more than welcome to talk to me in person,  Littler told Elisabeth Hasselbeck this morning.The  privilege  board was put up by a resident assistant at the dormitory after three University of San Francisco professors started the  Check Your Privilege  campaign last fall.The R.A. reportedly does not plan to take it down.Littler said she doesn t want the board to be taken down, but posted it on Facebook out of a concern over the message. Fox and Friends  did not receive a response from the school on whether they plan to act to take the board down. Watch the interview above.Via: FOX NEWS",
         "politics",
         "2015-04-04 00:00:00",
         "0"
        ],
        [
         "21916",
         "[VIDEO] 16 YR OLD ARRESTED For Violent Gang Beating In McDonalds…15 Yr Old Victim Brags About New Found Fame",
         "This is a sad commentary on a generation who has truly lost their moral compass. No self respect, dignity or pride  It s all about the 15 seconds of fame While we have yet to fathom how for almost three minutes, no one not even an adult or an employee stopped a now infamous fight inside a Brooklyn McDonald s. So far, one arrest has been made. Sixteen-year-old Aniah Ferguson was one of six girls who attacked 15-year-old Ariana Taylor and it seemed every teenager inside the McDonald s was there to witness the violent carnage, for which they also captured cell phone video.The 15-year-old did her best to hold her own in the brawl, which was allegedly arranged via Facebook. New York Daily News is reporting that Taylor has taken to Facebook to brag about her new-found fame. A user named Richey Bandz commented on Taylor s social media, saying,  I applaud u shorty u a ICON NOW,  and Taylor responded,  Thanks guys.  And that s when another user, Marshonna Espinosa said,  So sad this little girl think she s getting famous for getting publicly humiliated. No, you re not famous. People felt bad for you.  We re not so sure NY Daily News and Marshonna s assumptions around Taylor thinking she s famous are anything but assumptions. When Taylor posted a photo of herself, not to beat up, with the caption,  I m Gucci,  we took it as her addressing the concerned public and letting us all know she s good.Reports claim that Ferguson had been hunting Taylor down since January for some undisclosed disagreement involving a friend. She suffered injuries and was taken to Kings County Hospital that same night. But once the video was shared massively online, and even covered the front page of the New York Post and Daily News (though their known for exploiting situations like this), moves were made to find the girls who are also students of Erasmus Hall High School. Even for a World Star Hip-Hop era, the clip shocked most who viewed it. The 15-year-old was literally a punching and kicking bag.***Warning**** This video contains extreme violence:After Ferguson s arrest yesterday, her criminal record leaked and she has a history of violence at only 16. Before, she was arrested for stabbing her brother and assaulting her grandmother, who had to take an order of protection against her grandchild. She s had a total of nine arrests, six of them have been since September. Ferguson is unfortunately epitomizing the image and lifestyle of troubled youth. From her latest felony, she s being charged as an adult. Obviously there s a bigger story here around teenagers like Ferguson who come from troubled pasts and bring that into their present lives, allowing nothing but violence to speak for them.Via: Hello Beautiful",
         "left-news",
         "2015-04-04 00:00:00",
         "0"
        ],
        [
         "21915",
         "ENTITLED IRS ETHICS LAWYER DISBARRED FOR ETHICS VIOLATIONS: “…reckless disregard for the truth”",
         "Don t you just love an entitled IRS lawyer who claims she can t be fired? What s even better is she was an ethics lawyer who really had no ethics at all. She was fired from the IRS but just yesterday was disbarred.A lawyer who worked in the IRS ethics office was disbarred Thursday by the District of Columbia Court of Appeals, which concluded she misappropriated a client s funds from a case she handled in private practice, broke a number of ethics rules and showed  reckless disregard for the truth  in misleading a disbarment panel looking into the matter.The lawyer, Takisha Brown, reportedly had bragged that she would never be punished because her boss would protect her, but an IRS spokesman said Wednesday that she was no longer an employee at the agency. Our records indicate that this employee no longer works for the IRS,  spokesman Matthew Leas said, though he wouldn t comment further on the case, which became another black eye for the embattled tax agency when The Washington Times first reported on it last year.Ms. Brown had her licenses suspended and then was disbarred after misusing money she won for a client in an automobile accident case. Under terms of the deal, Ms. Brown was to use part of the settlement to pay the victim s medical bills, but the lawyer withdrew the money herself and ignored repeated requests from the client s physicians to make good on the bills, the appeals court said.Ms. Brown also misled a disbarment hearing panel when it began looking into the matter, the court said. The record amply supports the conclusions that Ms. Brown intentionally misappropriated funds and made false statements with reckless disregard for the truth,  the appeals court concluded in a 14-page order finalizing her disbarment.Read more: WASHINGTON TIMES",
         "left-news",
         "2015-04-04 00:00:00",
         "0"
        ],
        [
         "21911",
         "FLASHBACK: Female Terrorist Who Planned To Blow Up NYC Police Funeral Was A Pre-School Teacher [Video]",
         "So a wannabe female bomber was a pre-school teacher by day in Queens, NY and a jihadi the rest of the time.She was a pretty hardcore jihadi who worshipped Bin laden and was a big fan of the Boston Bombers. One of the things we found interesting is her affiliation with ICNA Relief, an Islamic charity affiliated with the Islamic Circle of North America. We don t know much about the organization but found a video of Noelle speaking about her support from ICNA. To be honest, it sounds like a bunch of bs but she s trying to raise funds for a women s shelter. She rambles on and on but you can at least get a better understanding of what an attention wh*re she is.NOELLE (PLEASE GO TO THE 7:00 MARK FOR HER  STORY ) ALSO KNOWN AS AISHA ASIF IS A WANNABE JIHADIST WHO CONSPIRED TO BOMB THE NYC POLICE FUNERAL: One of the two Queens women accused of plotting a homemade bomb strike on American soil worked at a preschool, where officials remained tight-lipped Friday after her arrest on terrorism charges.Asia Siddiqui, a 31-year-old native of Saudi Arabia, was behind bars Friday, locked up with her best friend and accused sister in jihad Noelle Valentzas, 28.An undercover operative reported that Valentzas said  being a martyr in a suicide attack guarantees entrance into heaven.  A picture of Osama bin Laden with an AK-47 allegedly decorated her cell phone. She also allegedly turned her interests to pressure cookers after the Boston Marathon bombing: You can fit a lot of things in [the pressure cooker], even if it s not food,  Velentzas told the undercover operative, apparently referencing explosives.She evidently told the undercover operative,  If we get arrested, the police will point their guns at us from the back and maybe from the front. If we can get even one of their weapons, we can shoot them. They will probably kill us but we will be martyrs automatically and receive Allah s blessing. Velentzas was allegedly also friends with U.S. airman Tairod Pugh who, last month, was indicted on terrorism charges after allegedly plotting to travel to Syria to join the Islamic State.Less than two weeks ago, Velentzas was reportedly asked whether she had heard the news about the recent arrest of Pugh and replied that she did not understand why people were traveling overseas to wage jihad when there were more opportunities of  pleasing Allah  in the United States. In that same meeting, Velentzas said she needed to learn the science behind bomb-building to avoid being like Faisal Shahzad, the man who drove an SUV full of explosives into Times Square on a warm Saturday night in May 2010. He wasn t able to detonate the bombs. We have no comment at this time,  said a worker at 82nd Street Academics in Queens on the day after FBI agents arrested the two Al Qaeda-linked suspects at their homes.The busts followed a two-year undercover probe, with the terrorist sympathizers accused of amassing bomb-making materials and studying bomb-making manuals while plotting their strike.The self-identified citizens of the Islamic State   the terrorist organization responsible for beheading Western hostages   have billed themselves as  some bad bitches. Outside their South Jamaica home on Friday, Valentzas  husband (PICTURED BELOW), Abu Bakr, defended his wife and her friend against the federal charges that carry a potential life sentence. He was left at the home with their two kids, ages 5 and 11, after federal agents took Noelle away in handcuffs. The 27-year-old Valentzas, a home health-care worker, was born in Florida, authorities said.She and Siddiqui became close friends and co-conspirators united by a desire to  make history  through a terrorist attack in the U.S. Both women are American citizens.But a federal criminal complaint said the two suspects were overheard repeatedly discussing violent activities with the undercover agent   including a plot to bomb a police funeral.Read more: NYDN ",
         "left-news",
         "2015-04-05 00:00:00",
         "0"
        ],
        [
         "17459",
         "MarkLevin is Freaking Awesome: Obama negotiates with Iran; Iranian general says Israel’s destruction is not negotiable",
         "Let s get real with some awesome truth from Mark Levin.Is this guy not just the best ever truth teller! Why can t we have more of him! Patty and I can t get enough of Levin and his ability to cut through the bs of the left.",
         "Government News",
         "2015-04-05 00:00:00",
         "0"
        ],
        [
         "21912",
         "BUSTED: [VIDEO] MAN ATTEMPTS TO TAPE “GOTCHA” VIDEO OF COPS ‘ABUSING THEIR POWERS’ And Gets Unexpected Challenge From Local News",
         "The Michael Brown and Eric Garner cases have opened up so many doors for opportunists looking for their 15 seconds of fame  As an added bonus, we ve included Tony Soto s original  gotcha  video below. A video of a traffic stop by 15th district officers in Philadelphia has gone viral with more than 1 million views. The man in the video says officers abused their power but police are painting a very different picture.28-year-old Tony Soto recorded the traffic stop on his cellphone. I am not anti-police, I support the police. I just don t support police abusing their powers,  Soto told Action News.In the video, Soto showed his license, but refused to show his registration.Police are concerned about Soto s motives and criminal past. We are going to tell our officers to be cautious. It raises your level of suspicion when you have a person   a prior felony   and has had some prior interaction with the law and has been known to interact with guns. So we are going to tell our officers to be careful,  said Lt. John Sanford, Philadelphia Police.Soto sat down with Action News to discuss the controversial video. This traffic stop, just brought to light an ongoing issue that is continually denied all over our nation with individuals being stopped and in some cases being racially profiled,  said Soto.Soto says the officers who stopped him were not African-American but police say differently. They were African American officers,  said Lt. Stanford.The original reason for the stop was for tinted windows.Soto flashed a paper at the officer saying he had a medical exemption from PennDOT for sun screening on his car, but he didn t bring that letter to our meeting. If you were provided that certificate from PennDOT, it has to be colorless tint,  said Lt. Stanford.We asked Soto if his windows were dark tinted. Okay in your opinion or anyone else s opinion from watching the video tape   that s their opinion. No one knows what tint is on my vehicle, whether it s colored or colorless, although it may look dark,  said Soto.And then there s this   in the video, Soto held up a card and badge identifying himself to the officer as a fire marshal.We asked him if he s a fire marshal. The tape speaks for itself and, at this point, okay let s not take the focus as to who I am or what I do or what is going on and let s keep the focus on what is really going on. It is not about Tony Soto,  said Soto.So who is Soto?He s a felon, sentenced to 33 months in federal prison for straw purchasing firearms.He has multiple convictions for theft, fleeing from police, and was convicted of impersonating a public servant in 2005 and now claims he is a volunteer firefighter.We asked Soto where he works. Well we are going to   you are going to stop that right there alright   we are going to stop that and we are not going to go into that,  said Soto.Police are also cautioning the public not to use Soto s video as an example of what to do during a traffic stop.While it is legal to record video, the Pennsylvania vehicle code requires drivers to turn over their identification and registration.In addition, the Fraternal Order of Police is now asking authorities to pursue charges against Soto for allegedly impersonating a public servant. Via: 6ABC NewsHERE IS SOTO s ORIGINAL VIDEO:",
         "left-news",
         "2015-04-05 00:00:00",
         "0"
        ],
        [
         "21913",
         "LISTEN TO THIS FORMER DOJ WHISTLEBLOWER",
         "THE CONGRESS IS THERE TO DO WHAT S BEST FOR THE AMERICAN PEOPLE YET THEY RE LIKE DEER IN THE HEADLIGHTS. Listen to this former DOJ whistleblower who s been in the belly of the Obama regime beast and knows the deal.",
         "left-news",
         "2015-04-05 00:00:00",
         "0"
        ],
        [
         "21914",
         "POLITICAL HACK RIHANNA SINGS “We are the new America” AT THE FINAL FOUR…WHAT EXACTLY IS “NEW AMERICA”?",
         "Corporate sponsors like Coke should think again before hiring this potty mouthed anti-American hack singer for anything.Rihanna performed  American Oxygen  live for the first time at Saturday s March Madness Music Festival.If, by chance, corporate sponsors, broadcasters and the NCAA advised acts playing the March Madness Music Festival to not comment on the controversy that s gripped Indiana, Rihanna and supporting act Bleachers didn t heed that memo on Saturday.Rihanna paused during her performance to verbally slam RFRA in two expletive-laden sentences.The 2015 installment of the annual three-day event was held in Indianapolis, timed to the NCAA s Final Four competition. Rihanna was the headliner of the Coke Zero Countdown concert at White River State Park.Rihanna sang  American Oxygen . It s a sluggish number that frames itself as a 21st-century  The Times They Are A-Changin .   We are the new America,  sang Rihanna in a performance that TBS picked up for broadcast during Saturday s basketball coverage.Rihanna wrote on Twitter afterward,  Thank you Indiana!!!! I would never forget how much fun I had with you tonight!! You blew me away!!! Thank you man!! One love always.  And even though  American Oxygen  hasn t been officially released, the crowd responded to the performance quite strongly.  You SANG EVERY F*CKING WORD!!!!  tweeted Rihanna.  That sh*t legit give me goosebumps!! GAG! WHAT IS NEW AMERICA? IS IT THE HATE AND DIVISION PROMOTED BY OUR PRESIDENT? IS IT THE TURMOIL AND CHAOS IN THE MIDDLE EAST CAUSED BY OUR PRESIDENT? IS IT THE SOARING NATIONAL DEBT IGNORED BY OUR PRESIDENT? IS IT THE COLONIZATION VIA INVASION OF ILLEGALS FROM CENTRAL AMERICA THAT S THE  NEW AMERICA ?Via: indystar",
         "left-news",
         "2015-04-05 00:00:00",
         "0"
        ],
        [
         "15875",
         "HYSTERICAL VIDEO: SATURDAY NIGHT LIVE DOES CNN",
         "PRETTY FUNNY STUFF-MAKE SURE TO WATCH TO THE END.",
         "politics",
         "2015-04-05 00:00:00",
         "0"
        ],
        [
         "15880",
         "POLITICAL HACK RIHANNA SINGS “We are the new America” AT THE FINAL FOUR…WHAT EXACTLY IS “NEW AMERICA”?",
         "Corporate sponsors like Coke should think again before hiring this potty mouthed anti-American hack singer for anything.Rihanna performed  American Oxygen  live for the first time at Saturday s March Madness Music Festival.If, by chance, corporate sponsors, broadcasters and the NCAA advised acts playing the March Madness Music Festival to not comment on the controversy that s gripped Indiana, Rihanna and supporting act Bleachers didn t heed that memo on Saturday.Rihanna paused during her performance to verbally slam RFRA in two expletive-laden sentences.The 2015 installment of the annual three-day event was held in Indianapolis, timed to the NCAA s Final Four competition. Rihanna was the headliner of the Coke Zero Countdown concert at White River State Park.Rihanna sang  American Oxygen . It s a sluggish number that frames itself as a 21st-century  The Times They Are A-Changin .   We are the new America,  sang Rihanna in a performance that TBS picked up for broadcast during Saturday s basketball coverage.Rihanna wrote on Twitter afterward,  Thank you Indiana!!!! I would never forget how much fun I had with you tonight!! You blew me away!!! Thank you man!! One love always.  And even though  American Oxygen  hasn t been officially released, the crowd responded to the performance quite strongly.  You SANG EVERY F*CKING WORD!!!!  tweeted Rihanna.  That sh*t legit give me goosebumps!! GAG! WHAT IS NEW AMERICA? IS IT THE HATE AND DIVISION PROMOTED BY OUR PRESIDENT? IS IT THE TURMOIL AND CHAOS IN THE MIDDLE EAST CAUSED BY OUR PRESIDENT? IS IT THE SOARING NATIONAL DEBT IGNORED BY OUR PRESIDENT? IS IT THE COLONIZATION VIA INVASION OF ILLEGALS FROM CENTRAL AMERICA THAT S THE  NEW AMERICA ?Via: indystar",
         "politics",
         "2015-04-05 00:00:00",
         "0"
        ],
        [
         "15879",
         "LISTEN TO THIS FORMER DOJ WHISTLEBLOWER",
         "THE CONGRESS IS THERE TO DO WHAT S BEST FOR THE AMERICAN PEOPLE YET THEY RE LIKE DEER IN THE HEADLIGHTS. Listen to this former DOJ whistleblower who s been in the belly of the Obama regime beast and knows the deal.",
         "politics",
         "2015-04-05 00:00:00",
         "0"
        ],
        [
         "15878",
         "WELCOME TO AMERICA: Most Refugees Are On Food Stamps…And That’s Not All!",
         "A strikingly high percentage of refugees to the United States use some form of public assistance, according to a government report to Congress.The Office of Refugee Resettlement s Annual Report to Congress for FY2013 reveals that nearly 4 of 5 refugees were on food stamps.Additionally, nearly half were on some form of cash assistance and more than a half were on medical assistance. More than 20 percent were on Supplemental Security Income, more than 22 percent were in public housing and nearly 20 percent were on Temporary Assistance for Needy Families (TANF).The report noted that many households received more than one type of assistance and the data dealt with refugees who arrived in the U.S. between March 1, 2008 to February 28, 2013.To be sure, assistance use varied among region of origin.Refugees from Africa and the Middle East were the heaviest users of cash assistance at 61.9 percent and 68.3 percent respectively. Latin American refugees only used cash assistance at a rate of 8.1 percent and South Asia used about 42.7 percent. Data for Europe and the former Soviet Union was not available.The use of food stamps   or the Supplemental Nutrition Assistance Program (SNAP)   also varied with 88.9 percent of refugees from Africa, 91.4 percent of Middle Eastern refugees, the Middle East, 72.9 percent of South Asia, and 36.7 percent of Latin American refugees using the benefit.Overall, according to the report just 50 percent of refugee households in the five year window were self-sufficient. Approximately 50 percent of all sampled refugee households in the 2013 survey were entirely self-sufficient (subsisted on earnings alone),  the report reads.  About 39 percent lived on a combination of public assistance and earned income; another eight percent received only public assistance. Via: Breitbart News",
         "politics",
         "2015-04-05 00:00:00",
         "0"
        ],
        [
         "15877",
         "FLASHBACK: Female Terrorist Who Planned To Blow Up NYC Police Funeral Was A Pre-School Teacher [Video]",
         "So a wannabe female bomber was a pre-school teacher by day in Queens, NY and a jihadi the rest of the time.She was a pretty hardcore jihadi who worshipped Bin laden and was a big fan of the Boston Bombers. One of the things we found interesting is her affiliation with ICNA Relief, an Islamic charity affiliated with the Islamic Circle of North America. We don t know much about the organization but found a video of Noelle speaking about her support from ICNA. To be honest, it sounds like a bunch of bs but she s trying to raise funds for a women s shelter. She rambles on and on but you can at least get a better understanding of what an attention wh*re she is.NOELLE (PLEASE GO TO THE 7:00 MARK FOR HER  STORY ) ALSO KNOWN AS AISHA ASIF IS A WANNABE JIHADIST WHO CONSPIRED TO BOMB THE NYC POLICE FUNERAL: One of the two Queens women accused of plotting a homemade bomb strike on American soil worked at a preschool, where officials remained tight-lipped Friday after her arrest on terrorism charges.Asia Siddiqui, a 31-year-old native of Saudi Arabia, was behind bars Friday, locked up with her best friend and accused sister in jihad Noelle Valentzas, 28.An undercover operative reported that Valentzas said  being a martyr in a suicide attack guarantees entrance into heaven.  A picture of Osama bin Laden with an AK-47 allegedly decorated her cell phone. She also allegedly turned her interests to pressure cookers after the Boston Marathon bombing: You can fit a lot of things in [the pressure cooker], even if it s not food,  Velentzas told the undercover operative, apparently referencing explosives.She evidently told the undercover operative,  If we get arrested, the police will point their guns at us from the back and maybe from the front. If we can get even one of their weapons, we can shoot them. They will probably kill us but we will be martyrs automatically and receive Allah s blessing. Velentzas was allegedly also friends with U.S. airman Tairod Pugh who, last month, was indicted on terrorism charges after allegedly plotting to travel to Syria to join the Islamic State.Less than two weeks ago, Velentzas was reportedly asked whether she had heard the news about the recent arrest of Pugh and replied that she did not understand why people were traveling overseas to wage jihad when there were more opportunities of  pleasing Allah  in the United States. In that same meeting, Velentzas said she needed to learn the science behind bomb-building to avoid being like Faisal Shahzad, the man who drove an SUV full of explosives into Times Square on a warm Saturday night in May 2010. He wasn t able to detonate the bombs. We have no comment at this time,  said a worker at 82nd Street Academics in Queens on the day after FBI agents arrested the two Al Qaeda-linked suspects at their homes.The busts followed a two-year undercover probe, with the terrorist sympathizers accused of amassing bomb-making materials and studying bomb-making manuals while plotting their strike.The self-identified citizens of the Islamic State   the terrorist organization responsible for beheading Western hostages   have billed themselves as  some bad bitches. Outside their South Jamaica home on Friday, Valentzas  husband (PICTURED BELOW), Abu Bakr, defended his wife and her friend against the federal charges that carry a potential life sentence. He was left at the home with their two kids, ages 5 and 11, after federal agents took Noelle away in handcuffs. The 27-year-old Valentzas, a home health-care worker, was born in Florida, authorities said.She and Siddiqui became close friends and co-conspirators united by a desire to  make history  through a terrorist attack in the U.S. Both women are American citizens.But a federal criminal complaint said the two suspects were overheard repeatedly discussing violent activities with the undercover agent   including a plot to bomb a police funeral.Read more: NYDN ",
         "politics",
         "2015-04-05 00:00:00",
         "0"
        ],
        [
         "15876",
         "MarkLevin is Freaking Awesome: Obama negotiates with Iran; Iranian general says Israel’s destruction is not negotiable",
         "Let s get real with some awesome truth from Mark Levin.Is this guy not just the best ever truth teller! Why can t we have more of him! Patty and I can t get enough of Levin and his ability to cut through the bs of the left.",
         "politics",
         "2015-04-05 00:00:00",
         "0"
        ],
        [
         "21909",
         "HYSTERICAL VIDEO: SATURDAY NIGHT LIVE DOES CNN",
         "PRETTY FUNNY STUFF-MAKE SURE TO WATCH TO THE END.",
         "left-news",
         "2015-04-05 00:00:00",
         "0"
        ],
        [
         "21910",
         "MarkLevin is Freaking Awesome: Obama negotiates with Iran; Iranian general says Israel’s destruction is not negotiable",
         "Let s get real with some awesome truth from Mark Levin.Is this guy not just the best ever truth teller! Why can t we have more of him! Patty and I can t get enough of Levin and his ability to cut through the bs of the left.",
         "left-news",
         "2015-04-05 00:00:00",
         "0"
        ],
        [
         "21902",
         "TROLL CONGRESSWOMAN WANTS YOU TO SELL YOUR GUNS TO THE GOVERNMENT",
         "It s not for her to decide! We have the Second Amendment and that s enough for any American. DeLauro doesn t get to decide for us what s a gun that s ok to own. It might be a good idea to pick up the phone and voice your objection to this bill.Gun owners would receive tax breaks for voluntarily turning in high-powered assault rifles under new legislation proposed Monday.The Support Assault Firearm Elimination and Education of our (SAFER) Streets Act expected to be reintroduced next week by Rep. Rosa DeLauro (D-Conn.) would provide gun owners with an incentive to turn in their firearms to local police departments. Assault weapons are not about hunting, or even self-defense,  DeLauro said.  There is no reason on earth, other than to kill as many people as possible in as short a time as possible, that anyone needs a gun designed for a battlefield. Though DeLauro is in favor of stronger guns laws that would completely ban assault weapons and high-capacity ammunition, she emphasized this bill would not force gun owners to turn in their firearms. The legislation would provide up to $2,000 in tax credits for gun owners who voluntarily hand over assault weapons to their local police departments.The assault weapons legislation comes in response to the horrific mass shooting at Sandy Hook Elementary School in Newtown, Conn., DeLauro s home state, in December 2012.Via: The Hill",
         "left-news",
         "2015-04-06 00:00:00",
         "0"
        ],
        [
         "21901",
         "A MUST READ: OBAMA’S TREASON GOES INTO OVERDRIVE",
         "Our culture is what makes this Nation great and very exceptional. Unfortunately, we ve elected a president who s changing our nation at warp speed with  refugees  (their words) deposited into towns everywhere: Working and middle class whites are becoming a slave class that toils to provide benefits to the Third Worlders imported to empower the ruling class of elitist liberals. THE CULTURE WAR WE RE INAmericans believe that they are exceptional because their country is exceptional. So the left eagerly swarms to argue that America is not exceptional, except maybe that it s exceptionally bad.Americans believe that individuals succeed with hard work. Obama and Elizabeth Warren bray that  You didn t build that. Americans believe in religion and family. The left sets out to destroy them by proving that these institutions are evil and oppressive. Religious leaders are pedophiles. The family is setting for abuse that makes gay people feel bad. When the dust settlers, the only  good  religion and family are the kind defined by the left. Having destroyed the existing system of organization, the left replaces it with its own. That is the ultimate goal of a culture war. Not mere destruction, but absolute power.The culture war begins by attacking abstract ideas. Then it attacks organizations. Then it attacks people.By attacking the ideas, it undermines the organizations based on them so that it can seize control of them or destroy them. Once that s done, it controls a sector of society and begins enforcing its conformity agenda on individuals. Much of that is underway. The war is drilling down to the individual level. We are approaching the tyranny threshold.At the individual level, the goal of the culture war is to destroy your will to resist them. The left has many tools for doing this.Please read the entire piece by Daniel Greenfield: This Culture War We re InOBAMA ESCALATES CULTURAL GENOCIDEIt isn t enough to invite illegal aliens to invade the USA in their numberless hordes and then quickly distribute them along with their exotic diseases throughout the country. Obama is now using your money to fly them directly from Central America, so as to save them the bother of traveling through Mexico:To facilitate the often treacherous process of entering the United States illegally through the southern border, the Obama administration is offering free transportation from three Central American countries and a special refugee/parole program with  resettlement assistance  and permanent residency.  The new arrivals will be officially known as Central American Minors (CAM) and they will be eligible for a special refugee/parole that offers a free one-way flight to the U.S. from El Salvador, Guatemala or Honduras. The project is a joint venture between the Department of Homeland Security (DHS) and the State Department.Readers will recall that DHS was originally set up to defend the homeland. Under the Orwellian Obama Regime, it is in charge of orchestrating an invasion of the homeland.After Pearl Harbor, some feared a Japanese invasion. It would have been preferable to what is happening to us now. If the Imperial Japanese had successfully invaded, they would have ruled for a time, but eventually would have been kicked out. The current invaders aren t going anywhere, and they reproduce much faster than Americans.Plus the Japanese never expected us to pay them to invade us:The candidates will then be granted a special refugee parole, which includes many taxpayer-funded perks and benefits. Among them is a free education, food stamps, medical care and living expenses.  A State Department official promoted CAM as a  family reunification  program that will be completely funded by American taxpayers, though the official claimed to have no idea what the cost will be.Who can put a price on the future?The fig leaf of  refugees  being allowed into the country ahead of immigrants likely to make a positive contribution because their lives are supposedly in danger has been dropped.The State Department official assured that applicants need not express or document a credible fear to qualify under CAM because  we want to make sure this program is open to as many people as possible. Consider this as part of the bigger picture of what is being done to America, and it goes beyond treason. It is cultural genocide.Our rulers know exactly what they are doing. From the official federal propaganda outfit Voice of America:America s demographics are changing like never before. In less than 30 years, whites will no longer be the racial majority in the United States.On the large scale, race and culture are inseparable. Americans are effectively becoming a minority within our own country. Our own democracy will be used against us to relegate us to a permanent second class status (as South Africa demonstrates, whites being a minority hardly spares them from Affirmative Action).Working and middle class whites are becoming a slave class that toils to provide benefits to the Third Worlders imported to empower the ruling class of elitist liberals. Eventually intermarriage will breed the last of our kind out of existence, as VOA happily implies:In 1960, multiracial marriages accounted for only 0.4 percent of all marriages in the United States. By 2010, that figure rose to 8.4 percent, with interracial couples accounting for 15 percent of all new marriages   a trend that experts say will only continue.The VOA piece was given the Orwellian title,  Experts: Coming Demographic Shift Will Strengthen US Culture.  What they mean by this is that the deliberately engineered demographic shift will erase US culture, so that it can be replaced by a multicultural utopia preconceived by cultural Marxists.It used to be genocide meant herding unwanted demographic sectors into gas chambers. But that was crude and inefficient. Simply diluting us out of existence can be done without mess   and incredibly, without resistance.Via: moonbattery",
         "left-news",
         "2015-04-06 00:00:00",
         "0"
        ],
        [
         "21907",
         "NO TOILET PAPER?! SOCIALISM IS IN ITS FINAL STAGES FOR VENEZUELA SO BYOTP",
         "Socialism doesn t work but I guess Venezuela didn t get the memo. No toilet paper? No food? Yes, it s come to that in this socialist hellhole Venezuela s product shortages have become so severe that some hotels in that country are asking guests to bring their own toilet paper and soap, a local tourism industry spokesman said on Wednesday .  It s an extreme situation,  says Xinia Camacho, owner of a 20-room boutique hotel in the foothills of the Sierra Nevada national park.  For over a year we haven t had toilet paper, soap, any kind of milk, coffee or sugar. So we have to tell our guests to come prepared.  Montilla says bigger hotels can circumvent product shortages by buying toilet paper and other basic supplies from black market smugglers who charge up to 6-times the regular price. But smaller, family-run hotels can t always afford to pay such steep prices, which means that sometimes they have to make do without. Camacho says she refuses to buy toilet paper from the black market on principle.  In the black market you have to pay 110 bolivares [$0.50] for a roll of toilet paper that usually costs 17 bolivares [$ 0.08] in the supermarket,  Camacho told Fusion.  We don t want to participate in the corruption of the black market, and I don t have four hours a day to line up for toilet paper  at a supermarket . Recently, Venezuelan officials have been stopping people from transporting essential goods across the country in an effort to stem the flow of contraband. So now Camacho s guests could potentially have their toilet paper confiscated before they even make it to the hotel. Shortages, queues, black markets, and official theft. And blaming the CIA. Yes, Venezuela has truly achieved socialism.But what I never understood is this: Why toilet paper? How hard is it to make toilet paper? I can understand a socialist economy having trouble producing decent cars or computers. But toilet paper? And soap? And matches?Sure, it s been said that if you tried communism in the Sahara, you d get a shortage of sand. Still, a shortage of paper seems like a real achievement.Read more: CATO",
         "left-news",
         "2015-04-06 00:00:00",
         "0"
        ],
        [
         "21903",
         "(VIDEO) UN CLIMATE CHANGE FREAKS: “We should make every effort to decrease the world population”",
         "What an evil bunch of freaks! The agenda is so important to them that they can t see the forest for the trees. Overpopulation is a problem in itself but connecting it to the scam that is global warming is just crazy. These people have such a twisted view of everything that it s really scary. I m 100% FED Up! with the UN climate freaks and their agenda.Climate One founder Greg Dalton and the Executive Secretary of the United Nations Framework Convention on Climate Change (UNFCC) Christiana Figueres, held a discussion in 2013 on the role of women in fighting Global Warming.During the interview Secretary Figueres stated, We should  make every effort,  to reduce the world s population in an effort to fight Climate Change:DALTON: A related issue is fertility rates in population. A lot of people in energy and environmental circles don t wanna go near that because it s politically charged. It s not their issue. But isn t it true that stopping the rise of the population would be one of the biggest levers and driving the rise of green house gases?FIGUERES: I mean we all know that we expect nine billion, right, by 2050. So, yes, obviously less people would exert less pressure on the natural resources.DALTON: So is nine billion a forgone conclusion? That s like baked in, done, no way to change that?HERE S THE VIDEO-IF YOU WANT TO SKIP THE BS THEN JUST GO TO THE 4:20 MARK: A LITTLE MORE ON CHRISTIANA FIGUERES-THE 70 S CALLED AND THEY WANT THEIR RADICAL HIPPIE BACK! AT THE 2:40 MARK SHE SAYS WE NEED A  TRANSFORMATION  (SOUND FAMILIAR) AND A  REVOLUTION  TO CHANGE OUR WAY OF LIFE: FIGUERES: Well there again, there is pressure in the system to go toward that; we can definitely change those, right? We can definitely change those numbers and really should make every effort to change those numbers because we are already, today, already exceeding the planet s planetary carrying capacity, today. To say nothing of adding more population that is really going to overextend our capacity. So yes we should do everything possible. But we cannot fall into the very simplistic opinion of saying just by curtailing population then we ve solved the problem. It is not either/or, it is an and/also.Via: Progressives Today",
         "left-news",
         "2015-04-06 00:00:00",
         "0"
        ],
        [
         "21904",
         "SHERIFF WON’T ENFORCE GUN CONTROL LAW HE CALLS ‘BORDERLINE TREASONOUS’",
         "The gun grabbers are at it again pushing for more oversight and background checks for gun owners. The sheriff says it s  borderline treasonous  and will be a  nightmare  for law enforcement. He s refusing to enforce these efforts at gun control and we salute him for his stance! Bravo!While Oregon Democrats stood with Gabby Giffords and the Brady Campaign to Prevent Gun Violence to push expanded background checks on April 1, Grant County Sheriff Glenn Palmer stood for the law-abiding citizens whom the checks will target by describing the gun control push as  borderline treasonous. Palmer also made clear that if the Democrats pass the measure there is zero chance of his office enforcing it.The push for expanded background checks in Oregon is being spearheaded by state senator Floyd Prozanski (D-Eugene). His efforts are strongly supported by the Brady Campaign and Giffords.Giffords, in particular, believes every potential gun purchaser should have to pass the same background check her attacker passed to acquire his firearm, which the same background check Jerad and Amanda Miller (Las Vegas), Aaron Ybarra (Seattle Pacific University), Elliot Rodger (Santa Barbara), Ivan Lopez (Fort Hood 2014), Darion Marcus Aguilar (Maryland mall), Karl Halverson Pierson (Arapahoe High School), James Holmes (Aurora theater), Nidal Hasan (Fort Hood 2009), and many, many others passed to get the guns they used in their crimes.The irony is not lost on Sheriff Palmer, who sees the push for expanded background checks as just another way to infringe on the Second Amendment rights of law-abiding citizens without impacting crime or criminals. For these reasons, Oregon Live said Palmer described the push as  borderline treasonous. Moreover, Palmer said the background checks pose a nightmare scenario for law enforcement officers who will be straddled with the responsibility of determining when a background should have been done but was not, as well as when a background check is not necessary to begin with.Palmer said he has  no intention  of enforcing Prozanski s bill if it becomes law.Via: Breitbart News",
         "left-news",
         "2015-04-06 00:00:00",
         "0"
        ],
        [
         "21905",
         "ILLEGAL INVASION CONTINUES: NYC RAMPING UP TO GIVE 1 MILLION ILLEGALS VOTING RIGHTS",
         "Insane! This really is the definition of insanity. Letting  non-citizens  vote in our elections is something no other country would even consider ever! When you elect a socialist radical as mayor then I guess that s what you get New York City lawmakers and Mayor Bill de Blasio are reportedly discussing legislation that would give voting rights to non-citizens in local elections. The Guardian noted that under the legislation that is being discussed,  legally documented residents who have lived in New York City for at least six months will be able to vote in municipal elections.  Lawmakers are reportedly  discussing the legislation with Mayor Bill de Blasio s office  and  a bill might be introduced as soon as this spring.  Two years ago, city councilman Daniel Dromm  won the support of 35 of the city council s 51 members, forming a veto-proof majority  when he tried to advance the non-citizen voting bill,  but he faced the obstruction of then council speaker Christine Quinn and the unbreakable opposition of the Bloomberg administration.  De Blasio has said he is  willing to continue the conversation  on non-citizen voting. Non-citizens  make up as much as half the population  in areas that Dromm represents and studies have found that more than a million would be eligible to vote citywide if such de Blasio were to sign such a bill. New York recently instituted its IDNYC card, which gives illegal immigrants access to a variety of city services in addition to the municipal identification card. As the Guardian points out,  many Americans find the idea of non-citizen voting entirely unpalatable and fear that it undermines the sanctity and privilege of citizenship.  Peter Schuck, an emeritus professor of law at Yale University, told the outlet,  My guess is that it would cause many Americans to wonder what the point of citizenship is if anyone can vote without even bothering to learn or be committed enough to apply for naturalization.  Eric Ulrich, one of three Republicans on the city council, recently told Newsday,  The right to vote is a privilege and a sacred obligation that citizens have enjoyed. It should only be for United States citizens. It s also a reason for people who are on a path to citizenship to aspire to citizenship. It s something for them to look forward to.   Six Maryland jurisdictions and Chicago allow non-citizens to vote in some local elections,  and  activists in Amherst, Massachusetts, Madison, Wisconsin, and Burlington, Vermont are also clamoring to give voting rights to non-citizens.  -Breitbart NewsVia: Brietbart News",
         "left-news",
         "2015-04-06 00:00:00",
         "0"
        ],
        [
         "21906",
         "ILLEGAL ALIEN WITH DRUG RESISTANT TB TO BE RELEASED INTO GENERAL U.S. POPULATION",
         "Is anyone else 100% FED UP?On Friday, Arizona Rep. Paul Gosar, along with Rep. Ann Kirkpatrick (D-AZ) and Senators John McCain (R-AZ) and Jeff Flake (R-AZ), sent a letter to DHS Secretary Jeh Johnson and ICE Deputy Assistant Secretary Salda a warning them not to release an illegal immigrant with drug-resistant tuberculosis into the general public. I was alarmed when I was forwarded a letter written by Pinal County Director of Public Health Thomas Schryer indicating that the ICE Detention facility in Florence is planning on releasing an illegal immigrant with drug resistant tuberculosis into the Pinal County Community in the next couple days,  Gosar said in a statement.  I demand ICE and DHS rethink this awful decision and not release this dangerous individual. Such actions put our citizens at risk and will impose significant financial burdens on the County. Dr. Thomas Schryer, Director of Public Health for Pinal County, wrote a letter explaining his concerns about releasing the detained illegal immigrant, who has been receiving treatment for seven months for his tuberculosis.  Tuberculosis is a very dangerous disease that can spread easily, due to the public health threat Arizona Revised Statutes and good public health practice dictates that we provide healthcare to treat tuberculosis for anyone residing in our county (other than those incarcerated) as a result when the ICE facility releases this individual he will be treated at the local tax payers  expense,  he stated.  From a public health perspective it is essential that anyone who is suffering from TB be treated so they are not a health threat to others, I request that ICE pay the costs of those who are released from their facility. The full text of Dr. Schryer s letter and the letter from Gosar, McCain, Flake, and Kirkpatrick can be read below.  FINAL Letter to ICE and DHS re Illegal Immigrant with TB in Florence Facility.docx Via: Breitbart News",
         "left-news",
         "2015-04-06 00:00:00",
         "0"
        ],
        [
         "21908",
         "(VIDEO) PATRIOTS DEMAND REMOVAL OF COMMUNIST FLAG",
         "Patriots removed the the Chinese flag between the American flag and the state flag at the capitol building in Olympia,Washington. Governor Jay Inslee had the POW/MIA flag lowered and replaced by the Chinese flag in honor of his meeting with China Ambassador Cui Tiankai.",
         "left-news",
         "2015-04-06 00:00:00",
         "0"
        ],
        [
         "15866",
         "A MUST READ: OBAMA’S TREASON GOES INTO OVERDRIVE",
         "Our culture is what makes this Nation great and very exceptional. Unfortunately, we ve elected a president who s changing our nation at warp speed with  refugees  (their words) deposited into towns everywhere: Working and middle class whites are becoming a slave class that toils to provide benefits to the Third Worlders imported to empower the ruling class of elitist liberals. THE CULTURE WAR WE RE INAmericans believe that they are exceptional because their country is exceptional. So the left eagerly swarms to argue that America is not exceptional, except maybe that it s exceptionally bad.Americans believe that individuals succeed with hard work. Obama and Elizabeth Warren bray that  You didn t build that. Americans believe in religion and family. The left sets out to destroy them by proving that these institutions are evil and oppressive. Religious leaders are pedophiles. The family is setting for abuse that makes gay people feel bad. When the dust settlers, the only  good  religion and family are the kind defined by the left. Having destroyed the existing system of organization, the left replaces it with its own. That is the ultimate goal of a culture war. Not mere destruction, but absolute power.The culture war begins by attacking abstract ideas. Then it attacks organizations. Then it attacks people.By attacking the ideas, it undermines the organizations based on them so that it can seize control of them or destroy them. Once that s done, it controls a sector of society and begins enforcing its conformity agenda on individuals. Much of that is underway. The war is drilling down to the individual level. We are approaching the tyranny threshold.At the individual level, the goal of the culture war is to destroy your will to resist them. The left has many tools for doing this.Please read the entire piece by Daniel Greenfield: This Culture War We re InOBAMA ESCALATES CULTURAL GENOCIDEIt isn t enough to invite illegal aliens to invade the USA in their numberless hordes and then quickly distribute them along with their exotic diseases throughout the country. Obama is now using your money to fly them directly from Central America, so as to save them the bother of traveling through Mexico:To facilitate the often treacherous process of entering the United States illegally through the southern border, the Obama administration is offering free transportation from three Central American countries and a special refugee/parole program with  resettlement assistance  and permanent residency.  The new arrivals will be officially known as Central American Minors (CAM) and they will be eligible for a special refugee/parole that offers a free one-way flight to the U.S. from El Salvador, Guatemala or Honduras. The project is a joint venture between the Department of Homeland Security (DHS) and the State Department.Readers will recall that DHS was originally set up to defend the homeland. Under the Orwellian Obama Regime, it is in charge of orchestrating an invasion of the homeland.After Pearl Harbor, some feared a Japanese invasion. It would have been preferable to what is happening to us now. If the Imperial Japanese had successfully invaded, they would have ruled for a time, but eventually would have been kicked out. The current invaders aren t going anywhere, and they reproduce much faster than Americans.Plus the Japanese never expected us to pay them to invade us:The candidates will then be granted a special refugee parole, which includes many taxpayer-funded perks and benefits. Among them is a free education, food stamps, medical care and living expenses.  A State Department official promoted CAM as a  family reunification  program that will be completely funded by American taxpayers, though the official claimed to have no idea what the cost will be.Who can put a price on the future?The fig leaf of  refugees  being allowed into the country ahead of immigrants likely to make a positive contribution because their lives are supposedly in danger has been dropped.The State Department official assured that applicants need not express or document a credible fear to qualify under CAM because  we want to make sure this program is open to as many people as possible. Consider this as part of the bigger picture of what is being done to America, and it goes beyond treason. It is cultural genocide.Our rulers know exactly what they are doing. From the official federal propaganda outfit Voice of America:America s demographics are changing like never before. In less than 30 years, whites will no longer be the racial majority in the United States.On the large scale, race and culture are inseparable. Americans are effectively becoming a minority within our own country. Our own democracy will be used against us to relegate us to a permanent second class status (as South Africa demonstrates, whites being a minority hardly spares them from Affirmative Action).Working and middle class whites are becoming a slave class that toils to provide benefits to the Third Worlders imported to empower the ruling class of elitist liberals. Eventually intermarriage will breed the last of our kind out of existence, as VOA happily implies:In 1960, multiracial marriages accounted for only 0.4 percent of all marriages in the United States. By 2010, that figure rose to 8.4 percent, with interracial couples accounting for 15 percent of all new marriages   a trend that experts say will only continue.The VOA piece was given the Orwellian title,  Experts: Coming Demographic Shift Will Strengthen US Culture.  What they mean by this is that the deliberately engineered demographic shift will erase US culture, so that it can be replaced by a multicultural utopia preconceived by cultural Marxists.It used to be genocide meant herding unwanted demographic sectors into gas chambers. But that was crude and inefficient. Simply diluting us out of existence can be done without mess   and incredibly, without resistance.Via: moonbattery",
         "politics",
         "2015-04-06 00:00:00",
         "0"
        ],
        [
         "15867",
         "BROTHER OF FAMOUS ACTRESS PRETENDS TO BE BLACK TO GET INTO MED SCHOOL",
         "This is a perfect example of why affirmative action should be gone! He now says he believes affirmative action is racist ya think?!Mindy Kaling s brother: I got into medical school by pretending to be black. Vijay Chokal-Ingam, brother of Fox star Vera Mindy Chokalingam (known professionally as Mindy Kaling), says he pretended to be African American in 1998-99 in order to gain admission to medical school:In my junior year of college, I realized that I didn t have the grades or test scores to get into medical school, at least not as an Indian-American.Still, I was determined to become a doctor and I knew that admission standards for certain minorities under affirmative action were, let s say  less stringent?So, I shaved my head, trimmed my long Indian eyelashes, and applied to medical school as a black man. My change in appearance was so startling that my own fraternity brother didn t recognize me at first. I even joined the Organization of Black Students and started using my embarrassing middle name that I had hidden from all of my friends since I was a 9 years old.Vijay the Indian-American frat boy become Jojo the African American Affirmative Action applicant to medical school.Here s his American Medical College Application Service application: AMCASAnd here s his Twitter profile pic:Which one got into medical school?According to his website, he pulled it off: Despite a mediocre grade point average and MCAT score, the St. Louis University School of Medicine admitted him.At this point,  Jojo  could have declined admission and revealed his ruse, helping to call attention to the adverse effects of racial preferences on Asians and the potentially deadly effects of racial preferences in medicine. Instead, he matriculated, presumably taking a slot from a bona fide black student who had even less impressive academic credentials than him.Chokal-Ingam dropped out after several years.Read more: biz pac",
         "politics",
         "2015-04-06 00:00:00",
         "0"
        ],
        [
         "17453",
         "WHY IS THE PRESENCE OF RUSSIAN AIRCRAFT FIGHTER JETS NEAR U.S. SHORES INCREASING?",
         "Is our Community Organizer In Chief being tested by Putin?The air is frigid and the wind is howling as Air Force Col. Frank Flores lifts a pair of foot-long binoculars and studies a hazy dot about 50 miles west across the Bering Strait. That s the mainland there,  he shouts above the gusts.It s Siberia, part of Russia, on the Asian mainland.Named for an old mining camp, Tin City is a tiny Air Force installation atop an ice-shrouded coastal mountain 50 miles below the Arctic Circle, far from any road or even trees. The Pentagon took over the remote site decades ago and built a long-range radar station to help detect a surprise attack from the Soviet Union.At least from this frozen perch, America s closest point to Vladimir Putin s Russia, the Cold War is turning warm again.U.S. F-22 fighter jets scrambled about 10 times last year   twice as often as in 2013   to monitor and photograph Russian Tu-95  Bear  bombers and MiG-31 fighter jets that flew over the Bering Sea without communicating with U.S. air controllers or turning on radio transponders, which emit identifying signals.The Russian flights are in international airspace, and it s unclear whether they are testing U.S. defenses, patrolling the area or simply projecting a newly assertive Moscow s global power. They re obviously messaging us,  said Flores, a former Olympic swimmer who is in charge of Tin City and 14 other radar stations scattered along the vast Alaskan coast.  We still don t know their intent. U.S. officials view the bombers   which have been detected as far south as 50 miles off California s northern coast   as deliberately provocative. They are a sign of the deteriorating ties between Moscow and the West since Russia s annexation of Ukraine s Crimea region in March of last year and its military intervention to support separatists in eastern Ukraine.Similar Russian flights in Europe have irked leaders in Britain, Ireland, Sweden, Norway and elsewhere. In January, British authorities were forced to reroute commercial aircraft after Russian bombers flew over the English Channel with their transponders off.In all, the North Atlantic Treaty Organization says its jets scrambled to monitor Russian warplanes around Europe more than 100 times last year, about three times as many as in 2013. Russian air patrols outside its borders were at their highest level since the Soviet Union collapsed in 1991, NATO said.Russian Defense Minister Sergei Shoigu said in a statement in November, as tensions heightened over Ukraine, that Russia s strategic bombers would resume patrols in both the Atlantic and the Pacific. In the current situation we have to maintain military presence in the western Atlantic and eastern Pacific, as well as the Caribbean and the Gulf of Mexico,  he said.Although the Arctic draws less attention, Russia is flexing muscles there after years of decline. President Vladimir Putin s government has announced plans to reopen 10 former Soviet-era military bases, including 14 airfields, that were shuttered along the Arctic seaboard after the Cold War.A shipyard in Severodvinsk, the largest city on the Russian Arctic Coast, has begun building four nuclear-powered submarines for the first time in decades, according to Russian news reports. The Pentagon says the reports are accurate.The Pentagon has responded by spending $126 million last year to upgrade Tin City and other coastal radar stations in Alaska. It also has added military exercises with northern allies   including flying U.S. strategic bombers over the Arctic for the first time since 2011.Last week, four B-52s flew from bases in Nebraska and Louisiana on simultaneous, round-trip sorties to the Arctic and North Sea regions, the Air Force announced. Along the way, the bomber crews engaged in  air intercept maneuvers  with fighter jets from Canada, England and the Netherlands.The Air Force has said it may base the first squadrons of next-generation F-35 fighter jets at Eielson Air Force Base in Alaska starting next year.The buildup comes as melting ice caps are opening valuable new sea lanes, sparking a scramble for oil and other untapped natural resources by the eight nations with territorial or maritime claims in the far north. We re experiencing a reawakening of the strategic importance of the Arctic,  said Navy Adm. William E. Gortney, commander of the Pentagon s Northern Command and of the North American Aerospace Defense Command. Is this a second Cold War? It doesn t matter what we think,  Gortney said.  Maybe they think the Cold War never ended. Via: LA Times",
         "Government News",
         "2015-04-06 00:00:00",
         "0"
        ],
        [
         "15868",
         "WHY IS THE PRESENCE OF RUSSIAN AIRCRAFT FIGHTER JETS NEAR U.S. SHORES INCREASING?",
         "Is our Community Organizer In Chief being tested by Putin?The air is frigid and the wind is howling as Air Force Col. Frank Flores lifts a pair of foot-long binoculars and studies a hazy dot about 50 miles west across the Bering Strait. That s the mainland there,  he shouts above the gusts.It s Siberia, part of Russia, on the Asian mainland.Named for an old mining camp, Tin City is a tiny Air Force installation atop an ice-shrouded coastal mountain 50 miles below the Arctic Circle, far from any road or even trees. The Pentagon took over the remote site decades ago and built a long-range radar station to help detect a surprise attack from the Soviet Union.At least from this frozen perch, America s closest point to Vladimir Putin s Russia, the Cold War is turning warm again.U.S. F-22 fighter jets scrambled about 10 times last year   twice as often as in 2013   to monitor and photograph Russian Tu-95  Bear  bombers and MiG-31 fighter jets that flew over the Bering Sea without communicating with U.S. air controllers or turning on radio transponders, which emit identifying signals.The Russian flights are in international airspace, and it s unclear whether they are testing U.S. defenses, patrolling the area or simply projecting a newly assertive Moscow s global power. They re obviously messaging us,  said Flores, a former Olympic swimmer who is in charge of Tin City and 14 other radar stations scattered along the vast Alaskan coast.  We still don t know their intent. U.S. officials view the bombers   which have been detected as far south as 50 miles off California s northern coast   as deliberately provocative. They are a sign of the deteriorating ties between Moscow and the West since Russia s annexation of Ukraine s Crimea region in March of last year and its military intervention to support separatists in eastern Ukraine.Similar Russian flights in Europe have irked leaders in Britain, Ireland, Sweden, Norway and elsewhere. In January, British authorities were forced to reroute commercial aircraft after Russian bombers flew over the English Channel with their transponders off.In all, the North Atlantic Treaty Organization says its jets scrambled to monitor Russian warplanes around Europe more than 100 times last year, about three times as many as in 2013. Russian air patrols outside its borders were at their highest level since the Soviet Union collapsed in 1991, NATO said.Russian Defense Minister Sergei Shoigu said in a statement in November, as tensions heightened over Ukraine, that Russia s strategic bombers would resume patrols in both the Atlantic and the Pacific. In the current situation we have to maintain military presence in the western Atlantic and eastern Pacific, as well as the Caribbean and the Gulf of Mexico,  he said.Although the Arctic draws less attention, Russia is flexing muscles there after years of decline. President Vladimir Putin s government has announced plans to reopen 10 former Soviet-era military bases, including 14 airfields, that were shuttered along the Arctic seaboard after the Cold War.A shipyard in Severodvinsk, the largest city on the Russian Arctic Coast, has begun building four nuclear-powered submarines for the first time in decades, according to Russian news reports. The Pentagon says the reports are accurate.The Pentagon has responded by spending $126 million last year to upgrade Tin City and other coastal radar stations in Alaska. It also has added military exercises with northern allies   including flying U.S. strategic bombers over the Arctic for the first time since 2011.Last week, four B-52s flew from bases in Nebraska and Louisiana on simultaneous, round-trip sorties to the Arctic and North Sea regions, the Air Force announced. Along the way, the bomber crews engaged in  air intercept maneuvers  with fighter jets from Canada, England and the Netherlands.The Air Force has said it may base the first squadrons of next-generation F-35 fighter jets at Eielson Air Force Base in Alaska starting next year.The buildup comes as melting ice caps are opening valuable new sea lanes, sparking a scramble for oil and other untapped natural resources by the eight nations with territorial or maritime claims in the far north. We re experiencing a reawakening of the strategic importance of the Arctic,  said Navy Adm. William E. Gortney, commander of the Pentagon s Northern Command and of the North American Aerospace Defense Command. Is this a second Cold War? It doesn t matter what we think,  Gortney said.  Maybe they think the Cold War never ended. Via: LA Times",
         "politics",
         "2015-04-06 00:00:00",
         "0"
        ],
        [
         "15869",
         "TROLL CONGRESSWOMAN WANTS YOU TO SELL YOUR GUNS TO THE GOVERNMENT",
         "It s not for her to decide! We have the Second Amendment and that s enough for any American. DeLauro doesn t get to decide for us what s a gun that s ok to own. It might be a good idea to pick up the phone and voice your objection to this bill.Gun owners would receive tax breaks for voluntarily turning in high-powered assault rifles under new legislation proposed Monday.The Support Assault Firearm Elimination and Education of our (SAFER) Streets Act expected to be reintroduced next week by Rep. Rosa DeLauro (D-Conn.) would provide gun owners with an incentive to turn in their firearms to local police departments. Assault weapons are not about hunting, or even self-defense,  DeLauro said.  There is no reason on earth, other than to kill as many people as possible in as short a time as possible, that anyone needs a gun designed for a battlefield. Though DeLauro is in favor of stronger guns laws that would completely ban assault weapons and high-capacity ammunition, she emphasized this bill would not force gun owners to turn in their firearms. The legislation would provide up to $2,000 in tax credits for gun owners who voluntarily hand over assault weapons to their local police departments.The assault weapons legislation comes in response to the horrific mass shooting at Sandy Hook Elementary School in Newtown, Conn., DeLauro s home state, in December 2012.Via: The Hill",
         "politics",
         "2015-04-06 00:00:00",
         "0"
        ],
        [
         "15870",
         "(VIDEO) UN CLIMATE CHANGE FREAKS: “We should make every effort to decrease the world population”",
         "What an evil bunch of freaks! The agenda is so important to them that they can t see the forest for the trees. Overpopulation is a problem in itself but connecting it to the scam that is global warming is just crazy. These people have such a twisted view of everything that it s really scary. I m 100% FED Up! with the UN climate freaks and their agenda.Climate One founder Greg Dalton and the Executive Secretary of the United Nations Framework Convention on Climate Change (UNFCC) Christiana Figueres, held a discussion in 2013 on the role of women in fighting Global Warming.During the interview Secretary Figueres stated, We should  make every effort,  to reduce the world s population in an effort to fight Climate Change:DALTON: A related issue is fertility rates in population. A lot of people in energy and environmental circles don t wanna go near that because it s politically charged. It s not their issue. But isn t it true that stopping the rise of the population would be one of the biggest levers and driving the rise of green house gases?FIGUERES: I mean we all know that we expect nine billion, right, by 2050. So, yes, obviously less people would exert less pressure on the natural resources.DALTON: So is nine billion a forgone conclusion? That s like baked in, done, no way to change that?HERE S THE VIDEO-IF YOU WANT TO SKIP THE BS THEN JUST GO TO THE 4:20 MARK: A LITTLE MORE ON CHRISTIANA FIGUERES-THE 70 S CALLED AND THEY WANT THEIR RADICAL HIPPIE BACK! AT THE 2:40 MARK SHE SAYS WE NEED A  TRANSFORMATION  (SOUND FAMILIAR) AND A  REVOLUTION  TO CHANGE OUR WAY OF LIFE: FIGUERES: Well there again, there is pressure in the system to go toward that; we can definitely change those, right? We can definitely change those numbers and really should make every effort to change those numbers because we are already, today, already exceeding the planet s planetary carrying capacity, today. To say nothing of adding more population that is really going to overextend our capacity. So yes we should do everything possible. But we cannot fall into the very simplistic opinion of saying just by curtailing population then we ve solved the problem. It is not either/or, it is an and/also.Via: Progressives Today",
         "politics",
         "2015-04-06 00:00:00",
         "0"
        ],
        [
         "15871",
         "SHERIFF WON’T ENFORCE GUN CONTROL LAW HE CALLS ‘BORDERLINE TREASONOUS’",
         "The gun grabbers are at it again pushing for more oversight and background checks for gun owners. The sheriff says it s  borderline treasonous  and will be a  nightmare  for law enforcement. He s refusing to enforce these efforts at gun control and we salute him for his stance! Bravo!While Oregon Democrats stood with Gabby Giffords and the Brady Campaign to Prevent Gun Violence to push expanded background checks on April 1, Grant County Sheriff Glenn Palmer stood for the law-abiding citizens whom the checks will target by describing the gun control push as  borderline treasonous. Palmer also made clear that if the Democrats pass the measure there is zero chance of his office enforcing it.The push for expanded background checks in Oregon is being spearheaded by state senator Floyd Prozanski (D-Eugene). His efforts are strongly supported by the Brady Campaign and Giffords.Giffords, in particular, believes every potential gun purchaser should have to pass the same background check her attacker passed to acquire his firearm, which the same background check Jerad and Amanda Miller (Las Vegas), Aaron Ybarra (Seattle Pacific University), Elliot Rodger (Santa Barbara), Ivan Lopez (Fort Hood 2014), Darion Marcus Aguilar (Maryland mall), Karl Halverson Pierson (Arapahoe High School), James Holmes (Aurora theater), Nidal Hasan (Fort Hood 2009), and many, many others passed to get the guns they used in their crimes.The irony is not lost on Sheriff Palmer, who sees the push for expanded background checks as just another way to infringe on the Second Amendment rights of law-abiding citizens without impacting crime or criminals. For these reasons, Oregon Live said Palmer described the push as  borderline treasonous. Moreover, Palmer said the background checks pose a nightmare scenario for law enforcement officers who will be straddled with the responsibility of determining when a background should have been done but was not, as well as when a background check is not necessary to begin with.Palmer said he has  no intention  of enforcing Prozanski s bill if it becomes law.Via: Breitbart News",
         "politics",
         "2015-04-06 00:00:00",
         "0"
        ],
        [
         "15872",
         "ILLEGAL INVASION CONTINUES: NYC RAMPING UP TO GIVE 1 MILLION ILLEGALS VOTING RIGHTS",
         "Insane! This really is the definition of insanity. Letting  non-citizens  vote in our elections is something no other country would even consider ever! When you elect a socialist radical as mayor then I guess that s what you get New York City lawmakers and Mayor Bill de Blasio are reportedly discussing legislation that would give voting rights to non-citizens in local elections. The Guardian noted that under the legislation that is being discussed,  legally documented residents who have lived in New York City for at least six months will be able to vote in municipal elections.  Lawmakers are reportedly  discussing the legislation with Mayor Bill de Blasio s office  and  a bill might be introduced as soon as this spring.  Two years ago, city councilman Daniel Dromm  won the support of 35 of the city council s 51 members, forming a veto-proof majority  when he tried to advance the non-citizen voting bill,  but he faced the obstruction of then council speaker Christine Quinn and the unbreakable opposition of the Bloomberg administration.  De Blasio has said he is  willing to continue the conversation  on non-citizen voting. Non-citizens  make up as much as half the population  in areas that Dromm represents and studies have found that more than a million would be eligible to vote citywide if such de Blasio were to sign such a bill. New York recently instituted its IDNYC card, which gives illegal immigrants access to a variety of city services in addition to the municipal identification card. As the Guardian points out,  many Americans find the idea of non-citizen voting entirely unpalatable and fear that it undermines the sanctity and privilege of citizenship.  Peter Schuck, an emeritus professor of law at Yale University, told the outlet,  My guess is that it would cause many Americans to wonder what the point of citizenship is if anyone can vote without even bothering to learn or be committed enough to apply for naturalization.  Eric Ulrich, one of three Republicans on the city council, recently told Newsday,  The right to vote is a privilege and a sacred obligation that citizens have enjoyed. It should only be for United States citizens. It s also a reason for people who are on a path to citizenship to aspire to citizenship. It s something for them to look forward to.   Six Maryland jurisdictions and Chicago allow non-citizens to vote in some local elections,  and  activists in Amherst, Massachusetts, Madison, Wisconsin, and Burlington, Vermont are also clamoring to give voting rights to non-citizens.  -Breitbart NewsVia: Brietbart News",
         "politics",
         "2015-04-06 00:00:00",
         "0"
        ],
        [
         "15873",
         "ILLEGAL ALIEN WITH DRUG RESISTANT TB TO BE RELEASED INTO GENERAL U.S. POPULATION",
         "Is anyone else 100% FED UP?On Friday, Arizona Rep. Paul Gosar, along with Rep. Ann Kirkpatrick (D-AZ) and Senators John McCain (R-AZ) and Jeff Flake (R-AZ), sent a letter to DHS Secretary Jeh Johnson and ICE Deputy Assistant Secretary Salda a warning them not to release an illegal immigrant with drug-resistant tuberculosis into the general public. I was alarmed when I was forwarded a letter written by Pinal County Director of Public Health Thomas Schryer indicating that the ICE Detention facility in Florence is planning on releasing an illegal immigrant with drug resistant tuberculosis into the Pinal County Community in the next couple days,  Gosar said in a statement.  I demand ICE and DHS rethink this awful decision and not release this dangerous individual. Such actions put our citizens at risk and will impose significant financial burdens on the County. Dr. Thomas Schryer, Director of Public Health for Pinal County, wrote a letter explaining his concerns about releasing the detained illegal immigrant, who has been receiving treatment for seven months for his tuberculosis.  Tuberculosis is a very dangerous disease that can spread easily, due to the public health threat Arizona Revised Statutes and good public health practice dictates that we provide healthcare to treat tuberculosis for anyone residing in our county (other than those incarcerated) as a result when the ICE facility releases this individual he will be treated at the local tax payers  expense,  he stated.  From a public health perspective it is essential that anyone who is suffering from TB be treated so they are not a health threat to others, I request that ICE pay the costs of those who are released from their facility. The full text of Dr. Schryer s letter and the letter from Gosar, McCain, Flake, and Kirkpatrick can be read below.  FINAL Letter to ICE and DHS re Illegal Immigrant with TB in Florence Facility.docx Via: Breitbart News",
         "politics",
         "2015-04-06 00:00:00",
         "0"
        ],
        [
         "15874",
         "NO TOILET PAPER?! SOCIALISM IS IN ITS FINAL STAGES FOR VENEZUELA SO BYOTP",
         "Socialism doesn t work but I guess Venezuela didn t get the memo. No toilet paper? No food? Yes, it s come to that in this socialist hellhole Venezuela s product shortages have become so severe that some hotels in that country are asking guests to bring their own toilet paper and soap, a local tourism industry spokesman said on Wednesday .  It s an extreme situation,  says Xinia Camacho, owner of a 20-room boutique hotel in the foothills of the Sierra Nevada national park.  For over a year we haven t had toilet paper, soap, any kind of milk, coffee or sugar. So we have to tell our guests to come prepared.  Montilla says bigger hotels can circumvent product shortages by buying toilet paper and other basic supplies from black market smugglers who charge up to 6-times the regular price. But smaller, family-run hotels can t always afford to pay such steep prices, which means that sometimes they have to make do without. Camacho says she refuses to buy toilet paper from the black market on principle.  In the black market you have to pay 110 bolivares [$0.50] for a roll of toilet paper that usually costs 17 bolivares [$ 0.08] in the supermarket,  Camacho told Fusion.  We don t want to participate in the corruption of the black market, and I don t have four hours a day to line up for toilet paper  at a supermarket . Recently, Venezuelan officials have been stopping people from transporting essential goods across the country in an effort to stem the flow of contraband. So now Camacho s guests could potentially have their toilet paper confiscated before they even make it to the hotel. Shortages, queues, black markets, and official theft. And blaming the CIA. Yes, Venezuela has truly achieved socialism.But what I never understood is this: Why toilet paper? How hard is it to make toilet paper? I can understand a socialist economy having trouble producing decent cars or computers. But toilet paper? And soap? And matches?Sure, it s been said that if you tried communism in the Sahara, you d get a shortage of sand. Still, a shortage of paper seems like a real achievement.Read more: CATO",
         "politics",
         "2015-04-06 00:00:00",
         "0"
        ],
        [
         "17458",
         "NO TOILET PAPER?! SOCIALISM IS IN ITS FINAL STAGES FOR VENEZUELA SO BYOTP",
         "Socialism doesn t work but I guess Venezuela didn t get the memo. No toilet paper? No food? Yes, it s come to that in this socialist hellhole Venezuela s product shortages have become so severe that some hotels in that country are asking guests to bring their own toilet paper and soap, a local tourism industry spokesman said on Wednesday .  It s an extreme situation,  says Xinia Camacho, owner of a 20-room boutique hotel in the foothills of the Sierra Nevada national park.  For over a year we haven t had toilet paper, soap, any kind of milk, coffee or sugar. So we have to tell our guests to come prepared.  Montilla says bigger hotels can circumvent product shortages by buying toilet paper and other basic supplies from black market smugglers who charge up to 6-times the regular price. But smaller, family-run hotels can t always afford to pay such steep prices, which means that sometimes they have to make do without. Camacho says she refuses to buy toilet paper from the black market on principle.  In the black market you have to pay 110 bolivares [$0.50] for a roll of toilet paper that usually costs 17 bolivares [$ 0.08] in the supermarket,  Camacho told Fusion.  We don t want to participate in the corruption of the black market, and I don t have four hours a day to line up for toilet paper  at a supermarket . Recently, Venezuelan officials have been stopping people from transporting essential goods across the country in an effort to stem the flow of contraband. So now Camacho s guests could potentially have their toilet paper confiscated before they even make it to the hotel. Shortages, queues, black markets, and official theft. And blaming the CIA. Yes, Venezuela has truly achieved socialism.But what I never understood is this: Why toilet paper? How hard is it to make toilet paper? I can understand a socialist economy having trouble producing decent cars or computers. But toilet paper? And soap? And matches?Sure, it s been said that if you tried communism in the Sahara, you d get a shortage of sand. Still, a shortage of paper seems like a real achievement.Read more: CATO",
         "Government News",
         "2015-04-06 00:00:00",
         "0"
        ],
        [
         "17457",
         "ILLEGAL INVASION CONTINUES: NYC RAMPING UP TO GIVE 1 MILLION ILLEGALS VOTING RIGHTS",
         "Insane! This really is the definition of insanity. Letting  non-citizens  vote in our elections is something no other country would even consider ever! When you elect a socialist radical as mayor then I guess that s what you get New York City lawmakers and Mayor Bill de Blasio are reportedly discussing legislation that would give voting rights to non-citizens in local elections. The Guardian noted that under the legislation that is being discussed,  legally documented residents who have lived in New York City for at least six months will be able to vote in municipal elections.  Lawmakers are reportedly  discussing the legislation with Mayor Bill de Blasio s office  and  a bill might be introduced as soon as this spring.  Two years ago, city councilman Daniel Dromm  won the support of 35 of the city council s 51 members, forming a veto-proof majority  when he tried to advance the non-citizen voting bill,  but he faced the obstruction of then council speaker Christine Quinn and the unbreakable opposition of the Bloomberg administration.  De Blasio has said he is  willing to continue the conversation  on non-citizen voting. Non-citizens  make up as much as half the population  in areas that Dromm represents and studies have found that more than a million would be eligible to vote citywide if such de Blasio were to sign such a bill. New York recently instituted its IDNYC card, which gives illegal immigrants access to a variety of city services in addition to the municipal identification card. As the Guardian points out,  many Americans find the idea of non-citizen voting entirely unpalatable and fear that it undermines the sanctity and privilege of citizenship.  Peter Schuck, an emeritus professor of law at Yale University, told the outlet,  My guess is that it would cause many Americans to wonder what the point of citizenship is if anyone can vote without even bothering to learn or be committed enough to apply for naturalization.  Eric Ulrich, one of three Republicans on the city council, recently told Newsday,  The right to vote is a privilege and a sacred obligation that citizens have enjoyed. It should only be for United States citizens. It s also a reason for people who are on a path to citizenship to aspire to citizenship. It s something for them to look forward to.   Six Maryland jurisdictions and Chicago allow non-citizens to vote in some local elections,  and  activists in Amherst, Massachusetts, Madison, Wisconsin, and Burlington, Vermont are also clamoring to give voting rights to non-citizens.  -Breitbart NewsVia: Brietbart News",
         "Government News",
         "2015-04-06 00:00:00",
         "0"
        ],
        [
         "17455",
         "(VIDEO) UN CLIMATE CHANGE FREAKS: “We should make every effort to decrease the world population”",
         "What an evil bunch of freaks! The agenda is so important to them that they can t see the forest for the trees. Overpopulation is a problem in itself but connecting it to the scam that is global warming is just crazy. These people have such a twisted view of everything that it s really scary. I m 100% FED Up! with the UN climate freaks and their agenda.Climate One founder Greg Dalton and the Executive Secretary of the United Nations Framework Convention on Climate Change (UNFCC) Christiana Figueres, held a discussion in 2013 on the role of women in fighting Global Warming.During the interview Secretary Figueres stated, We should  make every effort,  to reduce the world s population in an effort to fight Climate Change:DALTON: A related issue is fertility rates in population. A lot of people in energy and environmental circles don t wanna go near that because it s politically charged. It s not their issue. But isn t it true that stopping the rise of the population would be one of the biggest levers and driving the rise of green house gases?FIGUERES: I mean we all know that we expect nine billion, right, by 2050. So, yes, obviously less people would exert less pressure on the natural resources.DALTON: So is nine billion a forgone conclusion? That s like baked in, done, no way to change that?HERE S THE VIDEO-IF YOU WANT TO SKIP THE BS THEN JUST GO TO THE 4:20 MARK: A LITTLE MORE ON CHRISTIANA FIGUERES-THE 70 S CALLED AND THEY WANT THEIR RADICAL HIPPIE BACK! AT THE 2:40 MARK SHE SAYS WE NEED A  TRANSFORMATION  (SOUND FAMILIAR) AND A  REVOLUTION  TO CHANGE OUR WAY OF LIFE: FIGUERES: Well there again, there is pressure in the system to go toward that; we can definitely change those, right? We can definitely change those numbers and really should make every effort to change those numbers because we are already, today, already exceeding the planet s planetary carrying capacity, today. To say nothing of adding more population that is really going to overextend our capacity. So yes we should do everything possible. But we cannot fall into the very simplistic opinion of saying just by curtailing population then we ve solved the problem. It is not either/or, it is an and/also.Via: Progressives Today",
         "Government News",
         "2015-04-06 00:00:00",
         "0"
        ]
       ],
       "shape": {
        "columns": 5,
        "rows": 44898
       }
      },
      "text/html": [
       "<div>\n",
       "<style scoped>\n",
       "    .dataframe tbody tr th:only-of-type {\n",
       "        vertical-align: middle;\n",
       "    }\n",
       "\n",
       "    .dataframe tbody tr th {\n",
       "        vertical-align: top;\n",
       "    }\n",
       "\n",
       "    .dataframe thead th {\n",
       "        text-align: right;\n",
       "    }\n",
       "</style>\n",
       "<table border=\"1\" class=\"dataframe\">\n",
       "  <thead>\n",
       "    <tr style=\"text-align: right;\">\n",
       "      <th></th>\n",
       "      <th>title</th>\n",
       "      <th>text</th>\n",
       "      <th>subject</th>\n",
       "      <th>date</th>\n",
       "      <th>target</th>\n",
       "    </tr>\n",
       "  </thead>\n",
       "  <tbody>\n",
       "    <tr>\n",
       "      <th>15885</th>\n",
       "      <td>FLASHBACK: KING OBAMA COMMUTES SENTENCES OF 22...</td>\n",
       "      <td>Just making room for Hillary President Obama t...</td>\n",
       "      <td>politics</td>\n",
       "      <td>2015-03-31</td>\n",
       "      <td>0</td>\n",
       "    </tr>\n",
       "    <tr>\n",
       "      <th>15890</th>\n",
       "      <td>HILLARY RODHAM NIXON: A CANDIDATE WITH MORE BA...</td>\n",
       "      <td>The irony here isn t lost on us. Hillary is be...</td>\n",
       "      <td>politics</td>\n",
       "      <td>2015-03-31</td>\n",
       "      <td>0</td>\n",
       "    </tr>\n",
       "    <tr>\n",
       "      <th>15889</th>\n",
       "      <td>BENGHAZI PANEL CALLS HILLARY TO TESTIFY UNDER ...</td>\n",
       "      <td>Does anyone really think Hillary Clinton will ...</td>\n",
       "      <td>politics</td>\n",
       "      <td>2015-03-31</td>\n",
       "      <td>0</td>\n",
       "    </tr>\n",
       "    <tr>\n",
       "      <th>15888</th>\n",
       "      <td>OH NO! GUESS WHO FUNDED THE SHRINE TO TED KENNEDY</td>\n",
       "      <td>Nothing like political cronyism to make your s...</td>\n",
       "      <td>politics</td>\n",
       "      <td>2015-03-31</td>\n",
       "      <td>0</td>\n",
       "    </tr>\n",
       "    <tr>\n",
       "      <th>15887</th>\n",
       "      <td>WATCH DIRTY HARRY REID ON HIS LIE ABOUT ROMNEY...</td>\n",
       "      <td>In case you missed it Sen. Harry Reid (R-NV), ...</td>\n",
       "      <td>politics</td>\n",
       "      <td>2015-03-31</td>\n",
       "      <td>0</td>\n",
       "    </tr>\n",
       "    <tr>\n",
       "      <th>...</th>\n",
       "      <td>...</td>\n",
       "      <td>...</td>\n",
       "      <td>...</td>\n",
       "      <td>...</td>\n",
       "      <td>...</td>\n",
       "    </tr>\n",
       "    <tr>\n",
       "      <th>17432</th>\n",
       "      <td>https://fedup.wpengine.com/wp-content/uploads/...</td>\n",
       "      <td>https://fedup.wpengine.com/wp-content/uploads/...</td>\n",
       "      <td>Government News</td>\n",
       "      <td>NaT</td>\n",
       "      <td>0</td>\n",
       "    </tr>\n",
       "    <tr>\n",
       "      <th>17433</th>\n",
       "      <td>https://fedup.wpengine.com/wp-content/uploads/...</td>\n",
       "      <td>https://fedup.wpengine.com/wp-content/uploads/...</td>\n",
       "      <td>Government News</td>\n",
       "      <td>NaT</td>\n",
       "      <td>0</td>\n",
       "    </tr>\n",
       "    <tr>\n",
       "      <th>18933</th>\n",
       "      <td>Homepage</td>\n",
       "      <td>[vc_row][vc_column width= 1/1 ][td_block_trend...</td>\n",
       "      <td>left-news</td>\n",
       "      <td>NaT</td>\n",
       "      <td>0</td>\n",
       "    </tr>\n",
       "    <tr>\n",
       "      <th>21869</th>\n",
       "      <td>https://fedup.wpengine.com/wp-content/uploads/...</td>\n",
       "      <td>https://fedup.wpengine.com/wp-content/uploads/...</td>\n",
       "      <td>left-news</td>\n",
       "      <td>NaT</td>\n",
       "      <td>0</td>\n",
       "    </tr>\n",
       "    <tr>\n",
       "      <th>21870</th>\n",
       "      <td>https://fedup.wpengine.com/wp-content/uploads/...</td>\n",
       "      <td>https://fedup.wpengine.com/wp-content/uploads/...</td>\n",
       "      <td>left-news</td>\n",
       "      <td>NaT</td>\n",
       "      <td>0</td>\n",
       "    </tr>\n",
       "  </tbody>\n",
       "</table>\n",
       "<p>44898 rows × 5 columns</p>\n",
       "</div>"
      ],
      "text/plain": [
       "                                                   title  \\\n",
       "15885  FLASHBACK: KING OBAMA COMMUTES SENTENCES OF 22...   \n",
       "15890  HILLARY RODHAM NIXON: A CANDIDATE WITH MORE BA...   \n",
       "15889  BENGHAZI PANEL CALLS HILLARY TO TESTIFY UNDER ...   \n",
       "15888  OH NO! GUESS WHO FUNDED THE SHRINE TO TED KENNEDY   \n",
       "15887  WATCH DIRTY HARRY REID ON HIS LIE ABOUT ROMNEY...   \n",
       "...                                                  ...   \n",
       "17432  https://fedup.wpengine.com/wp-content/uploads/...   \n",
       "17433  https://fedup.wpengine.com/wp-content/uploads/...   \n",
       "18933                                           Homepage   \n",
       "21869  https://fedup.wpengine.com/wp-content/uploads/...   \n",
       "21870  https://fedup.wpengine.com/wp-content/uploads/...   \n",
       "\n",
       "                                                    text          subject  \\\n",
       "15885  Just making room for Hillary President Obama t...         politics   \n",
       "15890  The irony here isn t lost on us. Hillary is be...         politics   \n",
       "15889  Does anyone really think Hillary Clinton will ...         politics   \n",
       "15888  Nothing like political cronyism to make your s...         politics   \n",
       "15887  In case you missed it Sen. Harry Reid (R-NV), ...         politics   \n",
       "...                                                  ...              ...   \n",
       "17432  https://fedup.wpengine.com/wp-content/uploads/...  Government News   \n",
       "17433  https://fedup.wpengine.com/wp-content/uploads/...  Government News   \n",
       "18933  [vc_row][vc_column width= 1/1 ][td_block_trend...        left-news   \n",
       "21869  https://fedup.wpengine.com/wp-content/uploads/...        left-news   \n",
       "21870  https://fedup.wpengine.com/wp-content/uploads/...        left-news   \n",
       "\n",
       "            date  target  \n",
       "15885 2015-03-31       0  \n",
       "15890 2015-03-31       0  \n",
       "15889 2015-03-31       0  \n",
       "15888 2015-03-31       0  \n",
       "15887 2015-03-31       0  \n",
       "...          ...     ...  \n",
       "17432        NaT       0  \n",
       "17433        NaT       0  \n",
       "18933        NaT       0  \n",
       "21869        NaT       0  \n",
       "21870        NaT       0  \n",
       "\n",
       "[44898 rows x 5 columns]"
      ]
     },
     "execution_count": 70,
     "metadata": {},
     "output_type": "execute_result"
    }
   ],
   "source": [
    "df = pd.read_csv('dataset.csv', index_col=0)\n",
    "\n",
    "df['date'] = pd.to_datetime(df['date'], format='mixed', dayfirst=True, errors='coerce')\n",
    "\n",
    "df_sorted = df.sort_values(by='date')\n",
    "\n",
    "df_sorted"
   ]
  },
  {
   "cell_type": "code",
   "execution_count": 71,
   "id": "843e5e87",
   "metadata": {},
   "outputs": [],
   "source": [
    "X = df_sorted.drop(columns=['target', 'subject', 'date'])\n",
    "# X = df_sorted.drop(columns=['target', 'subject', 'date', 'text'])\n",
    "y = df_sorted['target']"
   ]
  },
  {
   "cell_type": "markdown",
   "id": "5fb215c7",
   "metadata": {},
   "source": [
    "## LSTM"
   ]
  },
  {
   "cell_type": "markdown",
   "id": "03279137",
   "metadata": {},
   "source": [
    "сделаем простую lstm модель"
   ]
  },
  {
   "cell_type": "code",
   "execution_count": 72,
   "id": "3f3f0260",
   "metadata": {},
   "outputs": [],
   "source": [
    "from tensorflow.keras.preprocessing.text import Tokenizer\n",
    "from tensorflow.keras.preprocessing.sequence import pad_sequences\n",
    "from tensorflow.keras.layers import Dense, Input, Embedding, LSTM, Dropout, Bidirectional\n",
    "from tensorflow.keras.models import Sequential\n",
    "from tensorflow.keras.optimizers import Adam\n",
    "from tensorflow.keras.losses import BinaryCrossentropy\n",
    "from tensorflow.keras.callbacks import EarlyStopping, ReduceLROnPlateau\n",
    "import tensorflow as tf\n",
    "import warnings\n",
    "\n",
    "\n",
    "warnings.filterwarnings('ignore')"
   ]
  },
  {
   "cell_type": "code",
   "execution_count": 73,
   "id": "8ff2a87b",
   "metadata": {},
   "outputs": [
    {
     "data": {
      "text/html": [
       "<pre style=\"white-space:pre;overflow-x:auto;line-height:normal;font-family:Menlo,'DejaVu Sans Mono',consolas,'Courier New',monospace\"><span style=\"font-weight: bold\">Model: \"sequential\"</span>\n",
       "</pre>\n"
      ],
      "text/plain": [
       "\u001b[1mModel: \"sequential\"\u001b[0m\n"
      ]
     },
     "metadata": {},
     "output_type": "display_data"
    },
    {
     "data": {
      "text/html": [
       "<pre style=\"white-space:pre;overflow-x:auto;line-height:normal;font-family:Menlo,'DejaVu Sans Mono',consolas,'Courier New',monospace\">┏━━━━━━━━━━━━━━━━━━━━━━━━━━━━━━━━━┳━━━━━━━━━━━━━━━━━━━━━━━━┳━━━━━━━━━━━━━━━┓\n",
       "┃<span style=\"font-weight: bold\"> Layer (type)                    </span>┃<span style=\"font-weight: bold\"> Output Shape           </span>┃<span style=\"font-weight: bold\">       Param # </span>┃\n",
       "┡━━━━━━━━━━━━━━━━━━━━━━━━━━━━━━━━━╇━━━━━━━━━━━━━━━━━━━━━━━━╇━━━━━━━━━━━━━━━┩\n",
       "│ embedding_1 (<span style=\"color: #0087ff; text-decoration-color: #0087ff\">Embedding</span>)         │ (<span style=\"color: #00d7ff; text-decoration-color: #00d7ff\">None</span>, <span style=\"color: #00af00; text-decoration-color: #00af00\">35</span>, <span style=\"color: #00af00; text-decoration-color: #00af00\">10</span>)         │       <span style=\"color: #00af00; text-decoration-color: #00af00\">186,160</span> │\n",
       "├─────────────────────────────────┼────────────────────────┼───────────────┤\n",
       "│ bidirectional (<span style=\"color: #0087ff; text-decoration-color: #0087ff\">Bidirectional</span>)   │ (<span style=\"color: #00d7ff; text-decoration-color: #00d7ff\">None</span>, <span style=\"color: #00af00; text-decoration-color: #00af00\">256</span>)            │       <span style=\"color: #00af00; text-decoration-color: #00af00\">142,336</span> │\n",
       "├─────────────────────────────────┼────────────────────────┼───────────────┤\n",
       "│ dropout_1 (<span style=\"color: #0087ff; text-decoration-color: #0087ff\">Dropout</span>)             │ (<span style=\"color: #00d7ff; text-decoration-color: #00d7ff\">None</span>, <span style=\"color: #00af00; text-decoration-color: #00af00\">256</span>)            │             <span style=\"color: #00af00; text-decoration-color: #00af00\">0</span> │\n",
       "├─────────────────────────────────┼────────────────────────┼───────────────┤\n",
       "│ dense_2 (<span style=\"color: #0087ff; text-decoration-color: #0087ff\">Dense</span>)                 │ (<span style=\"color: #00d7ff; text-decoration-color: #00d7ff\">None</span>, <span style=\"color: #00af00; text-decoration-color: #00af00\">1</span>)              │           <span style=\"color: #00af00; text-decoration-color: #00af00\">257</span> │\n",
       "└─────────────────────────────────┴────────────────────────┴───────────────┘\n",
       "</pre>\n"
      ],
      "text/plain": [
       "┏━━━━━━━━━━━━━━━━━━━━━━━━━━━━━━━━━┳━━━━━━━━━━━━━━━━━━━━━━━━┳━━━━━━━━━━━━━━━┓\n",
       "┃\u001b[1m \u001b[0m\u001b[1mLayer (type)                   \u001b[0m\u001b[1m \u001b[0m┃\u001b[1m \u001b[0m\u001b[1mOutput Shape          \u001b[0m\u001b[1m \u001b[0m┃\u001b[1m \u001b[0m\u001b[1m      Param #\u001b[0m\u001b[1m \u001b[0m┃\n",
       "┡━━━━━━━━━━━━━━━━━━━━━━━━━━━━━━━━━╇━━━━━━━━━━━━━━━━━━━━━━━━╇━━━━━━━━━━━━━━━┩\n",
       "│ embedding_1 (\u001b[38;5;33mEmbedding\u001b[0m)         │ (\u001b[38;5;45mNone\u001b[0m, \u001b[38;5;34m35\u001b[0m, \u001b[38;5;34m10\u001b[0m)         │       \u001b[38;5;34m186,160\u001b[0m │\n",
       "├─────────────────────────────────┼────────────────────────┼───────────────┤\n",
       "│ bidirectional (\u001b[38;5;33mBidirectional\u001b[0m)   │ (\u001b[38;5;45mNone\u001b[0m, \u001b[38;5;34m256\u001b[0m)            │       \u001b[38;5;34m142,336\u001b[0m │\n",
       "├─────────────────────────────────┼────────────────────────┼───────────────┤\n",
       "│ dropout_1 (\u001b[38;5;33mDropout\u001b[0m)             │ (\u001b[38;5;45mNone\u001b[0m, \u001b[38;5;34m256\u001b[0m)            │             \u001b[38;5;34m0\u001b[0m │\n",
       "├─────────────────────────────────┼────────────────────────┼───────────────┤\n",
       "│ dense_2 (\u001b[38;5;33mDense\u001b[0m)                 │ (\u001b[38;5;45mNone\u001b[0m, \u001b[38;5;34m1\u001b[0m)              │           \u001b[38;5;34m257\u001b[0m │\n",
       "└─────────────────────────────────┴────────────────────────┴───────────────┘\n"
      ]
     },
     "metadata": {},
     "output_type": "display_data"
    },
    {
     "data": {
      "text/html": [
       "<pre style=\"white-space:pre;overflow-x:auto;line-height:normal;font-family:Menlo,'DejaVu Sans Mono',consolas,'Courier New',monospace\"><span style=\"font-weight: bold\"> Total params: </span><span style=\"color: #00af00; text-decoration-color: #00af00\">328,753</span> (1.25 MB)\n",
       "</pre>\n"
      ],
      "text/plain": [
       "\u001b[1m Total params: \u001b[0m\u001b[38;5;34m328,753\u001b[0m (1.25 MB)\n"
      ]
     },
     "metadata": {},
     "output_type": "display_data"
    },
    {
     "data": {
      "text/html": [
       "<pre style=\"white-space:pre;overflow-x:auto;line-height:normal;font-family:Menlo,'DejaVu Sans Mono',consolas,'Courier New',monospace\"><span style=\"font-weight: bold\"> Trainable params: </span><span style=\"color: #00af00; text-decoration-color: #00af00\">328,753</span> (1.25 MB)\n",
       "</pre>\n"
      ],
      "text/plain": [
       "\u001b[1m Trainable params: \u001b[0m\u001b[38;5;34m328,753\u001b[0m (1.25 MB)\n"
      ]
     },
     "metadata": {},
     "output_type": "display_data"
    },
    {
     "data": {
      "text/html": [
       "<pre style=\"white-space:pre;overflow-x:auto;line-height:normal;font-family:Menlo,'DejaVu Sans Mono',consolas,'Courier New',monospace\"><span style=\"font-weight: bold\"> Non-trainable params: </span><span style=\"color: #00af00; text-decoration-color: #00af00\">0</span> (0.00 B)\n",
       "</pre>\n"
      ],
      "text/plain": [
       "\u001b[1m Non-trainable params: \u001b[0m\u001b[38;5;34m0\u001b[0m (0.00 B)\n"
      ]
     },
     "metadata": {},
     "output_type": "display_data"
    }
   ],
   "source": [
    "epochs = 10\n",
    "lr = 1e-3\n",
    "embedding_dim = 10\n",
    "\n",
    "model = Sequential([\n",
    "    Input(shape = (max_length,)),\n",
    "    Embedding(vocab_size, embedding_dim, input_length = max_length, trainable = True), # установка trainable = True дала 2% \n",
    "    \n",
    "    Bidirectional(LSTM(128)),\n",
    "\n",
    "    Dropout(0.2),\n",
    "    \n",
    "    Dense(1, activation = 'sigmoid')\n",
    "])\n",
    " \n",
    "model.compile(optimizer = Adam(learning_rate = lr), loss = BinaryCrossentropy(), metrics = ['accuracy'])\n",
    "model.summary()"
   ]
  },
  {
   "cell_type": "code",
   "execution_count": 74,
   "id": "3cac9ad4",
   "metadata": {},
   "outputs": [
    {
     "data": {
      "text/plain": [
       "[]"
      ]
     },
     "execution_count": 74,
     "metadata": {},
     "output_type": "execute_result"
    }
   ],
   "source": [
    "tf.config.list_physical_devices('GPU')"
   ]
  },
  {
   "cell_type": "code",
   "execution_count": 75,
   "id": "4a726c3c",
   "metadata": {},
   "outputs": [],
   "source": [
    "from sklearn.model_selection import TimeSeriesSplit, train_test_split\n",
    "from tensorflow.keras.callbacks import EarlyStopping, ReduceLROnPlateau\n",
    "from sklearn.metrics import accuracy_score, classification_report\n",
    "import numpy as np\n",
    "import pandas as pd"
   ]
  },
  {
   "cell_type": "code",
   "execution_count": 76,
   "id": "c8015711",
   "metadata": {},
   "outputs": [
    {
     "name": "stdout",
     "output_type": "stream",
     "text": [
      "Fold: 0\n",
      "Train Accuracy : 99.97 %\n",
      "Test Accuracy  : 99.52 %\n",
      "________________________________________\n",
      "Fold: 1\n",
      "Train Accuracy : 99.81 %\n",
      "Test Accuracy  : 99.38 %\n",
      "________________________________________\n",
      "Fold: 2\n",
      "Train Accuracy : 99.73 %\n",
      "Test Accuracy  : 98.65 %\n",
      "________________________________________\n",
      "   fold        F1  Test Accuracy\n",
      "0     0  0.992548       0.995189\n",
      "1     1  0.993854       0.993763\n",
      "2     2  0.991880       0.986458\n",
      "\n",
      "Средний F1 по фолдам: 0.9927607374924499\n"
     ]
    }
   ],
   "source": [
    "tscv = TimeSeriesSplit(n_splits=3)\n",
    "metrics_all = []\n",
    "\n",
    "for fold, (train_idx, test_idx) in enumerate(tscv.split(X)):\n",
    "    X_train, X_test = X.iloc[train_idx], X.iloc[test_idx]\n",
    "    y_train, y_test = y.iloc[train_idx], y.iloc[test_idx]\n",
    "\n",
    "    if y_train.nunique() < 2 or y_test.nunique() < 2:\n",
    "        print(f\"Skipping fold {fold}: not enough class variety\")\n",
    "        continue\n",
    "\n",
    "    # делим test ещё на val/test (50/50)\n",
    "    X_val, X_test, y_val, y_test = train_test_split(\n",
    "        X_test, y_test, \n",
    "        test_size=0.5, random_state=SEED, shuffle=True\n",
    "    )\n",
    "\n",
    "    train_seq = pipeline.transform(X_train)\n",
    "    val_seq = pipeline.transform(X_val)\n",
    "    test_seq = pipeline.transform(X_test)\n",
    "\n",
    "\n",
    "    model_es = EarlyStopping(monitor='val_loss', mode='min', patience=5, restore_best_weights=True)\n",
    "    model_rlr = ReduceLROnPlateau(monitor='val_loss', factor=0.2, patience=1, mode='min')\n",
    "\n",
    "    model.fit(\n",
    "        train_seq, y_train,\n",
    "        epochs=epochs,\n",
    "        validation_data=(val_seq, y_val),\n",
    "        callbacks=[model_es, model_rlr],\n",
    "        verbose=0\n",
    "    )\n",
    "\n",
    "    y_pred_test = np.round(model.predict(test_seq, verbose=0))\n",
    "\n",
    "    f1 = f1_score(y_test, y_pred_test)\n",
    "\n",
    "    metrics = {\n",
    "        'fold': fold,\n",
    "        'F1': f1,\n",
    "        'Test Accuracy': accuracy_score(y_test, y_pred_test)\n",
    "    }\n",
    "\n",
    "    metrics_all.append(metrics)\n",
    "\n",
    "    y_pred_train = np.round(model.predict(train_seq, verbose = 0))\n",
    "\n",
    "    print(f'Fold: {fold}')\n",
    "    print(f'Train Accuracy : {accuracy_score(y_train, y_pred_train) * 100:.2f} %')\n",
    "    print(f'Test Accuracy  : {accuracy_score(y_test, y_pred_test) * 100:.2f} %')\n",
    "    print('_'*40)\n",
    "\n",
    "df_metrics = pd.DataFrame(metrics_all)\n",
    "print(df_metrics)\n",
    "print(\"\\nСредний F1 по фолдам:\", df_metrics['F1'].mean())"
   ]
  },
  {
   "cell_type": "markdown",
   "id": "eef078d1",
   "metadata": {},
   "source": [
    "точность примерно такая же как у классической модели поверх TF-IDF "
   ]
  },
  {
   "cell_type": "markdown",
   "id": "1d9220c7",
   "metadata": {},
   "source": [
    "## SimpleRNN"
   ]
  },
  {
   "cell_type": "code",
   "execution_count": 77,
   "id": "29ecce77",
   "metadata": {},
   "outputs": [
    {
     "data": {
      "text/html": [
       "<pre style=\"white-space:pre;overflow-x:auto;line-height:normal;font-family:Menlo,'DejaVu Sans Mono',consolas,'Courier New',monospace\"><span style=\"font-weight: bold\">Model: \"sequential_1\"</span>\n",
       "</pre>\n"
      ],
      "text/plain": [
       "\u001b[1mModel: \"sequential_1\"\u001b[0m\n"
      ]
     },
     "metadata": {},
     "output_type": "display_data"
    },
    {
     "data": {
      "text/html": [
       "<pre style=\"white-space:pre;overflow-x:auto;line-height:normal;font-family:Menlo,'DejaVu Sans Mono',consolas,'Courier New',monospace\">┏━━━━━━━━━━━━━━━━━━━━━━━━━━━━━━━━━┳━━━━━━━━━━━━━━━━━━━━━━━━┳━━━━━━━━━━━━━━━┓\n",
       "┃<span style=\"font-weight: bold\"> Layer (type)                    </span>┃<span style=\"font-weight: bold\"> Output Shape           </span>┃<span style=\"font-weight: bold\">       Param # </span>┃\n",
       "┡━━━━━━━━━━━━━━━━━━━━━━━━━━━━━━━━━╇━━━━━━━━━━━━━━━━━━━━━━━━╇━━━━━━━━━━━━━━━┩\n",
       "│ embedding_2 (<span style=\"color: #0087ff; text-decoration-color: #0087ff\">Embedding</span>)         │ (<span style=\"color: #00d7ff; text-decoration-color: #00d7ff\">None</span>, <span style=\"color: #00af00; text-decoration-color: #00af00\">35</span>, <span style=\"color: #00af00; text-decoration-color: #00af00\">10</span>)         │       <span style=\"color: #00af00; text-decoration-color: #00af00\">186,160</span> │\n",
       "├─────────────────────────────────┼────────────────────────┼───────────────┤\n",
       "│ bidirectional_1 (<span style=\"color: #0087ff; text-decoration-color: #0087ff\">Bidirectional</span>) │ (<span style=\"color: #00d7ff; text-decoration-color: #00d7ff\">None</span>, <span style=\"color: #00af00; text-decoration-color: #00af00\">256</span>)            │        <span style=\"color: #00af00; text-decoration-color: #00af00\">35,584</span> │\n",
       "├─────────────────────────────────┼────────────────────────┼───────────────┤\n",
       "│ dropout_2 (<span style=\"color: #0087ff; text-decoration-color: #0087ff\">Dropout</span>)             │ (<span style=\"color: #00d7ff; text-decoration-color: #00d7ff\">None</span>, <span style=\"color: #00af00; text-decoration-color: #00af00\">256</span>)            │             <span style=\"color: #00af00; text-decoration-color: #00af00\">0</span> │\n",
       "├─────────────────────────────────┼────────────────────────┼───────────────┤\n",
       "│ dense_3 (<span style=\"color: #0087ff; text-decoration-color: #0087ff\">Dense</span>)                 │ (<span style=\"color: #00d7ff; text-decoration-color: #00d7ff\">None</span>, <span style=\"color: #00af00; text-decoration-color: #00af00\">1</span>)              │           <span style=\"color: #00af00; text-decoration-color: #00af00\">257</span> │\n",
       "└─────────────────────────────────┴────────────────────────┴───────────────┘\n",
       "</pre>\n"
      ],
      "text/plain": [
       "┏━━━━━━━━━━━━━━━━━━━━━━━━━━━━━━━━━┳━━━━━━━━━━━━━━━━━━━━━━━━┳━━━━━━━━━━━━━━━┓\n",
       "┃\u001b[1m \u001b[0m\u001b[1mLayer (type)                   \u001b[0m\u001b[1m \u001b[0m┃\u001b[1m \u001b[0m\u001b[1mOutput Shape          \u001b[0m\u001b[1m \u001b[0m┃\u001b[1m \u001b[0m\u001b[1m      Param #\u001b[0m\u001b[1m \u001b[0m┃\n",
       "┡━━━━━━━━━━━━━━━━━━━━━━━━━━━━━━━━━╇━━━━━━━━━━━━━━━━━━━━━━━━╇━━━━━━━━━━━━━━━┩\n",
       "│ embedding_2 (\u001b[38;5;33mEmbedding\u001b[0m)         │ (\u001b[38;5;45mNone\u001b[0m, \u001b[38;5;34m35\u001b[0m, \u001b[38;5;34m10\u001b[0m)         │       \u001b[38;5;34m186,160\u001b[0m │\n",
       "├─────────────────────────────────┼────────────────────────┼───────────────┤\n",
       "│ bidirectional_1 (\u001b[38;5;33mBidirectional\u001b[0m) │ (\u001b[38;5;45mNone\u001b[0m, \u001b[38;5;34m256\u001b[0m)            │        \u001b[38;5;34m35,584\u001b[0m │\n",
       "├─────────────────────────────────┼────────────────────────┼───────────────┤\n",
       "│ dropout_2 (\u001b[38;5;33mDropout\u001b[0m)             │ (\u001b[38;5;45mNone\u001b[0m, \u001b[38;5;34m256\u001b[0m)            │             \u001b[38;5;34m0\u001b[0m │\n",
       "├─────────────────────────────────┼────────────────────────┼───────────────┤\n",
       "│ dense_3 (\u001b[38;5;33mDense\u001b[0m)                 │ (\u001b[38;5;45mNone\u001b[0m, \u001b[38;5;34m1\u001b[0m)              │           \u001b[38;5;34m257\u001b[0m │\n",
       "└─────────────────────────────────┴────────────────────────┴───────────────┘\n"
      ]
     },
     "metadata": {},
     "output_type": "display_data"
    },
    {
     "data": {
      "text/html": [
       "<pre style=\"white-space:pre;overflow-x:auto;line-height:normal;font-family:Menlo,'DejaVu Sans Mono',consolas,'Courier New',monospace\"><span style=\"font-weight: bold\"> Total params: </span><span style=\"color: #00af00; text-decoration-color: #00af00\">222,001</span> (867.19 KB)\n",
       "</pre>\n"
      ],
      "text/plain": [
       "\u001b[1m Total params: \u001b[0m\u001b[38;5;34m222,001\u001b[0m (867.19 KB)\n"
      ]
     },
     "metadata": {},
     "output_type": "display_data"
    },
    {
     "data": {
      "text/html": [
       "<pre style=\"white-space:pre;overflow-x:auto;line-height:normal;font-family:Menlo,'DejaVu Sans Mono',consolas,'Courier New',monospace\"><span style=\"font-weight: bold\"> Trainable params: </span><span style=\"color: #00af00; text-decoration-color: #00af00\">222,001</span> (867.19 KB)\n",
       "</pre>\n"
      ],
      "text/plain": [
       "\u001b[1m Trainable params: \u001b[0m\u001b[38;5;34m222,001\u001b[0m (867.19 KB)\n"
      ]
     },
     "metadata": {},
     "output_type": "display_data"
    },
    {
     "data": {
      "text/html": [
       "<pre style=\"white-space:pre;overflow-x:auto;line-height:normal;font-family:Menlo,'DejaVu Sans Mono',consolas,'Courier New',monospace\"><span style=\"font-weight: bold\"> Non-trainable params: </span><span style=\"color: #00af00; text-decoration-color: #00af00\">0</span> (0.00 B)\n",
       "</pre>\n"
      ],
      "text/plain": [
       "\u001b[1m Non-trainable params: \u001b[0m\u001b[38;5;34m0\u001b[0m (0.00 B)\n"
      ]
     },
     "metadata": {},
     "output_type": "display_data"
    }
   ],
   "source": [
    "from tensorflow.keras.layers import SimpleRNN\n",
    "\n",
    "epochs = 10\n",
    "lr = 1e-3\n",
    "embedding_dim = 10\n",
    "\n",
    "model = Sequential([\n",
    "    Input(shape=(max_length,)),\n",
    "    Embedding(vocab_size, embedding_dim, input_length=max_length, trainable=True),\n",
    "\n",
    "    Bidirectional(SimpleRNN(128)),\n",
    "    Dropout(0.2),\n",
    "\n",
    "    Dense(1, activation='sigmoid')\n",
    "])\n",
    " \n",
    "model.compile(optimizer = Adam(learning_rate = lr), loss = BinaryCrossentropy(), metrics = ['accuracy'])\n",
    "model.summary()"
   ]
  },
  {
   "cell_type": "code",
   "execution_count": 78,
   "id": "e2d3bc25",
   "metadata": {},
   "outputs": [
    {
     "name": "stdout",
     "output_type": "stream",
     "text": [
      "Fold: 0\n",
      "Train Accuracy : 99.98 %\n",
      "Test Accuracy  : 99.71 %\n",
      "________________________________________\n",
      "Fold: 1\n",
      "Train Accuracy : 99.91 %\n",
      "Test Accuracy  : 99.84 %\n",
      "________________________________________\n",
      "Fold: 2\n",
      "Train Accuracy : 99.88 %\n",
      "Test Accuracy  : 99.82 %\n",
      "________________________________________\n",
      "   fold        F1  Test Accuracy\n",
      "0     0  0.995597       0.997149\n",
      "1     1  0.998425       0.998396\n",
      "2     2  0.998938       0.998218\n",
      "\n",
      "Средний F1 по фолдам: 0.9976534041865911\n"
     ]
    }
   ],
   "source": [
    "tscv = TimeSeriesSplit(n_splits=3)\n",
    "metrics_all = []\n",
    "\n",
    "for fold, (train_idx, test_idx) in enumerate(tscv.split(X)):\n",
    "    X_train, X_test = X.iloc[train_idx], X.iloc[test_idx]\n",
    "    y_train, y_test = y.iloc[train_idx], y.iloc[test_idx]\n",
    "\n",
    "    if y_train.nunique() < 2 or y_test.nunique() < 2:\n",
    "        print(f\"Skipping fold {fold}: not enough class variety\")\n",
    "        continue\n",
    "\n",
    "    # делим test ещё на val/test (50/50)\n",
    "    X_val, X_test, y_val, y_test = train_test_split(\n",
    "        X_test, y_test, \n",
    "        test_size=0.5, random_state=SEED, shuffle=True\n",
    "    )\n",
    "\n",
    "    train_seq = pipeline.transform(X_train)\n",
    "    val_seq = pipeline.transform(X_val)\n",
    "    test_seq = pipeline.transform(X_test)\n",
    "\n",
    "\n",
    "    model_es = EarlyStopping(monitor='val_loss', mode='min', patience=5, restore_best_weights=True)\n",
    "    model_rlr = ReduceLROnPlateau(monitor='val_loss', factor=0.2, patience=1, mode='min')\n",
    "\n",
    "    model.fit(\n",
    "        train_seq, y_train,\n",
    "        epochs=epochs,\n",
    "        validation_data=(val_seq, y_val),\n",
    "        callbacks=[model_es, model_rlr],\n",
    "        verbose=0\n",
    "    )\n",
    "\n",
    "    y_pred_test = np.round(model.predict(test_seq, verbose=0))\n",
    "\n",
    "    f1 = f1_score(y_test, y_pred_test)\n",
    "\n",
    "    metrics = {\n",
    "        'fold': fold,\n",
    "        'F1': f1,\n",
    "        'Test Accuracy': accuracy_score(y_test, y_pred_test)\n",
    "    }\n",
    "\n",
    "    metrics_all.append(metrics)\n",
    "\n",
    "    y_pred_train = np.round(model.predict(train_seq, verbose = 0))\n",
    "\n",
    "    print(f'Fold: {fold}')\n",
    "    print(f'Train Accuracy : {accuracy_score(y_train, y_pred_train) * 100:.2f} %')\n",
    "    print(f'Test Accuracy  : {accuracy_score(y_test, y_pred_test) * 100:.2f} %')\n",
    "    print('_'*40)\n",
    "\n",
    "df_metrics = pd.DataFrame(metrics_all)\n",
    "print(df_metrics)\n",
    "print(\"\\nСредний F1 по фолдам:\", df_metrics['F1'].mean())"
   ]
  },
  {
   "cell_type": "markdown",
   "id": "00372845",
   "metadata": {},
   "source": [
    "на 1-2% хуже LSTM, но обучаемых параметров в 5 раз меньше"
   ]
  },
  {
   "cell_type": "markdown",
   "id": "4cf786b8",
   "metadata": {},
   "source": [
    "## CNN"
   ]
  },
  {
   "cell_type": "code",
   "execution_count": 79,
   "id": "b781fc9b",
   "metadata": {},
   "outputs": [
    {
     "data": {
      "text/html": [
       "<pre style=\"white-space:pre;overflow-x:auto;line-height:normal;font-family:Menlo,'DejaVu Sans Mono',consolas,'Courier New',monospace\"><span style=\"font-weight: bold\">Model: \"functional_3\"</span>\n",
       "</pre>\n"
      ],
      "text/plain": [
       "\u001b[1mModel: \"functional_3\"\u001b[0m\n"
      ]
     },
     "metadata": {},
     "output_type": "display_data"
    },
    {
     "data": {
      "text/html": [
       "<pre style=\"white-space:pre;overflow-x:auto;line-height:normal;font-family:Menlo,'DejaVu Sans Mono',consolas,'Courier New',monospace\">┏━━━━━━━━━━━━━━━━━━━━━┳━━━━━━━━━━━━━━━━━━━┳━━━━━━━━━━━━┳━━━━━━━━━━━━━━━━━━━┓\n",
       "┃<span style=\"font-weight: bold\"> Layer (type)        </span>┃<span style=\"font-weight: bold\"> Output Shape      </span>┃<span style=\"font-weight: bold\">    Param # </span>┃<span style=\"font-weight: bold\"> Connected to      </span>┃\n",
       "┡━━━━━━━━━━━━━━━━━━━━━╇━━━━━━━━━━━━━━━━━━━╇━━━━━━━━━━━━╇━━━━━━━━━━━━━━━━━━━┩\n",
       "│ input_layer_3       │ (<span style=\"color: #00d7ff; text-decoration-color: #00d7ff\">None</span>, <span style=\"color: #00af00; text-decoration-color: #00af00\">35</span>)        │          <span style=\"color: #00af00; text-decoration-color: #00af00\">0</span> │ -                 │\n",
       "│ (<span style=\"color: #0087ff; text-decoration-color: #0087ff\">InputLayer</span>)        │                   │            │                   │\n",
       "├─────────────────────┼───────────────────┼────────────┼───────────────────┤\n",
       "│ embedding_3         │ (<span style=\"color: #00d7ff; text-decoration-color: #00d7ff\">None</span>, <span style=\"color: #00af00; text-decoration-color: #00af00\">35</span>, <span style=\"color: #00af00; text-decoration-color: #00af00\">10</span>)    │    <span style=\"color: #00af00; text-decoration-color: #00af00\">186,160</span> │ input_layer_3[<span style=\"color: #00af00; text-decoration-color: #00af00\">0</span>]… │\n",
       "│ (<span style=\"color: #0087ff; text-decoration-color: #0087ff\">Embedding</span>)         │                   │            │                   │\n",
       "├─────────────────────┼───────────────────┼────────────┼───────────────────┤\n",
       "│ conv1d_3 (<span style=\"color: #0087ff; text-decoration-color: #0087ff\">Conv1D</span>)   │ (<span style=\"color: #00d7ff; text-decoration-color: #00d7ff\">None</span>, <span style=\"color: #00af00; text-decoration-color: #00af00\">33</span>, <span style=\"color: #00af00; text-decoration-color: #00af00\">128</span>)   │      <span style=\"color: #00af00; text-decoration-color: #00af00\">3,968</span> │ embedding_3[<span style=\"color: #00af00; text-decoration-color: #00af00\">0</span>][<span style=\"color: #00af00; text-decoration-color: #00af00\">0</span>] │\n",
       "├─────────────────────┼───────────────────┼────────────┼───────────────────┤\n",
       "│ conv1d_4 (<span style=\"color: #0087ff; text-decoration-color: #0087ff\">Conv1D</span>)   │ (<span style=\"color: #00d7ff; text-decoration-color: #00d7ff\">None</span>, <span style=\"color: #00af00; text-decoration-color: #00af00\">32</span>, <span style=\"color: #00af00; text-decoration-color: #00af00\">128</span>)   │      <span style=\"color: #00af00; text-decoration-color: #00af00\">5,248</span> │ embedding_3[<span style=\"color: #00af00; text-decoration-color: #00af00\">0</span>][<span style=\"color: #00af00; text-decoration-color: #00af00\">0</span>] │\n",
       "├─────────────────────┼───────────────────┼────────────┼───────────────────┤\n",
       "│ conv1d_5 (<span style=\"color: #0087ff; text-decoration-color: #0087ff\">Conv1D</span>)   │ (<span style=\"color: #00d7ff; text-decoration-color: #00d7ff\">None</span>, <span style=\"color: #00af00; text-decoration-color: #00af00\">31</span>, <span style=\"color: #00af00; text-decoration-color: #00af00\">128</span>)   │      <span style=\"color: #00af00; text-decoration-color: #00af00\">6,528</span> │ embedding_3[<span style=\"color: #00af00; text-decoration-color: #00af00\">0</span>][<span style=\"color: #00af00; text-decoration-color: #00af00\">0</span>] │\n",
       "├─────────────────────┼───────────────────┼────────────┼───────────────────┤\n",
       "│ global_max_pooling… │ (<span style=\"color: #00d7ff; text-decoration-color: #00d7ff\">None</span>, <span style=\"color: #00af00; text-decoration-color: #00af00\">128</span>)       │          <span style=\"color: #00af00; text-decoration-color: #00af00\">0</span> │ conv1d_3[<span style=\"color: #00af00; text-decoration-color: #00af00\">0</span>][<span style=\"color: #00af00; text-decoration-color: #00af00\">0</span>]    │\n",
       "│ (<span style=\"color: #0087ff; text-decoration-color: #0087ff\">GlobalMaxPooling1…</span> │                   │            │                   │\n",
       "├─────────────────────┼───────────────────┼────────────┼───────────────────┤\n",
       "│ global_max_pooling… │ (<span style=\"color: #00d7ff; text-decoration-color: #00d7ff\">None</span>, <span style=\"color: #00af00; text-decoration-color: #00af00\">128</span>)       │          <span style=\"color: #00af00; text-decoration-color: #00af00\">0</span> │ conv1d_4[<span style=\"color: #00af00; text-decoration-color: #00af00\">0</span>][<span style=\"color: #00af00; text-decoration-color: #00af00\">0</span>]    │\n",
       "│ (<span style=\"color: #0087ff; text-decoration-color: #0087ff\">GlobalMaxPooling1…</span> │                   │            │                   │\n",
       "├─────────────────────┼───────────────────┼────────────┼───────────────────┤\n",
       "│ global_max_pooling… │ (<span style=\"color: #00d7ff; text-decoration-color: #00d7ff\">None</span>, <span style=\"color: #00af00; text-decoration-color: #00af00\">128</span>)       │          <span style=\"color: #00af00; text-decoration-color: #00af00\">0</span> │ conv1d_5[<span style=\"color: #00af00; text-decoration-color: #00af00\">0</span>][<span style=\"color: #00af00; text-decoration-color: #00af00\">0</span>]    │\n",
       "│ (<span style=\"color: #0087ff; text-decoration-color: #0087ff\">GlobalMaxPooling1…</span> │                   │            │                   │\n",
       "├─────────────────────┼───────────────────┼────────────┼───────────────────┤\n",
       "│ concatenate_1       │ (<span style=\"color: #00d7ff; text-decoration-color: #00d7ff\">None</span>, <span style=\"color: #00af00; text-decoration-color: #00af00\">384</span>)       │          <span style=\"color: #00af00; text-decoration-color: #00af00\">0</span> │ global_max_pooli… │\n",
       "│ (<span style=\"color: #0087ff; text-decoration-color: #0087ff\">Concatenate</span>)       │                   │            │ global_max_pooli… │\n",
       "│                     │                   │            │ global_max_pooli… │\n",
       "├─────────────────────┼───────────────────┼────────────┼───────────────────┤\n",
       "│ dense_4 (<span style=\"color: #0087ff; text-decoration-color: #0087ff\">Dense</span>)     │ (<span style=\"color: #00d7ff; text-decoration-color: #00d7ff\">None</span>, <span style=\"color: #00af00; text-decoration-color: #00af00\">256</span>)       │     <span style=\"color: #00af00; text-decoration-color: #00af00\">98,560</span> │ concatenate_1[<span style=\"color: #00af00; text-decoration-color: #00af00\">0</span>]… │\n",
       "├─────────────────────┼───────────────────┼────────────┼───────────────────┤\n",
       "│ dense_5 (<span style=\"color: #0087ff; text-decoration-color: #0087ff\">Dense</span>)     │ (<span style=\"color: #00d7ff; text-decoration-color: #00d7ff\">None</span>, <span style=\"color: #00af00; text-decoration-color: #00af00\">1</span>)         │        <span style=\"color: #00af00; text-decoration-color: #00af00\">257</span> │ dense_4[<span style=\"color: #00af00; text-decoration-color: #00af00\">0</span>][<span style=\"color: #00af00; text-decoration-color: #00af00\">0</span>]     │\n",
       "└─────────────────────┴───────────────────┴────────────┴───────────────────┘\n",
       "</pre>\n"
      ],
      "text/plain": [
       "┏━━━━━━━━━━━━━━━━━━━━━┳━━━━━━━━━━━━━━━━━━━┳━━━━━━━━━━━━┳━━━━━━━━━━━━━━━━━━━┓\n",
       "┃\u001b[1m \u001b[0m\u001b[1mLayer (type)       \u001b[0m\u001b[1m \u001b[0m┃\u001b[1m \u001b[0m\u001b[1mOutput Shape     \u001b[0m\u001b[1m \u001b[0m┃\u001b[1m \u001b[0m\u001b[1m   Param #\u001b[0m\u001b[1m \u001b[0m┃\u001b[1m \u001b[0m\u001b[1mConnected to     \u001b[0m\u001b[1m \u001b[0m┃\n",
       "┡━━━━━━━━━━━━━━━━━━━━━╇━━━━━━━━━━━━━━━━━━━╇━━━━━━━━━━━━╇━━━━━━━━━━━━━━━━━━━┩\n",
       "│ input_layer_3       │ (\u001b[38;5;45mNone\u001b[0m, \u001b[38;5;34m35\u001b[0m)        │          \u001b[38;5;34m0\u001b[0m │ -                 │\n",
       "│ (\u001b[38;5;33mInputLayer\u001b[0m)        │                   │            │                   │\n",
       "├─────────────────────┼───────────────────┼────────────┼───────────────────┤\n",
       "│ embedding_3         │ (\u001b[38;5;45mNone\u001b[0m, \u001b[38;5;34m35\u001b[0m, \u001b[38;5;34m10\u001b[0m)    │    \u001b[38;5;34m186,160\u001b[0m │ input_layer_3[\u001b[38;5;34m0\u001b[0m]… │\n",
       "│ (\u001b[38;5;33mEmbedding\u001b[0m)         │                   │            │                   │\n",
       "├─────────────────────┼───────────────────┼────────────┼───────────────────┤\n",
       "│ conv1d_3 (\u001b[38;5;33mConv1D\u001b[0m)   │ (\u001b[38;5;45mNone\u001b[0m, \u001b[38;5;34m33\u001b[0m, \u001b[38;5;34m128\u001b[0m)   │      \u001b[38;5;34m3,968\u001b[0m │ embedding_3[\u001b[38;5;34m0\u001b[0m][\u001b[38;5;34m0\u001b[0m] │\n",
       "├─────────────────────┼───────────────────┼────────────┼───────────────────┤\n",
       "│ conv1d_4 (\u001b[38;5;33mConv1D\u001b[0m)   │ (\u001b[38;5;45mNone\u001b[0m, \u001b[38;5;34m32\u001b[0m, \u001b[38;5;34m128\u001b[0m)   │      \u001b[38;5;34m5,248\u001b[0m │ embedding_3[\u001b[38;5;34m0\u001b[0m][\u001b[38;5;34m0\u001b[0m] │\n",
       "├─────────────────────┼───────────────────┼────────────┼───────────────────┤\n",
       "│ conv1d_5 (\u001b[38;5;33mConv1D\u001b[0m)   │ (\u001b[38;5;45mNone\u001b[0m, \u001b[38;5;34m31\u001b[0m, \u001b[38;5;34m128\u001b[0m)   │      \u001b[38;5;34m6,528\u001b[0m │ embedding_3[\u001b[38;5;34m0\u001b[0m][\u001b[38;5;34m0\u001b[0m] │\n",
       "├─────────────────────┼───────────────────┼────────────┼───────────────────┤\n",
       "│ global_max_pooling… │ (\u001b[38;5;45mNone\u001b[0m, \u001b[38;5;34m128\u001b[0m)       │          \u001b[38;5;34m0\u001b[0m │ conv1d_3[\u001b[38;5;34m0\u001b[0m][\u001b[38;5;34m0\u001b[0m]    │\n",
       "│ (\u001b[38;5;33mGlobalMaxPooling1…\u001b[0m │                   │            │                   │\n",
       "├─────────────────────┼───────────────────┼────────────┼───────────────────┤\n",
       "│ global_max_pooling… │ (\u001b[38;5;45mNone\u001b[0m, \u001b[38;5;34m128\u001b[0m)       │          \u001b[38;5;34m0\u001b[0m │ conv1d_4[\u001b[38;5;34m0\u001b[0m][\u001b[38;5;34m0\u001b[0m]    │\n",
       "│ (\u001b[38;5;33mGlobalMaxPooling1…\u001b[0m │                   │            │                   │\n",
       "├─────────────────────┼───────────────────┼────────────┼───────────────────┤\n",
       "│ global_max_pooling… │ (\u001b[38;5;45mNone\u001b[0m, \u001b[38;5;34m128\u001b[0m)       │          \u001b[38;5;34m0\u001b[0m │ conv1d_5[\u001b[38;5;34m0\u001b[0m][\u001b[38;5;34m0\u001b[0m]    │\n",
       "│ (\u001b[38;5;33mGlobalMaxPooling1…\u001b[0m │                   │            │                   │\n",
       "├─────────────────────┼───────────────────┼────────────┼───────────────────┤\n",
       "│ concatenate_1       │ (\u001b[38;5;45mNone\u001b[0m, \u001b[38;5;34m384\u001b[0m)       │          \u001b[38;5;34m0\u001b[0m │ global_max_pooli… │\n",
       "│ (\u001b[38;5;33mConcatenate\u001b[0m)       │                   │            │ global_max_pooli… │\n",
       "│                     │                   │            │ global_max_pooli… │\n",
       "├─────────────────────┼───────────────────┼────────────┼───────────────────┤\n",
       "│ dense_4 (\u001b[38;5;33mDense\u001b[0m)     │ (\u001b[38;5;45mNone\u001b[0m, \u001b[38;5;34m256\u001b[0m)       │     \u001b[38;5;34m98,560\u001b[0m │ concatenate_1[\u001b[38;5;34m0\u001b[0m]… │\n",
       "├─────────────────────┼───────────────────┼────────────┼───────────────────┤\n",
       "│ dense_5 (\u001b[38;5;33mDense\u001b[0m)     │ (\u001b[38;5;45mNone\u001b[0m, \u001b[38;5;34m1\u001b[0m)         │        \u001b[38;5;34m257\u001b[0m │ dense_4[\u001b[38;5;34m0\u001b[0m][\u001b[38;5;34m0\u001b[0m]     │\n",
       "└─────────────────────┴───────────────────┴────────────┴───────────────────┘\n"
      ]
     },
     "metadata": {},
     "output_type": "display_data"
    },
    {
     "data": {
      "text/html": [
       "<pre style=\"white-space:pre;overflow-x:auto;line-height:normal;font-family:Menlo,'DejaVu Sans Mono',consolas,'Courier New',monospace\"><span style=\"font-weight: bold\"> Total params: </span><span style=\"color: #00af00; text-decoration-color: #00af00\">300,721</span> (1.15 MB)\n",
       "</pre>\n"
      ],
      "text/plain": [
       "\u001b[1m Total params: \u001b[0m\u001b[38;5;34m300,721\u001b[0m (1.15 MB)\n"
      ]
     },
     "metadata": {},
     "output_type": "display_data"
    },
    {
     "data": {
      "text/html": [
       "<pre style=\"white-space:pre;overflow-x:auto;line-height:normal;font-family:Menlo,'DejaVu Sans Mono',consolas,'Courier New',monospace\"><span style=\"font-weight: bold\"> Trainable params: </span><span style=\"color: #00af00; text-decoration-color: #00af00\">300,721</span> (1.15 MB)\n",
       "</pre>\n"
      ],
      "text/plain": [
       "\u001b[1m Trainable params: \u001b[0m\u001b[38;5;34m300,721\u001b[0m (1.15 MB)\n"
      ]
     },
     "metadata": {},
     "output_type": "display_data"
    },
    {
     "data": {
      "text/html": [
       "<pre style=\"white-space:pre;overflow-x:auto;line-height:normal;font-family:Menlo,'DejaVu Sans Mono',consolas,'Courier New',monospace\"><span style=\"font-weight: bold\"> Non-trainable params: </span><span style=\"color: #00af00; text-decoration-color: #00af00\">0</span> (0.00 B)\n",
       "</pre>\n"
      ],
      "text/plain": [
       "\u001b[1m Non-trainable params: \u001b[0m\u001b[38;5;34m0\u001b[0m (0.00 B)\n"
      ]
     },
     "metadata": {},
     "output_type": "display_data"
    }
   ],
   "source": [
    "from tensorflow.keras.models import Model\n",
    "from tensorflow.keras.layers import Input, Embedding, Conv1D, GlobalMaxPooling1D, Concatenate, Dropout, Dense\n",
    "\n",
    "\n",
    "epochs = 10\n",
    "lr = 1e-3\n",
    "embedding_dim = 10\n",
    "\n",
    "inp = Input(shape=(max_length,))\n",
    "x = Embedding(vocab_size, embedding_dim, input_length=max_length, trainable=True)(inp)\n",
    "\n",
    "convs = [GlobalMaxPooling1D()(Conv1D(128, k, activation='relu')(x)) for k in [3, 4, 5]]\n",
    "\n",
    "x = Concatenate()(convs)\n",
    "x = Dense(256, activation='relu')(x)\n",
    "out = Dense(1, activation='sigmoid')(x)\n",
    "\n",
    "model = Model(inputs=inp, outputs=out)\n",
    "\n",
    "model.compile(optimizer=Adam(learning_rate=lr), loss=BinaryCrossentropy(), metrics=['accuracy'])\n",
    "model.summary()"
   ]
  },
  {
   "cell_type": "code",
   "execution_count": 80,
   "id": "61072f64",
   "metadata": {},
   "outputs": [
    {
     "name": "stdout",
     "output_type": "stream",
     "text": [
      "Fold: 0\n",
      "Train Accuracy : 100.00 %\n",
      "Test Accuracy  : 99.75 %\n",
      "________________________________________\n",
      "Fold: 1\n",
      "Train Accuracy : 99.91 %\n",
      "Test Accuracy  : 99.80 %\n",
      "________________________________________\n",
      "Fold: 2\n",
      "Train Accuracy : 99.89 %\n",
      "Test Accuracy  : 99.71 %\n",
      "________________________________________\n",
      "   fold        F1  Test Accuracy\n",
      "0     0  0.996150       0.997505\n",
      "1     1  0.998075       0.998040\n",
      "2     2  0.998303       0.997149\n",
      "\n",
      "Средний F1 по фолдам: 0.9975090363963899\n"
     ]
    }
   ],
   "source": [
    "tscv = TimeSeriesSplit(n_splits=3)\n",
    "metrics_all = []\n",
    "\n",
    "for fold, (train_idx, test_idx) in enumerate(tscv.split(X)):\n",
    "    X_train, X_test = X.iloc[train_idx], X.iloc[test_idx]\n",
    "    y_train, y_test = y.iloc[train_idx], y.iloc[test_idx]\n",
    "\n",
    "    if y_train.nunique() < 2 or y_test.nunique() < 2:\n",
    "        print(f\"Skipping fold {fold}: not enough class variety\")\n",
    "        continue\n",
    "\n",
    "    # делим test ещё на val/test (50/50)\n",
    "    X_val, X_test, y_val, y_test = train_test_split(\n",
    "        X_test, y_test, \n",
    "        test_size=0.5, random_state=SEED, shuffle=True\n",
    "    )\n",
    "\n",
    "    train_seq = pipeline.transform(X_train)\n",
    "    val_seq = pipeline.transform(X_val)\n",
    "    test_seq = pipeline.transform(X_test)\n",
    "\n",
    "\n",
    "    model_es = EarlyStopping(monitor='val_loss', mode='min', patience=5, restore_best_weights=True)\n",
    "    model_rlr = ReduceLROnPlateau(monitor='val_loss', factor=0.2, patience=1, mode='min')\n",
    "\n",
    "    model.fit(\n",
    "        train_seq, y_train,\n",
    "        epochs=epochs,\n",
    "        validation_data=(val_seq, y_val),\n",
    "        callbacks=[model_es, model_rlr],\n",
    "        verbose=0\n",
    "    )\n",
    "\n",
    "    y_pred_test = np.round(model.predict(test_seq, verbose=0))\n",
    "\n",
    "    f1 = f1_score(y_test, y_pred_test)\n",
    "\n",
    "    metrics = {\n",
    "        'fold': fold,\n",
    "        'F1': f1,\n",
    "        'Test Accuracy': accuracy_score(y_test, y_pred_test)\n",
    "    }\n",
    "\n",
    "    metrics_all.append(metrics)\n",
    "\n",
    "    y_pred_train = np.round(model.predict(train_seq, verbose = 0))\n",
    "\n",
    "    print(f'Fold: {fold}')\n",
    "    print(f'Train Accuracy : {accuracy_score(y_train, y_pred_train) * 100:.2f} %')\n",
    "    print(f'Test Accuracy  : {accuracy_score(y_test, y_pred_test) * 100:.2f} %')\n",
    "    print('_'*40)\n",
    "\n",
    "df_metrics = pd.DataFrame(metrics_all)\n",
    "print(df_metrics)\n",
    "print(\"\\nСредний F1 по фолдам:\", df_metrics['F1'].mean())"
   ]
  }
 ],
 "metadata": {
  "kernelspec": {
   "display_name": ".venv",
   "language": "python",
   "name": "python3"
  },
  "language_info": {
   "codemirror_mode": {
    "name": "ipython",
    "version": 3
   },
   "file_extension": ".py",
   "mimetype": "text/x-python",
   "name": "python",
   "nbconvert_exporter": "python",
   "pygments_lexer": "ipython3",
   "version": "3.10.0"
  }
 },
 "nbformat": 4,
 "nbformat_minor": 5
}
